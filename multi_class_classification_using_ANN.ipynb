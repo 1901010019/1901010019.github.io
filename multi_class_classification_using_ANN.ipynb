{
  "nbformat": 4,
  "nbformat_minor": 0,
  "metadata": {
    "colab": {
      "name": "Untitled35.ipynb",
      "provenance": [],
      "authorship_tag": "ABX9TyPttaD6GvMqaWob+5HFf9Bo",
      "include_colab_link": true
    },
    "kernelspec": {
      "name": "python3",
      "display_name": "Python 3"
    },
    "language_info": {
      "name": "python"
    },
    "accelerator": "GPU"
  },
  "cells": [
    {
      "cell_type": "markdown",
      "metadata": {
        "id": "view-in-github",
        "colab_type": "text"
      },
      "source": [
        "<a href=\"https://colab.research.google.com/github/1901010019/1901010019.github.io/blob/master/multi_class_classification_using_ANN.ipynb\" target=\"_parent\"><img src=\"https://colab.research.google.com/assets/colab-badge.svg\" alt=\"Open In Colab\"/></a>"
      ]
    },
    {
      "cell_type": "code",
      "metadata": {
        "id": "6mbGaWm1E7w3"
      },
      "source": [
        "import tensorflow as tf\n",
        "import pandas as pd\n",
        "import numpy as np\n",
        "import matplotlib.pyplot as plt"
      ],
      "execution_count": 1,
      "outputs": []
    },
    {
      "cell_type": "code",
      "metadata": {
        "colab": {
          "base_uri": "https://localhost:8080/"
        },
        "id": "Z5Q1tclyFRUL",
        "outputId": "f6af7608-c172-48d4-dc58-6bfee0fa28fc"
      },
      "source": [
        "from tensorflow.keras.datasets import fashion_mnist\n",
        "# data has already been divided into test and train data for us\n",
        "(train_data, train_labels),(test_data, test_labels) = fashion_mnist.load_data()"
      ],
      "execution_count": 2,
      "outputs": [
        {
          "output_type": "stream",
          "text": [
            "Downloading data from https://storage.googleapis.com/tensorflow/tf-keras-datasets/train-labels-idx1-ubyte.gz\n",
            "32768/29515 [=================================] - 0s 0us/step\n",
            "Downloading data from https://storage.googleapis.com/tensorflow/tf-keras-datasets/train-images-idx3-ubyte.gz\n",
            "26427392/26421880 [==============================] - 0s 0us/step\n",
            "Downloading data from https://storage.googleapis.com/tensorflow/tf-keras-datasets/t10k-labels-idx1-ubyte.gz\n",
            "8192/5148 [===============================================] - 0s 0us/step\n",
            "Downloading data from https://storage.googleapis.com/tensorflow/tf-keras-datasets/t10k-images-idx3-ubyte.gz\n",
            "4423680/4422102 [==============================] - 0s 0us/step\n"
          ],
          "name": "stdout"
        }
      ]
    },
    {
      "cell_type": "code",
      "metadata": {
        "colab": {
          "base_uri": "https://localhost:8080/"
        },
        "id": "60TDCh4wGCu1",
        "outputId": "9ecdc85f-e6e0-4093-e785-429fdce1faef"
      },
      "source": [
        "train_data[0], train_labels[0] "
      ],
      "execution_count": 3,
      "outputs": [
        {
          "output_type": "execute_result",
          "data": {
            "text/plain": [
              "(array([[  0,   0,   0,   0,   0,   0,   0,   0,   0,   0,   0,   0,   0,\n",
              "           0,   0,   0,   0,   0,   0,   0,   0,   0,   0,   0,   0,   0,\n",
              "           0,   0],\n",
              "        [  0,   0,   0,   0,   0,   0,   0,   0,   0,   0,   0,   0,   0,\n",
              "           0,   0,   0,   0,   0,   0,   0,   0,   0,   0,   0,   0,   0,\n",
              "           0,   0],\n",
              "        [  0,   0,   0,   0,   0,   0,   0,   0,   0,   0,   0,   0,   0,\n",
              "           0,   0,   0,   0,   0,   0,   0,   0,   0,   0,   0,   0,   0,\n",
              "           0,   0],\n",
              "        [  0,   0,   0,   0,   0,   0,   0,   0,   0,   0,   0,   0,   1,\n",
              "           0,   0,  13,  73,   0,   0,   1,   4,   0,   0,   0,   0,   1,\n",
              "           1,   0],\n",
              "        [  0,   0,   0,   0,   0,   0,   0,   0,   0,   0,   0,   0,   3,\n",
              "           0,  36, 136, 127,  62,  54,   0,   0,   0,   1,   3,   4,   0,\n",
              "           0,   3],\n",
              "        [  0,   0,   0,   0,   0,   0,   0,   0,   0,   0,   0,   0,   6,\n",
              "           0, 102, 204, 176, 134, 144, 123,  23,   0,   0,   0,   0,  12,\n",
              "          10,   0],\n",
              "        [  0,   0,   0,   0,   0,   0,   0,   0,   0,   0,   0,   0,   0,\n",
              "           0, 155, 236, 207, 178, 107, 156, 161, 109,  64,  23,  77, 130,\n",
              "          72,  15],\n",
              "        [  0,   0,   0,   0,   0,   0,   0,   0,   0,   0,   0,   1,   0,\n",
              "          69, 207, 223, 218, 216, 216, 163, 127, 121, 122, 146, 141,  88,\n",
              "         172,  66],\n",
              "        [  0,   0,   0,   0,   0,   0,   0,   0,   0,   1,   1,   1,   0,\n",
              "         200, 232, 232, 233, 229, 223, 223, 215, 213, 164, 127, 123, 196,\n",
              "         229,   0],\n",
              "        [  0,   0,   0,   0,   0,   0,   0,   0,   0,   0,   0,   0,   0,\n",
              "         183, 225, 216, 223, 228, 235, 227, 224, 222, 224, 221, 223, 245,\n",
              "         173,   0],\n",
              "        [  0,   0,   0,   0,   0,   0,   0,   0,   0,   0,   0,   0,   0,\n",
              "         193, 228, 218, 213, 198, 180, 212, 210, 211, 213, 223, 220, 243,\n",
              "         202,   0],\n",
              "        [  0,   0,   0,   0,   0,   0,   0,   0,   0,   1,   3,   0,  12,\n",
              "         219, 220, 212, 218, 192, 169, 227, 208, 218, 224, 212, 226, 197,\n",
              "         209,  52],\n",
              "        [  0,   0,   0,   0,   0,   0,   0,   0,   0,   0,   6,   0,  99,\n",
              "         244, 222, 220, 218, 203, 198, 221, 215, 213, 222, 220, 245, 119,\n",
              "         167,  56],\n",
              "        [  0,   0,   0,   0,   0,   0,   0,   0,   0,   4,   0,   0,  55,\n",
              "         236, 228, 230, 228, 240, 232, 213, 218, 223, 234, 217, 217, 209,\n",
              "          92,   0],\n",
              "        [  0,   0,   1,   4,   6,   7,   2,   0,   0,   0,   0,   0, 237,\n",
              "         226, 217, 223, 222, 219, 222, 221, 216, 223, 229, 215, 218, 255,\n",
              "          77,   0],\n",
              "        [  0,   3,   0,   0,   0,   0,   0,   0,   0,  62, 145, 204, 228,\n",
              "         207, 213, 221, 218, 208, 211, 218, 224, 223, 219, 215, 224, 244,\n",
              "         159,   0],\n",
              "        [  0,   0,   0,   0,  18,  44,  82, 107, 189, 228, 220, 222, 217,\n",
              "         226, 200, 205, 211, 230, 224, 234, 176, 188, 250, 248, 233, 238,\n",
              "         215,   0],\n",
              "        [  0,  57, 187, 208, 224, 221, 224, 208, 204, 214, 208, 209, 200,\n",
              "         159, 245, 193, 206, 223, 255, 255, 221, 234, 221, 211, 220, 232,\n",
              "         246,   0],\n",
              "        [  3, 202, 228, 224, 221, 211, 211, 214, 205, 205, 205, 220, 240,\n",
              "          80, 150, 255, 229, 221, 188, 154, 191, 210, 204, 209, 222, 228,\n",
              "         225,   0],\n",
              "        [ 98, 233, 198, 210, 222, 229, 229, 234, 249, 220, 194, 215, 217,\n",
              "         241,  65,  73, 106, 117, 168, 219, 221, 215, 217, 223, 223, 224,\n",
              "         229,  29],\n",
              "        [ 75, 204, 212, 204, 193, 205, 211, 225, 216, 185, 197, 206, 198,\n",
              "         213, 240, 195, 227, 245, 239, 223, 218, 212, 209, 222, 220, 221,\n",
              "         230,  67],\n",
              "        [ 48, 203, 183, 194, 213, 197, 185, 190, 194, 192, 202, 214, 219,\n",
              "         221, 220, 236, 225, 216, 199, 206, 186, 181, 177, 172, 181, 205,\n",
              "         206, 115],\n",
              "        [  0, 122, 219, 193, 179, 171, 183, 196, 204, 210, 213, 207, 211,\n",
              "         210, 200, 196, 194, 191, 195, 191, 198, 192, 176, 156, 167, 177,\n",
              "         210,  92],\n",
              "        [  0,   0,  74, 189, 212, 191, 175, 172, 175, 181, 185, 188, 189,\n",
              "         188, 193, 198, 204, 209, 210, 210, 211, 188, 188, 194, 192, 216,\n",
              "         170,   0],\n",
              "        [  2,   0,   0,   0,  66, 200, 222, 237, 239, 242, 246, 243, 244,\n",
              "         221, 220, 193, 191, 179, 182, 182, 181, 176, 166, 168,  99,  58,\n",
              "           0,   0],\n",
              "        [  0,   0,   0,   0,   0,   0,   0,  40,  61,  44,  72,  41,  35,\n",
              "           0,   0,   0,   0,   0,   0,   0,   0,   0,   0,   0,   0,   0,\n",
              "           0,   0],\n",
              "        [  0,   0,   0,   0,   0,   0,   0,   0,   0,   0,   0,   0,   0,\n",
              "           0,   0,   0,   0,   0,   0,   0,   0,   0,   0,   0,   0,   0,\n",
              "           0,   0],\n",
              "        [  0,   0,   0,   0,   0,   0,   0,   0,   0,   0,   0,   0,   0,\n",
              "           0,   0,   0,   0,   0,   0,   0,   0,   0,   0,   0,   0,   0,\n",
              "           0,   0]], dtype=uint8), 9)"
            ]
          },
          "metadata": {
            "tags": []
          },
          "execution_count": 3
        }
      ]
    },
    {
      "cell_type": "code",
      "metadata": {
        "colab": {
          "base_uri": "https://localhost:8080/"
        },
        "id": "d2O-39aRGSy-",
        "outputId": "44855e57-91a9-4b83-df61-9125c6ec2868"
      },
      "source": [
        "train_labels, len(train_labels)"
      ],
      "execution_count": 4,
      "outputs": [
        {
          "output_type": "execute_result",
          "data": {
            "text/plain": [
              "(array([9, 0, 0, ..., 3, 0, 5], dtype=uint8), 60000)"
            ]
          },
          "metadata": {
            "tags": []
          },
          "execution_count": 4
        }
      ]
    },
    {
      "cell_type": "code",
      "metadata": {
        "colab": {
          "base_uri": "https://localhost:8080/"
        },
        "id": "v3Aq62SdGm_-",
        "outputId": "1678676c-e260-4489-df80-b351845446dd"
      },
      "source": [
        "train_data[0].shape, train_labels[0].shape"
      ],
      "execution_count": 5,
      "outputs": [
        {
          "output_type": "execute_result",
          "data": {
            "text/plain": [
              "((28, 28), ())"
            ]
          },
          "metadata": {
            "tags": []
          },
          "execution_count": 5
        }
      ]
    },
    {
      "cell_type": "code",
      "metadata": {
        "colab": {
          "base_uri": "https://localhost:8080/",
          "height": 283
        },
        "id": "K6_G36KKHZQ1",
        "outputId": "c94d9d8c-2e76-4b89-f16a-a6fbe32452de"
      },
      "source": [
        "plt.imshow(train_data[0]) # so our first example image is of ankle boot"
      ],
      "execution_count": 6,
      "outputs": [
        {
          "output_type": "execute_result",
          "data": {
            "text/plain": [
              "<matplotlib.image.AxesImage at 0x7f4abe936450>"
            ]
          },
          "metadata": {
            "tags": []
          },
          "execution_count": 6
        },
        {
          "output_type": "display_data",
          "data": {
            "image/png": "[encoded data removed]",
            "text/plain": [
              "<Figure size 432x288 with 1 Axes>"
            ]
          },
          "metadata": {
            "tags": [],
            "needs_background": "light"
          }
        }
      ]
    },
    {
      "cell_type": "code",
      "metadata": {
        "colab": {
          "base_uri": "https://localhost:8080/"
        },
        "id": "M9wRtxH6Hlgr",
        "outputId": "07ee690e-1b6c-4038-bddf-c5587c4ddab0"
      },
      "source": [
        "# getting one with the data\n",
        "class_names = ['T-shirt/top','Trouser','Pullover','Dress','Coat','Sandal','Shirt','Sneaker','Bag','Ankle boot']\n",
        "len(class_names)"
      ],
      "execution_count": 7,
      "outputs": [
        {
          "output_type": "execute_result",
          "data": {
            "text/plain": [
              "10"
            ]
          },
          "metadata": {
            "tags": []
          },
          "execution_count": 7
        }
      ]
    },
    {
      "cell_type": "code",
      "metadata": {
        "colab": {
          "base_uri": "https://localhost:8080/",
          "height": 299
        },
        "id": "TlCBmJfLIi_i",
        "outputId": "ccec842b-ba50-4a7b-ddb3-d616455703a9"
      },
      "source": [
        "# plot an example and it's label\n",
        "index_of_choice = 2000 \n",
        "plt.imshow(train_data[index_of_choice], cmap=plt.cm.binary)\n",
        "plt.title(class_names[train_labels[index_of_choice]])\n",
        "# so we just created the class for better visualization for humans"
      ],
      "execution_count": 8,
      "outputs": [
        {
          "output_type": "execute_result",
          "data": {
            "text/plain": [
              "Text(0.5, 1.0, 'Coat')"
            ]
          },
          "metadata": {
            "tags": []
          },
          "execution_count": 8
        },
        {
          "output_type": "display_data",
          "data": {
            "image/png": "[encoded data removed]",
            "text/plain": [
              "<Figure size 432x288 with 1 Axes>"
            ]
          },
          "metadata": {
            "tags": [],
            "needs_background": "light"
          }
        }
      ]
    },
    {
      "cell_type": "code",
      "metadata": {
        "id": "GnFbGDXGJtB4",
        "colab": {
          "base_uri": "https://localhost:8080/",
          "height": 427
        },
        "outputId": "25604b8b-a46e-49b2-f740-c026ef204eb6"
      },
      "source": [
        "# plot random mutliple images of fashion MNIST\n",
        "import random\n",
        "plt.figure(figsize=(7,7))\n",
        "for i in range(4):\n",
        "  ax = plt.subplot(2,2,i+1)\n",
        "  rand_x = random.choice(range(len(train_data)))\n",
        "  plt.imshow(train_data[rand_x], cmap=plt.cm.binary)\n",
        "  plt.title(class_names[train_labels[rand_x]])\n",
        "  plt.axis(False)"
      ],
      "execution_count": 9,
      "outputs": [
        {
          "output_type": "display_data",
          "data": {
            "image/png": "[encoded data removed]",
            "text/plain": [
              "<Figure size 504x504 with 4 Axes>"
            ]
          },
          "metadata": {
            "tags": [],
            "needs_background": "light"
          }
        }
      ]
    },
    {
      "cell_type": "code",
      "metadata": {
        "colab": {
          "base_uri": "https://localhost:8080/"
        },
        "id": "ZlBLN5HmiSew",
        "outputId": "0e05c77f-b063-4fb9-b7f5-097e157c7c68"
      },
      "source": [
        "train_data.shape"
      ],
      "execution_count": 10,
      "outputs": [
        {
          "output_type": "execute_result",
          "data": {
            "text/plain": [
              "(60000, 28, 28)"
            ]
          },
          "metadata": {
            "tags": []
          },
          "execution_count": 10
        }
      ]
    },
    {
      "cell_type": "markdown",
      "metadata": {
        "id": "vI_tRZ-VoBjv"
      },
      "source": [
        "note- to use the bianry cross entropy as our loss function, we need to provide one hot encoded training labels"
      ]
    },
    {
      "cell_type": "code",
      "metadata": {
        "colab": {
          "base_uri": "https://localhost:8080/"
        },
        "id": "J1vgey7-fFWD",
        "outputId": "6b73ad4d-3984-4459-e863-d9382a91cd00"
      },
      "source": [
        "# let's build the model with multiclass classification\n",
        "tf.random.set_seed(42)\n",
        "model = tf.keras.Sequential(\n",
        "    [\n",
        "     tf.keras.layers.Flatten(input_shape=[28,28]),\n",
        "     tf.keras.layers.Dense(4, activation='relu'),\n",
        "     tf.keras.layers.Dense(4, activation='relu'),\n",
        "     tf.keras.layers.Dense(10, activation='softmax')\n",
        "    ]\n",
        ")\n",
        "model.compile(loss='sparse_categorical_crossentropy',\n",
        "              optimizer = tf.keras.optimizers.Adam(),\n",
        "              metrics=['accuracy'])\n",
        "non_norm_history = model.fit(train_data, train_labels, epochs=10, validation_data=(test_data, test_labels))"
      ],
      "execution_count": 11,
      "outputs": [
        {
          "output_type": "stream",
          "text": [
            "Epoch 1/10\n",
            "1875/1875 [==============================] - 8s 3ms/step - loss: 2.1743 - accuracy: 0.1589 - val_loss: 1.8119 - val_accuracy: 0.2086\n",
            "Epoch 2/10\n",
            "1875/1875 [==============================] - 5s 3ms/step - loss: 1.7117 - accuracy: 0.2469 - val_loss: 1.6486 - val_accuracy: 0.2857\n",
            "Epoch 3/10\n",
            "1875/1875 [==============================] - 5s 3ms/step - loss: 1.6347 - accuracy: 0.2801 - val_loss: 1.6078 - val_accuracy: 0.3000\n",
            "Epoch 4/10\n",
            "1875/1875 [==============================] - 5s 3ms/step - loss: 1.6107 - accuracy: 0.2872 - val_loss: 1.6106 - val_accuracy: 0.2943\n",
            "Epoch 5/10\n",
            "1875/1875 [==============================] - 5s 3ms/step - loss: 1.6002 - accuracy: 0.2959 - val_loss: 1.5901 - val_accuracy: 0.3193\n",
            "Epoch 6/10\n",
            "1875/1875 [==============================] - 5s 3ms/step - loss: 1.5901 - accuracy: 0.3089 - val_loss: 1.5711 - val_accuracy: 0.3098\n",
            "Epoch 7/10\n",
            "1875/1875 [==============================] - 5s 3ms/step - loss: 1.5817 - accuracy: 0.3162 - val_loss: 1.5727 - val_accuracy: 0.3156\n",
            "Epoch 8/10\n",
            "1875/1875 [==============================] - 5s 3ms/step - loss: 1.5723 - accuracy: 0.3228 - val_loss: 1.5577 - val_accuracy: 0.3379\n",
            "Epoch 9/10\n",
            "1875/1875 [==============================] - 5s 3ms/step - loss: 1.5690 - accuracy: 0.3261 - val_loss: 1.5602 - val_accuracy: 0.3376\n",
            "Epoch 10/10\n",
            "1875/1875 [==============================] - 5s 3ms/step - loss: 1.5801 - accuracy: 0.3217 - val_loss: 1.5823 - val_accuracy: 0.2931\n"
          ],
          "name": "stdout"
        }
      ]
    },
    {
      "cell_type": "code",
      "metadata": {
        "colab": {
          "base_uri": "https://localhost:8080/"
        },
        "id": "mUeEsGx7oNGC",
        "outputId": "feeb990b-e3eb-4da1-92cb-39e796d96890"
      },
      "source": [
        "train_data.min(), train_data.max() # so, we need to normalize our dataset for better prediction beacuse neural network prefers normalized data."
      ],
      "execution_count": 12,
      "outputs": [
        {
          "output_type": "execute_result",
          "data": {
            "text/plain": [
              "(0, 255)"
            ]
          },
          "metadata": {
            "tags": []
          },
          "execution_count": 12
        }
      ]
    },
    {
      "cell_type": "code",
      "metadata": {
        "colab": {
          "base_uri": "https://localhost:8080/"
        },
        "id": "ifvFRXhnpnC1",
        "outputId": "436d0918-2059-4fdd-aa56-b8d1dea0860a"
      },
      "source": [
        "# normalzong our training and test data set\n",
        "train_data_norm = train_data / 255.0\n",
        "test_data_norm = test_data / 255.0\n",
        "train_data_norm.min(), train_data_norm.max(), test_data_norm.min(), test_data_norm.max() # so we can see here our data is normalized"
      ],
      "execution_count": 13,
      "outputs": [
        {
          "output_type": "execute_result",
          "data": {
            "text/plain": [
              "(0.0, 1.0, 0.0, 1.0)"
            ]
          },
          "metadata": {
            "tags": []
          },
          "execution_count": 13
        }
      ]
    },
    {
      "cell_type": "code",
      "metadata": {
        "colab": {
          "base_uri": "https://localhost:8080/"
        },
        "id": "4v38PHg1qdUo",
        "outputId": "a624155d-0a1b-4872-b3e0-5a161dcdff40"
      },
      "source": [
        "# let's build the model with multiclass classification\n",
        "tf.random.set_seed(42)\n",
        "model_2 = tf.keras.Sequential(\n",
        "    [\n",
        "     tf.keras.layers.Flatten(input_shape=[28,28]),\n",
        "     tf.keras.layers.Dense(4, activation='relu'),\n",
        "     tf.keras.layers.Dense(4, activation='relu'),\n",
        "     tf.keras.layers.Dense(10, activation='softmax')\n",
        "    ]\n",
        ")\n",
        "model_2.compile(loss='sparse_categorical_crossentropy',\n",
        "              optimizer = tf.keras.optimizers.Adam(),\n",
        "              metrics=['accuracy'])\n",
        "norm_history = model_2.fit(train_data_norm, train_labels, epochs=10, validation_data=(test_data_norm, test_labels))"
      ],
      "execution_count": 14,
      "outputs": [
        {
          "output_type": "stream",
          "text": [
            "Epoch 1/10\n",
            "1875/1875 [==============================] - 6s 3ms/step - loss: 1.0348 - accuracy: 0.6474 - val_loss: 0.6937 - val_accuracy: 0.7617\n",
            "Epoch 2/10\n",
            "1875/1875 [==============================] - 5s 3ms/step - loss: 0.6376 - accuracy: 0.7757 - val_loss: 0.6400 - val_accuracy: 0.7820\n",
            "Epoch 3/10\n",
            "1875/1875 [==============================] - 5s 3ms/step - loss: 0.5942 - accuracy: 0.7914 - val_loss: 0.6247 - val_accuracy: 0.7783\n",
            "Epoch 4/10\n",
            "1875/1875 [==============================] - 5s 3ms/step - loss: 0.5750 - accuracy: 0.7979 - val_loss: 0.6078 - val_accuracy: 0.7881\n",
            "Epoch 5/10\n",
            "1875/1875 [==============================] - 5s 3ms/step - loss: 0.5641 - accuracy: 0.8006 - val_loss: 0.6169 - val_accuracy: 0.7881\n",
            "Epoch 6/10\n",
            "1875/1875 [==============================] - 5s 3ms/step - loss: 0.5544 - accuracy: 0.8043 - val_loss: 0.5855 - val_accuracy: 0.7951\n",
            "Epoch 7/10\n",
            "1875/1875 [==============================] - 5s 3ms/step - loss: 0.5488 - accuracy: 0.8063 - val_loss: 0.6097 - val_accuracy: 0.7836\n",
            "Epoch 8/10\n",
            "1875/1875 [==============================] - 5s 3ms/step - loss: 0.5428 - accuracy: 0.8077 - val_loss: 0.5787 - val_accuracy: 0.7971\n",
            "Epoch 9/10\n",
            "1875/1875 [==============================] - 5s 3ms/step - loss: 0.5373 - accuracy: 0.8097 - val_loss: 0.5698 - val_accuracy: 0.7977\n",
            "Epoch 10/10\n",
            "1875/1875 [==============================] - 5s 3ms/step - loss: 0.5360 - accuracy: 0.8124 - val_loss: 0.5658 - val_accuracy: 0.8014\n"
          ],
          "name": "stdout"
        }
      ]
    },
    {
      "cell_type": "code",
      "metadata": {
        "colab": {
          "base_uri": "https://localhost:8080/",
          "height": 673
        },
        "id": "J1OK8nHV3vsK",
        "outputId": "4589f5ed-ca47-4352-aa49-732d0aadaec8"
      },
      "source": [
        "pd.DataFrame(non_norm_history.history).plot(title='no normalized loss curve', figsize=(8,5))\n",
        "# plt.grid(True)\n",
        "# plt.gca().set_ylim(0,1)\n",
        "pd.DataFrame(norm_history.history).plot(title='normalized data loss curve', figsize=(8,5))"
      ],
      "execution_count": 15,
      "outputs": [
        {
          "output_type": "execute_result",
          "data": {
            "text/plain": [
              "<matplotlib.axes._subplots.AxesSubplot at 0x7f4a757bbf50>"
            ]
          },
          "metadata": {
            "tags": []
          },
          "execution_count": 15
        },
        {
          "output_type": "display_data",
          "data": {
            "image/png": "[encoded data removed]",
            "text/plain": [
              "<Figure size 576x360 with 1 Axes>"
            ]
          },
          "metadata": {
            "tags": [],
            "needs_background": "light"
          }
        },
        {
          "output_type": "display_data",
          "data": {
            "image/png": "[encoded data removed]",
            "text/plain": [
              "<Figure size 576x360 with 1 Axes>"
            ]
          },
          "metadata": {
            "tags": [],
            "needs_background": "light"
          }
        }
      ]
    },
    {
      "cell_type": "markdown",
      "metadata": {
        "id": "9a-nimch7Y9O"
      },
      "source": [
        "# finding the ideal learning rate"
      ]
    },
    {
      "cell_type": "code",
      "metadata": {
        "colab": {
          "base_uri": "https://localhost:8080/"
        },
        "id": "ytj3bqPF46Iv",
        "outputId": "91a438d0-6cd0-47fa-8082-3691d3c3e34c"
      },
      "source": [
        "# ideal learning rate is the rate when our loss decreases the most\n",
        "tf.random.set_seed(42)\n",
        "model_3 = tf.keras.Sequential(\n",
        "    [\n",
        "     tf.keras.layers.Flatten(input_shape=[28,28]),\n",
        "     tf.keras.layers.Dense(4, activation='relu'),\n",
        "     tf.keras.layers.Dense(4, activation='relu'),\n",
        "     tf.keras.layers.Dense(10, activation='softmax')\n",
        "    ]\n",
        ")\n",
        "model_3.compile(loss='sparse_categorical_crossentropy',\n",
        "              optimizer = tf.keras.optimizers.Adam(),\n",
        "              metrics=['accuracy'])\n",
        "# creating the learning rate callbacks\n",
        "lr_scheduler = tf.keras.callbacks.LearningRateScheduler(lambda epoch: 1e-3*10**(epoch/20))\n",
        "\n",
        "norm_history = model_3.fit(train_data_norm, train_labels, epochs=40, validation_data=(test_data_norm, test_labels), callbacks=[lr_scheduler])"
      ],
      "execution_count": 16,
      "outputs": [
        {
          "output_type": "stream",
          "text": [
            "Epoch 1/40\n",
            "1875/1875 [==============================] - 5s 3ms/step - loss: 1.0348 - accuracy: 0.6474 - val_loss: 0.6937 - val_accuracy: 0.7617\n",
            "Epoch 2/40\n",
            "1875/1875 [==============================] - 5s 3ms/step - loss: 0.6366 - accuracy: 0.7759 - val_loss: 0.6400 - val_accuracy: 0.7808\n",
            "Epoch 3/40\n",
            "1875/1875 [==============================] - 5s 3ms/step - loss: 0.5934 - accuracy: 0.7911 - val_loss: 0.6278 - val_accuracy: 0.7770\n",
            "Epoch 4/40\n",
            "1875/1875 [==============================] - 5s 3ms/step - loss: 0.5749 - accuracy: 0.7969 - val_loss: 0.6122 - val_accuracy: 0.7871\n",
            "Epoch 5/40\n",
            "1875/1875 [==============================] - 5s 3ms/step - loss: 0.5655 - accuracy: 0.7987 - val_loss: 0.6061 - val_accuracy: 0.7913\n",
            "Epoch 6/40\n",
            "1875/1875 [==============================] - 5s 3ms/step - loss: 0.5569 - accuracy: 0.8022 - val_loss: 0.5917 - val_accuracy: 0.7940\n",
            "Epoch 7/40\n",
            "1875/1875 [==============================] - 5s 3ms/step - loss: 0.5542 - accuracy: 0.8036 - val_loss: 0.5898 - val_accuracy: 0.7896\n",
            "Epoch 8/40\n",
            "1875/1875 [==============================] - 5s 3ms/step - loss: 0.5509 - accuracy: 0.8039 - val_loss: 0.5829 - val_accuracy: 0.7949\n",
            "Epoch 9/40\n",
            "1875/1875 [==============================] - 5s 3ms/step - loss: 0.5468 - accuracy: 0.8047 - val_loss: 0.6036 - val_accuracy: 0.7833\n",
            "Epoch 10/40\n",
            "1875/1875 [==============================] - 5s 3ms/step - loss: 0.5478 - accuracy: 0.8058 - val_loss: 0.5736 - val_accuracy: 0.7974\n",
            "Epoch 11/40\n",
            "1875/1875 [==============================] - 5s 3ms/step - loss: 0.5446 - accuracy: 0.8059 - val_loss: 0.5672 - val_accuracy: 0.8016\n",
            "Epoch 12/40\n",
            "1875/1875 [==============================] - 5s 3ms/step - loss: 0.5432 - accuracy: 0.8067 - val_loss: 0.5773 - val_accuracy: 0.7950\n",
            "Epoch 13/40\n",
            "1875/1875 [==============================] - 5s 3ms/step - loss: 0.5425 - accuracy: 0.8056 - val_loss: 0.5775 - val_accuracy: 0.7992\n",
            "Epoch 14/40\n",
            "1875/1875 [==============================] - 5s 3ms/step - loss: 0.5407 - accuracy: 0.8078 - val_loss: 0.5616 - val_accuracy: 0.8075\n",
            "Epoch 15/40\n",
            "1875/1875 [==============================] - 5s 3ms/step - loss: 0.5408 - accuracy: 0.8052 - val_loss: 0.5773 - val_accuracy: 0.8039\n",
            "Epoch 16/40\n",
            "1875/1875 [==============================] - 5s 3ms/step - loss: 0.5437 - accuracy: 0.8058 - val_loss: 0.5682 - val_accuracy: 0.8015\n",
            "Epoch 17/40\n",
            "1875/1875 [==============================] - 5s 3ms/step - loss: 0.5419 - accuracy: 0.8075 - val_loss: 0.5995 - val_accuracy: 0.7964\n",
            "Epoch 18/40\n",
            "1875/1875 [==============================] - 5s 3ms/step - loss: 0.5488 - accuracy: 0.8058 - val_loss: 0.5544 - val_accuracy: 0.8087\n",
            "Epoch 19/40\n",
            "1875/1875 [==============================] - 5s 3ms/step - loss: 0.5506 - accuracy: 0.8042 - val_loss: 0.6068 - val_accuracy: 0.7864\n",
            "Epoch 20/40\n",
            "1875/1875 [==============================] - 5s 3ms/step - loss: 0.5537 - accuracy: 0.8030 - val_loss: 0.5597 - val_accuracy: 0.8076\n",
            "Epoch 21/40\n",
            "1875/1875 [==============================] - 5s 3ms/step - loss: 0.5572 - accuracy: 0.8036 - val_loss: 0.5998 - val_accuracy: 0.7934\n",
            "Epoch 22/40\n",
            "1875/1875 [==============================] - 5s 3ms/step - loss: 0.5615 - accuracy: 0.8013 - val_loss: 0.5756 - val_accuracy: 0.8034\n",
            "Epoch 23/40\n",
            "1875/1875 [==============================] - 5s 3ms/step - loss: 0.5655 - accuracy: 0.8017 - val_loss: 0.6386 - val_accuracy: 0.7668\n",
            "Epoch 24/40\n",
            "1875/1875 [==============================] - 5s 3ms/step - loss: 0.5814 - accuracy: 0.7966 - val_loss: 0.6481 - val_accuracy: 0.7831\n",
            "Epoch 25/40\n",
            "1875/1875 [==============================] - 5s 3ms/step - loss: 0.5807 - accuracy: 0.7979 - val_loss: 0.6231 - val_accuracy: 0.7908\n",
            "Epoch 26/40\n",
            "1875/1875 [==============================] - 5s 3ms/step - loss: 0.5946 - accuracy: 0.7911 - val_loss: 0.7136 - val_accuracy: 0.7788\n",
            "Epoch 27/40\n",
            "1875/1875 [==============================] - 5s 3ms/step - loss: 0.6115 - accuracy: 0.7862 - val_loss: 0.6082 - val_accuracy: 0.7929\n",
            "Epoch 28/40\n",
            "1875/1875 [==============================] - 5s 3ms/step - loss: 0.6170 - accuracy: 0.7839 - val_loss: 0.6555 - val_accuracy: 0.7809\n",
            "Epoch 29/40\n",
            "1875/1875 [==============================] - 5s 3ms/step - loss: 0.6387 - accuracy: 0.7746 - val_loss: 0.6643 - val_accuracy: 0.7619\n",
            "Epoch 30/40\n",
            "1875/1875 [==============================] - 5s 3ms/step - loss: 0.6685 - accuracy: 0.7659 - val_loss: 0.7121 - val_accuracy: 0.7518\n",
            "Epoch 31/40\n",
            "1875/1875 [==============================] - 5s 3ms/step - loss: 0.6899 - accuracy: 0.7593 - val_loss: 0.8710 - val_accuracy: 0.6679\n",
            "Epoch 32/40\n",
            "1875/1875 [==============================] - 5s 3ms/step - loss: 0.7120 - accuracy: 0.7536 - val_loss: 0.7472 - val_accuracy: 0.7384\n",
            "Epoch 33/40\n",
            "1875/1875 [==============================] - 5s 3ms/step - loss: 0.7327 - accuracy: 0.7508 - val_loss: 0.8585 - val_accuracy: 0.7552\n",
            "Epoch 34/40\n",
            "1875/1875 [==============================] - 5s 3ms/step - loss: 0.7824 - accuracy: 0.7326 - val_loss: 1.1071 - val_accuracy: 0.6579\n",
            "Epoch 35/40\n",
            "1875/1875 [==============================] - 5s 3ms/step - loss: 0.8805 - accuracy: 0.6977 - val_loss: 0.8120 - val_accuracy: 0.7035\n",
            "Epoch 36/40\n",
            "1875/1875 [==============================] - 5s 3ms/step - loss: 0.8555 - accuracy: 0.7038 - val_loss: 0.8525 - val_accuracy: 0.7187\n",
            "Epoch 37/40\n",
            "1875/1875 [==============================] - 5s 3ms/step - loss: 0.9187 - accuracy: 0.6815 - val_loss: 0.8827 - val_accuracy: 0.7018\n",
            "Epoch 38/40\n",
            "1875/1875 [==============================] - 5s 3ms/step - loss: 0.9931 - accuracy: 0.6497 - val_loss: 1.0215 - val_accuracy: 0.5921\n",
            "Epoch 39/40\n",
            "1875/1875 [==============================] - 5s 3ms/step - loss: 1.1598 - accuracy: 0.5525 - val_loss: 0.9691 - val_accuracy: 0.6452\n",
            "Epoch 40/40\n",
            "1875/1875 [==============================] - 5s 3ms/step - loss: 1.2392 - accuracy: 0.5322 - val_loss: 1.2580 - val_accuracy: 0.4416\n"
          ],
          "name": "stdout"
        }
      ]
    },
    {
      "cell_type": "code",
      "metadata": {
        "colab": {
          "base_uri": "https://localhost:8080/",
          "height": 317
        },
        "id": "kVfko6Ob87P4",
        "outputId": "c884df36-42d0-4362-9a22-96cedfe937c2"
      },
      "source": [
        "# Plot the learning rate decay curve\n",
        "lrs = 1e-3*(10**(tf.range(40)/20))\n",
        "plt.semilogx(lrs, norm_history.history['loss'])\n",
        "plt.xlabel('learning rate')\n",
        "plt.ylabel('loss')\n",
        "plt.title('ideal learning rate')\n",
        "# so in this case default learning rate of the adam optimizer is best for us. if we would have got different learning rate than \n",
        "# the default one, we woulfd have trained our model again on new learning rate."
      ],
      "execution_count": 17,
      "outputs": [
        {
          "output_type": "execute_result",
          "data": {
            "text/plain": [
              "Text(0.5, 1.0, 'ideal learning rate')"
            ]
          },
          "metadata": {
            "tags": []
          },
          "execution_count": 17
        },
        {
          "output_type": "display_data",
          "data": {
            "image/png": "[encoded data removed]",
            "text/plain": [
              "<Figure size 432x288 with 1 Axes>"
            ]
          },
          "metadata": {
            "tags": [],
            "needs_background": "light"
          }
        }
      ]
    },
    {
      "cell_type": "code",
      "metadata": {
        "colab": {
          "base_uri": "https://localhost:8080/"
        },
        "id": "QbE47BHJC0n0",
        "outputId": "bb31d288-9d8e-4b9f-8017-3b838a7d098e"
      },
      "source": [
        "y_probs = model_2.predict(test_data_norm)\n",
        "y_probs"
      ],
      "execution_count": 21,
      "outputs": [
        {
          "output_type": "execute_result",
          "data": {
            "text/plain": [
              "array([[2.67575434e-10, 8.36219301e-15, 4.81271964e-05, ...,\n",
              "        8.82702321e-02, 6.16734102e-03, 6.32037640e-01],\n",
              "       [8.12884609e-05, 5.76163584e-15, 9.49077904e-01, ...,\n",
              "        5.20481797e-26, 1.70954445e-04, 7.83160132e-08],\n",
              "       [1.09286033e-04, 9.96481419e-01, 9.71146363e-09, ...,\n",
              "        1.49560831e-18, 3.59249341e-08, 2.74250989e-14],\n",
              "       ...,\n",
              "       [8.61483067e-02, 5.39734865e-05, 1.40477493e-01, ...,\n",
              "        5.26902012e-15, 1.56243891e-01, 2.15783393e-06],\n",
              "       [1.09144064e-04, 9.92067456e-01, 8.19268422e-08, ...,\n",
              "        6.06595462e-14, 8.80336358e-07, 1.78489255e-11],\n",
              "       [3.26439618e-07, 2.94177210e-10, 3.81626771e-04, ...,\n",
              "        4.96945903e-02, 5.25692012e-03, 4.55987528e-02]], dtype=float32)"
            ]
          },
          "metadata": {
            "tags": []
          },
          "execution_count": 21
        }
      ]
    },
    {
      "cell_type": "code",
      "metadata": {
        "colab": {
          "base_uri": "https://localhost:8080/"
        },
        "id": "q4E1CiP2E3Kh",
        "outputId": "6a847e64-e070-48b7-d3dc-d5e4d2dc198f"
      },
      "source": [
        "# converting all the prediction probabilities into integers\n",
        "y_pred = y_probs.argmax(axis=1)\n",
        "y_pred"
      ],
      "execution_count": 40,
      "outputs": [
        {
          "output_type": "execute_result",
          "data": {
            "text/plain": [
              "array([9, 2, 1, ..., 3, 1, 5])"
            ]
          },
          "metadata": {
            "tags": []
          },
          "execution_count": 40
        }
      ]
    },
    {
      "cell_type": "code",
      "metadata": {
        "colab": {
          "base_uri": "https://localhost:8080/"
        },
        "id": "NPUtpf6tC-P7",
        "outputId": "bcdab29a-6e41-4d6c-dc0b-72f0fa5aae20"
      },
      "source": [
        "model_2.evaluate(test_data_norm, test_labels)"
      ],
      "execution_count": 43,
      "outputs": [
        {
          "output_type": "stream",
          "text": [
            "313/313 [==============================] - 1s 2ms/step - loss: 0.5658 - accuracy: 0.8014\n"
          ],
          "name": "stdout"
        },
        {
          "output_type": "execute_result",
          "data": {
            "text/plain": [
              "[0.5658252239227295, 0.8014000058174133]"
            ]
          },
          "metadata": {
            "tags": []
          },
          "execution_count": 43
        }
      ]
    },
    {
      "cell_type": "code",
      "metadata": {
        "colab": {
          "base_uri": "https://localhost:8080/"
        },
        "id": "9fIndu90AM5U",
        "outputId": "a3eac8e8-5940-442d-911e-0ec30935fd2a"
      },
      "source": [
        "from sklearn.metrics import confusion_matrix\n",
        "ct = confusion_matrix(test_labels,y_pred)\n",
        "ct # confusion matrix for taking out some of the references about our predictions"
      ],
      "execution_count": 42,
      "outputs": [
        {
          "output_type": "execute_result",
          "data": {
            "text/plain": [
              "array([[801,  11,  27,  81,   7,   1,  62,   0,  10,   0],\n",
              "       [  2, 940,   2,  36,   7,   0,  13,   0,   0,   0],\n",
              "       [ 34,   2, 662,  14, 166,   1, 108,   0,  13,   0],\n",
              "       [ 67,  12,  12, 836,  33,   0,  28,   0,  12,   0],\n",
              "       [  3,   1, 119,  44, 730,   0,  92,   0,   9,   2],\n",
              "       [  0,   0,   0,   0,   0, 918,   0,  51,   7,  24],\n",
              "       [205,   9, 171,  58, 141,   3, 397,   0,  16,   0],\n",
              "       [  0,   0,   0,   0,   0,  44,   0, 921,   0,  35],\n",
              "       [  3,   2,  34,  23,  10,  13,   7,   5, 901,   2],\n",
              "       [  0,   0,   2,   0,   4,  37,   0,  47,   2, 908]])"
            ]
          },
          "metadata": {
            "tags": []
          },
          "execution_count": 42
        }
      ]
    },
    {
      "cell_type": "code",
      "metadata": {
        "colab": {
          "base_uri": "https://localhost:8080/",
          "height": 501
        },
        "id": "KIizv39GIwWG",
        "outputId": "d7cce802-cdd7-4a88-e8d3-5b37dd119fb8"
      },
      "source": [
        "import seaborn as sns\n",
        "plt.figure(figsize=(15,8)) # seaborn is made on top of matplotlib, so we can use this was also to adjust the figure size of the heat map\n",
        "sns.heatmap(ct, annot=True)"
      ],
      "execution_count": 51,
      "outputs": [
        {
          "output_type": "execute_result",
          "data": {
            "text/plain": [
              "<matplotlib.axes._subplots.AxesSubplot at 0x7f4a5d95f9d0>"
            ]
          },
          "metadata": {
            "tags": []
          },
          "execution_count": 51
        },
        {
          "output_type": "display_data",
          "data": {
            "image/png": "[encoded data removed]",
            "text/plain": [
              "<Figure size 1080x576 with 2 Axes>"
            ]
          },
          "metadata": {
            "tags": [],
            "needs_background": "light"
          }
        }
      ]
    },
    {
      "cell_type": "markdown",
      "metadata": {
        "id": "pV3vOXGqWFhC"
      },
      "source": [
        "**making single prediction**"
      ]
    },
    {
      "cell_type": "code",
      "metadata": {
        "id": "c29WdOBqLQRn"
      },
      "source": [
        "# we will try to visualize random images from our data\n",
        "import random\n",
        "def plot_random_images(model, images, true_labels, classes):\n",
        "  \"\"\"\n",
        "  picks a random image, plots it and labels it with prediction and truth value\n",
        "\n",
        "  \"\"\"\n",
        "  # set up random integer\n",
        "  i = random.randint(0, len(images))\n",
        "  # let's create predictions and targets\n",
        "  target_image = images[i]\n",
        "  y_prob = model.predict(target_image.reshape(1,28,28)) # this is how we make single prediction.\n",
        "  pred_label = classes[y_prob.argmax()]\n",
        "  true_label = classes[true_labels[i]]\n",
        "  plt.imshow(target_image, cmap=plt.cm.binary)\n",
        "  plt.title('plotting the predicted image')\n",
        "  if pred_label == true_label:\n",
        "    plt.xlabel('prediction matched with the original label', color='green')\n",
        "  else:\n",
        "    plt.xlabel('prediction didnot match with the original label', color='red')\n"
      ],
      "execution_count": 72,
      "outputs": []
    },
    {
      "cell_type": "code",
      "metadata": {
        "colab": {
          "base_uri": "https://localhost:8080/",
          "height": 295
        },
        "id": "ziBdBADBO3jy",
        "outputId": "787e6e5a-0aa7-429f-85c2-cdf186017b1f"
      },
      "source": [
        "plot_random_images(model_2, test_data_norm, test_labels, class_names)"
      ],
      "execution_count": 74,
      "outputs": [
        {
          "output_type": "display_data",
          "data": {
            "image/png": "[encoded data removed]",
            "text/plain": [
              "<Figure size 432x288 with 1 Axes>"
            ]
          },
          "metadata": {
            "tags": [],
            "needs_background": "light"
          }
        }
      ]
    },
    {
      "cell_type": "markdown",
      "metadata": {
        "id": "O_rvmYNJW40g"
      },
      "source": [
        "**seeing what patterns our model is learning**"
      ]
    },
    {
      "cell_type": "code",
      "metadata": {
        "colab": {
          "base_uri": "https://localhost:8080/"
        },
        "id": "embwjH_VWK19",
        "outputId": "f304547e-ee31-4a4b-97a8-eca1126743a6"
      },
      "source": [
        "model_2.layers # these are the different layers that our model is comprised of"
      ],
      "execution_count": 75,
      "outputs": [
        {
          "output_type": "execute_result",
          "data": {
            "text/plain": [
              "[<tensorflow.python.keras.layers.core.Flatten at 0x7f4a740ee090>,\n",
              " <tensorflow.python.keras.layers.core.Dense at 0x7f4a740ee890>,\n",
              " <tensorflow.python.keras.layers.core.Dense at 0x7f4a740eeb50>,\n",
              " <tensorflow.python.keras.layers.core.Dense at 0x7f4a740ee910>]"
            ]
          },
          "metadata": {
            "tags": []
          },
          "execution_count": 75
        }
      ]
    },
    {
      "cell_type": "code",
      "metadata": {
        "colab": {
          "base_uri": "https://localhost:8080/"
        },
        "id": "M0NIQQeIXJjS",
        "outputId": "92932d67-3c7e-4118-919b-9062a6b0466d"
      },
      "source": [
        "# extracting a particular layer\n",
        "model_2.layers[1]"
      ],
      "execution_count": 76,
      "outputs": [
        {
          "output_type": "execute_result",
          "data": {
            "text/plain": [
              "<tensorflow.python.keras.layers.core.Dense at 0x7f4a740ee890>"
            ]
          },
          "metadata": {
            "tags": []
          },
          "execution_count": 76
        }
      ]
    },
    {
      "cell_type": "code",
      "metadata": {
        "colab": {
          "base_uri": "https://localhost:8080/"
        },
        "id": "5BIl8ODcXaME",
        "outputId": "78b95d11-e95d-4be5-f227-13d60b8d90c0"
      },
      "source": [
        "# get the patterns of the layer\n",
        "weights, biases = model_2.layers[1].get_weights()\n",
        "weights, weights.shape, biases, biases.shape"
      ],
      "execution_count": 77,
      "outputs": [
        {
          "output_type": "execute_result",
          "data": {
            "text/plain": [
              "(array([[ 0.38586015, -0.01683259, -0.48614603, -0.5381739 ],\n",
              "        [ 0.09176365, -0.07343115, -0.27991343,  0.04825683],\n",
              "        [ 0.43908143,  0.46483916, -0.6423492 , -0.4443898 ],\n",
              "        ...,\n",
              "        [-0.25405478,  0.53794223, -0.15410863,  0.15027727],\n",
              "        [-0.23082417,  0.45491952,  0.08331461, -0.3790482 ],\n",
              "        [ 0.15038271,  0.1378823 , -0.1480694 , -0.01065981]],\n",
              "       dtype=float32),\n",
              " (784, 4),\n",
              " array([-0.07772543,  0.08738985, -0.36895934,  0.7236028 ], dtype=float32),\n",
              " (4,))"
            ]
          },
          "metadata": {
            "tags": []
          },
          "execution_count": 77
        }
      ]
    },
    {
      "cell_type": "code",
      "metadata": {
        "colab": {
          "base_uri": "https://localhost:8080/",
          "height": 533
        },
        "id": "iQz0dkCHasYx",
        "outputId": "3b3f94f3-0270-437e-edb6-546a17667820"
      },
      "source": [
        "# viewing our model\n",
        "from tensorflow.keras.utils import plot_model\n",
        "plot_model(model_2, show_shapes=True)"
      ],
      "execution_count": 79,
      "outputs": [
        {
          "output_type": "execute_result",
          "data": {
            "image/png": "[encoded data removed]",
            "text/plain": [
              "<IPython.core.display.Image object>"
            ]
          },
          "metadata": {
            "tags": []
          },
          "execution_count": 79
        }
      ]
    },
    {
      "cell_type": "code",
      "metadata": {
        "id": "Tym0I8qsa-hP"
      },
      "source": [
        ""
      ],
      "execution_count": null,
      "outputs": []
    }
  ]
}