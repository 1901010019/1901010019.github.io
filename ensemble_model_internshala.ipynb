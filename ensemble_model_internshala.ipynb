{
  "nbformat": 4,
  "nbformat_minor": 0,
  "metadata": {
    "colab": {
      "name": "Untitled0(2).ipynb",
      "provenance": [],
      "include_colab_link": true
    },
    "kernelspec": {
      "name": "python3",
      "display_name": "Python 3"
    }
  },
  "cells": [
    {
      "cell_type": "markdown",
      "metadata": {
        "id": "view-in-github",
        "colab_type": "text"
      },
      "source": [
        "<a href=\"https://colab.research.google.com/github/1901010019/1901010019.github.io/blob/master/ensemble_model_internshala.ipynb\" target=\"_parent\"><img src=\"https://colab.research.google.com/assets/colab-badge.svg\" alt=\"Open In Colab\"/></a>"
      ]
    },
    {
      "cell_type": "code",
      "metadata": {
        "id": "JKUFUaqkFELE",
        "colab": {
          "base_uri": "https://localhost:8080/"
        },
        "outputId": "732ddf21-d947-4a9b-bbcd-9f90b9c3ff59"
      },
      "source": [
        "import pandas as pd\n",
        "import numpy as np\n",
        "import matplotlib.pyplot as plt\n",
        "import warnings\n",
        "warnings.filterwarnings(action = 'ignore')\n",
        "!python -m venv sklearn-venv\n",
        "!sklearn-venv\\Scripts\\activate\n",
        "!pip install -U scikit-learn\n",
        "!python -m pip show scikit-learn"
      ],
      "execution_count": null,
      "outputs": [
        {
          "output_type": "stream",
          "text": [
            "Error: Command '['/content/sklearn-venv/bin/python3', '-Im', 'ensurepip', '--upgrade', '--default-pip']' returned non-zero exit status 1.\n",
            "/bin/bash: sklearn-venvScriptsactivate: command not found\n",
            "Collecting scikit-learn\n",
            "\u001b[?25l  Downloading https://files.pythonhosted.org/packages/a8/eb/a48f25c967526b66d5f1fa7a984594f0bf0a5afafa94a8c4dbc317744620/scikit_learn-0.24.2-cp37-cp37m-manylinux2010_x86_64.whl (22.3MB)\n",
            "\u001b[K     |████████████████████████████████| 22.3MB 1.6MB/s \n",
            "\u001b[?25hRequirement already satisfied, skipping upgrade: numpy>=1.13.3 in /usr/local/lib/python3.7/dist-packages (from scikit-learn) (1.19.5)\n",
            "Requirement already satisfied, skipping upgrade: scipy>=0.19.1 in /usr/local/lib/python3.7/dist-packages (from scikit-learn) (1.4.1)\n",
            "Collecting threadpoolctl>=2.0.0\n",
            "  Downloading https://files.pythonhosted.org/packages/f7/12/ec3f2e203afa394a149911729357aa48affc59c20e2c1c8297a60f33f133/threadpoolctl-2.1.0-py3-none-any.whl\n",
            "Requirement already satisfied, skipping upgrade: joblib>=0.11 in /usr/local/lib/python3.7/dist-packages (from scikit-learn) (1.0.1)\n",
            "Installing collected packages: threadpoolctl, scikit-learn\n",
            "  Found existing installation: scikit-learn 0.22.2.post1\n",
            "    Uninstalling scikit-learn-0.22.2.post1:\n",
            "      Successfully uninstalled scikit-learn-0.22.2.post1\n",
            "Successfully installed scikit-learn-0.24.2 threadpoolctl-2.1.0\n",
            "Name: scikit-learn\n",
            "Version: 0.24.2\n",
            "Summary: A set of python modules for machine learning and data mining\n",
            "Home-page: http://scikit-learn.org\n",
            "Author: None\n",
            "Author-email: None\n",
            "License: new BSD\n",
            "Location: /usr/local/lib/python3.7/dist-packages\n",
            "Requires: threadpoolctl, joblib, numpy, scipy\n",
            "Required-by: yellowbrick, textgenrnn, sklearn, sklearn-pandas, mlxtend, lightgbm, librosa, imbalanced-learn, fancyimpute\n"
          ],
          "name": "stdout"
        }
      ]
    },
    {
      "cell_type": "markdown",
      "metadata": {
        "id": "CHewgpLhZkWN"
      },
      "source": [
        "## Importing dataset"
      ]
    },
    {
      "cell_type": "code",
      "metadata": {
        "id": "VS_2ddomZkB1",
        "colab": {
          "base_uri": "https://localhost:8080/"
        },
        "outputId": "06e564cf-f31b-4b9c-d145-195f33c6f783"
      },
      "source": [
        "data = pd.read_csv('churn_prediction_simple.csv')\n",
        "data.info()"
      ],
      "execution_count": null,
      "outputs": [
        {
          "output_type": "stream",
          "text": [
            "<class 'pandas.core.frame.DataFrame'>\n",
            "RangeIndex: 22067 entries, 0 to 22066\n",
            "Data columns (total 21 columns):\n",
            " #   Column                          Non-Null Count  Dtype  \n",
            "---  ------                          --------------  -----  \n",
            " 0   customer_id                     22067 non-null  int64  \n",
            " 1   vintage                         22067 non-null  int64  \n",
            " 2   age                             22067 non-null  int64  \n",
            " 3   gender                          22067 non-null  int64  \n",
            " 4   dependents                      22067 non-null  float64\n",
            " 5   occupation                      22067 non-null  int64  \n",
            " 6   city                            22067 non-null  float64\n",
            " 7   customer_nw_category            22067 non-null  int64  \n",
            " 8   branch_code                     22067 non-null  int64  \n",
            " 9   days_since_last_transaction     22067 non-null  float64\n",
            " 10  current_balance                 22067 non-null  float64\n",
            " 11  previous_month_end_balance      22067 non-null  float64\n",
            " 12  average_monthly_balance_prevQ   22067 non-null  float64\n",
            " 13  average_monthly_balance_prevQ2  22067 non-null  float64\n",
            " 14  current_month_credit            22067 non-null  float64\n",
            " 15  previous_month_credit           22067 non-null  float64\n",
            " 16  current_month_debit             22067 non-null  float64\n",
            " 17  previous_month_debit            22067 non-null  float64\n",
            " 18  current_month_balance           22067 non-null  float64\n",
            " 19  previous_month_balance          22067 non-null  float64\n",
            " 20  churn                           22067 non-null  int64  \n",
            "dtypes: float64(13), int64(8)\n",
            "memory usage: 3.5 MB\n"
          ],
          "name": "stdout"
        }
      ]
    },
    {
      "cell_type": "code",
      "metadata": {
        "id": "EwvruWpJfLJQ"
      },
      "source": [
        "#separating dependent and independent varibales\n",
        "X = data.drop(columns = ['churn','customer_id'])\n",
        "Y = data['churn']"
      ],
      "execution_count": null,
      "outputs": []
    },
    {
      "cell_type": "code",
      "metadata": {
        "id": "fDLS1GwIVBCi"
      },
      "source": [
        "#Scaling the dataset\n",
        "from sklearn.preprocessing import StandardScaler\n",
        "scaler = StandardScaler()\n",
        "scaled_X = scaler.fit_transform(X)"
      ],
      "execution_count": null,
      "outputs": []
    },
    {
      "cell_type": "code",
      "metadata": {
        "id": "Ez20o7U-gDPM",
        "colab": {
          "base_uri": "https://localhost:8080/"
        },
        "outputId": "25e66290-6f6f-420e-fe2e-dd7da07ed814"
      },
      "source": [
        "#splitting the dataset\n",
        "from sklearn.model_selection import train_test_split as tts\n",
        "x_train, x_test, y_train, y_test = tts(scaled_X, Y, train_size = 0.80, stratify = Y, random_state = 101)\n",
        "x_train.shape, x_test.shape, y_train.shape, y_test.shape"
      ],
      "execution_count": null,
      "outputs": [
        {
          "output_type": "execute_result",
          "data": {
            "text/plain": [
              "((17653, 19), (4414, 19), (17653,), (4414,))"
            ]
          },
          "metadata": {
            "tags": []
          },
          "execution_count": 5
        }
      ]
    },
    {
      "cell_type": "markdown",
      "metadata": {
        "id": "qDE1K_C8LrPC"
      },
      "source": [
        "## Model Building, Bagging Logistic Regression"
      ]
    },
    {
      "cell_type": "code",
      "metadata": {
        "id": "IKgdmoDRLoWE",
        "colab": {
          "base_uri": "https://localhost:8080/"
        },
        "outputId": "82becc05-cdb4-4a3d-fc69-98f748b83768"
      },
      "source": [
        "from sklearn.ensemble import BaggingClassifier as BC\n",
        "classifier = BC()\n",
        "classifier.fit(x_train,y_train)"
      ],
      "execution_count": null,
      "outputs": [
        {
          "output_type": "execute_result",
          "data": {
            "text/plain": [
              "BaggingClassifier()"
            ]
          },
          "metadata": {
            "tags": []
          },
          "execution_count": 6
        }
      ]
    },
    {
      "cell_type": "code",
      "metadata": {
        "id": "vIBr-JEMLoWJ"
      },
      "source": [
        "from sklearn.linear_model import LogisticRegression as LR\n",
        "\n",
        "classifier = BC(base_estimator = LR(),\n",
        "                n_estimators = 150,\n",
        "                n_jobs = -1,\n",
        "                random_state = 42)\n",
        "classifier.fit(x_train, y_train)\n",
        "predicted_values = classifier.predict(x_train)"
      ],
      "execution_count": null,
      "outputs": []
    },
    {
      "cell_type": "code",
      "metadata": {
        "id": "Qsc61QcQM41c",
        "colab": {
          "base_uri": "https://localhost:8080/"
        },
        "outputId": "93270fe2-dadb-49a8-db3e-283976fa0676"
      },
      "source": [
        "from sklearn.metrics import classification_report\n",
        "print(classification_report(y_train, predicted_values))"
      ],
      "execution_count": null,
      "outputs": [
        {
          "output_type": "stream",
          "text": [
            "              precision    recall  f1-score   support\n",
            "\n",
            "           0       0.82      0.99      0.90     14234\n",
            "           1       0.75      0.08      0.15      3419\n",
            "\n",
            "    accuracy                           0.82     17653\n",
            "   macro avg       0.78      0.54      0.52     17653\n",
            "weighted avg       0.80      0.82      0.75     17653\n",
            "\n"
          ],
          "name": "stdout"
        }
      ]
    },
    {
      "cell_type": "code",
      "metadata": {
        "id": "5VkfDzbLM41h",
        "colab": {
          "base_uri": "https://localhost:8080/"
        },
        "outputId": "06d145f5-5550-4fd0-f466-43d8fe2f6505"
      },
      "source": [
        "predicted_values = classifier.predict(x_test)\n",
        "print(classification_report(y_test, predicted_values))"
      ],
      "execution_count": null,
      "outputs": [
        {
          "output_type": "stream",
          "text": [
            "              precision    recall  f1-score   support\n",
            "\n",
            "           0       0.82      0.99      0.90      3559\n",
            "           1       0.78      0.09      0.16       855\n",
            "\n",
            "    accuracy                           0.82      4414\n",
            "   macro avg       0.80      0.54      0.53      4414\n",
            "weighted avg       0.81      0.82      0.76      4414\n",
            "\n"
          ],
          "name": "stdout"
        }
      ]
    },
    {
      "cell_type": "markdown",
      "metadata": {
        "id": "AvR-Wv1aIR9V"
      },
      "source": [
        "# Model Building, Random Forest"
      ]
    },
    {
      "cell_type": "code",
      "metadata": {
        "id": "9m3J5Vf6IRcF",
        "colab": {
          "base_uri": "https://localhost:8080/"
        },
        "outputId": "5d004364-2843-485b-bf0c-1fc15427c6e6"
      },
      "source": [
        "from sklearn.ensemble import RandomForestClassifier as RFC\n",
        "classifier = RFC()\n",
        "classifier.fit(x_train,y_train)"
      ],
      "execution_count": null,
      "outputs": [
        {
          "output_type": "execute_result",
          "data": {
            "text/plain": [
              "RandomForestClassifier()"
            ]
          },
          "metadata": {
            "tags": []
          },
          "execution_count": 10
        }
      ]
    },
    {
      "cell_type": "code",
      "metadata": {
        "id": "8P3WtPu2IOly",
        "colab": {
          "base_uri": "https://localhost:8080/"
        },
        "outputId": "16a305e6-d7e6-4ad2-985e-9dd8b4b3f64c"
      },
      "source": [
        "predicted_values = classifier.predict(x_train)\n",
        "print(classification_report(y_train, predicted_values))"
      ],
      "execution_count": null,
      "outputs": [
        {
          "output_type": "stream",
          "text": [
            "              precision    recall  f1-score   support\n",
            "\n",
            "           0       1.00      1.00      1.00     14234\n",
            "           1       1.00      1.00      1.00      3419\n",
            "\n",
            "    accuracy                           1.00     17653\n",
            "   macro avg       1.00      1.00      1.00     17653\n",
            "weighted avg       1.00      1.00      1.00     17653\n",
            "\n"
          ],
          "name": "stdout"
        }
      ]
    },
    {
      "cell_type": "code",
      "metadata": {
        "id": "vjLtMaj-IE04",
        "colab": {
          "base_uri": "https://localhost:8080/"
        },
        "outputId": "4d1d2458-7feb-4978-8f95-9523ec8743ce"
      },
      "source": [
        "predicted_values = classifier.predict(x_test)\n",
        "print(classification_report(y_test, predicted_values))"
      ],
      "execution_count": null,
      "outputs": [
        {
          "output_type": "stream",
          "text": [
            "              precision    recall  f1-score   support\n",
            "\n",
            "           0       0.88      0.96      0.92      3559\n",
            "           1       0.71      0.45      0.55       855\n",
            "\n",
            "    accuracy                           0.86      4414\n",
            "   macro avg       0.79      0.70      0.73      4414\n",
            "weighted avg       0.85      0.86      0.85      4414\n",
            "\n"
          ],
          "name": "stdout"
        }
      ]
    },
    {
      "cell_type": "code",
      "metadata": {
        "id": "UoD5X2uHIEaO"
      },
      "source": [
        "#from sklearn.metrics import classification_report\n",
        "#print(classification_report(y_train, predicted_values))"
      ],
      "execution_count": null,
      "outputs": []
    },
    {
      "cell_type": "code",
      "metadata": {
        "id": "e0qe9Io5ID5T"
      },
      "source": [
        "#predicted_values = classifier.predict(x_test)\n",
        "#print(classification_report(y_test, predicted_values))"
      ],
      "execution_count": null,
      "outputs": []
    },
    {
      "cell_type": "markdown",
      "metadata": {
        "id": "tZbwrG4gOlLH"
      },
      "source": [
        "## Model Building, predictions"
      ]
    },
    {
      "cell_type": "code",
      "metadata": {
        "id": "N_llwn2Pdtvz"
      },
      "source": [
        "from sklearn.ensemble import RandomForestClassifier as RFC\n",
        "classifier = RFC()"
      ],
      "execution_count": null,
      "outputs": []
    },
    {
      "cell_type": "code",
      "metadata": {
        "id": "ovu6BdW5ea-T",
        "colab": {
          "base_uri": "https://localhost:8080/"
        },
        "outputId": "c2a73c8c-85ff-40e7-b2e1-d62a31926f32"
      },
      "source": [
        "classifier.fit(x_train, y_train)"
      ],
      "execution_count": null,
      "outputs": [
        {
          "output_type": "execute_result",
          "data": {
            "text/plain": [
              "RandomForestClassifier()"
            ]
          },
          "metadata": {
            "tags": []
          },
          "execution_count": 16
        }
      ]
    },
    {
      "cell_type": "markdown",
      "metadata": {
        "id": "goUBuXpoICfe"
      },
      "source": [
        "##Evaluation Metrics"
      ]
    },
    {
      "cell_type": "markdown",
      "metadata": {
        "id": "MxZEdZn8OqyF"
      },
      "source": [
        "# Hyperparamter Tuning"
      ]
    },
    {
      "cell_type": "code",
      "metadata": {
        "id": "n76WN8hVkUrm",
        "colab": {
          "base_uri": "https://localhost:8080/"
        },
        "outputId": "ef591911-bfee-440a-c73d-f3aa0749c00f"
      },
      "source": [
        "classifier = RFC()\n",
        "classifier.fit(x_train, y_train)"
      ],
      "execution_count": null,
      "outputs": [
        {
          "output_type": "execute_result",
          "data": {
            "text/plain": [
              "RandomForestClassifier()"
            ]
          },
          "metadata": {
            "tags": []
          },
          "execution_count": 17
        }
      ]
    },
    {
      "cell_type": "markdown",
      "metadata": {
        "id": "UMtSqLSlOvAF"
      },
      "source": [
        "## n_estimators"
      ]
    },
    {
      "cell_type": "code",
      "metadata": {
        "id": "OsNZkSRM_0v-"
      },
      "source": [
        "from sklearn.metrics import f1_score\n",
        "def calc_score(model, x1, y1, x2, y2):\n",
        "\n",
        "  model.fit(x1,y1)\n",
        "\n",
        "  predict = model.predict(x1)\n",
        "  f1 = f1_score(y1, predict)\n",
        "\n",
        "  predict = model.predict(x2)\n",
        "  f2 = f1_score(y2, predict)\n",
        "\n",
        "  return f1, f2"
      ],
      "execution_count": null,
      "outputs": []
    },
    {
      "cell_type": "code",
      "metadata": {
        "id": "AQb03stAEAES"
      },
      "source": [
        "def effect(train_score, test_score, x_axis, title):\n",
        "  plt.figure(figsize = (7,4), dpi = 120)\n",
        "  plt.plot(x_axis, train_score, color = 'red', label = 'train_Score')\n",
        "  plt.plot(x_axis, test_score, color = 'blue', label = 'test_Score')\n",
        "  plt.title(title)\n",
        "  plt.legend()\n",
        "  plt.xlabel(\"parameter_value\")\n",
        "  plt.ylabel(\"f1 score\")\n",
        "  plt.show()"
      ],
      "execution_count": null,
      "outputs": []
    },
    {
      "cell_type": "code",
      "metadata": {
        "id": "wGVhfI9pQTrJ"
      },
      "source": [
        ""
      ],
      "execution_count": null,
      "outputs": []
    },
    {
      "cell_type": "code",
      "metadata": {
        "id": "D0TkaaiDDhdZ"
      },
      "source": [
        "estimators = [i for i in range(1,600,10)]\n",
        "train = []\n",
        "test = []\n",
        "\n",
        "for i in estimators:  \n",
        "  model = RFC(class_weight = 'balanced_subsample',\n",
        "              n_estimators = i,\n",
        "              n_jobs = -1,\n",
        "              max_depth = 7,\n",
        "              random_state = 101)\n",
        "  f1, f2 = calc_score(model, x_train, y_train, x_test, y_test)\n",
        "  train.append(f1)\n",
        "  test.append(f2)"
      ],
      "execution_count": null,
      "outputs": []
    },
    {
      "cell_type": "code",
      "metadata": {
        "id": "RkE_OhuPFAfK",
        "colab": {
          "base_uri": "https://localhost:8080/"
        },
        "outputId": "a097e9c8-d803-4870-e291-273ebbb8b0ec"
      },
      "source": [
        "effect( train, test, range(1,600,10) , 'n_estimators')"
      ],
      "execution_count": null,
      "outputs": [
        {
          "output_type": "display_data",
          "data": {
            "image/png": "[encoded data removed]",
            "text/plain": [
              "<Figure size 840x480 with 1 Axes>"
            ]
          },
          "metadata": {
            "tags": [],
            "needs_background": "light"
          }
        }
      ]
    },
    {
      "cell_type": "markdown",
      "metadata": {
        "id": "cphLDUO4OUVI"
      },
      "source": [
        "## max_samples"
      ]
    },
    {
      "cell_type": "code",
      "metadata": {
        "id": "6vtR17UCNzTY"
      },
      "source": [
        "maxsamples = [i/1000 for i in range(1,1000)]\n",
        "train = []\n",
        "test = []\n",
        "\n",
        "for i in maxsamples:  \n",
        "  model = RFC(class_weight = 'balanced_subsample', n_estimators = 50,\n",
        "              n_jobs = -1, max_depth = 7, random_state = 101, max_samples = i)\n",
        "  f1, f2 = calc_score(model, x_train, y_train, x_test, y_test)\n",
        "  train.append(f1)\n",
        "  test.append(f2)"
      ],
      "execution_count": null,
      "outputs": []
    },
    {
      "cell_type": "code",
      "metadata": {
        "id": "yi8vzejROji5",
        "colab": {
          "base_uri": "https://localhost:8080/"
        },
        "outputId": "002842fe-6420-450d-9f7d-4023f8c66d1b"
      },
      "source": [
        "effect( train, test, maxsamples , 'bootstrap sample fraction')"
      ],
      "execution_count": null,
      "outputs": [
        {
          "output_type": "display_data",
          "data": {
            "image/png": "[encoded data removed]",
            "text/plain": [
              "<Figure size 840x480 with 1 Axes>"
            ]
          },
          "metadata": {
            "tags": [],
            "needs_background": "light"
          }
        }
      ]
    },
    {
      "cell_type": "code",
      "metadata": {
        "id": "QPwbU-XBwRJ-"
      },
      "source": [
        "maxfeatures = range(1,X.shape[1])\n",
        "train = []\n",
        "test = []\n",
        "\n",
        "for i in maxfeatures:  \n",
        "  model = RFC(class_weight = 'balanced_subsample', n_estimators = 50,\n",
        "              n_jobs = -1, max_depth = 7, random_state = 101, max_features = i)\n",
        "  f1, f2 = calc_score(model, x_train, y_train, x_test, y_test)\n",
        "  train.append(f1)\n",
        "  test.append(f2)"
      ],
      "execution_count": null,
      "outputs": []
    },
    {
      "cell_type": "code",
      "metadata": {
        "id": "o22JaCZ6JX3i",
        "colab": {
          "base_uri": "https://localhost:8080/"
        },
        "outputId": "a7c4453f-b737-487b-ece4-b6e84f33609e"
      },
      "source": [
        "effect( train, test, maxfeatures , 'number of max features for individual tree')"
      ],
      "execution_count": null,
      "outputs": [
        {
          "output_type": "display_data",
          "data": {
            "image/png": "[encoded data removed]",
            "text/plain": [
              "<Figure size 840x480 with 1 Axes>"
            ]
          },
          "metadata": {
            "tags": [],
            "needs_background": "light"
          }
        }
      ]
    },
    {
      "cell_type": "code",
      "metadata": {
        "id": "2fHM5RXkJ3_h"
      },
      "source": [
        ""
      ],
      "execution_count": null,
      "outputs": []
    }
  ]
}