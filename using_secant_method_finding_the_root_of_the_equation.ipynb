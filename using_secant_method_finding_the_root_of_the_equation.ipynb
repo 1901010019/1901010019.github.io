{
  "nbformat": 4,
  "nbformat_minor": 0,
  "metadata": {
    "colab": {
      "name": "Untitled10.ipynb",
      "provenance": [],
      "authorship_tag": "ABX9TyNBBVkEBoQOARGkyaXNTW7p",
      "include_colab_link": true
    },
    "kernelspec": {
      "name": "python3",
      "display_name": "Python 3"
    }
  },
  "cells": [
    {
      "cell_type": "markdown",
      "metadata": {
        "id": "view-in-github",
        "colab_type": "text"
      },
      "source": [
        "<a href=\"https://colab.research.google.com/github/1901010019/1901010019.github.io/blob/master/using_secant_method_finding_the_root_of_the_equation.ipynb\" target=\"_parent\"><img src=\"https://colab.research.google.com/assets/colab-badge.svg\" alt=\"Open In Colab\"/></a>"
      ]
    },
    {
      "cell_type": "code",
      "metadata": {
        "colab": {
          "base_uri": "https://localhost:8080/"
        },
        "id": "JzB4SJpwr7oq",
        "outputId": "c0ca90a6-19e4-4448-aa02-1c724395d9a5"
      },
      "source": [
        "def f(x):   \r\n",
        "    return ((-327.80114 * x + 0.08557 * x**2 + 314120.54414 )-( 4145.46262 * x + -68.28755 * x**2 + 0.06627 * x**3 + -0.00002 * x**4 + 0.00000 * x**5 + 23951376.37736)) ;  \r\n",
        "  \r\n",
        "def secant(x1, x2, E): \r\n",
        "    n = 0; xm = 0; x0 = 0; c = 0;  \r\n",
        "    if (f(x1) * f(x2) < 0): \r\n",
        "        while True:  \r\n",
        "              \r\n",
        "            # calculate the intermediate value  \r\n",
        "            x0 = ((x1 * f(x2) - x2 * f(x1)) / \r\n",
        "                            (f(x2) - f(x1)));  \r\n",
        "  \r\n",
        "            # check if x0 is root of  \r\n",
        "            # equation or not  \r\n",
        "            c = f(x1) * f(x0);  \r\n",
        "  \r\n",
        "            # update the value of interval  \r\n",
        "            x1 = x2;  \r\n",
        "            x2 = x0;  \r\n",
        "  \r\n",
        "            # update number of iteration  \r\n",
        "            n += 1;  \r\n",
        "  \r\n",
        "            # if x0 is the root of equation  \r\n",
        "            # then break the loop  \r\n",
        "            if (c == 0):  \r\n",
        "                break;  \r\n",
        "            xm = ((x1 * f(x2) - x2 * f(x1)) / \r\n",
        "                            (f(x2) - f(x1))); \r\n",
        "              \r\n",
        "            if(abs(xm - x0) < E): \r\n",
        "                break; \r\n",
        "          \r\n",
        "        print(\"Root of the given equation =\",  \r\n",
        "                               round(x0, 6));  \r\n",
        "        print(\"No. of iterations = \", n);  \r\n",
        "          \r\n",
        "    else: \r\n",
        "        print(\"Can not find a root in \", \r\n",
        "                   \"the given inteval\");  \r\n",
        "  \r\n",
        "# Driver code  \r\n",
        "  \r\n",
        "# initializing the values  \r\n",
        "x1 = 0;  \r\n",
        "x2 = 1;  \r\n",
        "E = 0.0001;  \r\n",
        "secant(x1, x2, E);  "
      ],
      "execution_count": 2,
      "outputs": [
        {
          "output_type": "stream",
          "text": [
            "Can not find a root in  the given inteval\n"
          ],
          "name": "stdout"
        }
      ]
    }
  ]
}