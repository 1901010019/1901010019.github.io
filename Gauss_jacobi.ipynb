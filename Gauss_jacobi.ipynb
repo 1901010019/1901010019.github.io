{
  "nbformat": 4,
  "nbformat_minor": 0,
  "metadata": {
    "colab": {
      "name": "Untitled38.ipynb",
      "provenance": [],
      "authorship_tag": "ABX9TyMGGgZw3Inw8lzgxVR63cIr",
      "include_colab_link": true
    },
    "kernelspec": {
      "name": "python3",
      "display_name": "Python 3"
    },
    "language_info": {
      "name": "python"
    }
  },
  "cells": [
    {
      "cell_type": "markdown",
      "metadata": {
        "id": "view-in-github",
        "colab_type": "text"
      },
      "source": [
        "<a href=\"https://colab.research.google.com/github/1901010019/1901010019.github.io/blob/master/Gauss_jacobi.ipynb\" target=\"_parent\"><img src=\"https://colab.research.google.com/assets/colab-badge.svg\" alt=\"Open In Colab\"/></a>"
      ]
    },
    {
      "cell_type": "code",
      "metadata": {
        "colab": {
          "base_uri": "https://localhost:8080/"
        },
        "id": "SjIBDTAgM6Qi",
        "outputId": "f1f5ce79-c379-4361-f9ae-e22729f02f6c"
      },
      "source": [
        "# Defining equations to be solved\n",
        "# in diagonally dominant form\n",
        "f1 = lambda x,y,z: (17-y+2*z)/20\n",
        "f2 = lambda x,y,z: (-18-3*x+z)/20\n",
        "f3 = lambda x,y,z: (25-2*x+3*y)/20\n",
        "\n",
        "# Initial setup\n",
        "x0 = 0\n",
        "y0 = 0\n",
        "z0 = 0\n",
        "count = 1\n",
        "\n",
        "# Reading tolerable error\n",
        "e = float(input('Enter tolerable error: '))\n",
        "\n",
        "# Implementation of Jacobi Iteration\n",
        "print('\\nCount\\tx\\ty\\tz\\n')\n",
        "\n",
        "condition = True\n",
        "\n",
        "while condition:\n",
        "    x1 = f1(x0,y0,z0)\n",
        "    y1 = f2(x0,y0,z0)\n",
        "    z1 = f3(x0,y0,z0)\n",
        "    print('%d\\t%0.4f\\t%0.4f\\t%0.4f\\n' %(count, x1,y1,z1))\n",
        "    e1 = abs(x0-x1);\n",
        "    e2 = abs(y0-y1);\n",
        "    e3 = abs(z0-z1);\n",
        "    \n",
        "    count += 1\n",
        "    x0 = x1\n",
        "    y0 = y1\n",
        "    z0 = z1\n",
        "    \n",
        "    condition = e1>e and e2>e and e3>e\n",
        "\n",
        "print('\\nSolution: x=%0.3f, y=%0.3f and z = %0.3f\\n'% (x1,y1,z1))"
      ],
      "execution_count": 2,
      "outputs": [
        {
          "output_type": "stream",
          "text": [
            "Enter tolerable error: 0.001\n",
            "\n",
            "Count\tx\ty\tz\n",
            "\n",
            "1\t0.8500\t-0.9000\t1.2500\n",
            "\n",
            "2\t1.0200\t-0.9650\t1.0300\n",
            "\n",
            "3\t1.0012\t-1.0015\t1.0032\n",
            "\n",
            "4\t1.0004\t-1.0000\t0.9996\n",
            "\n",
            "\n",
            "Solution: x=1.000, y=-1.000 and z = 1.000\n",
            "\n"
          ],
          "name": "stdout"
        }
      ]
    }
  ]
}