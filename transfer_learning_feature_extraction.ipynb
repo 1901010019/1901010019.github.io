{
  "nbformat": 4,
  "nbformat_minor": 0,
  "metadata": {
    "colab": {
      "name": "transfer_learning_feature_extraction.ipynb",
      "provenance": [],
      "authorship_tag": "ABX9TyPjUZvy9PPXwwwhUJEG3/Zl",
      "include_colab_link": true
    },
    "kernelspec": {
      "name": "python3",
      "display_name": "Python 3"
    },
    "language_info": {
      "name": "python"
    },
    "accelerator": "GPU"
  },
  "cells": [
    {
      "cell_type": "markdown",
      "metadata": {
        "id": "view-in-github",
        "colab_type": "text"
      },
      "source": [
        "<a href=\"https://colab.research.google.com/github/1901010019/1901010019.github.io/blob/master/transfer_learning_feature_extraction.ipynb\" target=\"_parent\"><img src=\"https://colab.research.google.com/assets/colab-badge.svg\" alt=\"Open In Colab\"/></a>"
      ]
    },
    {
      "cell_type": "code",
      "metadata": {
        "id": "odfGmN_2C-l4"
      },
      "source": [
        "import tensorflow as tf\n",
        "import numpy as np\n",
        "import pandas as pd\n",
        "import matplotlib.pyplot as plt "
      ],
      "execution_count": 1,
      "outputs": []
    },
    {
      "cell_type": "code",
      "metadata": {
        "colab": {
          "base_uri": "https://localhost:8080/"
        },
        "id": "EYw18HRlDLNL",
        "outputId": "b98f3f97-07b6-4891-df2b-1352ce3c2b98"
      },
      "source": [
        "!nvidia-smi # to check are we using GPU"
      ],
      "execution_count": 2,
      "outputs": [
        {
          "output_type": "stream",
          "text": [
            "Fri Jul  2 18:29:36 2021       \n",
            "+-----------------------------------------------------------------------------+\n",
            "| NVIDIA-SMI 465.27       Driver Version: 460.32.03    CUDA Version: 11.2     |\n",
            "|-------------------------------+----------------------+----------------------+\n",
            "| GPU  Name        Persistence-M| Bus-Id        Disp.A | Volatile Uncorr. ECC |\n",
            "| Fan  Temp  Perf  Pwr:Usage/Cap|         Memory-Usage | GPU-Util  Compute M. |\n",
            "|                               |                      |               MIG M. |\n",
            "|===============================+======================+======================|\n",
            "|   0  Tesla T4            Off  | 00000000:00:04.0 Off |                    0 |\n",
            "| N/A   37C    P8     9W /  70W |      0MiB / 15109MiB |      0%      Default |\n",
            "|                               |                      |                  N/A |\n",
            "+-------------------------------+----------------------+----------------------+\n",
            "                                                                               \n",
            "+-----------------------------------------------------------------------------+\n",
            "| Processes:                                                                  |\n",
            "|  GPU   GI   CI        PID   Type   Process name                  GPU Memory |\n",
            "|        ID   ID                                                   Usage      |\n",
            "|=============================================================================|\n",
            "|  No running processes found                                                 |\n",
            "+-----------------------------------------------------------------------------+\n"
          ],
          "name": "stdout"
        }
      ]
    },
    {
      "cell_type": "markdown",
      "metadata": {
        "id": "GBBwd-hPHfeX"
      },
      "source": [
        "downloading and becoming one with the data"
      ]
    },
    {
      "cell_type": "code",
      "metadata": {
        "colab": {
          "base_uri": "https://localhost:8080/"
        },
        "id": "SywoV35nHSFk",
        "outputId": "c4a488d1-16d5-4ae7-fe44-f76d21bf478e"
      },
      "source": [
        "import zipfile\n",
        "!wget https://storage.googleapis.com/ztm_tf_course/food_vision/10_food_classes_10_percent.zip\n",
        "# now we will unzip the downloaded file\n",
        "zip_ref = zipfile.ZipFile('10_food_classes_10_percent.zip')\n",
        "zip_ref.extractall()\n",
        "zip_ref.close()"
      ],
      "execution_count": 3,
      "outputs": [
        {
          "output_type": "stream",
          "text": [
            "--2021-07-02 18:29:36--  https://storage.googleapis.com/ztm_tf_course/food_vision/10_food_classes_10_percent.zip\n",
            "Resolving storage.googleapis.com (storage.googleapis.com)... 172.217.12.240, 172.217.164.176, 172.253.62.128, ...\n",
            "Connecting to storage.googleapis.com (storage.googleapis.com)|172.217.12.240|:443... connected.\n",
            "HTTP request sent, awaiting response... 200 OK\n",
            "Length: 168546183 (161M) [application/zip]\n",
            "Saving to: ‘10_food_classes_10_percent.zip’\n",
            "\n",
            "10_food_classes_10_ 100%[===================>] 160.74M   182MB/s    in 0.9s    \n",
            "\n",
            "2021-07-02 18:29:37 (182 MB/s) - ‘10_food_classes_10_percent.zip’ saved [168546183/168546183]\n",
            "\n"
          ],
          "name": "stdout"
        }
      ]
    },
    {
      "cell_type": "code",
      "metadata": {
        "colab": {
          "base_uri": "https://localhost:8080/"
        },
        "id": "29Iak_PlI1S_",
        "outputId": "baf154dd-8fd4-47c2-b57f-173eebdac92d"
      },
      "source": [
        "# walking through 10 percent file direcotry and listing the number of files\n",
        "import os\n",
        "for dirpath, dirnames, filenames in os.walk(\"10_food_classes_10_percent\"): \n",
        "  print(f\"there are {len(dirnames)} directories and {len(filenames)} images in {dirpath}\")"
      ],
      "execution_count": 4,
      "outputs": [
        {
          "output_type": "stream",
          "text": [
            "there are 2 directories and 0 images in 10_food_classes_10_percent\n",
            "there are 10 directories and 0 images in 10_food_classes_10_percent/test\n",
            "there are 0 directories and 250 images in 10_food_classes_10_percent/test/pizza\n",
            "there are 0 directories and 250 images in 10_food_classes_10_percent/test/grilled_salmon\n",
            "there are 0 directories and 250 images in 10_food_classes_10_percent/test/sushi\n",
            "there are 0 directories and 250 images in 10_food_classes_10_percent/test/ice_cream\n",
            "there are 0 directories and 250 images in 10_food_classes_10_percent/test/steak\n",
            "there are 0 directories and 250 images in 10_food_classes_10_percent/test/fried_rice\n",
            "there are 0 directories and 250 images in 10_food_classes_10_percent/test/chicken_wings\n",
            "there are 0 directories and 250 images in 10_food_classes_10_percent/test/ramen\n",
            "there are 0 directories and 250 images in 10_food_classes_10_percent/test/chicken_curry\n",
            "there are 0 directories and 250 images in 10_food_classes_10_percent/test/hamburger\n",
            "there are 10 directories and 0 images in 10_food_classes_10_percent/train\n",
            "there are 0 directories and 75 images in 10_food_classes_10_percent/train/pizza\n",
            "there are 0 directories and 75 images in 10_food_classes_10_percent/train/grilled_salmon\n",
            "there are 0 directories and 75 images in 10_food_classes_10_percent/train/sushi\n",
            "there are 0 directories and 75 images in 10_food_classes_10_percent/train/ice_cream\n",
            "there are 0 directories and 75 images in 10_food_classes_10_percent/train/steak\n",
            "there are 0 directories and 75 images in 10_food_classes_10_percent/train/fried_rice\n",
            "there are 0 directories and 75 images in 10_food_classes_10_percent/train/chicken_wings\n",
            "there are 0 directories and 75 images in 10_food_classes_10_percent/train/ramen\n",
            "there are 0 directories and 75 images in 10_food_classes_10_percent/train/chicken_curry\n",
            "there are 0 directories and 75 images in 10_food_classes_10_percent/train/hamburger\n"
          ],
          "name": "stdout"
        }
      ]
    },
    {
      "cell_type": "markdown",
      "metadata": {
        "id": "eYMF2dFNedOt"
      },
      "source": [
        "preprocessing our image dataset using keras library"
      ]
    },
    {
      "cell_type": "code",
      "metadata": {
        "id": "DXcap88fNN7v",
        "colab": {
          "base_uri": "https://localhost:8080/"
        },
        "outputId": "715b4921-27a8-4642-c1d6-490fb19240ef"
      },
      "source": [
        "from tensorflow.keras.preprocessing.image import ImageDataGenerator\n",
        "\n",
        "IMAGE_SHAPE = (224,224)\n",
        "BATCH_SIZE = 32\n",
        "\n",
        "train_dir = '/content/10_food_classes_10_percent/train'\n",
        "test_dir = '/content/10_food_classes_10_percent/test'\n",
        "\n",
        "train_datagen = ImageDataGenerator(rescale=1/255.)\n",
        "test_datagen = ImageDataGenerator(rescale=1/255.)\n",
        "\n",
        "print('train data: ')\n",
        "train_data = train_datagen.flow_from_directory(train_dir,\n",
        "                                               target_size=IMAGE_SHAPE,\n",
        "                                               batch_size=BATCH_SIZE,\n",
        "                                               class_mode='categorical',\n",
        "                                               )\n",
        "\n",
        "print('test data: ')\n",
        "test_data = test_datagen.flow_from_directory(test_dir,\n",
        "                                               target_size=IMAGE_SHAPE,\n",
        "                                               batch_size=BATCH_SIZE,\n",
        "                                               class_mode='categorical',\n",
        "                                               )"
      ],
      "execution_count": 5,
      "outputs": [
        {
          "output_type": "stream",
          "text": [
            "train data: \n",
            "Found 750 images belonging to 10 classes.\n",
            "test data: \n",
            "Found 2500 images belonging to 10 classes.\n"
          ],
          "name": "stdout"
        }
      ]
    },
    {
      "cell_type": "markdown",
      "metadata": {
        "id": "gsLUFRLagv5z"
      },
      "source": [
        "setting up callbacks"
      ]
    },
    {
      "cell_type": "code",
      "metadata": {
        "id": "NGCM_eQAg0r0"
      },
      "source": [
        "# callbacks - things to run while our model run\n",
        "# creating a tensorboard callback\n",
        "import datetime\n",
        "def create_tensorboard_callback(dirname, experiment_name):\n",
        "  log_dir = dirname + '/' + experiment_name + datetime.datetime.now().strftime(\"%y%m%d-%H%M&S\")\n",
        "  tensorboard_callback = tf.keras.callbacks.TensorBoard(log_dir=log_dir)\n",
        "  print(f\"saving tensorboard log files to {log_dir}\")\n",
        "  return tensorboard_callback"
      ],
      "execution_count": 6,
      "outputs": []
    },
    {
      "cell_type": "code",
      "metadata": {
        "id": "vvO0uoaHjpXU"
      },
      "source": [
        "# creating models using tensorflow hub\n",
        "# tensorflow hub is a repository of trained machine learning models\n",
        "resnet_url = \"https://tfhub.dev/google/imagenet/resnet_v2_50/feature_vector/4\"\n",
        "efficientnet_url = \"https://tfhub.dev/tensorflow/efficientdet/lite0/feature-vector/1\""
      ],
      "execution_count": 7,
      "outputs": []
    },
    {
      "cell_type": "code",
      "metadata": {
        "colab": {
          "base_uri": "https://localhost:8080/"
        },
        "id": "JuSOzoGApOnC",
        "outputId": "1929d494-b9c0-40e0-a5ae-5d8dbef2150e"
      },
      "source": [
        "image_shape = IMAGE_SHAPE + (3,) # just a different fancy way of writting.\n",
        "image_shape"
      ],
      "execution_count": 8,
      "outputs": [
        {
          "output_type": "execute_result",
          "data": {
            "text/plain": [
              "(224, 224, 3)"
            ]
          },
          "metadata": {
            "tags": []
          },
          "execution_count": 8
        }
      ]
    },
    {
      "cell_type": "code",
      "metadata": {
        "id": "BIp7zidCnU54"
      },
      "source": [
        "import tensorflow_hub as hub\n",
        "from tensorflow.keras import layers\n",
        "# let's make models using our tensorflow hub url's\n",
        "def create_models(model_url, num_classes=10):\n",
        "  \"\"\"\n",
        "  take the model url and create a keras sequential model\n",
        "  \"\"\"\n",
        "  # download the pretrained model as save it as a keras layer\n",
        "  feature_extractor_layer = hub.KerasLayer(model_url, trainable=False,\n",
        "                                           name='feature_extraction_layer', # will not train the already trained parameters\n",
        "                                           input_shape = image_shape)\n",
        "  # create our model\n",
        "  model = tf.keras.Sequential([\n",
        "                               feature_extractor_layer,\n",
        "                               tf.keras.layers.Dense(num_classes, activation='softmax')\n",
        "  ])\n",
        "\n",
        "  return model\n"
      ],
      "execution_count": 9,
      "outputs": []
    },
    {
      "cell_type": "markdown",
      "metadata": {
        "id": "uNhuFvjTsEV1"
      },
      "source": [
        "creating our resnet model"
      ]
    },
    {
      "cell_type": "code",
      "metadata": {
        "id": "wAcRPNPgqhkc"
      },
      "source": [
        "# create resnet model\n",
        "resnet_model = create_models(resnet_url)"
      ],
      "execution_count": 10,
      "outputs": []
    },
    {
      "cell_type": "code",
      "metadata": {
        "colab": {
          "base_uri": "https://localhost:8080/"
        },
        "id": "p9BQp_herYLU",
        "outputId": "da2c1150-52d2-4b2f-c53d-cab9a1e09d9a"
      },
      "source": [
        "resnet_model.summary()"
      ],
      "execution_count": 11,
      "outputs": [
        {
          "output_type": "stream",
          "text": [
            "Model: \"sequential\"\n",
            "_________________________________________________________________\n",
            "Layer (type)                 Output Shape              Param #   \n",
            "=================================================================\n",
            "feature_extraction_layer (Ke (None, 2048)              23564800  \n",
            "_________________________________________________________________\n",
            "dense (Dense)                (None, 10)                20490     \n",
            "=================================================================\n",
            "Total params: 23,585,290\n",
            "Trainable params: 20,490\n",
            "Non-trainable params: 23,564,800\n",
            "_________________________________________________________________\n"
          ],
          "name": "stdout"
        }
      ]
    },
    {
      "cell_type": "code",
      "metadata": {
        "id": "oAGLxtBTrvp1"
      },
      "source": [
        "# let's compile our resnet model\n",
        "resnet_model.compile(loss = tf.keras.losses.categorical_crossentropy,\n",
        "                     optimizer = tf.keras.optimizers.Adam(),\n",
        "                     metrics=['accuracy'])"
      ],
      "execution_count": 12,
      "outputs": []
    },
    {
      "cell_type": "code",
      "metadata": {
        "colab": {
          "base_uri": "https://localhost:8080/"
        },
        "id": "x17snm4YsI1Q",
        "outputId": "d79af52b-d7b0-4bab-c165-287cadf222a6"
      },
      "source": [
        "# let's fit our resnet model to out data\n",
        "resnet_history = resnet_model.fit(train_data, steps_per_epoch=len(train_data), epochs=5, validation_data=test_data,\n",
        "                 validation_steps=len(test_data),\n",
        "                 callbacks=[create_tensorboard_callback(dirname='tensorflow_hub', experiment_name='resnet')])"
      ],
      "execution_count": 13,
      "outputs": [
        {
          "output_type": "stream",
          "text": [
            "saving tensorboard log files to tensorflow_hub/resnet210702-1829&S\n",
            "Epoch 1/5\n",
            "24/24 [==============================] - 51s 763ms/step - loss: 1.9804 - accuracy: 0.3347 - val_loss: 1.2471 - val_accuracy: 0.5980\n",
            "Epoch 2/5\n",
            "24/24 [==============================] - 15s 645ms/step - loss: 0.9349 - accuracy: 0.7160 - val_loss: 0.8798 - val_accuracy: 0.7156\n",
            "Epoch 3/5\n",
            "24/24 [==============================] - 15s 642ms/step - loss: 0.6258 - accuracy: 0.8200 - val_loss: 0.7626 - val_accuracy: 0.7504\n",
            "Epoch 4/5\n",
            "24/24 [==============================] - 15s 640ms/step - loss: 0.4745 - accuracy: 0.8853 - val_loss: 0.7301 - val_accuracy: 0.7580\n",
            "Epoch 5/5\n",
            "24/24 [==============================] - 15s 643ms/step - loss: 0.3873 - accuracy: 0.9120 - val_loss: 0.6973 - val_accuracy: 0.7720\n"
          ],
          "name": "stdout"
        }
      ]
    },
    {
      "cell_type": "code",
      "metadata": {
        "id": "QHb7XMnKyYkt"
      },
      "source": [
        "def plot_loss_curves(history):\n",
        "  loss = history.history['loss']\n",
        "  accuracy = history.history['accuracy']\n",
        "  val_loss = history.history['val_loss']\n",
        "  val_accuracy = history.history['val_accuracy']\n",
        "  epochs = range(len(history.history['loss']))\n",
        "\n",
        "  plt.plot(epochs, loss, label='training loss')\n",
        "  plt.plot(epochs, val_loss, label='validation loss')\n",
        "  plt.title('loss')\n",
        "  plt.xlabel('epochs')\n",
        "  plt.legend()\n",
        "  \n",
        "  plt.figure()\n",
        "  plt.plot(epochs, accuracy, label='training accuracy')\n",
        "  plt.plot(epochs, val_accuracy, label='validation accuracy')\n",
        "  plt.title('accuracy')\n",
        "  plt.xlabel('epochs')\n",
        "  plt.legend()"
      ],
      "execution_count": 14,
      "outputs": []
    },
    {
      "cell_type": "code",
      "metadata": {
        "colab": {
          "base_uri": "https://localhost:8080/",
          "height": 573
        },
        "id": "P3to5t_Cz6DP",
        "outputId": "63108ee0-e102-4838-ebb4-5bcbc8b76558"
      },
      "source": [
        "plot_loss_curves(resnet_history)"
      ],
      "execution_count": 15,
      "outputs": [
        {
          "output_type": "display_data",
          "data": {
            "image/png": "[encoded data removed]",
            "text/plain": [
              "<Figure size 432x288 with 1 Axes>"
            ]
          },
          "metadata": {
            "tags": [],
            "needs_background": "light"
          }
        },
        {
          "output_type": "display_data",
          "data": {
            "image/png": "[encoded data removed]",
            "text/plain": [
              "<Figure size 432x288 with 1 Axes>"
            ]
          },
          "metadata": {
            "tags": [],
            "needs_background": "light"
          }
        }
      ]
    },
    {
      "cell_type": "markdown",
      "metadata": {
        "id": "Xe7ybjQR0YTv"
      },
      "source": [
        "creating our efficientnet model"
      ]
    },
    {
      "cell_type": "code",
      "metadata": {
        "id": "ItpaIAHB0cOv"
      },
      "source": [
        "# this was we can create a resnet model also.\n",
        "# efficientnet_model = create_models(efficientnet_url)\n",
        "\n",
        "# efficientnet_model.compile(loss = tf.keras.losses.categorical_crossentropy,\n",
        "#                      optimizer = tf.keras.optimizers.Adam(),\n",
        "#                      metrics=['accuracy'])\n",
        "\n",
        "\n",
        "# efficientnet_history = efficientnet_model.fit(train_data, steps_per_epoch=len(train_data),\n",
        "#                                               validation_data=test_data,\n",
        "#                                               validation_steps=len(test_size),\n",
        "#                                               callbacks=[create_tensorboard_callback(dirname='tensorflow_hub', experiment_name='resnet')]])"
      ],
      "execution_count": 16,
      "outputs": []
    },
    {
      "cell_type": "code",
      "metadata": {
        "id": "uXMA0gAtlu0Z",
        "outputId": "05d5e7cb-9684-4179-865e-98d90641a283",
        "colab": {
          "base_uri": "https://localhost:8080/"
        }
      },
      "source": [
        "len(resnet_model.layers[0].weights) # approximately there are 270 layers in "
      ],
      "execution_count": 17,
      "outputs": [
        {
          "output_type": "execute_result",
          "data": {
            "text/plain": [
              "270"
            ]
          },
          "metadata": {
            "tags": []
          },
          "execution_count": 17
        }
      ]
    },
    {
      "cell_type": "code",
      "metadata": {
        "id": "v4zRm8uje771"
      },
      "source": [
        "!tensorboard dev upload --logdir ./tensorflow_hub/ \\\n",
        "  --name 'resnet' \\\n",
        "  --description 'observing the performance of our model' \\\n",
        "  --one_shot"
      ],
      "execution_count": null,
      "outputs": []
    },
    {
      "cell_type": "markdown",
      "metadata": {
        "id": "1sYyLxAKgQBI"
      },
      "source": [
        "our tensorboard is publicly available at \n",
        "https://tensorboard.dev/experiment/iOGimjI9QMu0ejzLJXsqkQ/"
      ]
    },
    {
      "cell_type": "code",
      "metadata": {
        "id": "0b5Zg3Q7gW-p",
        "outputId": "1b403f9a-58b5-488a-d962-e06ea18804f2",
        "colab": {
          "base_uri": "https://localhost:8080/"
        }
      },
      "source": [
        "!tensorboard dev list"
      ],
      "execution_count": 20,
      "outputs": [
        {
          "output_type": "stream",
          "text": [
            "2021-07-02 18:39:38.281497: I tensorflow/stream_executor/platform/default/dso_loader.cc:53] Successfully opened dynamic library libcudart.so.11.0\n",
            "Data for the \"text\" plugin is now uploaded to TensorBoard.dev! Note that uploaded data is public. If you do not want to upload data for this plugin, use the \"--plugins\" command line argument.\n",
            "https://tensorboard.dev/experiment/iOGimjI9QMu0ejzLJXsqkQ/\n",
            "\tName                 resnet\n",
            "\tDescription          observing the performance of our model\n",
            "\tId                   iOGimjI9QMu0ejzLJXsqkQ\n",
            "\tCreated              2021-07-02 18:33:26 (6 minutes ago)\n",
            "\tUpdated              2021-07-02 18:33:27 (6 minutes ago)\n",
            "\tRuns                 2\n",
            "\tTags                 5\n",
            "\tScalars              30\n",
            "\tTensor bytes         0\n",
            "\tBinary object bytes  1904395\n",
            "Total: 1 experiment(s)\n"
          ],
          "name": "stdout"
        }
      ]
    }
  ]
}