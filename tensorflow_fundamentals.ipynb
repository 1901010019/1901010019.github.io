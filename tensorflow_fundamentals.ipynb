{
  "nbformat": 4,
  "nbformat_minor": 0,
  "metadata": {
    "colab": {
      "name": "tensorflow_fundamentals.ipynb",
      "provenance": [],
      "authorship_tag": "ABX9TyPbX4nrJmebI4/UYtn4jZ0z",
      "include_colab_link": true
    },
    "kernelspec": {
      "name": "python3",
      "display_name": "Python 3"
    },
    "language_info": {
      "name": "python"
    },
    "accelerator": "GPU"
  },
  "cells": [
    {
      "cell_type": "markdown",
      "metadata": {
        "id": "view-in-github",
        "colab_type": "text"
      },
      "source": [
        "<a href=\"https://colab.research.google.com/github/1901010019/1901010019.github.io/blob/master/tensorflow_fundamentals.ipynb\" target=\"_parent\"><img src=\"https://colab.research.google.com/assets/colab-badge.svg\" alt=\"Open In Colab\"/></a>"
      ]
    },
    {
      "cell_type": "code",
      "metadata": {
        "id": "59lJDJyR2gBO"
      },
      "source": [
        "import tensorflow as tf\n",
        "import numpy as np\n",
        "import pandas as pd"
      ],
      "execution_count": 112,
      "outputs": []
    },
    {
      "cell_type": "markdown",
      "metadata": {
        "id": "TMbrzFII6so6"
      },
      "source": [
        "#performing basic operations"
      ]
    },
    {
      "cell_type": "code",
      "metadata": {
        "colab": {
          "base_uri": "https://localhost:8080/"
        },
        "id": "-MhwZpwi6YLm",
        "outputId": "d215c52e-ef91-4f54-d048-13d4e1cc5b50"
      },
      "source": [
        "tensor = tf.constant([[10,7],[3,4]])\n",
        "tensor"
      ],
      "execution_count": 113,
      "outputs": [
        {
          "output_type": "execute_result",
          "data": {
            "text/plain": [
              "<tf.Tensor: shape=(2, 2), dtype=int32, numpy=\n",
              "array([[10,  7],\n",
              "       [ 3,  4]], dtype=int32)>"
            ]
          },
          "metadata": {
            "tags": []
          },
          "execution_count": 113
        }
      ]
    },
    {
      "cell_type": "code",
      "metadata": {
        "colab": {
          "base_uri": "https://localhost:8080/"
        },
        "id": "kYLleH856fyq",
        "outputId": "27162095-229e-40a8-a1eb-5188fd37ea06"
      },
      "source": [
        "tensor+10 # we can perform basic operations"
      ],
      "execution_count": 114,
      "outputs": [
        {
          "output_type": "execute_result",
          "data": {
            "text/plain": [
              "<tf.Tensor: shape=(2, 2), dtype=int32, numpy=\n",
              "array([[20, 17],\n",
              "       [13, 14]], dtype=int32)>"
            ]
          },
          "metadata": {
            "tags": []
          },
          "execution_count": 114
        }
      ]
    },
    {
      "cell_type": "code",
      "metadata": {
        "colab": {
          "base_uri": "https://localhost:8080/"
        },
        "id": "zW4miO5o6kyI",
        "outputId": "699ba0a9-e94e-40a6-c6f1-08611b20382d"
      },
      "source": [
        "tensor * 10"
      ],
      "execution_count": 115,
      "outputs": [
        {
          "output_type": "execute_result",
          "data": {
            "text/plain": [
              "<tf.Tensor: shape=(2, 2), dtype=int32, numpy=\n",
              "array([[100,  70],\n",
              "       [ 30,  40]], dtype=int32)>"
            ]
          },
          "metadata": {
            "tags": []
          },
          "execution_count": 115
        }
      ]
    },
    {
      "cell_type": "code",
      "metadata": {
        "colab": {
          "base_uri": "https://localhost:8080/"
        },
        "id": "G-zphJ7Z6nJ8",
        "outputId": "cd2177c1-28e9-4a24-bdca-affc81e3c922"
      },
      "source": [
        "tensor/10"
      ],
      "execution_count": 116,
      "outputs": [
        {
          "output_type": "execute_result",
          "data": {
            "text/plain": [
              "<tf.Tensor: shape=(2, 2), dtype=float64, numpy=\n",
              "array([[1. , 0.7],\n",
              "       [0.3, 0.4]])>"
            ]
          },
          "metadata": {
            "tags": []
          },
          "execution_count": 116
        }
      ]
    },
    {
      "cell_type": "code",
      "metadata": {
        "colab": {
          "base_uri": "https://localhost:8080/"
        },
        "id": "YNKtfqju6psJ",
        "outputId": "6f55d6a6-5901-4f98-d347-0537743424fb"
      },
      "source": [
        "tensor-10"
      ],
      "execution_count": 117,
      "outputs": [
        {
          "output_type": "execute_result",
          "data": {
            "text/plain": [
              "<tf.Tensor: shape=(2, 2), dtype=int32, numpy=\n",
              "array([[ 0, -3],\n",
              "       [-7, -6]], dtype=int32)>"
            ]
          },
          "metadata": {
            "tags": []
          },
          "execution_count": 117
        }
      ]
    },
    {
      "cell_type": "code",
      "metadata": {
        "colab": {
          "base_uri": "https://localhost:8080/"
        },
        "id": "YJNlm-I_7TsK",
        "outputId": "e00e4ea8-7ad3-470d-8d12-313b4061b37f"
      },
      "source": [
        "# we can use tensorflow built in functions too\n",
        "tf.multiply(tensor,10) # advantage of tensorflow function is that is speeds up your process."
      ],
      "execution_count": 118,
      "outputs": [
        {
          "output_type": "execute_result",
          "data": {
            "text/plain": [
              "<tf.Tensor: shape=(2, 2), dtype=int32, numpy=\n",
              "array([[100,  70],\n",
              "       [ 30,  40]], dtype=int32)>"
            ]
          },
          "metadata": {
            "tags": []
          },
          "execution_count": 118
        }
      ]
    },
    {
      "cell_type": "markdown",
      "metadata": {
        "id": "kaIBrQpz8S0i"
      },
      "source": [
        "in machine learning, matrix multiplication is one of the most common tensor operations."
      ]
    },
    {
      "cell_type": "code",
      "metadata": {
        "colab": {
          "base_uri": "https://localhost:8080/"
        },
        "id": "INQdOfXe7utr",
        "outputId": "403d21d2-d2b4-4a1c-ce58-6ed640b2cc51"
      },
      "source": [
        "tensor2 = tf.constant([[4,5],\n",
        "                       [6,7]])\n",
        "tensor2"
      ],
      "execution_count": 119,
      "outputs": [
        {
          "output_type": "execute_result",
          "data": {
            "text/plain": [
              "<tf.Tensor: shape=(2, 2), dtype=int32, numpy=\n",
              "array([[4, 5],\n",
              "       [6, 7]], dtype=int32)>"
            ]
          },
          "metadata": {
            "tags": []
          },
          "execution_count": 119
        }
      ]
    },
    {
      "cell_type": "code",
      "metadata": {
        "colab": {
          "base_uri": "https://localhost:8080/"
        },
        "id": "YVTu3DCLCMGY",
        "outputId": "f4175d97-308b-4e13-a97c-3c1b1e77e3dd"
      },
      "source": [
        "tf.matmul(tensor, tensor2)"
      ],
      "execution_count": 120,
      "outputs": [
        {
          "output_type": "execute_result",
          "data": {
            "text/plain": [
              "<tf.Tensor: shape=(2, 2), dtype=int32, numpy=\n",
              "array([[82, 99],\n",
              "       [36, 43]], dtype=int32)>"
            ]
          },
          "metadata": {
            "tags": []
          },
          "execution_count": 120
        }
      ]
    },
    {
      "cell_type": "code",
      "metadata": {
        "colab": {
          "base_uri": "https://localhost:8080/"
        },
        "id": "stJ-ymiZLjcV",
        "outputId": "45b0114a-aea7-4312-8aa8-3d6f2f0a379b"
      },
      "source": [
        "# matrix multiplication is also referred to as dot product\n",
        "b = tf.constant([1.7,7.4])\n",
        "b.dtype"
      ],
      "execution_count": 121,
      "outputs": [
        {
          "output_type": "execute_result",
          "data": {
            "text/plain": [
              "tf.float32"
            ]
          },
          "metadata": {
            "tags": []
          },
          "execution_count": 121
        }
      ]
    },
    {
      "cell_type": "code",
      "metadata": {
        "colab": {
          "base_uri": "https://localhost:8080/"
        },
        "id": "41dPXKchOsKF",
        "outputId": "b89eaf40-0bd8-460b-e172-9d72f921c9d9"
      },
      "source": [
        "c = tf.constant([1,7])\n",
        "c.dtype"
      ],
      "execution_count": 122,
      "outputs": [
        {
          "output_type": "execute_result",
          "data": {
            "text/plain": [
              "tf.int32"
            ]
          },
          "metadata": {
            "tags": []
          },
          "execution_count": 122
        }
      ]
    },
    {
      "cell_type": "code",
      "metadata": {
        "colab": {
          "base_uri": "https://localhost:8080/"
        },
        "id": "Q-qQZ8XfPmJt",
        "outputId": "21c5d93d-7fc1-4523-db64-da1f99f828ad"
      },
      "source": [
        "c = tf.cast(c, dtype=tf.int16)\n",
        "c  # we converted an integer from 32 bit to 16 bit\n",
        "# so cast function is very important function in converting the data type"
      ],
      "execution_count": 123,
      "outputs": [
        {
          "output_type": "execute_result",
          "data": {
            "text/plain": [
              "<tf.Tensor: shape=(2,), dtype=int16, numpy=array([1, 7], dtype=int16)>"
            ]
          },
          "metadata": {
            "tags": []
          },
          "execution_count": 123
        }
      ]
    },
    {
      "cell_type": "code",
      "metadata": {
        "colab": {
          "base_uri": "https://localhost:8080/"
        },
        "id": "ajwWyysmP28g",
        "outputId": "a9024804-0ce7-40bd-baae-b0720439261e"
      },
      "source": [
        "tnsor = tf.constant([[-2,-4]])\n",
        "tnsor"
      ],
      "execution_count": 124,
      "outputs": [
        {
          "output_type": "execute_result",
          "data": {
            "text/plain": [
              "<tf.Tensor: shape=(1, 2), dtype=int32, numpy=array([[-2, -4]], dtype=int32)>"
            ]
          },
          "metadata": {
            "tags": []
          },
          "execution_count": 124
        }
      ]
    },
    {
      "cell_type": "code",
      "metadata": {
        "colab": {
          "base_uri": "https://localhost:8080/"
        },
        "id": "Jio0rKxZTTBb",
        "outputId": "e36921cb-54ca-4971-f1e4-9645ef925c70"
      },
      "source": [
        "tf.abs(tnsor)"
      ],
      "execution_count": 125,
      "outputs": [
        {
          "output_type": "execute_result",
          "data": {
            "text/plain": [
              "<tf.Tensor: shape=(1, 2), dtype=int32, numpy=array([[2, 4]], dtype=int32)>"
            ]
          },
          "metadata": {
            "tags": []
          },
          "execution_count": 125
        }
      ]
    },
    {
      "cell_type": "code",
      "metadata": {
        "colab": {
          "base_uri": "https://localhost:8080/"
        },
        "id": "lg8bKPRjUI23",
        "outputId": "1ff2bcfb-9004-4f86-ba60-06db5c41a7c6"
      },
      "source": [
        "tnsr = tf.constant(np.random.randint(0,100, size=50))\n",
        "tnsr"
      ],
      "execution_count": 126,
      "outputs": [
        {
          "output_type": "execute_result",
          "data": {
            "text/plain": [
              "<tf.Tensor: shape=(50,), dtype=int64, numpy=\n",
              "array([14, 65, 58, 63, 39, 63, 88, 21, 98, 26, 28, 17, 42, 58, 15, 38, 37,\n",
              "       37, 72, 90, 20, 33,  2, 92, 50, 20, 27,  7, 49, 72, 10, 67, 98, 53,\n",
              "       58,  7,  4, 98, 21, 44, 47, 42, 23, 28, 43, 33, 30,  4, 36, 27])>"
            ]
          },
          "metadata": {
            "tags": []
          },
          "execution_count": 126
        }
      ]
    },
    {
      "cell_type": "code",
      "metadata": {
        "colab": {
          "base_uri": "https://localhost:8080/"
        },
        "id": "dpBvNX-3UVua",
        "outputId": "1f802702-6d8d-41e6-cdb7-a31d64c6d5c5"
      },
      "source": [
        "tnsr.shape, tnsr.ndim, tf.size(tnsr) # checkig the shape, size and dimension of the tensor respectively"
      ],
      "execution_count": 127,
      "outputs": [
        {
          "output_type": "execute_result",
          "data": {
            "text/plain": [
              "(TensorShape([50]), 1, <tf.Tensor: shape=(), dtype=int32, numpy=50>)"
            ]
          },
          "metadata": {
            "tags": []
          },
          "execution_count": 127
        }
      ]
    },
    {
      "cell_type": "code",
      "metadata": {
        "colab": {
          "base_uri": "https://localhost:8080/"
        },
        "id": "Bh8negFIUyLF",
        "outputId": "4ae1e7be-7224-4226-83de-e01a0f2a842f"
      },
      "source": [
        "tf.reduce_min(tnsr) # finding the minimum of the tensor"
      ],
      "execution_count": 128,
      "outputs": [
        {
          "output_type": "execute_result",
          "data": {
            "text/plain": [
              "<tf.Tensor: shape=(), dtype=int64, numpy=2>"
            ]
          },
          "metadata": {
            "tags": []
          },
          "execution_count": 128
        }
      ]
    },
    {
      "cell_type": "code",
      "metadata": {
        "colab": {
          "base_uri": "https://localhost:8080/"
        },
        "id": "kGFXnPv6VAFE",
        "outputId": "fa4753b2-f458-4ca2-e121-2d306a684faf"
      },
      "source": [
        "np.min(tnsr) # with the help of numpy function we tried checking the minimum element in the tensor"
      ],
      "execution_count": 129,
      "outputs": [
        {
          "output_type": "execute_result",
          "data": {
            "text/plain": [
              "2"
            ]
          },
          "metadata": {
            "tags": []
          },
          "execution_count": 129
        }
      ]
    },
    {
      "cell_type": "code",
      "metadata": {
        "colab": {
          "base_uri": "https://localhost:8080/"
        },
        "id": "xDeYHGgsVWee",
        "outputId": "e7ffac01-0c0c-4c7c-bda5-75a532f49ba3"
      },
      "source": [
        "tf.reduce_max(tnsr)"
      ],
      "execution_count": 130,
      "outputs": [
        {
          "output_type": "execute_result",
          "data": {
            "text/plain": [
              "<tf.Tensor: shape=(), dtype=int64, numpy=98>"
            ]
          },
          "metadata": {
            "tags": []
          },
          "execution_count": 130
        }
      ]
    },
    {
      "cell_type": "code",
      "metadata": {
        "colab": {
          "base_uri": "https://localhost:8080/"
        },
        "id": "kJ50iiUuVkOx",
        "outputId": "f5a33db3-00c5-4dc5-f4e6-09bb38b7ebd8"
      },
      "source": [
        "tf.reduce_sum(tnsr) # so here we are trying to get the sum of the tensor"
      ],
      "execution_count": 131,
      "outputs": [
        {
          "output_type": "execute_result",
          "data": {
            "text/plain": [
              "<tf.Tensor: shape=(), dtype=int64, numpy=2114>"
            ]
          },
          "metadata": {
            "tags": []
          },
          "execution_count": 131
        }
      ]
    },
    {
      "cell_type": "code",
      "metadata": {
        "colab": {
          "base_uri": "https://localhost:8080/"
        },
        "id": "j9HNKOqDVss_",
        "outputId": "a9d46119-0117-47f7-a05d-126318fb83e3"
      },
      "source": [
        "import tensorflow_probability as tfp\n",
        "tfp.stats.variance(tnsr) # calculated the variance"
      ],
      "execution_count": 132,
      "outputs": [
        {
          "output_type": "execute_result",
          "data": {
            "text/plain": [
              "<tf.Tensor: shape=(), dtype=int64, numpy=700>"
            ]
          },
          "metadata": {
            "tags": []
          },
          "execution_count": 132
        }
      ]
    },
    {
      "cell_type": "code",
      "metadata": {
        "colab": {
          "base_uri": "https://localhost:8080/"
        },
        "id": "usNXNtEEaVHt",
        "outputId": "4046dac3-0eb0-45e0-c4e9-900ff921e7a0"
      },
      "source": [
        "# calculating the standard deviation\n",
        "tf.math.reduce_std(tf.cast(tnsr, dtype=tf.float32)) # we needed to change the data type of the tensor"
      ],
      "execution_count": 133,
      "outputs": [
        {
          "output_type": "execute_result",
          "data": {
            "text/plain": [
              "<tf.Tensor: shape=(), dtype=float32, numpy=26.464346>"
            ]
          },
          "metadata": {
            "tags": []
          },
          "execution_count": 133
        }
      ]
    },
    {
      "cell_type": "markdown",
      "metadata": {
        "id": "IT8l6aeLcj0X"
      },
      "source": [
        "## find the positional maximum and minimum"
      ]
    },
    {
      "cell_type": "code",
      "metadata": {
        "colab": {
          "base_uri": "https://localhost:8080/"
        },
        "id": "OO3mQHGpcHJw",
        "outputId": "92453c3b-b047-4fe2-acac-7ccbb8f2ae8b"
      },
      "source": [
        "# creating a new tensor for finding positional maximum and minimum\n",
        "tf.random.set_seed(42)\n",
        "tensor = tf.random.uniform(shape=[50])\n",
        "tensor"
      ],
      "execution_count": 134,
      "outputs": [
        {
          "output_type": "execute_result",
          "data": {
            "text/plain": [
              "<tf.Tensor: shape=(50,), dtype=float32, numpy=\n",
              "array([0.6645621 , 0.44100678, 0.3528825 , 0.46448255, 0.03366041,\n",
              "       0.68467236, 0.74011743, 0.8724445 , 0.22632635, 0.22319686,\n",
              "       0.3103881 , 0.7223358 , 0.13318717, 0.5480639 , 0.5746088 ,\n",
              "       0.8996835 , 0.00946367, 0.5212307 , 0.6345445 , 0.1993283 ,\n",
              "       0.72942245, 0.54583454, 0.10756552, 0.6767061 , 0.6602763 ,\n",
              "       0.33695042, 0.60141766, 0.21062577, 0.8527372 , 0.44062173,\n",
              "       0.9485276 , 0.23752594, 0.81179297, 0.5263394 , 0.494308  ,\n",
              "       0.21612847, 0.8457197 , 0.8718841 , 0.3083862 , 0.6868038 ,\n",
              "       0.23764038, 0.7817228 , 0.9671384 , 0.06870162, 0.79873943,\n",
              "       0.66028714, 0.5871513 , 0.16461694, 0.7381023 , 0.32054043],\n",
              "      dtype=float32)>"
            ]
          },
          "metadata": {
            "tags": []
          },
          "execution_count": 134
        }
      ]
    },
    {
      "cell_type": "code",
      "metadata": {
        "colab": {
          "base_uri": "https://localhost:8080/"
        },
        "id": "SZmn0zXSeanl",
        "outputId": "a3584947-be58-4255-eec3-c714bbbd5af4"
      },
      "source": [
        "# find the postional maximum\n",
        "tf.argmax(tensor)"
      ],
      "execution_count": 135,
      "outputs": [
        {
          "output_type": "execute_result",
          "data": {
            "text/plain": [
              "<tf.Tensor: shape=(), dtype=int64, numpy=42>"
            ]
          },
          "metadata": {
            "tags": []
          },
          "execution_count": 135
        }
      ]
    },
    {
      "cell_type": "code",
      "metadata": {
        "colab": {
          "base_uri": "https://localhost:8080/"
        },
        "id": "f2ky5qglpiym",
        "outputId": "9ae209b1-31a0-49ff-ea7f-8b4e666473dc"
      },
      "source": [
        "tensor[tf.argmax(tensor)] # we got the largest value from the tensor"
      ],
      "execution_count": 136,
      "outputs": [
        {
          "output_type": "execute_result",
          "data": {
            "text/plain": [
              "<tf.Tensor: shape=(), dtype=float32, numpy=0.9671384>"
            ]
          },
          "metadata": {
            "tags": []
          },
          "execution_count": 136
        }
      ]
    },
    {
      "cell_type": "code",
      "metadata": {
        "colab": {
          "base_uri": "https://localhost:8080/"
        },
        "id": "FPjplVRCpqqD",
        "outputId": "69b17221-777d-4592-e125-20d812292cca"
      },
      "source": [
        "# second way to find out the maximum value from the tensor\n",
        "tf.reduce_max(tensor)"
      ],
      "execution_count": 137,
      "outputs": [
        {
          "output_type": "execute_result",
          "data": {
            "text/plain": [
              "<tf.Tensor: shape=(), dtype=float32, numpy=0.9671384>"
            ]
          },
          "metadata": {
            "tags": []
          },
          "execution_count": 137
        }
      ]
    },
    {
      "cell_type": "code",
      "metadata": {
        "id": "MsvnRmUFqWcN"
      },
      "source": [
        "# checking for equality \n",
        "assert tensor[tf.argmax(tensor)] == tf.reduce_max(tensor) \n",
        "# no error means we are getting the same value"
      ],
      "execution_count": 138,
      "outputs": []
    },
    {
      "cell_type": "code",
      "metadata": {
        "colab": {
          "base_uri": "https://localhost:8080/"
        },
        "id": "5mp-3Jmzqmjr",
        "outputId": "c08d3ef8-54ef-45b6-a409-4c4312fd9629"
      },
      "source": [
        "tf.argmin(tensor)"
      ],
      "execution_count": 139,
      "outputs": [
        {
          "output_type": "execute_result",
          "data": {
            "text/plain": [
              "<tf.Tensor: shape=(), dtype=int64, numpy=16>"
            ]
          },
          "metadata": {
            "tags": []
          },
          "execution_count": 139
        }
      ]
    },
    {
      "cell_type": "code",
      "metadata": {
        "colab": {
          "base_uri": "https://localhost:8080/"
        },
        "id": "_2_ETTqNrND1",
        "outputId": "eb339e88-4a77-425a-a6f8-e3dfb53abe40"
      },
      "source": [
        "tensor[tf.argmin(tensor)]"
      ],
      "execution_count": 140,
      "outputs": [
        {
          "output_type": "execute_result",
          "data": {
            "text/plain": [
              "<tf.Tensor: shape=(), dtype=float32, numpy=0.009463668>"
            ]
          },
          "metadata": {
            "tags": []
          },
          "execution_count": 140
        }
      ]
    },
    {
      "cell_type": "code",
      "metadata": {
        "colab": {
          "base_uri": "https://localhost:8080/"
        },
        "id": "HOWPpjDjrSjO",
        "outputId": "327838cf-78c4-4df5-aff8-2528bcd85622"
      },
      "source": [
        "tf.reduce_min(tensor)"
      ],
      "execution_count": 141,
      "outputs": [
        {
          "output_type": "execute_result",
          "data": {
            "text/plain": [
              "<tf.Tensor: shape=(), dtype=float32, numpy=0.009463668>"
            ]
          },
          "metadata": {
            "tags": []
          },
          "execution_count": 141
        }
      ]
    },
    {
      "cell_type": "code",
      "metadata": {
        "id": "NzZwuC1grXAx"
      },
      "source": [
        "assert tf.reduce_min(tensor)  == tensor[tf.argmin(tensor)] # so yeah, this is also same. no difference"
      ],
      "execution_count": 142,
      "outputs": []
    },
    {
      "cell_type": "markdown",
      "metadata": {
        "id": "L9HPvxhb5hDj"
      },
      "source": [
        "# squezing a tensor"
      ]
    },
    {
      "cell_type": "code",
      "metadata": {
        "id": "N2d2T9NermAo",
        "outputId": "a9f4a1da-a17b-4ddd-b7e7-6c4786bfa19c",
        "colab": {
          "base_uri": "https://localhost:8080/"
        }
      },
      "source": [
        "# squeezing removes all single dimensions\n",
        "tf.random.set_seed(42)\n",
        "tensor = tf.constant(tf.random.uniform(shape=[50]), shape=(1,1,1,1,50) )\n",
        "tensor"
      ],
      "execution_count": 143,
      "outputs": [
        {
          "output_type": "execute_result",
          "data": {
            "text/plain": [
              "<tf.Tensor: shape=(1, 1, 1, 1, 50), dtype=float32, numpy=\n",
              "array([[[[[0.6645621 , 0.44100678, 0.3528825 , 0.46448255, 0.03366041,\n",
              "           0.68467236, 0.74011743, 0.8724445 , 0.22632635, 0.22319686,\n",
              "           0.3103881 , 0.7223358 , 0.13318717, 0.5480639 , 0.5746088 ,\n",
              "           0.8996835 , 0.00946367, 0.5212307 , 0.6345445 , 0.1993283 ,\n",
              "           0.72942245, 0.54583454, 0.10756552, 0.6767061 , 0.6602763 ,\n",
              "           0.33695042, 0.60141766, 0.21062577, 0.8527372 , 0.44062173,\n",
              "           0.9485276 , 0.23752594, 0.81179297, 0.5263394 , 0.494308  ,\n",
              "           0.21612847, 0.8457197 , 0.8718841 , 0.3083862 , 0.6868038 ,\n",
              "           0.23764038, 0.7817228 , 0.9671384 , 0.06870162, 0.79873943,\n",
              "           0.66028714, 0.5871513 , 0.16461694, 0.7381023 , 0.32054043]]]]],\n",
              "      dtype=float32)>"
            ]
          },
          "metadata": {
            "tags": []
          },
          "execution_count": 143
        }
      ]
    },
    {
      "cell_type": "code",
      "metadata": {
        "id": "FA5CiypA7JNf",
        "outputId": "805016e5-7694-4bce-fa6e-3d513bd3dea4",
        "colab": {
          "base_uri": "https://localhost:8080/"
        }
      },
      "source": [
        "tensor.shape"
      ],
      "execution_count": 144,
      "outputs": [
        {
          "output_type": "execute_result",
          "data": {
            "text/plain": [
              "TensorShape([1, 1, 1, 1, 50])"
            ]
          },
          "metadata": {
            "tags": []
          },
          "execution_count": 144
        }
      ]
    },
    {
      "cell_type": "code",
      "metadata": {
        "id": "0tI0mw_o7Mvg",
        "outputId": "bcba70c2-1085-4d17-8778-f8dfff34ea0c",
        "colab": {
          "base_uri": "https://localhost:8080/"
        }
      },
      "source": [
        "G_squezeed = tf.squeeze(tensor)\n",
        "G_squezeed, G_squezeed.shape"
      ],
      "execution_count": 145,
      "outputs": [
        {
          "output_type": "execute_result",
          "data": {
            "text/plain": [
              "(<tf.Tensor: shape=(50,), dtype=float32, numpy=\n",
              " array([0.6645621 , 0.44100678, 0.3528825 , 0.46448255, 0.03366041,\n",
              "        0.68467236, 0.74011743, 0.8724445 , 0.22632635, 0.22319686,\n",
              "        0.3103881 , 0.7223358 , 0.13318717, 0.5480639 , 0.5746088 ,\n",
              "        0.8996835 , 0.00946367, 0.5212307 , 0.6345445 , 0.1993283 ,\n",
              "        0.72942245, 0.54583454, 0.10756552, 0.6767061 , 0.6602763 ,\n",
              "        0.33695042, 0.60141766, 0.21062577, 0.8527372 , 0.44062173,\n",
              "        0.9485276 , 0.23752594, 0.81179297, 0.5263394 , 0.494308  ,\n",
              "        0.21612847, 0.8457197 , 0.8718841 , 0.3083862 , 0.6868038 ,\n",
              "        0.23764038, 0.7817228 , 0.9671384 , 0.06870162, 0.79873943,\n",
              "        0.66028714, 0.5871513 , 0.16461694, 0.7381023 , 0.32054043],\n",
              "       dtype=float32)>, TensorShape([50]))"
            ]
          },
          "metadata": {
            "tags": []
          },
          "execution_count": 145
        }
      ]
    },
    {
      "cell_type": "markdown",
      "metadata": {
        "id": "v01cWNGehV3M"
      },
      "source": [
        "# one hot encoding"
      ]
    },
    {
      "cell_type": "code",
      "metadata": {
        "id": "MB_57ggPgX6w",
        "outputId": "b40fb04e-69e6-4b27-890b-1004223527b7",
        "colab": {
          "base_uri": "https://localhost:8080/"
        }
      },
      "source": [
        "# we will one hot encode any tensor with the help of tensorflow library\n",
        "some_list = [1,2,3,4]\n",
        "tf.one_hot(some_list, depth=4) # yay! this was easy"
      ],
      "execution_count": 146,
      "outputs": [
        {
          "output_type": "execute_result",
          "data": {
            "text/plain": [
              "<tf.Tensor: shape=(4, 4), dtype=float32, numpy=\n",
              "array([[0., 1., 0., 0.],\n",
              "       [0., 0., 1., 0.],\n",
              "       [0., 0., 0., 1.],\n",
              "       [0., 0., 0., 0.]], dtype=float32)>"
            ]
          },
          "metadata": {
            "tags": []
          },
          "execution_count": 146
        }
      ]
    },
    {
      "cell_type": "markdown",
      "metadata": {
        "id": "iKkWw12ykKIB"
      },
      "source": [
        "some operations over tensor"
      ]
    },
    {
      "cell_type": "code",
      "metadata": {
        "id": "ao8g3FxKhwU_",
        "outputId": "d88de320-a6be-481b-8f16-dfbf53daa6aa",
        "colab": {
          "base_uri": "https://localhost:8080/"
        }
      },
      "source": [
        "tf.square(tensor)"
      ],
      "execution_count": 147,
      "outputs": [
        {
          "output_type": "execute_result",
          "data": {
            "text/plain": [
              "<tf.Tensor: shape=(1, 1, 1, 1, 50), dtype=float32, numpy=\n",
              "array([[[[[4.4164279e-01, 1.9448698e-01, 1.2452606e-01, 2.1574403e-01,\n",
              "           1.1330233e-03, 4.6877623e-01, 5.4777384e-01, 7.6115942e-01,\n",
              "           5.1223613e-02, 4.9816839e-02, 9.6340768e-02, 5.2176905e-01,\n",
              "           1.7738823e-02, 3.0037400e-01, 3.3017528e-01, 8.0943036e-01,\n",
              "           8.9561006e-05, 2.7168143e-01, 4.0264672e-01, 3.9731771e-02,\n",
              "           5.3205711e-01, 2.9793534e-01, 1.1570342e-02, 4.5793110e-01,\n",
              "           4.3596479e-01, 1.1353558e-01, 3.6170322e-01, 4.4363216e-02,\n",
              "           7.2716069e-01, 1.9414751e-01, 8.9970458e-01, 5.6418572e-02,\n",
              "           6.5900785e-01, 2.7703318e-01, 2.4434039e-01, 4.6711516e-02,\n",
              "           7.1524179e-01, 7.6018190e-01, 9.5102049e-02, 4.7169948e-01,\n",
              "           5.6472950e-02, 6.1109054e-01, 9.3535668e-01, 4.7199135e-03,\n",
              "           6.3798469e-01, 4.3597910e-01, 3.4474665e-01, 2.7098738e-02,\n",
              "           5.4479504e-01, 1.0274617e-01]]]]], dtype=float32)>"
            ]
          },
          "metadata": {
            "tags": []
          },
          "execution_count": 147
        }
      ]
    },
    {
      "cell_type": "code",
      "metadata": {
        "id": "XPLyIecolPTx",
        "outputId": "4a107297-d487-4868-90bf-8dd4a4ea564e",
        "colab": {
          "base_uri": "https://localhost:8080/"
        }
      },
      "source": [
        "tf.sqrt(tensor)"
      ],
      "execution_count": 148,
      "outputs": [
        {
          "output_type": "execute_result",
          "data": {
            "text/plain": [
              "<tf.Tensor: shape=(1, 1, 1, 1, 50), dtype=float32, numpy=\n",
              "array([[[[[0.8152067 , 0.6640834 , 0.59403914, 0.6815296 , 0.18346773,\n",
              "           0.8274493 , 0.86030066, 0.93404734, 0.47573766, 0.47243717,\n",
              "           0.5571248 , 0.8499034 , 0.36494818, 0.74031335, 0.7580296 ,\n",
              "           0.9485165 , 0.09728139, 0.72196305, 0.796583  , 0.44646195,\n",
              "           0.8540623 , 0.7388061 , 0.32797182, 0.8226214 , 0.8125738 ,\n",
              "           0.5804743 , 0.7755112 , 0.45893982, 0.92343765, 0.66379344,\n",
              "           0.97392386, 0.48736632, 0.90099555, 0.7254925 , 0.7030704 ,\n",
              "           0.4648962 , 0.9196301 , 0.93374735, 0.55532527, 0.82873625,\n",
              "           0.4874838 , 0.88415086, 0.98343194, 0.26210994, 0.8937222 ,\n",
              "           0.8125805 , 0.76625794, 0.40573013, 0.85912883, 0.5661629 ]]]]],\n",
              "      dtype=float32)>"
            ]
          },
          "metadata": {
            "tags": []
          },
          "execution_count": 148
        }
      ]
    },
    {
      "cell_type": "code",
      "metadata": {
        "id": "D9RykZnVllV-",
        "outputId": "601851e1-b1a3-484d-eef8-5ba49541ab94",
        "colab": {
          "base_uri": "https://localhost:8080/"
        }
      },
      "source": [
        "tf.math.log(tensor) # this function required to write 'math' with it, always look for documentation."
      ],
      "execution_count": 149,
      "outputs": [
        {
          "output_type": "execute_result",
          "data": {
            "text/plain": [
              "<tf.Tensor: shape=(1, 1, 1, 1, 50), dtype=float32, numpy=\n",
              "array([[[[[-0.40862694, -0.81869507, -1.0416201 , -0.7668313 ,\n",
              "           -3.3914328 , -0.37881488, -0.3009464 , -0.13645622,\n",
              "           -1.4857773 , -1.4997011 , -1.1699319 , -0.32526514,\n",
              "           -2.0159998 , -0.6013634 , -0.5540658 , -0.10571227,\n",
              "           -4.6602955 , -0.6515625 , -0.45484787, -1.612802  ,\n",
              "           -0.31550223, -0.60543936, -2.229655  , -0.39051825,\n",
              "           -0.4150969 , -1.0878195 , -0.50846565, -1.5576724 ,\n",
              "           -0.15930389, -0.8195685 , -0.05284442, -1.4374784 ,\n",
              "           -0.20850994, -0.641809  , -0.70459646, -1.5318823 ,\n",
              "           -0.1675673 , -0.13709877, -1.1764023 , -0.37570658,\n",
              "           -1.4369967 , -0.2462551 , -0.03341366, -2.6779823 ,\n",
              "           -0.22472051, -0.4150805 , -0.5324727 , -1.8041341 ,\n",
              "           -0.30367282, -1.1377468 ]]]]], dtype=float32)>"
            ]
          },
          "metadata": {
            "tags": []
          },
          "execution_count": 149
        }
      ]
    },
    {
      "cell_type": "markdown",
      "metadata": {
        "id": "J_gFdvUWmiqA"
      },
      "source": [
        "# Tensors and Numpy"
      ]
    },
    {
      "cell_type": "code",
      "metadata": {
        "id": "3TXHmSiXl-nY",
        "outputId": "bcdb0265-9f85-41aa-97dc-4db5cf4f5697",
        "colab": {
          "base_uri": "https://localhost:8080/"
        }
      },
      "source": [
        "# numpy interacts beautifully with tensorflow\n",
        "j = tf.constant(np.random.uniform(size=[50]))\n",
        "j"
      ],
      "execution_count": 150,
      "outputs": [
        {
          "output_type": "execute_result",
          "data": {
            "text/plain": [
              "<tf.Tensor: shape=(50,), dtype=float64, numpy=\n",
              "array([0.73869662, 0.64186937, 0.32096507, 0.6603713 , 0.73495771,\n",
              "       0.9851862 , 0.76698875, 0.82949235, 0.52624753, 0.09173601,\n",
              "       0.60656511, 0.90875507, 0.46781617, 0.47911119, 0.5808816 ,\n",
              "       0.19972331, 0.38003166, 0.09225594, 0.41417138, 0.04420961,\n",
              "       0.15045579, 0.75903518, 0.94695228, 0.84478909, 0.34066026,\n",
              "       0.15712297, 0.95552623, 0.69141032, 0.6461011 , 0.93608594,\n",
              "       0.43124187, 0.98950112, 0.39427116, 0.41972412, 0.41901477,\n",
              "       0.83782711, 0.69736271, 0.21274774, 0.69599882, 0.55578074,\n",
              "       0.74413125, 0.8433995 , 0.82349247, 0.63004553, 0.37374701,\n",
              "       0.75745945, 0.9505972 , 0.23218394, 0.75572897, 0.70248221])>"
            ]
          },
          "metadata": {
            "tags": []
          },
          "execution_count": 150
        }
      ]
    },
    {
      "cell_type": "code",
      "metadata": {
        "id": "IbNGin1kntSp",
        "outputId": "dee21c30-7216-435a-c7c6-7f70c84944a7",
        "colab": {
          "base_uri": "https://localhost:8080/"
        }
      },
      "source": [
        "np.array(j) # again converted tensor into numpy array"
      ],
      "execution_count": 151,
      "outputs": [
        {
          "output_type": "execute_result",
          "data": {
            "text/plain": [
              "array([0.73869662, 0.64186937, 0.32096507, 0.6603713 , 0.73495771,\n",
              "       0.9851862 , 0.76698875, 0.82949235, 0.52624753, 0.09173601,\n",
              "       0.60656511, 0.90875507, 0.46781617, 0.47911119, 0.5808816 ,\n",
              "       0.19972331, 0.38003166, 0.09225594, 0.41417138, 0.04420961,\n",
              "       0.15045579, 0.75903518, 0.94695228, 0.84478909, 0.34066026,\n",
              "       0.15712297, 0.95552623, 0.69141032, 0.6461011 , 0.93608594,\n",
              "       0.43124187, 0.98950112, 0.39427116, 0.41972412, 0.41901477,\n",
              "       0.83782711, 0.69736271, 0.21274774, 0.69599882, 0.55578074,\n",
              "       0.74413125, 0.8433995 , 0.82349247, 0.63004553, 0.37374701,\n",
              "       0.75745945, 0.9505972 , 0.23218394, 0.75572897, 0.70248221])"
            ]
          },
          "metadata": {
            "tags": []
          },
          "execution_count": 151
        }
      ]
    },
    {
      "cell_type": "code",
      "metadata": {
        "id": "GXgaiKJxn1Ri",
        "outputId": "5a6307df-e520-4540-e1ca-c387b3ac3f5f",
        "colab": {
          "base_uri": "https://localhost:8080/"
        }
      },
      "source": [
        "tf.config.list_physical_devices('GPU') # it returns none now, because we are not having any kind of GPU for now."
      ],
      "execution_count": 152,
      "outputs": [
        {
          "output_type": "execute_result",
          "data": {
            "text/plain": [
              "[]"
            ]
          },
          "metadata": {
            "tags": []
          },
          "execution_count": 152
        }
      ]
    },
    {
      "cell_type": "markdown",
      "metadata": {
        "id": "iC12Mf-1-6rH"
      },
      "source": [
        "#ASSIGNMENT"
      ]
    },
    {
      "cell_type": "code",
      "metadata": {
        "id": "DRdLsiZky0i-",
        "outputId": "366c83be-4374-4a25-ffaf-35a39d3124d4",
        "colab": {
          "base_uri": "https://localhost:8080/"
        }
      },
      "source": [
        "scalar = tf.constant(4)\n",
        "scalar, type(scalar)"
      ],
      "execution_count": 153,
      "outputs": [
        {
          "output_type": "execute_result",
          "data": {
            "text/plain": [
              "(<tf.Tensor: shape=(), dtype=int32, numpy=4>,\n",
              " tensorflow.python.framework.ops.EagerTensor)"
            ]
          },
          "metadata": {
            "tags": []
          },
          "execution_count": 153
        }
      ]
    },
    {
      "cell_type": "code",
      "metadata": {
        "id": "lDEGfMoR_hRt",
        "outputId": "3d9ddb54-65c6-4951-d3c9-c043e5fe1553",
        "colab": {
          "base_uri": "https://localhost:8080/"
        }
      },
      "source": [
        "vector = tf.constant([[2,3,4,5,6]])\n",
        "vector, type(vector)"
      ],
      "execution_count": 154,
      "outputs": [
        {
          "output_type": "execute_result",
          "data": {
            "text/plain": [
              "(<tf.Tensor: shape=(1, 5), dtype=int32, numpy=array([[2, 3, 4, 5, 6]], dtype=int32)>,\n",
              " tensorflow.python.framework.ops.EagerTensor)"
            ]
          },
          "metadata": {
            "tags": []
          },
          "execution_count": 154
        }
      ]
    },
    {
      "cell_type": "code",
      "metadata": {
        "id": "Te_u8UGW_107",
        "outputId": "8626feb9-0aaf-4dec-9210-2637aa79910c",
        "colab": {
          "base_uri": "https://localhost:8080/"
        }
      },
      "source": [
        "matrix = tf.constant([[2,3,4],\n",
        "                      [5,6,7]])\n",
        "matrix, type(matrix)"
      ],
      "execution_count": 155,
      "outputs": [
        {
          "output_type": "execute_result",
          "data": {
            "text/plain": [
              "(<tf.Tensor: shape=(2, 3), dtype=int32, numpy=\n",
              " array([[2, 3, 4],\n",
              "        [5, 6, 7]], dtype=int32)>, tensorflow.python.framework.ops.EagerTensor)"
            ]
          },
          "metadata": {
            "tags": []
          },
          "execution_count": 155
        }
      ]
    },
    {
      "cell_type": "code",
      "metadata": {
        "id": "qiiIS1euAFXH",
        "outputId": "4d98ee54-f641-44a2-83f6-7a6a4c17e6d6",
        "colab": {
          "base_uri": "https://localhost:8080/"
        }
      },
      "source": [
        "matrix.shape, tf.size(matrix), matrix.ndim"
      ],
      "execution_count": 156,
      "outputs": [
        {
          "output_type": "execute_result",
          "data": {
            "text/plain": [
              "(TensorShape([2, 3]), <tf.Tensor: shape=(), dtype=int32, numpy=6>, 2)"
            ]
          },
          "metadata": {
            "tags": []
          },
          "execution_count": 156
        }
      ]
    },
    {
      "cell_type": "code",
      "metadata": {
        "id": "_Se4oKzaAcwu",
        "outputId": "7c2d0b25-2f7e-4b3a-d7f7-c12d82351a1e",
        "colab": {
          "base_uri": "https://localhost:8080/"
        }
      },
      "source": [
        "tf.random.set_seed(42)\n",
        "tensor1 = tf.constant(tf.random.uniform(shape=[1500]), shape=(5,300))\n",
        "tensor1"
      ],
      "execution_count": 157,
      "outputs": [
        {
          "output_type": "execute_result",
          "data": {
            "text/plain": [
              "<tf.Tensor: shape=(5, 300), dtype=float32, numpy=\n",
              "array([[0.6645621 , 0.44100678, 0.3528825 , ..., 0.31410468, 0.7593535 ,\n",
              "        0.03699052],\n",
              "       [0.532024  , 0.29129946, 0.10571766, ..., 0.54052293, 0.31425726,\n",
              "        0.2200619 ],\n",
              "       [0.08404207, 0.03614604, 0.97732127, ..., 0.21516645, 0.9786098 ,\n",
              "        0.00726748],\n",
              "       [0.7396945 , 0.6653172 , 0.0787828 , ..., 0.7117733 , 0.07013571,\n",
              "        0.9409125 ],\n",
              "       [0.15861344, 0.12024033, 0.27218235, ..., 0.8824879 , 0.1432488 ,\n",
              "        0.44135118]], dtype=float32)>"
            ]
          },
          "metadata": {
            "tags": []
          },
          "execution_count": 157
        }
      ]
    },
    {
      "cell_type": "code",
      "metadata": {
        "id": "N-uKzqhSBwSI",
        "outputId": "0f56493d-5bbc-45bc-fbc9-71c9f751e7b2",
        "colab": {
          "base_uri": "https://localhost:8080/"
        }
      },
      "source": [
        "tf.random.set_seed(42)\n",
        "tensor2 = tf.constant(tf.random.uniform(shape=[1500]), shape=(5,300))\n",
        "tensor2"
      ],
      "execution_count": 158,
      "outputs": [
        {
          "output_type": "execute_result",
          "data": {
            "text/plain": [
              "<tf.Tensor: shape=(5, 300), dtype=float32, numpy=\n",
              "array([[0.6645621 , 0.44100678, 0.3528825 , ..., 0.31410468, 0.7593535 ,\n",
              "        0.03699052],\n",
              "       [0.532024  , 0.29129946, 0.10571766, ..., 0.54052293, 0.31425726,\n",
              "        0.2200619 ],\n",
              "       [0.08404207, 0.03614604, 0.97732127, ..., 0.21516645, 0.9786098 ,\n",
              "        0.00726748],\n",
              "       [0.7396945 , 0.6653172 , 0.0787828 , ..., 0.7117733 , 0.07013571,\n",
              "        0.9409125 ],\n",
              "       [0.15861344, 0.12024033, 0.27218235, ..., 0.8824879 , 0.1432488 ,\n",
              "        0.44135118]], dtype=float32)>"
            ]
          },
          "metadata": {
            "tags": []
          },
          "execution_count": 158
        }
      ]
    },
    {
      "cell_type": "code",
      "metadata": {
        "id": "tDDdlruwCJ6f",
        "outputId": "87218118-ee84-49c5-cbaa-4897a9543a14",
        "colab": {
          "base_uri": "https://localhost:8080/"
        }
      },
      "source": [
        "tf.multiply(tensor1, tensor2) # using tensorflow multiplication function"
      ],
      "execution_count": 111,
      "outputs": [
        {
          "output_type": "execute_result",
          "data": {
            "text/plain": [
              "<tf.Tensor: shape=(5, 300), dtype=float32, numpy=\n",
              "array([[4.4164279e-01, 1.9448698e-01, 1.2452606e-01, ..., 9.8661751e-02,\n",
              "        5.7661778e-01, 1.3682988e-03],\n",
              "       [2.8304955e-01, 8.4855378e-02, 1.1176224e-02, ..., 2.9216504e-01,\n",
              "        9.8757625e-02, 4.8427239e-02],\n",
              "       [7.0630698e-03, 1.3065366e-03, 9.5515686e-01, ..., 4.6296600e-02,\n",
              "        9.5767713e-01, 5.2816195e-05],\n",
              "       [5.4714793e-01, 4.4264695e-01, 6.2067290e-03, ..., 5.0662118e-01,\n",
              "        4.9190181e-03, 8.8531631e-01],\n",
              "       [2.5158225e-02, 1.4457737e-02, 7.4083231e-02, ..., 7.7878487e-01,\n",
              "        2.0520218e-02, 1.9479086e-01]], dtype=float32)>"
            ]
          },
          "metadata": {
            "tags": []
          },
          "execution_count": 111
        }
      ]
    },
    {
      "cell_type": "code",
      "metadata": {
        "id": "wQNdM8aCCpV0",
        "outputId": "a5ae2d1c-2fbf-40d2-8ba0-29bbb3a81d9d",
        "colab": {
          "base_uri": "https://localhost:8080/"
        }
      },
      "source": [
        "tensor2 = tf.transpose(tensor2)\n",
        "np.dot(tensor1, tensor2) # we had to take the transpose of the second "
      ],
      "execution_count": 160,
      "outputs": [
        {
          "output_type": "execute_result",
          "data": {
            "text/plain": [
              "array([[100.714424,  74.26969 ,  77.28432 ,  72.59379 ,  79.06383 ],\n",
              "       [ 74.26969 ,  93.0812  ,  71.738365,  67.204834,  72.49768 ],\n",
              "       [ 77.28432 ,  71.738365,  98.34636 ,  73.811775,  75.367256],\n",
              "       [ 72.59379 ,  67.204834,  73.811775,  90.60207 ,  70.130714],\n",
              "       [ 79.06383 ,  72.49768 ,  75.367256,  70.130714, 102.07891 ]],\n",
              "      dtype=float32)"
            ]
          },
          "metadata": {
            "tags": []
          },
          "execution_count": 160
        }
      ]
    },
    {
      "cell_type": "code",
      "metadata": {
        "id": "2EnhXeZjDgJh",
        "outputId": "cf40335e-80f1-482c-cda8-778990c66e83",
        "colab": {
          "base_uri": "https://localhost:8080/"
        }
      },
      "source": [
        "tensor3 = tf.constant(tf.random.uniform(shape=[224*224*3]), shape=(224,224,3))\n",
        "tensor3"
      ],
      "execution_count": 162,
      "outputs": [
        {
          "output_type": "execute_result",
          "data": {
            "text/plain": [
              "<tf.Tensor: shape=(224, 224, 3), dtype=float32, numpy=\n",
              "array([[[0.7413678 , 0.62854624, 0.01738465],\n",
              "        [0.3431449 , 0.51063764, 0.3777541 ],\n",
              "        [0.07321596, 0.02137029, 0.2871771 ],\n",
              "        ...,\n",
              "        [0.98953485, 0.45382905, 0.2006687 ],\n",
              "        [0.6295223 , 0.4937899 , 0.01816809],\n",
              "        [0.95386636, 0.11542463, 0.85691285]],\n",
              "\n",
              "       [[0.78435016, 0.7826872 , 0.87936425],\n",
              "        [0.24906898, 0.3207239 , 0.10955775],\n",
              "        [0.543224  , 0.7151396 , 0.40334642],\n",
              "        ...,\n",
              "        [0.2445668 , 0.01746976, 0.9036933 ],\n",
              "        [0.02975535, 0.592268  , 0.9877522 ],\n",
              "        [0.36701274, 0.33112562, 0.5638567 ]],\n",
              "\n",
              "       [[0.15829337, 0.7288823 , 0.3366307 ],\n",
              "        [0.70792687, 0.16910625, 0.9429966 ],\n",
              "        [0.10120225, 0.5919596 , 0.8687303 ],\n",
              "        ...,\n",
              "        [0.28134012, 0.10011208, 0.37038183],\n",
              "        [0.77874243, 0.05421627, 0.4664607 ],\n",
              "        [0.2549187 , 0.7968637 , 0.83405185]],\n",
              "\n",
              "       ...,\n",
              "\n",
              "       [[0.32922816, 0.06343532, 0.23936498],\n",
              "        [0.42692196, 0.3615111 , 0.901929  ],\n",
              "        [0.8320831 , 0.21068895, 0.08272386],\n",
              "        ...,\n",
              "        [0.65110314, 0.40780962, 0.25967455],\n",
              "        [0.9018173 , 0.8245677 , 0.16757596],\n",
              "        [0.41854453, 0.19092035, 0.2523303 ]],\n",
              "\n",
              "       [[0.7064005 , 0.222404  , 0.82219553],\n",
              "        [0.8235872 , 0.76544905, 0.80999327],\n",
              "        [0.1100682 , 0.00520217, 0.6127168 ],\n",
              "        ...,\n",
              "        [0.98068535, 0.8958733 , 0.17706168],\n",
              "        [0.4252876 , 0.02087164, 0.496238  ],\n",
              "        [0.6599953 , 0.58505726, 0.7089884 ]],\n",
              "\n",
              "       [[0.90045786, 0.45803344, 0.9050728 ],\n",
              "        [0.92233   , 0.38456154, 0.30329156],\n",
              "        [0.03238845, 0.18773472, 0.9096625 ],\n",
              "        ...,\n",
              "        [0.4445815 , 0.04578841, 0.21090853],\n",
              "        [0.25966525, 0.24412918, 0.76123405],\n",
              "        [0.9643831 , 0.32687283, 0.4828869 ]]], dtype=float32)>"
            ]
          },
          "metadata": {
            "tags": []
          },
          "execution_count": 162
        }
      ]
    },
    {
      "cell_type": "code",
      "metadata": {
        "id": "7CReFGjBEEQm",
        "outputId": "799509d8-4500-44b4-a306-183be8842036",
        "colab": {
          "base_uri": "https://localhost:8080/"
        }
      },
      "source": [
        "tf.argmax(tensor3,axis=1)"
      ],
      "execution_count": 165,
      "outputs": [
        {
          "output_type": "execute_result",
          "data": {
            "text/plain": [
              "<tf.Tensor: shape=(224, 3), dtype=int64, numpy=\n",
              "array([[174,  58, 195],\n",
              "       [ 68, 154,  75],\n",
              "       [ 12,  14, 165],\n",
              "       [  5,  71,  72],\n",
              "       [215, 217,  30],\n",
              "       [ 63,  90,  66],\n",
              "       [ 12, 209,   0],\n",
              "       [ 95, 132,   5],\n",
              "       [ 64, 113,  10],\n",
              "       [219,  38,  60],\n",
              "       [135, 195, 141],\n",
              "       [ 39, 139, 158],\n",
              "       [ 59, 102, 115],\n",
              "       [157, 223, 216],\n",
              "       [177, 189,  24],\n",
              "       [ 90, 167, 161],\n",
              "       [141, 167,  71],\n",
              "       [126, 211, 130],\n",
              "       [ 83, 212, 155],\n",
              "       [194, 186,  14],\n",
              "       [104, 123,  77],\n",
              "       [  8,  18,  83],\n",
              "       [ 17, 109, 115],\n",
              "       [122, 126, 132],\n",
              "       [206,  69, 169],\n",
              "       [ 50,  27, 124],\n",
              "       [ 94,  80, 128],\n",
              "       [215, 120,  87],\n",
              "       [ 94, 186,  15],\n",
              "       [203, 101, 131],\n",
              "       [164, 214,  57],\n",
              "       [130,  63, 131],\n",
              "       [ 36, 165, 216],\n",
              "       [ 55, 147, 223],\n",
              "       [136,  10,  33],\n",
              "       [  2,  27, 156],\n",
              "       [ 12,  11, 124],\n",
              "       [211,  50, 112],\n",
              "       [ 52,  17, 102],\n",
              "       [136, 187,  78],\n",
              "       [189,  68, 139],\n",
              "       [ 14,  54, 113],\n",
              "       [191, 187,  87],\n",
              "       [133, 167, 185],\n",
              "       [106, 152, 117],\n",
              "       [ 31, 194, 165],\n",
              "       [178,   7,  58],\n",
              "       [ 73, 137,  50],\n",
              "       [ 46, 116,   3],\n",
              "       [ 60, 119,  41],\n",
              "       [ 95,   2,  15],\n",
              "       [207,   2, 118],\n",
              "       [ 76, 137,  27],\n",
              "       [140, 127, 178],\n",
              "       [ 15, 116, 115],\n",
              "       [ 31, 145,  20],\n",
              "       [149, 195, 139],\n",
              "       [  6, 204, 190],\n",
              "       [106,  81,  21],\n",
              "       [156,  34,  99],\n",
              "       [  0, 207,  26],\n",
              "       [ 59, 108, 194],\n",
              "       [ 74,  54, 191],\n",
              "       [ 61, 181, 122],\n",
              "       [204, 136, 192],\n",
              "       [184,  48, 145],\n",
              "       [205,   6,  84],\n",
              "       [103,  83, 101],\n",
              "       [219,  98, 208],\n",
              "       [187, 154, 157],\n",
              "       [ 75, 163, 133],\n",
              "       [175, 122,  57],\n",
              "       [ 92, 169, 110],\n",
              "       [  9,   0, 129],\n",
              "       [ 91, 221,  90],\n",
              "       [128,  41, 135],\n",
              "       [ 73, 108, 190],\n",
              "       [ 45, 126, 144],\n",
              "       [212, 135,   5],\n",
              "       [ 26, 163,  42],\n",
              "       [ 72, 196, 137],\n",
              "       [ 39, 167,  70],\n",
              "       [ 81, 177,  40],\n",
              "       [223, 186,  43],\n",
              "       [171,  47,   4],\n",
              "       [ 90, 187,  92],\n",
              "       [206, 182, 199],\n",
              "       [ 23, 192,   9],\n",
              "       [ 36, 166,  97],\n",
              "       [ 37, 100, 201],\n",
              "       [ 44, 201, 119],\n",
              "       [108, 147,  63],\n",
              "       [188, 157, 103],\n",
              "       [204, 214, 155],\n",
              "       [109, 174, 141],\n",
              "       [122,   4, 208],\n",
              "       [178, 184, 152],\n",
              "       [ 81, 184, 138],\n",
              "       [142, 154,  50],\n",
              "       [ 88, 152, 133],\n",
              "       [181, 126,  39],\n",
              "       [207,  86,  68],\n",
              "       [ 28, 115, 144],\n",
              "       [ 54, 132,   8],\n",
              "       [ 89, 159,  81],\n",
              "       [ 87,   3, 173],\n",
              "       [130, 123, 112],\n",
              "       [ 79,  92,  17],\n",
              "       [124,  98, 181],\n",
              "       [213, 222, 197],\n",
              "       [175, 186, 115],\n",
              "       [168,  22, 116],\n",
              "       [209,  85,  66],\n",
              "       [ 20, 134,  35],\n",
              "       [ 53, 175,   9],\n",
              "       [172,  41,  77],\n",
              "       [168,  95, 217],\n",
              "       [175, 166,  41],\n",
              "       [ 83, 194, 148],\n",
              "       [106,  43,  85],\n",
              "       [174, 150, 141],\n",
              "       [140, 143,  38],\n",
              "       [ 71, 101,  60],\n",
              "       [120,  96, 200],\n",
              "       [ 25,  49,  43],\n",
              "       [118, 111, 213],\n",
              "       [152,   0,  12],\n",
              "       [215, 139,  12],\n",
              "       [121,  11, 170],\n",
              "       [ 53, 126,  93],\n",
              "       [ 59, 201,  76],\n",
              "       [154, 216,   1],\n",
              "       [128, 164, 147],\n",
              "       [145,  58,  44],\n",
              "       [ 56,  92, 121],\n",
              "       [ 64,  72,  38],\n",
              "       [ 51, 165,  62],\n",
              "       [216,  69,  35],\n",
              "       [218, 157, 119],\n",
              "       [100, 206, 193],\n",
              "       [ 69,  78, 100],\n",
              "       [222, 215, 118],\n",
              "       [196,  25, 155],\n",
              "       [ 78, 168, 152],\n",
              "       [ 94,  99,  45],\n",
              "       [102, 164, 185],\n",
              "       [205,  46,  19],\n",
              "       [211,   2, 125],\n",
              "       [ 56,  62, 153],\n",
              "       [211,  34, 118],\n",
              "       [185,   2, 177],\n",
              "       [101,  91, 142],\n",
              "       [104,  12,  77],\n",
              "       [124, 219,   6],\n",
              "       [214, 218,  65],\n",
              "       [ 29, 145,  13],\n",
              "       [192,  19, 202],\n",
              "       [ 81, 126, 187],\n",
              "       [ 42,  67, 199],\n",
              "       [ 85,  60, 188],\n",
              "       [157,  99,  19],\n",
              "       [  4, 174,  35],\n",
              "       [ 62, 214, 136],\n",
              "       [216, 158,  12],\n",
              "       [ 76, 190,  56],\n",
              "       [ 13,   9, 115],\n",
              "       [190, 174, 217],\n",
              "       [ 72, 144,  18],\n",
              "       [221,  30, 215],\n",
              "       [ 72, 216, 212],\n",
              "       [ 59,  13,  64],\n",
              "       [ 76,  81,  72],\n",
              "       [207,  56,  60],\n",
              "       [124, 127, 141],\n",
              "       [ 86,   3,  96],\n",
              "       [ 70, 223, 169],\n",
              "       [ 39, 169,  27],\n",
              "       [ 68, 151,  29],\n",
              "       [ 51,  40,  25],\n",
              "       [194, 131, 128],\n",
              "       [207, 170,  22],\n",
              "       [220, 170, 169],\n",
              "       [ 22, 214,  92],\n",
              "       [166, 108, 216],\n",
              "       [ 33,  26, 149],\n",
              "       [ 60, 182,  13],\n",
              "       [ 81, 118, 153],\n",
              "       [222, 140, 112],\n",
              "       [ 92, 182,  79],\n",
              "       [ 77, 101, 116],\n",
              "       [126, 189,  50],\n",
              "       [ 20, 122, 100],\n",
              "       [196,  25, 138],\n",
              "       [133,  46, 118],\n",
              "       [ 81,  89, 161],\n",
              "       [114, 131, 189],\n",
              "       [129,  39,   6],\n",
              "       [135,  84,  14],\n",
              "       [ 66, 204, 155],\n",
              "       [ 29,  43,  23],\n",
              "       [  2,  54,  90],\n",
              "       [215, 208, 214],\n",
              "       [ 26,  33,  62],\n",
              "       [ 42, 149,  43],\n",
              "       [ 53, 120,  24],\n",
              "       [ 93,  73,  76],\n",
              "       [  6, 140, 148],\n",
              "       [138, 216,  41],\n",
              "       [123, 100, 199],\n",
              "       [205,  58,  43],\n",
              "       [183, 192, 194],\n",
              "       [184,  97, 123],\n",
              "       [142, 189, 146],\n",
              "       [169, 176,   3],\n",
              "       [138, 202, 218],\n",
              "       [218,  64, 199],\n",
              "       [ 87,  64, 110],\n",
              "       [148, 181,  91],\n",
              "       [174,  35,  81],\n",
              "       [132, 209,   2],\n",
              "       [159, 194, 140],\n",
              "       [ 34,  59,  47],\n",
              "       [191,  48, 105],\n",
              "       [ 95,  63,  19]])>"
            ]
          },
          "metadata": {
            "tags": []
          },
          "execution_count": 165
        }
      ]
    },
    {
      "cell_type": "code",
      "metadata": {
        "id": "UX6SU5ycEWvb",
        "outputId": "ebca4a19-3db2-4b8b-eb7d-95e9be30cc80",
        "colab": {
          "base_uri": "https://localhost:8080/"
        }
      },
      "source": [
        "tf.argmin(tensor3, axis=1)"
      ],
      "execution_count": 166,
      "outputs": [
        {
          "output_type": "execute_result",
          "data": {
            "text/plain": [
              "<tf.Tensor: shape=(224, 3), dtype=int64, numpy=\n",
              "array([[ 92, 196, 169],\n",
              "       [ 45,  28,  95],\n",
              "       [ 53,  61,  44],\n",
              "       [197,  58, 158],\n",
              "       [221,  21, 187],\n",
              "       [141, 105,  79],\n",
              "       [221, 182, 143],\n",
              "       [ 10,  20, 223],\n",
              "       [194, 116,  29],\n",
              "       [126, 104,  34],\n",
              "       [220, 102, 185],\n",
              "       [119,  49,  28],\n",
              "       [106, 222,  45],\n",
              "       [206,  85, 141],\n",
              "       [211,   4,  30],\n",
              "       [157,  15,  67],\n",
              "       [ 50, 161, 125],\n",
              "       [223, 194, 103],\n",
              "       [117, 194, 211],\n",
              "       [133,   0, 106],\n",
              "       [156, 117,  50],\n",
              "       [214, 122, 223],\n",
              "       [174,   6, 157],\n",
              "       [134,  58,  91],\n",
              "       [111,  49,  24],\n",
              "       [ 30,  37, 206],\n",
              "       [ 13,  45, 194],\n",
              "       [193,  46, 202],\n",
              "       [110,  30, 207],\n",
              "       [ 89,  38, 155],\n",
              "       [184,  29, 210],\n",
              "       [106,  57, 148],\n",
              "       [163, 153,   1],\n",
              "       [ 72,  66, 187],\n",
              "       [130,  83, 133],\n",
              "       [ 94, 165,  73],\n",
              "       [ 17, 171, 209],\n",
              "       [ 19, 191,  86],\n",
              "       [221,  32,   6],\n",
              "       [139,  40, 223],\n",
              "       [196,  70,  96],\n",
              "       [167, 142, 148],\n",
              "       [193,  97,  21],\n",
              "       [210, 162,   9],\n",
              "       [133, 222,  74],\n",
              "       [ 23, 162, 213],\n",
              "       [ 58, 143, 106],\n",
              "       [177, 217,  77],\n",
              "       [ 61,  51, 162],\n",
              "       [222, 150, 117],\n",
              "       [105, 119,  75],\n",
              "       [ 60, 190, 113],\n",
              "       [158,  35, 151],\n",
              "       [157,  28, 186],\n",
              "       [ 35,  93,  90],\n",
              "       [148,  50,  34],\n",
              "       [ 54,  91, 215],\n",
              "       [  7, 214, 213],\n",
              "       [157, 121, 131],\n",
              "       [ 30, 223, 219],\n",
              "       [132, 132,  78],\n",
              "       [ 30,  25,  47],\n",
              "       [128, 133, 158],\n",
              "       [218,   8, 110],\n",
              "       [ 43,   1, 210],\n",
              "       [207,  50,  37],\n",
              "       [139, 111, 120],\n",
              "       [ 84, 172, 146],\n",
              "       [ 62, 177,  18],\n",
              "       [146,  38, 198],\n",
              "       [207, 104, 171],\n",
              "       [ 46,  60,  48],\n",
              "       [ 99,  91,   1],\n",
              "       [206,  92, 164],\n",
              "       [ 23,   0,  26],\n",
              "       [ 50, 199,  53],\n",
              "       [137,  13, 167],\n",
              "       [187, 210,  75],\n",
              "       [191, 146, 117],\n",
              "       [181, 192, 153],\n",
              "       [209, 190, 219],\n",
              "       [  2,  56,  52],\n",
              "       [192,  59, 138],\n",
              "       [216, 155,  67],\n",
              "       [ 12, 187, 170],\n",
              "       [ 68, 210, 108],\n",
              "       [214,  73, 102],\n",
              "       [ 98,  72, 130],\n",
              "       [207,  86,  18],\n",
              "       [ 97,  17, 165],\n",
              "       [134, 151, 208],\n",
              "       [ 45,  35, 106],\n",
              "       [178, 109,  14],\n",
              "       [ 38,  72, 151],\n",
              "       [  1, 149, 147],\n",
              "       [121,  88, 173],\n",
              "       [149,  98,  64],\n",
              "       [209,  17, 188],\n",
              "       [157, 108, 148],\n",
              "       [134, 179,  44],\n",
              "       [ 86, 193, 199],\n",
              "       [114,  27,  69],\n",
              "       [198, 165,   4],\n",
              "       [180,  97, 208],\n",
              "       [ 18, 141,  79],\n",
              "       [ 86,  60, 128],\n",
              "       [162,   4, 216],\n",
              "       [182, 103, 163],\n",
              "       [ 93,  90, 112],\n",
              "       [151,  26, 103],\n",
              "       [173, 194, 110],\n",
              "       [119, 147,   6],\n",
              "       [ 56,  17,  72],\n",
              "       [169,  61,  76],\n",
              "       [ 84,  20, 150],\n",
              "       [214,  33,  27],\n",
              "       [ 65,  77,  33],\n",
              "       [100, 107, 179],\n",
              "       [ 30, 137,  94],\n",
              "       [197,  42,  31],\n",
              "       [ 17, 136,  52],\n",
              "       [170,  67,  23],\n",
              "       [  4, 144, 123],\n",
              "       [212, 121, 112],\n",
              "       [117,  53,  31],\n",
              "       [114,  95, 135],\n",
              "       [ 85,   6,   3],\n",
              "       [120, 221,  99],\n",
              "       [ 94, 158, 173],\n",
              "       [ 52, 193,  35],\n",
              "       [122, 137, 214],\n",
              "       [ 33, 201, 122],\n",
              "       [176, 141, 159],\n",
              "       [ 12,  62,  96],\n",
              "       [211, 218, 145],\n",
              "       [181,  90,  28],\n",
              "       [115, 180,  88],\n",
              "       [123,  99, 106],\n",
              "       [ 60, 135,   1],\n",
              "       [119, 174,  59],\n",
              "       [137, 173, 191],\n",
              "       [ 46,  60,  81],\n",
              "       [  9,  71,  40],\n",
              "       [ 86,   0, 186],\n",
              "       [ 78,  69, 114],\n",
              "       [183, 180,   0],\n",
              "       [167,  32, 126],\n",
              "       [ 61, 118,  18],\n",
              "       [193,  56,  16],\n",
              "       [ 32,  78,  85],\n",
              "       [132,  32, 188],\n",
              "       [ 11, 134,  12],\n",
              "       [ 62,  22,  90],\n",
              "       [ 48, 216,   2],\n",
              "       [ 47,  20,  93],\n",
              "       [ 76, 104,  34],\n",
              "       [ 57, 158,  20],\n",
              "       [127, 197,  25],\n",
              "       [202,  55, 151],\n",
              "       [112, 173,  71],\n",
              "       [ 11, 183,   5],\n",
              "       [178, 118,  69],\n",
              "       [ 16, 129, 221],\n",
              "       [179,  41,  51],\n",
              "       [168,   0, 221],\n",
              "       [212,   8,  28],\n",
              "       [ 53, 221, 166],\n",
              "       [196,  93, 155],\n",
              "       [173, 130, 122],\n",
              "       [ 97,  29,  24],\n",
              "       [216,  93,   8],\n",
              "       [125, 185,   1],\n",
              "       [  9,  73,  28],\n",
              "       [213, 146,  98],\n",
              "       [ 43, 127, 220],\n",
              "       [150,  83, 138],\n",
              "       [223, 161,  37],\n",
              "       [102, 164, 201],\n",
              "       [ 69, 103,  93],\n",
              "       [211,  21, 195],\n",
              "       [109, 105, 221],\n",
              "       [178, 188, 181],\n",
              "       [  3, 128, 219],\n",
              "       [187, 218,  29],\n",
              "       [ 66, 128,  38],\n",
              "       [ 69,  11, 116],\n",
              "       [ 88, 217,   8],\n",
              "       [216,  20, 108],\n",
              "       [ 46, 199, 192],\n",
              "       [107, 166, 150],\n",
              "       [183,  72, 141],\n",
              "       [ 52, 173, 115],\n",
              "       [218,  96,  54],\n",
              "       [ 18, 177, 190],\n",
              "       [128, 115,  82],\n",
              "       [ 48,  40, 193],\n",
              "       [ 15, 124, 117],\n",
              "       [205,  65,  53],\n",
              "       [201,  41, 189],\n",
              "       [116, 125, 119],\n",
              "       [150, 114, 140],\n",
              "       [108, 114, 149],\n",
              "       [151,  81,  65],\n",
              "       [173, 220, 194],\n",
              "       [ 66, 216, 166],\n",
              "       [221, 166, 128],\n",
              "       [ 84, 201,  26],\n",
              "       [ 45, 110,  60],\n",
              "       [212, 147,  56],\n",
              "       [  6,  88,   0],\n",
              "       [122, 176, 121],\n",
              "       [ 73, 142, 146],\n",
              "       [ 65, 198, 191],\n",
              "       [ 57, 136, 205],\n",
              "       [ 34, 170,  33],\n",
              "       [187, 223,  33],\n",
              "       [ 41,  34, 205],\n",
              "       [  3, 175, 167],\n",
              "       [ 35, 180,  61],\n",
              "       [206,  65, 153],\n",
              "       [210, 138,  58],\n",
              "       [144,  53,  76],\n",
              "       [212,   2,  85],\n",
              "       [ 80, 130,  50]])>"
            ]
          },
          "metadata": {
            "tags": []
          },
          "execution_count": 166
        }
      ]
    },
    {
      "cell_type": "code",
      "metadata": {
        "id": "5rwKsq_-EoRJ",
        "outputId": "9eec60f6-8c49-4248-fbed-ffb2306ef6d9",
        "colab": {
          "base_uri": "https://localhost:8080/"
        }
      },
      "source": [
        "tensor4 = tf.constant(tf.random.uniform(shape=[1*224*224*3]),shape=(1,224,224,3))\n",
        "tensor4"
      ],
      "execution_count": 168,
      "outputs": [
        {
          "output_type": "execute_result",
          "data": {
            "text/plain": [
              "<tf.Tensor: shape=(1, 224, 224, 3), dtype=float32, numpy=\n",
              "array([[[[8.0315602e-01, 4.9777734e-01, 3.7054038e-01],\n",
              "         [9.1186738e-01, 6.3764203e-01, 1.8209696e-01],\n",
              "         [6.3791955e-01, 2.7701473e-01, 4.2271137e-02],\n",
              "         ...,\n",
              "         [1.0830712e-01, 4.5979273e-01, 2.5716281e-01],\n",
              "         [8.7138689e-01, 1.8434000e-01, 4.4757760e-01],\n",
              "         [7.4110627e-02, 9.0852141e-01, 5.3693414e-01]],\n",
              "\n",
              "        [[5.5596435e-01, 6.8776274e-01, 7.6051474e-02],\n",
              "         [1.6737962e-01, 7.1785092e-01, 2.7642274e-01],\n",
              "         [2.6995218e-01, 3.2203627e-01, 8.8224900e-01],\n",
              "         ...,\n",
              "         [4.8168826e-01, 5.0150025e-01, 8.6756039e-01],\n",
              "         [4.1261053e-01, 1.2770486e-01, 5.8186901e-01],\n",
              "         [2.5495613e-01, 3.9036548e-01, 9.8529553e-01]],\n",
              "\n",
              "        [[8.0935180e-01, 1.9740558e-01, 3.5899937e-01],\n",
              "         [1.1216915e-01, 9.1016293e-04, 3.6382091e-01],\n",
              "         [5.1202202e-01, 3.9188230e-01, 8.8335538e-01],\n",
              "         ...,\n",
              "         [2.0133841e-01, 9.1663551e-01, 1.9890130e-01],\n",
              "         [8.0388057e-01, 3.9227080e-01, 2.9688942e-01],\n",
              "         [8.9319050e-01, 2.9692888e-01, 2.6492047e-01]],\n",
              "\n",
              "        ...,\n",
              "\n",
              "        [[7.3653197e-01, 5.9242892e-01, 8.1022096e-01],\n",
              "         [3.2385099e-01, 9.4225824e-01, 8.4279275e-01],\n",
              "         [5.2548873e-01, 8.8999271e-02, 1.2152910e-01],\n",
              "         ...,\n",
              "         [4.4721401e-01, 2.0952868e-01, 9.3782067e-02],\n",
              "         [5.1644707e-01, 7.4352753e-01, 7.4530303e-01],\n",
              "         [4.3693781e-03, 1.0793984e-01, 1.7783213e-01]],\n",
              "\n",
              "        [[7.6054347e-01, 8.0798697e-01, 3.9492905e-01],\n",
              "         [4.0577006e-01, 9.6265435e-02, 8.8253260e-01],\n",
              "         [6.7700970e-01, 7.8380144e-01, 9.3841922e-01],\n",
              "         ...,\n",
              "         [3.1409883e-01, 2.0651186e-01, 5.1043892e-01],\n",
              "         [6.6967010e-02, 3.1983531e-01, 7.4677360e-01],\n",
              "         [7.0548081e-01, 8.2629704e-01, 7.0540214e-01]],\n",
              "\n",
              "        [[6.4126742e-01, 5.8223104e-01, 5.1815867e-02],\n",
              "         [6.2203467e-01, 5.7224095e-01, 9.0543139e-01],\n",
              "         [9.6411026e-01, 2.6061213e-01, 7.4845552e-02],\n",
              "         ...,\n",
              "         [5.8922923e-01, 1.2655807e-01, 7.0523393e-01],\n",
              "         [9.5485377e-01, 6.6495812e-01, 6.4105380e-01],\n",
              "         [4.4474745e-01, 9.7424459e-01, 9.1788459e-01]]]], dtype=float32)>"
            ]
          },
          "metadata": {
            "tags": []
          },
          "execution_count": 168
        }
      ]
    },
    {
      "cell_type": "code",
      "metadata": {
        "id": "VG71qkK4E50S"
      },
      "source": [
        "tensor4 = tf.squeeze(tensor4)"
      ],
      "execution_count": 171,
      "outputs": []
    },
    {
      "cell_type": "code",
      "metadata": {
        "id": "dLRJRVIYFCN9",
        "outputId": "28e5b92b-4714-4475-879b-7cf37226bf52",
        "colab": {
          "base_uri": "https://localhost:8080/"
        }
      },
      "source": [
        "tensor4.shape"
      ],
      "execution_count": 172,
      "outputs": [
        {
          "output_type": "execute_result",
          "data": {
            "text/plain": [
              "TensorShape([224, 224, 3])"
            ]
          },
          "metadata": {
            "tags": []
          },
          "execution_count": 172
        }
      ]
    },
    {
      "cell_type": "code",
      "metadata": {
        "id": "zay27Jh6FeWn",
        "outputId": "349774bd-9d71-4d16-b589-cbc4ed8f1fce",
        "colab": {
          "base_uri": "https://localhost:8080/"
        }
      },
      "source": [
        "tf.random.set_seed(42)\n",
        "tensor = tf.constant(tf.random.normal(shape=[10]), shape=(10))\n",
        "tensor"
      ],
      "execution_count": 189,
      "outputs": [
        {
          "output_type": "execute_result",
          "data": {
            "text/plain": [
              "<tf.Tensor: shape=(10,), dtype=float32, numpy=\n",
              "array([ 0.3274685 , -0.8426258 ,  0.3194337 , -1.4075519 , -2.3880599 ,\n",
              "       -1.0392479 , -0.5573232 ,  0.539707  ,  1.6994323 ,  0.28893656],\n",
              "      dtype=float32)>"
            ]
          },
          "metadata": {
            "tags": []
          },
          "execution_count": 189
        }
      ]
    },
    {
      "cell_type": "code",
      "metadata": {
        "id": "WvLSTMEAGBJE",
        "outputId": "d4e04275-b1d1-4541-fc88-36c556fff9b5",
        "colab": {
          "base_uri": "https://localhost:8080/"
        }
      },
      "source": [
        "tensor[tf.argmax(tensor)], tensor[tf.argmin(tensor)]"
      ],
      "execution_count": 190,
      "outputs": [
        {
          "output_type": "execute_result",
          "data": {
            "text/plain": [
              "(<tf.Tensor: shape=(), dtype=float32, numpy=1.6994323>,\n",
              " <tf.Tensor: shape=(), dtype=float32, numpy=-2.3880599>)"
            ]
          },
          "metadata": {
            "tags": []
          },
          "execution_count": 190
        }
      ]
    },
    {
      "cell_type": "code",
      "metadata": {
        "id": "SVsL8GvRGU1Z",
        "outputId": "4b3bd07e-1a1f-4074-fa9d-cb250beb47dc",
        "colab": {
          "base_uri": "https://localhost:8080/"
        }
      },
      "source": [
        "tf.argmax(tensor) # finding the position at which there is maximum element present"
      ],
      "execution_count": 192,
      "outputs": [
        {
          "output_type": "execute_result",
          "data": {
            "text/plain": [
              "<tf.Tensor: shape=(), dtype=int64, numpy=8>"
            ]
          },
          "metadata": {
            "tags": []
          },
          "execution_count": 192
        }
      ]
    },
    {
      "cell_type": "code",
      "metadata": {
        "id": "TfQUMeLSGru4",
        "outputId": "968d4f51-dbef-4ad5-8ef7-4bd5c3671143",
        "colab": {
          "base_uri": "https://localhost:8080/"
        }
      },
      "source": [
        "tensor = tf.cast(tensor, dtype=tf.int32) # this is the way we can change the datatype of our tensor\n",
        "tf.one_hot(tensor, depth=10) # as the value are rounded, thereby most of them became zero in original tensor"
      ],
      "execution_count": 193,
      "outputs": [
        {
          "output_type": "execute_result",
          "data": {
            "text/plain": [
              "<tf.Tensor: shape=(10, 10), dtype=float32, numpy=\n",
              "array([[1., 0., 0., 0., 0., 0., 0., 0., 0., 0.],\n",
              "       [1., 0., 0., 0., 0., 0., 0., 0., 0., 0.],\n",
              "       [1., 0., 0., 0., 0., 0., 0., 0., 0., 0.],\n",
              "       [0., 0., 0., 0., 0., 0., 0., 0., 0., 0.],\n",
              "       [0., 0., 0., 0., 0., 0., 0., 0., 0., 0.],\n",
              "       [0., 0., 0., 0., 0., 0., 0., 0., 0., 0.],\n",
              "       [1., 0., 0., 0., 0., 0., 0., 0., 0., 0.],\n",
              "       [1., 0., 0., 0., 0., 0., 0., 0., 0., 0.],\n",
              "       [0., 1., 0., 0., 0., 0., 0., 0., 0., 0.],\n",
              "       [1., 0., 0., 0., 0., 0., 0., 0., 0., 0.]], dtype=float32)>"
            ]
          },
          "metadata": {
            "tags": []
          },
          "execution_count": 193
        }
      ]
    },
    {
      "cell_type": "code",
      "metadata": {
        "id": "NGLYeiARJi35"
      },
      "source": [
        ""
      ],
      "execution_count": null,
      "outputs": []
    }
  ]
}