{
  "nbformat": 4,
  "nbformat_minor": 0,
  "metadata": {
    "colab": {
      "name": "module4.ipynb",
      "provenance": [],
      "collapsed_sections": [],
      "authorship_tag": "ABX9TyNt90ywmeM9iaupFWwe2X16",
      "include_colab_link": true
    },
    "kernelspec": {
      "name": "python3",
      "display_name": "Python 3"
    },
    "language_info": {
      "name": "python"
    }
  },
  "cells": [
    {
      "cell_type": "markdown",
      "metadata": {
        "id": "view-in-github",
        "colab_type": "text"
      },
      "source": [
        "<a href=\"https://colab.research.google.com/github/1901010019/1901010019.github.io/blob/master/module4.ipynb\" target=\"_parent\"><img src=\"https://colab.research.google.com/assets/colab-badge.svg\" alt=\"Open In Colab\"/></a>"
      ]
    },
    {
      "cell_type": "code",
      "metadata": {
        "id": "jGeJJxZr8Lav"
      },
      "source": [
        "import numpy as np\n",
        "import pandas as pd\n",
        "import matplotlib.pyplot as plt"
      ],
      "execution_count": 86,
      "outputs": []
    },
    {
      "cell_type": "code",
      "metadata": {
        "id": "WunPOiku8kuA"
      },
      "source": [
        "data  = pd.read_csv(\"/content/1. Regression - Module - (Housing Prices).csv\")"
      ],
      "execution_count": 87,
      "outputs": []
    },
    {
      "cell_type": "markdown",
      "metadata": {
        "id": "kUcHw6xNjn7x"
      },
      "source": [
        "**DATA PREPROCESSING OF DEPENDENT VARIABLE**"
      ]
    },
    {
      "cell_type": "code",
      "metadata": {
        "colab": {
          "base_uri": "https://localhost:8080/"
        },
        "id": "Lv1g_vez-KaW",
        "outputId": "3c330363-eaa7-4a75-bd81-ac1b28c9a568"
      },
      "source": [
        "data[\"Sale Price\"].describe() # we can see we have missing values too!"
      ],
      "execution_count": 88,
      "outputs": [
        {
          "output_type": "execute_result",
          "data": {
            "text/plain": [
              "count    2.160900e+04\n",
              "mean     5.401984e+05\n",
              "std      3.673890e+05\n",
              "min      7.500000e+04\n",
              "25%      3.219500e+05\n",
              "50%      4.500000e+05\n",
              "75%      6.450000e+05\n",
              "max      7.700000e+06\n",
              "Name: Sale Price, dtype: float64"
            ]
          },
          "metadata": {
            "tags": []
          },
          "execution_count": 88
        }
      ]
    },
    {
      "cell_type": "code",
      "metadata": {
        "id": "ceGqIMfUVZlA"
      },
      "source": [
        "q1 = data[\"Sale Price\"].quantile(0.25)\n",
        "q3 = data[\"Sale Price\"].quantile(0.75)"
      ],
      "execution_count": 89,
      "outputs": []
    },
    {
      "cell_type": "code",
      "metadata": {
        "colab": {
          "base_uri": "https://localhost:8080/"
        },
        "id": "4BjqL9VPVpnw",
        "outputId": "11b9e918-de5f-423f-b52a-ef7c282be632"
      },
      "source": [
        "iqr = q3-q1\n",
        "iqr"
      ],
      "execution_count": 90,
      "outputs": [
        {
          "output_type": "execute_result",
          "data": {
            "text/plain": [
              "323050.0"
            ]
          },
          "metadata": {
            "tags": []
          },
          "execution_count": 90
        }
      ]
    },
    {
      "cell_type": "code",
      "metadata": {
        "colab": {
          "base_uri": "https://localhost:8080/"
        },
        "id": "8qTai02KV4EY",
        "outputId": "7b1d09f2-aae3-4cb9-854b-47ad6c8d7299"
      },
      "source": [
        "upper_limit = q3 + 1.5*iqr\n",
        "lower_limit = q1 - 1.5*iqr\n",
        "print(upper_limit,\" \", lower_limit)"
      ],
      "execution_count": 91,
      "outputs": [
        {
          "output_type": "stream",
          "text": [
            "1129575.0   -162625.0\n"
          ],
          "name": "stdout"
        }
      ]
    },
    {
      "cell_type": "code",
      "metadata": {
        "colab": {
          "base_uri": "https://localhost:8080/",
          "height": 366
        },
        "id": "mEYjkGwX8qP7",
        "outputId": "8e135e99-7f59-4f1c-b89b-66f8665f9b98"
      },
      "source": [
        "data.describe() # taking a look at the whole table different parameters calculation."
      ],
      "execution_count": 92,
      "outputs": [
        {
          "output_type": "execute_result",
          "data": {
            "text/html": [
              "<div>\n",
              "<style scoped>\n",
              "    .dataframe tbody tr th:only-of-type {\n",
              "        vertical-align: middle;\n",
              "    }\n",
              "\n",
              "    .dataframe tbody tr th {\n",
              "        vertical-align: top;\n",
              "    }\n",
              "\n",
              "    .dataframe thead th {\n",
              "        text-align: right;\n",
              "    }\n",
              "</style>\n",
              "<table border=\"1\" class=\"dataframe\">\n",
              "  <thead>\n",
              "    <tr style=\"text-align: right;\">\n",
              "      <th></th>\n",
              "      <th>ID</th>\n",
              "      <th>Sale Price</th>\n",
              "      <th>No of Bedrooms</th>\n",
              "      <th>No of Bathrooms</th>\n",
              "      <th>Flat Area (in Sqft)</th>\n",
              "      <th>Lot Area (in Sqft)</th>\n",
              "      <th>No of Floors</th>\n",
              "      <th>Overall Grade</th>\n",
              "      <th>Area of the House from Basement (in Sqft)</th>\n",
              "      <th>Basement Area (in Sqft)</th>\n",
              "      <th>Age of House (in Years)</th>\n",
              "      <th>Renovated Year</th>\n",
              "      <th>Zipcode</th>\n",
              "      <th>Latitude</th>\n",
              "      <th>Longitude</th>\n",
              "      <th>Living Area after Renovation (in Sqft)</th>\n",
              "      <th>Lot Area after Renovation (in Sqft)</th>\n",
              "    </tr>\n",
              "  </thead>\n",
              "  <tbody>\n",
              "    <tr>\n",
              "      <th>count</th>\n",
              "      <td>2.161300e+04</td>\n",
              "      <td>2.160900e+04</td>\n",
              "      <td>21613.000000</td>\n",
              "      <td>21609.000000</td>\n",
              "      <td>21604.000000</td>\n",
              "      <td>2.160400e+04</td>\n",
              "      <td>21613.000000</td>\n",
              "      <td>21613.000000</td>\n",
              "      <td>21610.000000</td>\n",
              "      <td>21613.000000</td>\n",
              "      <td>21613.000000</td>\n",
              "      <td>21613.000000</td>\n",
              "      <td>21612.000000</td>\n",
              "      <td>21612.000000</td>\n",
              "      <td>21612.000000</td>\n",
              "      <td>21612.000000</td>\n",
              "      <td>21613.000000</td>\n",
              "    </tr>\n",
              "    <tr>\n",
              "      <th>mean</th>\n",
              "      <td>4.580302e+09</td>\n",
              "      <td>5.401984e+05</td>\n",
              "      <td>3.370842</td>\n",
              "      <td>2.114732</td>\n",
              "      <td>2079.931772</td>\n",
              "      <td>1.510776e+04</td>\n",
              "      <td>1.494309</td>\n",
              "      <td>7.623467</td>\n",
              "      <td>1788.344193</td>\n",
              "      <td>291.509045</td>\n",
              "      <td>46.994864</td>\n",
              "      <td>84.402258</td>\n",
              "      <td>98077.937766</td>\n",
              "      <td>47.560048</td>\n",
              "      <td>-122.213892</td>\n",
              "      <td>1986.538914</td>\n",
              "      <td>12768.455652</td>\n",
              "    </tr>\n",
              "    <tr>\n",
              "      <th>std</th>\n",
              "      <td>2.876566e+09</td>\n",
              "      <td>3.673890e+05</td>\n",
              "      <td>0.930062</td>\n",
              "      <td>0.770138</td>\n",
              "      <td>918.487597</td>\n",
              "      <td>4.142827e+04</td>\n",
              "      <td>0.539989</td>\n",
              "      <td>1.105439</td>\n",
              "      <td>827.982604</td>\n",
              "      <td>442.575043</td>\n",
              "      <td>29.373411</td>\n",
              "      <td>401.679240</td>\n",
              "      <td>53.505425</td>\n",
              "      <td>0.138565</td>\n",
              "      <td>0.140830</td>\n",
              "      <td>685.404255</td>\n",
              "      <td>27304.179631</td>\n",
              "    </tr>\n",
              "    <tr>\n",
              "      <th>min</th>\n",
              "      <td>1.000102e+06</td>\n",
              "      <td>7.500000e+04</td>\n",
              "      <td>0.000000</td>\n",
              "      <td>0.000000</td>\n",
              "      <td>290.000000</td>\n",
              "      <td>5.200000e+02</td>\n",
              "      <td>1.000000</td>\n",
              "      <td>1.000000</td>\n",
              "      <td>290.000000</td>\n",
              "      <td>0.000000</td>\n",
              "      <td>3.000000</td>\n",
              "      <td>0.000000</td>\n",
              "      <td>98001.000000</td>\n",
              "      <td>47.155900</td>\n",
              "      <td>-122.519000</td>\n",
              "      <td>399.000000</td>\n",
              "      <td>651.000000</td>\n",
              "    </tr>\n",
              "    <tr>\n",
              "      <th>25%</th>\n",
              "      <td>2.123049e+09</td>\n",
              "      <td>3.219500e+05</td>\n",
              "      <td>3.000000</td>\n",
              "      <td>1.750000</td>\n",
              "      <td>1429.250000</td>\n",
              "      <td>5.040000e+03</td>\n",
              "      <td>1.000000</td>\n",
              "      <td>7.000000</td>\n",
              "      <td>1190.000000</td>\n",
              "      <td>0.000000</td>\n",
              "      <td>21.000000</td>\n",
              "      <td>0.000000</td>\n",
              "      <td>98033.000000</td>\n",
              "      <td>47.470975</td>\n",
              "      <td>-122.328000</td>\n",
              "      <td>1490.000000</td>\n",
              "      <td>5100.000000</td>\n",
              "    </tr>\n",
              "    <tr>\n",
              "      <th>50%</th>\n",
              "      <td>3.904930e+09</td>\n",
              "      <td>4.500000e+05</td>\n",
              "      <td>3.000000</td>\n",
              "      <td>2.250000</td>\n",
              "      <td>1910.000000</td>\n",
              "      <td>7.617500e+03</td>\n",
              "      <td>1.500000</td>\n",
              "      <td>7.000000</td>\n",
              "      <td>1560.000000</td>\n",
              "      <td>0.000000</td>\n",
              "      <td>43.000000</td>\n",
              "      <td>0.000000</td>\n",
              "      <td>98065.000000</td>\n",
              "      <td>47.571800</td>\n",
              "      <td>-122.230000</td>\n",
              "      <td>1840.000000</td>\n",
              "      <td>7620.000000</td>\n",
              "    </tr>\n",
              "    <tr>\n",
              "      <th>75%</th>\n",
              "      <td>7.308900e+09</td>\n",
              "      <td>6.450000e+05</td>\n",
              "      <td>4.000000</td>\n",
              "      <td>2.500000</td>\n",
              "      <td>2550.000000</td>\n",
              "      <td>1.068825e+04</td>\n",
              "      <td>2.000000</td>\n",
              "      <td>8.000000</td>\n",
              "      <td>2210.000000</td>\n",
              "      <td>560.000000</td>\n",
              "      <td>67.000000</td>\n",
              "      <td>0.000000</td>\n",
              "      <td>98118.000000</td>\n",
              "      <td>47.678000</td>\n",
              "      <td>-122.125000</td>\n",
              "      <td>2360.000000</td>\n",
              "      <td>10083.000000</td>\n",
              "    </tr>\n",
              "    <tr>\n",
              "      <th>max</th>\n",
              "      <td>9.900000e+09</td>\n",
              "      <td>7.700000e+06</td>\n",
              "      <td>33.000000</td>\n",
              "      <td>8.000000</td>\n",
              "      <td>13540.000000</td>\n",
              "      <td>1.651359e+06</td>\n",
              "      <td>3.500000</td>\n",
              "      <td>10.000000</td>\n",
              "      <td>9410.000000</td>\n",
              "      <td>4820.000000</td>\n",
              "      <td>118.000000</td>\n",
              "      <td>2015.000000</td>\n",
              "      <td>98199.000000</td>\n",
              "      <td>47.777600</td>\n",
              "      <td>-121.315000</td>\n",
              "      <td>6210.000000</td>\n",
              "      <td>871200.000000</td>\n",
              "    </tr>\n",
              "  </tbody>\n",
              "</table>\n",
              "</div>"
            ],
            "text/plain": [
              "                 ID  ...  Lot Area after Renovation (in Sqft)\n",
              "count  2.161300e+04  ...                         21613.000000\n",
              "mean   4.580302e+09  ...                         12768.455652\n",
              "std    2.876566e+09  ...                         27304.179631\n",
              "min    1.000102e+06  ...                           651.000000\n",
              "25%    2.123049e+09  ...                          5100.000000\n",
              "50%    3.904930e+09  ...                          7620.000000\n",
              "75%    7.308900e+09  ...                         10083.000000\n",
              "max    9.900000e+09  ...                        871200.000000\n",
              "\n",
              "[8 rows x 17 columns]"
            ]
          },
          "metadata": {
            "tags": []
          },
          "execution_count": 92
        }
      ]
    },
    {
      "cell_type": "code",
      "metadata": {
        "id": "pCccC3PP-cW_"
      },
      "source": [
        "# treatement of outliers using imputing technique, which invloves replacing of outliers by maximum or minimum values\n",
        "# below is the code for that\n",
        "def limit_imputer(value):\n",
        "  if value > upper_limit:\n",
        "    return upper_limit\n",
        "  elif value < lower_limit:\n",
        "    return lower_limit\n",
        "  else:\n",
        "    return value"
      ],
      "execution_count": 93,
      "outputs": []
    },
    {
      "cell_type": "code",
      "metadata": {
        "id": "rGZFy7BjXPhT"
      },
      "source": [
        "data[\"Sale Price\"] = data[\"Sale Price\"].apply(limit_imputer)"
      ],
      "execution_count": 94,
      "outputs": []
    },
    {
      "cell_type": "code",
      "metadata": {
        "colab": {
          "base_uri": "https://localhost:8080/"
        },
        "id": "jSgchmWFXbLD",
        "outputId": "db5e1508-6b0e-4207-d263-6ba99e08d4d1"
      },
      "source": [
        "data[\"Sale Price\"].describe() # now here we can see the maximum and minimum values have been taken care of!"
      ],
      "execution_count": 95,
      "outputs": [
        {
          "output_type": "execute_result",
          "data": {
            "text/plain": [
              "count    2.160900e+04\n",
              "mean     5.116186e+05\n",
              "std      2.500620e+05\n",
              "min      7.500000e+04\n",
              "25%      3.219500e+05\n",
              "50%      4.500000e+05\n",
              "75%      6.450000e+05\n",
              "max      1.129575e+06\n",
              "Name: Sale Price, dtype: float64"
            ]
          },
          "metadata": {
            "tags": []
          },
          "execution_count": 95
        }
      ]
    },
    {
      "cell_type": "code",
      "metadata": {
        "id": "kXk3EDqWXsPi"
      },
      "source": [
        "# now we will try to see how the missing values are treated\n",
        "data.dropna(inplace= True , axis=0, subset = ['Sale Price'])"
      ],
      "execution_count": 96,
      "outputs": []
    },
    {
      "cell_type": "code",
      "metadata": {
        "colab": {
          "base_uri": "https://localhost:8080/"
        },
        "id": "TqFFVKvKcRv9",
        "outputId": "091cb46f-7c61-4e58-c63f-6e92543c835b"
      },
      "source": [
        "data.info()"
      ],
      "execution_count": 97,
      "outputs": [
        {
          "output_type": "stream",
          "text": [
            "<class 'pandas.core.frame.DataFrame'>\n",
            "Int64Index: 21609 entries, 0 to 21612\n",
            "Data columns (total 21 columns):\n",
            " #   Column                                     Non-Null Count  Dtype  \n",
            "---  ------                                     --------------  -----  \n",
            " 0   ID                                         21609 non-null  int64  \n",
            " 1   Date House was Sold                        21609 non-null  object \n",
            " 2   Sale Price                                 21609 non-null  float64\n",
            " 3   No of Bedrooms                             21609 non-null  int64  \n",
            " 4   No of Bathrooms                            21605 non-null  float64\n",
            " 5   Flat Area (in Sqft)                        21600 non-null  float64\n",
            " 6   Lot Area (in Sqft)                         21600 non-null  float64\n",
            " 7   No of Floors                               21609 non-null  float64\n",
            " 8   Waterfront View                            21609 non-null  object \n",
            " 9   No of Times Visited                        21609 non-null  object \n",
            " 10  Condition of the House                     21609 non-null  object \n",
            " 11  Overall Grade                              21609 non-null  int64  \n",
            " 12  Area of the House from Basement (in Sqft)  21606 non-null  float64\n",
            " 13  Basement Area (in Sqft)                    21609 non-null  int64  \n",
            " 14  Age of House (in Years)                    21609 non-null  int64  \n",
            " 15  Renovated Year                             21609 non-null  int64  \n",
            " 16  Zipcode                                    21608 non-null  float64\n",
            " 17  Latitude                                   21608 non-null  float64\n",
            " 18  Longitude                                  21608 non-null  float64\n",
            " 19  Living Area after Renovation (in Sqft)     21608 non-null  float64\n",
            " 20  Lot Area after Renovation (in Sqft)        21609 non-null  int64  \n",
            "dtypes: float64(10), int64(7), object(4)\n",
            "memory usage: 3.6+ MB\n"
          ],
          "name": "stdout"
        }
      ]
    },
    {
      "cell_type": "code",
      "metadata": {
        "colab": {
          "base_uri": "https://localhost:8080/",
          "height": 313
        },
        "id": "YrAHpkvnduX3",
        "outputId": "c190552a-ba39-4539-d5fc-1a527513c9ab"
      },
      "source": [
        "plt.hist(data[\"Sale Price\"], bins = 10, color='green')\n",
        "plt.xlabel('serial number')\n",
        "plt.ylabel('sale price')\n",
        "plt.title('sale price distribution')\n",
        "# we can clearly see how the graph is skewed towards left, that means there are more less data with more price"
      ],
      "execution_count": 98,
      "outputs": [
        {
          "output_type": "execute_result",
          "data": {
            "text/plain": [
              "Text(0.5, 1.0, 'sale price distribution')"
            ]
          },
          "metadata": {
            "tags": []
          },
          "execution_count": 98
        },
        {
          "output_type": "display_data",
          "data": {
            "image/png": "[encoded data removed]",
            "text/plain": [
              "<Figure size 432x288 with 1 Axes>"
            ]
          },
          "metadata": {
            "tags": [],
            "needs_background": "light"
          }
        }
      ]
    },
    {
      "cell_type": "code",
      "metadata": {
        "colab": {
          "base_uri": "https://localhost:8080/"
        },
        "id": "xK3pILDUiKa8",
        "outputId": "786f67f6-8db3-4ed9-c869-2e8a65fe2d1d"
      },
      "source": [
        "data.isnull().sum() # will return the number of missing values in every variable."
      ],
      "execution_count": 99,
      "outputs": [
        {
          "output_type": "execute_result",
          "data": {
            "text/plain": [
              "ID                                           0\n",
              "Date House was Sold                          0\n",
              "Sale Price                                   0\n",
              "No of Bedrooms                               0\n",
              "No of Bathrooms                              4\n",
              "Flat Area (in Sqft)                          9\n",
              "Lot Area (in Sqft)                           9\n",
              "No of Floors                                 0\n",
              "Waterfront View                              0\n",
              "No of Times Visited                          0\n",
              "Condition of the House                       0\n",
              "Overall Grade                                0\n",
              "Area of the House from Basement (in Sqft)    3\n",
              "Basement Area (in Sqft)                      0\n",
              "Age of House (in Years)                      0\n",
              "Renovated Year                               0\n",
              "Zipcode                                      1\n",
              "Latitude                                     1\n",
              "Longitude                                    1\n",
              "Living Area after Renovation (in Sqft)       1\n",
              "Lot Area after Renovation (in Sqft)          0\n",
              "dtype: int64"
            ]
          },
          "metadata": {
            "tags": []
          },
          "execution_count": 99
        }
      ]
    },
    {
      "cell_type": "markdown",
      "metadata": {
        "id": "Cq2oDi6gj9t-"
      },
      "source": [
        "**DATA PREPROCESSING OF INDEPENDENT VARIABLES**"
      ]
    },
    {
      "cell_type": "code",
      "metadata": {
        "id": "4hRJb-sCkHiH"
      },
      "source": [
        "data.to_csv(\"data_cleaned.csv\") # data_cleaned is the cleaned dataset, we wrote the old file to a new csv file"
      ],
      "execution_count": 100,
      "outputs": []
    },
    {
      "cell_type": "code",
      "metadata": {
        "id": "Vyfm-S6anfig"
      },
      "source": [
        "data2 = pd.read_csv(\"/content/data_cleaned.csv\") # and now we read the new cleaned file using the read_csv function"
      ],
      "execution_count": 101,
      "outputs": []
    },
    {
      "cell_type": "code",
      "metadata": {
        "colab": {
          "base_uri": "https://localhost:8080/"
        },
        "id": "C4TGl86CrAU3",
        "outputId": "dfbb92f4-a9ed-4904-f85e-585cdf790138"
      },
      "source": [
        "data2.info()"
      ],
      "execution_count": 102,
      "outputs": [
        {
          "output_type": "stream",
          "text": [
            "<class 'pandas.core.frame.DataFrame'>\n",
            "RangeIndex: 21609 entries, 0 to 21608\n",
            "Data columns (total 22 columns):\n",
            " #   Column                                     Non-Null Count  Dtype  \n",
            "---  ------                                     --------------  -----  \n",
            " 0   Unnamed: 0                                 21609 non-null  int64  \n",
            " 1   ID                                         21609 non-null  int64  \n",
            " 2   Date House was Sold                        21609 non-null  object \n",
            " 3   Sale Price                                 21609 non-null  float64\n",
            " 4   No of Bedrooms                             21609 non-null  int64  \n",
            " 5   No of Bathrooms                            21605 non-null  float64\n",
            " 6   Flat Area (in Sqft)                        21600 non-null  float64\n",
            " 7   Lot Area (in Sqft)                         21600 non-null  float64\n",
            " 8   No of Floors                               21609 non-null  float64\n",
            " 9   Waterfront View                            21609 non-null  object \n",
            " 10  No of Times Visited                        21609 non-null  object \n",
            " 11  Condition of the House                     21609 non-null  object \n",
            " 12  Overall Grade                              21609 non-null  int64  \n",
            " 13  Area of the House from Basement (in Sqft)  21606 non-null  float64\n",
            " 14  Basement Area (in Sqft)                    21609 non-null  int64  \n",
            " 15  Age of House (in Years)                    21609 non-null  int64  \n",
            " 16  Renovated Year                             21609 non-null  int64  \n",
            " 17  Zipcode                                    21608 non-null  float64\n",
            " 18  Latitude                                   21608 non-null  float64\n",
            " 19  Longitude                                  21608 non-null  float64\n",
            " 20  Living Area after Renovation (in Sqft)     21608 non-null  float64\n",
            " 21  Lot Area after Renovation (in Sqft)        21609 non-null  int64  \n",
            "dtypes: float64(10), int64(8), object(4)\n",
            "memory usage: 3.6+ MB\n"
          ],
          "name": "stdout"
        }
      ]
    },
    {
      "cell_type": "code",
      "metadata": {
        "colab": {
          "base_uri": "https://localhost:8080/"
        },
        "id": "WuUwC1m5rjvi",
        "outputId": "5bea97bb-9d73-4d09-84ab-43cd4217a494"
      },
      "source": [
        "data2.isnull().sum()"
      ],
      "execution_count": 103,
      "outputs": [
        {
          "output_type": "execute_result",
          "data": {
            "text/plain": [
              "Unnamed: 0                                   0\n",
              "ID                                           0\n",
              "Date House was Sold                          0\n",
              "Sale Price                                   0\n",
              "No of Bedrooms                               0\n",
              "No of Bathrooms                              4\n",
              "Flat Area (in Sqft)                          9\n",
              "Lot Area (in Sqft)                           9\n",
              "No of Floors                                 0\n",
              "Waterfront View                              0\n",
              "No of Times Visited                          0\n",
              "Condition of the House                       0\n",
              "Overall Grade                                0\n",
              "Area of the House from Basement (in Sqft)    3\n",
              "Basement Area (in Sqft)                      0\n",
              "Age of House (in Years)                      0\n",
              "Renovated Year                               0\n",
              "Zipcode                                      1\n",
              "Latitude                                     1\n",
              "Longitude                                    1\n",
              "Living Area after Renovation (in Sqft)       1\n",
              "Lot Area after Renovation (in Sqft)          0\n",
              "dtype: int64"
            ]
          },
          "metadata": {
            "tags": []
          },
          "execution_count": 103
        }
      ]
    },
    {
      "cell_type": "code",
      "metadata": {
        "id": "kMTV36SGsDNF"
      },
      "source": [
        "numerical_columns = ['No of Bathrooms','Flat Area (in Sqft)','Lot Area (in Sqft)',\n",
        "                     'Area of the House from Basement (in Sqft)','Latitude','Longitude',\n",
        "                     'Living Area after Renovation (in Sqft)' ]"
      ],
      "execution_count": 104,
      "outputs": []
    },
    {
      "cell_type": "code",
      "metadata": {
        "id": "XrA4eW9Gsy5l"
      },
      "source": [
        "from sklearn.impute import  SimpleImputer\n",
        "imputer =  SimpleImputer(missing_values = np.nan, strategy = 'median')\n",
        "data2[numerical_columns] = imputer.fit_transform(data2[numerical_columns]) \n",
        "# our strategy here was to replace the missing values with media values in case of all numerical variables."
      ],
      "execution_count": 105,
      "outputs": []
    },
    {
      "cell_type": "code",
      "metadata": {
        "colab": {
          "base_uri": "https://localhost:8080/"
        },
        "id": "awxbBD2_wLcC",
        "outputId": "46bc0698-6ef8-4d47-bbd5-dbcfd21805d5"
      },
      "source": [
        "data2.info() # still zipcode has missing values, because it's categorical variable , we will have to deal with it differently"
      ],
      "execution_count": 106,
      "outputs": [
        {
          "output_type": "stream",
          "text": [
            "<class 'pandas.core.frame.DataFrame'>\n",
            "RangeIndex: 21609 entries, 0 to 21608\n",
            "Data columns (total 22 columns):\n",
            " #   Column                                     Non-Null Count  Dtype  \n",
            "---  ------                                     --------------  -----  \n",
            " 0   Unnamed: 0                                 21609 non-null  int64  \n",
            " 1   ID                                         21609 non-null  int64  \n",
            " 2   Date House was Sold                        21609 non-null  object \n",
            " 3   Sale Price                                 21609 non-null  float64\n",
            " 4   No of Bedrooms                             21609 non-null  int64  \n",
            " 5   No of Bathrooms                            21609 non-null  float64\n",
            " 6   Flat Area (in Sqft)                        21609 non-null  float64\n",
            " 7   Lot Area (in Sqft)                         21609 non-null  float64\n",
            " 8   No of Floors                               21609 non-null  float64\n",
            " 9   Waterfront View                            21609 non-null  object \n",
            " 10  No of Times Visited                        21609 non-null  object \n",
            " 11  Condition of the House                     21609 non-null  object \n",
            " 12  Overall Grade                              21609 non-null  int64  \n",
            " 13  Area of the House from Basement (in Sqft)  21609 non-null  float64\n",
            " 14  Basement Area (in Sqft)                    21609 non-null  int64  \n",
            " 15  Age of House (in Years)                    21609 non-null  int64  \n",
            " 16  Renovated Year                             21609 non-null  int64  \n",
            " 17  Zipcode                                    21608 non-null  float64\n",
            " 18  Latitude                                   21609 non-null  float64\n",
            " 19  Longitude                                  21609 non-null  float64\n",
            " 20  Living Area after Renovation (in Sqft)     21609 non-null  float64\n",
            " 21  Lot Area after Renovation (in Sqft)        21609 non-null  int64  \n",
            "dtypes: float64(10), int64(8), object(4)\n",
            "memory usage: 3.6+ MB\n"
          ],
          "name": "stdout"
        }
      ]
    },
    {
      "cell_type": "code",
      "metadata": {
        "colab": {
          "base_uri": "https://localhost:8080/"
        },
        "id": "7s6yWN02ncl_",
        "outputId": "06bfee14-4e7e-4d6d-c83f-a5c0d453afb3"
      },
      "source": [
        "# as fit transform function takes 2-d array, so we gonna convert this column of zipcode into a 2-d array\n",
        "column = data2[\"Zipcode\"].values.reshape(-1,1)\n",
        "column.shape"
      ],
      "execution_count": 107,
      "outputs": [
        {
          "output_type": "execute_result",
          "data": {
            "text/plain": [
              "(21609, 1)"
            ]
          },
          "metadata": {
            "tags": []
          },
          "execution_count": 107
        }
      ]
    },
    {
      "cell_type": "code",
      "metadata": {
        "id": "DBcUH6bwmVi2"
      },
      "source": [
        "imputer   = SimpleImputer(missing_values = np.nan , strategy = 'most_frequent')\n",
        "data2[\"Zipcode\"] = imputer.fit_transform(column)"
      ],
      "execution_count": 108,
      "outputs": []
    },
    {
      "cell_type": "code",
      "metadata": {
        "colab": {
          "base_uri": "https://localhost:8080/"
        },
        "id": "yEQYYgj4qLfv",
        "outputId": "b8b7e356-d939-4dbc-d5bb-81f96266548a"
      },
      "source": [
        "data2.info()"
      ],
      "execution_count": 109,
      "outputs": [
        {
          "output_type": "stream",
          "text": [
            "<class 'pandas.core.frame.DataFrame'>\n",
            "RangeIndex: 21609 entries, 0 to 21608\n",
            "Data columns (total 22 columns):\n",
            " #   Column                                     Non-Null Count  Dtype  \n",
            "---  ------                                     --------------  -----  \n",
            " 0   Unnamed: 0                                 21609 non-null  int64  \n",
            " 1   ID                                         21609 non-null  int64  \n",
            " 2   Date House was Sold                        21609 non-null  object \n",
            " 3   Sale Price                                 21609 non-null  float64\n",
            " 4   No of Bedrooms                             21609 non-null  int64  \n",
            " 5   No of Bathrooms                            21609 non-null  float64\n",
            " 6   Flat Area (in Sqft)                        21609 non-null  float64\n",
            " 7   Lot Area (in Sqft)                         21609 non-null  float64\n",
            " 8   No of Floors                               21609 non-null  float64\n",
            " 9   Waterfront View                            21609 non-null  object \n",
            " 10  No of Times Visited                        21609 non-null  object \n",
            " 11  Condition of the House                     21609 non-null  object \n",
            " 12  Overall Grade                              21609 non-null  int64  \n",
            " 13  Area of the House from Basement (in Sqft)  21609 non-null  float64\n",
            " 14  Basement Area (in Sqft)                    21609 non-null  int64  \n",
            " 15  Age of House (in Years)                    21609 non-null  int64  \n",
            " 16  Renovated Year                             21609 non-null  int64  \n",
            " 17  Zipcode                                    21609 non-null  float64\n",
            " 18  Latitude                                   21609 non-null  float64\n",
            " 19  Longitude                                  21609 non-null  float64\n",
            " 20  Living Area after Renovation (in Sqft)     21609 non-null  float64\n",
            " 21  Lot Area after Renovation (in Sqft)        21609 non-null  int64  \n",
            "dtypes: float64(10), int64(8), object(4)\n",
            "memory usage: 3.6+ MB\n"
          ],
          "name": "stdout"
        }
      ]
    },
    {
      "cell_type": "code",
      "metadata": {
        "id": "Eyr77kcKqTCv"
      },
      "source": [
        "# now we are gonna use the dataset 3 which has been made missing data free by us.\n",
        "data3 = pd.read_csv(\"/content/Raw_Housing_Prices3.csv\")"
      ],
      "execution_count": 110,
      "outputs": []
    },
    {
      "cell_type": "code",
      "metadata": {
        "colab": {
          "base_uri": "https://localhost:8080/"
        },
        "id": "LrFSoUL7soVB",
        "outputId": "37e022c1-e917-407a-cafc-ed202b753231"
      },
      "source": [
        "data3.info()"
      ],
      "execution_count": 111,
      "outputs": [
        {
          "output_type": "stream",
          "text": [
            "<class 'pandas.core.frame.DataFrame'>\n",
            "RangeIndex: 21609 entries, 0 to 21608\n",
            "Data columns (total 21 columns):\n",
            " #   Column                                     Non-Null Count  Dtype  \n",
            "---  ------                                     --------------  -----  \n",
            " 0   ID                                         21609 non-null  int64  \n",
            " 1   Date House was Sold                        21609 non-null  object \n",
            " 2   Sale Price                                 21609 non-null  float64\n",
            " 3   No of Bedrooms                             21609 non-null  int64  \n",
            " 4   No of Bathrooms                            21609 non-null  float64\n",
            " 5   Flat Area (in Sqft)                        21609 non-null  float64\n",
            " 6   Lot Area (in Sqft)                         21609 non-null  float64\n",
            " 7   No of Floors                               21609 non-null  float64\n",
            " 8   Waterfront View                            21609 non-null  object \n",
            " 9   No of Times Visited                        21609 non-null  object \n",
            " 10  Condition of the House                     21609 non-null  object \n",
            " 11  Overall Grade                              21609 non-null  int64  \n",
            " 12  Area of the House from Basement (in Sqft)  21609 non-null  float64\n",
            " 13  Basement Area (in Sqft)                    21609 non-null  int64  \n",
            " 14  Age of House (in Years)                    21609 non-null  int64  \n",
            " 15  Renovated Year                             21609 non-null  int64  \n",
            " 16  Zipcode                                    21609 non-null  float64\n",
            " 17  Latitude                                   21609 non-null  float64\n",
            " 18  Longitude                                  21609 non-null  float64\n",
            " 19  Living Area after Renovation (in Sqft)     21609 non-null  float64\n",
            " 20  Lot Area after Renovation (in Sqft)        21609 non-null  int64  \n",
            "dtypes: float64(10), int64(7), object(4)\n",
            "memory usage: 3.5+ MB\n"
          ],
          "name": "stdout"
        }
      ]
    },
    {
      "cell_type": "code",
      "metadata": {
        "colab": {
          "base_uri": "https://localhost:8080/"
        },
        "id": "xH4WJ-tDs5WW",
        "outputId": "fa245683-f519-4140-f2a4-6cb200241799"
      },
      "source": [
        "data3[\"No of Times Visited\"].unique()"
      ],
      "execution_count": 112,
      "outputs": [
        {
          "output_type": "execute_result",
          "data": {
            "text/plain": [
              "array(['None', 'Thrice', 'Four', 'Twice', 'Once'], dtype=object)"
            ]
          },
          "metadata": {
            "tags": []
          },
          "execution_count": 112
        }
      ]
    },
    {
      "cell_type": "code",
      "metadata": {
        "id": "ofn1QUUxtTZ3"
      },
      "source": [
        "mapping = {'None': \"0\",\n",
        "           'Thrice': \"3\",\n",
        "           'Four': \"4\",\n",
        "           'Twice': \"2\",\n",
        "           'Once': \"1\"}\n",
        "data3[\"No of Times Visited\"] = data3[\"No of Times Visited\"].map(mapping)"
      ],
      "execution_count": 113,
      "outputs": []
    },
    {
      "cell_type": "code",
      "metadata": {
        "colab": {
          "base_uri": "https://localhost:8080/"
        },
        "id": "3LSfko3tuAt_",
        "outputId": "0877f021-3927-4d33-b63f-3dbbfdd2188c"
      },
      "source": [
        "data3[\"No of Times Visited\"].unique() # so here we have no mapped the catergorical variable into integer form."
      ],
      "execution_count": 114,
      "outputs": [
        {
          "output_type": "execute_result",
          "data": {
            "text/plain": [
              "array(['0', '3', '4', '2', '1'], dtype=object)"
            ]
          },
          "metadata": {
            "tags": []
          },
          "execution_count": 114
        }
      ]
    },
    {
      "cell_type": "code",
      "metadata": {
        "colab": {
          "base_uri": "https://localhost:8080/"
        },
        "id": "XXge4R5YxGKV",
        "outputId": "3ad384d0-8e77-49ca-d8d5-1ab279a2872e"
      },
      "source": [
        "data3.info()"
      ],
      "execution_count": 115,
      "outputs": [
        {
          "output_type": "stream",
          "text": [
            "<class 'pandas.core.frame.DataFrame'>\n",
            "RangeIndex: 21609 entries, 0 to 21608\n",
            "Data columns (total 21 columns):\n",
            " #   Column                                     Non-Null Count  Dtype  \n",
            "---  ------                                     --------------  -----  \n",
            " 0   ID                                         21609 non-null  int64  \n",
            " 1   Date House was Sold                        21609 non-null  object \n",
            " 2   Sale Price                                 21609 non-null  float64\n",
            " 3   No of Bedrooms                             21609 non-null  int64  \n",
            " 4   No of Bathrooms                            21609 non-null  float64\n",
            " 5   Flat Area (in Sqft)                        21609 non-null  float64\n",
            " 6   Lot Area (in Sqft)                         21609 non-null  float64\n",
            " 7   No of Floors                               21609 non-null  float64\n",
            " 8   Waterfront View                            21609 non-null  object \n",
            " 9   No of Times Visited                        21609 non-null  object \n",
            " 10  Condition of the House                     21609 non-null  object \n",
            " 11  Overall Grade                              21609 non-null  int64  \n",
            " 12  Area of the House from Basement (in Sqft)  21609 non-null  float64\n",
            " 13  Basement Area (in Sqft)                    21609 non-null  int64  \n",
            " 14  Age of House (in Years)                    21609 non-null  int64  \n",
            " 15  Renovated Year                             21609 non-null  int64  \n",
            " 16  Zipcode                                    21609 non-null  float64\n",
            " 17  Latitude                                   21609 non-null  float64\n",
            " 18  Longitude                                  21609 non-null  float64\n",
            " 19  Living Area after Renovation (in Sqft)     21609 non-null  float64\n",
            " 20  Lot Area after Renovation (in Sqft)        21609 non-null  int64  \n",
            "dtypes: float64(10), int64(7), object(4)\n",
            "memory usage: 3.5+ MB\n"
          ],
          "name": "stdout"
        }
      ]
    },
    {
      "cell_type": "code",
      "metadata": {
        "id": "EyIpLVkly6D9"
      },
      "source": [
        "data3[\"renovated\"] = np.where(data3[\"Renovated Year\"], 'yes', 'no')"
      ],
      "execution_count": 116,
      "outputs": []
    },
    {
      "cell_type": "code",
      "metadata": {
        "colab": {
          "base_uri": "https://localhost:8080/",
          "height": 499
        },
        "id": "PZuGZbTMzRi3",
        "outputId": "19256b2f-6465-4459-bf2c-2668de652665"
      },
      "source": [
        "data3.head(5) # so we have added a new column of whether the house was ever renovated or not!"
      ],
      "execution_count": 117,
      "outputs": [
        {
          "output_type": "execute_result",
          "data": {
            "text/html": [
              "<div>\n",
              "<style scoped>\n",
              "    .dataframe tbody tr th:only-of-type {\n",
              "        vertical-align: middle;\n",
              "    }\n",
              "\n",
              "    .dataframe tbody tr th {\n",
              "        vertical-align: top;\n",
              "    }\n",
              "\n",
              "    .dataframe thead th {\n",
              "        text-align: right;\n",
              "    }\n",
              "</style>\n",
              "<table border=\"1\" class=\"dataframe\">\n",
              "  <thead>\n",
              "    <tr style=\"text-align: right;\">\n",
              "      <th></th>\n",
              "      <th>ID</th>\n",
              "      <th>Date House was Sold</th>\n",
              "      <th>Sale Price</th>\n",
              "      <th>No of Bedrooms</th>\n",
              "      <th>No of Bathrooms</th>\n",
              "      <th>Flat Area (in Sqft)</th>\n",
              "      <th>Lot Area (in Sqft)</th>\n",
              "      <th>No of Floors</th>\n",
              "      <th>Waterfront View</th>\n",
              "      <th>No of Times Visited</th>\n",
              "      <th>Condition of the House</th>\n",
              "      <th>Overall Grade</th>\n",
              "      <th>Area of the House from Basement (in Sqft)</th>\n",
              "      <th>Basement Area (in Sqft)</th>\n",
              "      <th>Age of House (in Years)</th>\n",
              "      <th>Renovated Year</th>\n",
              "      <th>Zipcode</th>\n",
              "      <th>Latitude</th>\n",
              "      <th>Longitude</th>\n",
              "      <th>Living Area after Renovation (in Sqft)</th>\n",
              "      <th>Lot Area after Renovation (in Sqft)</th>\n",
              "      <th>renovated</th>\n",
              "    </tr>\n",
              "  </thead>\n",
              "  <tbody>\n",
              "    <tr>\n",
              "      <th>0</th>\n",
              "      <td>7129300520</td>\n",
              "      <td>14 October 2017</td>\n",
              "      <td>221900.0</td>\n",
              "      <td>3</td>\n",
              "      <td>1.00</td>\n",
              "      <td>1180.0</td>\n",
              "      <td>5650.0</td>\n",
              "      <td>1.0</td>\n",
              "      <td>No</td>\n",
              "      <td>0</td>\n",
              "      <td>Fair</td>\n",
              "      <td>7</td>\n",
              "      <td>1180.0</td>\n",
              "      <td>0</td>\n",
              "      <td>63</td>\n",
              "      <td>0</td>\n",
              "      <td>98178.0</td>\n",
              "      <td>47.5112</td>\n",
              "      <td>-122.257</td>\n",
              "      <td>1340.0</td>\n",
              "      <td>5650</td>\n",
              "      <td>no</td>\n",
              "    </tr>\n",
              "    <tr>\n",
              "      <th>1</th>\n",
              "      <td>6414100192</td>\n",
              "      <td>14 December 2017</td>\n",
              "      <td>538000.0</td>\n",
              "      <td>3</td>\n",
              "      <td>2.25</td>\n",
              "      <td>2570.0</td>\n",
              "      <td>7242.0</td>\n",
              "      <td>2.0</td>\n",
              "      <td>No</td>\n",
              "      <td>0</td>\n",
              "      <td>Fair</td>\n",
              "      <td>7</td>\n",
              "      <td>2170.0</td>\n",
              "      <td>400</td>\n",
              "      <td>67</td>\n",
              "      <td>1991</td>\n",
              "      <td>98125.0</td>\n",
              "      <td>47.7210</td>\n",
              "      <td>-122.319</td>\n",
              "      <td>1690.0</td>\n",
              "      <td>7639</td>\n",
              "      <td>yes</td>\n",
              "    </tr>\n",
              "    <tr>\n",
              "      <th>2</th>\n",
              "      <td>5631500400</td>\n",
              "      <td>15 February 2016</td>\n",
              "      <td>180000.0</td>\n",
              "      <td>2</td>\n",
              "      <td>1.00</td>\n",
              "      <td>770.0</td>\n",
              "      <td>10000.0</td>\n",
              "      <td>1.0</td>\n",
              "      <td>No</td>\n",
              "      <td>0</td>\n",
              "      <td>Fair</td>\n",
              "      <td>6</td>\n",
              "      <td>770.0</td>\n",
              "      <td>0</td>\n",
              "      <td>85</td>\n",
              "      <td>0</td>\n",
              "      <td>98028.0</td>\n",
              "      <td>47.7379</td>\n",
              "      <td>-122.233</td>\n",
              "      <td>2720.0</td>\n",
              "      <td>8062</td>\n",
              "      <td>no</td>\n",
              "    </tr>\n",
              "    <tr>\n",
              "      <th>3</th>\n",
              "      <td>2487200875</td>\n",
              "      <td>14 December 2017</td>\n",
              "      <td>604000.0</td>\n",
              "      <td>4</td>\n",
              "      <td>3.00</td>\n",
              "      <td>1960.0</td>\n",
              "      <td>5000.0</td>\n",
              "      <td>1.0</td>\n",
              "      <td>No</td>\n",
              "      <td>0</td>\n",
              "      <td>Excellent</td>\n",
              "      <td>7</td>\n",
              "      <td>1050.0</td>\n",
              "      <td>910</td>\n",
              "      <td>53</td>\n",
              "      <td>0</td>\n",
              "      <td>98136.0</td>\n",
              "      <td>47.5208</td>\n",
              "      <td>-122.393</td>\n",
              "      <td>1360.0</td>\n",
              "      <td>5000</td>\n",
              "      <td>no</td>\n",
              "    </tr>\n",
              "    <tr>\n",
              "      <th>4</th>\n",
              "      <td>1954400510</td>\n",
              "      <td>15 February 2016</td>\n",
              "      <td>510000.0</td>\n",
              "      <td>3</td>\n",
              "      <td>2.00</td>\n",
              "      <td>1680.0</td>\n",
              "      <td>8080.0</td>\n",
              "      <td>1.0</td>\n",
              "      <td>No</td>\n",
              "      <td>0</td>\n",
              "      <td>Fair</td>\n",
              "      <td>8</td>\n",
              "      <td>1680.0</td>\n",
              "      <td>0</td>\n",
              "      <td>31</td>\n",
              "      <td>0</td>\n",
              "      <td>98074.0</td>\n",
              "      <td>47.6168</td>\n",
              "      <td>-122.045</td>\n",
              "      <td>1800.0</td>\n",
              "      <td>7503</td>\n",
              "      <td>no</td>\n",
              "    </tr>\n",
              "  </tbody>\n",
              "</table>\n",
              "</div>"
            ],
            "text/plain": [
              "           ID  ... renovated\n",
              "0  7129300520  ...        no\n",
              "1  6414100192  ...       yes\n",
              "2  5631500400  ...        no\n",
              "3  2487200875  ...        no\n",
              "4  1954400510  ...        no\n",
              "\n",
              "[5 rows x 22 columns]"
            ]
          },
          "metadata": {
            "tags": []
          },
          "execution_count": 117
        }
      ]
    },
    {
      "cell_type": "code",
      "metadata": {
        "id": "LaydFq3-zfR8"
      },
      "source": [
        "data3[\"year\"] = pd.DatetimeIndex(data3[\"Date House was Sold\"]).year"
      ],
      "execution_count": 118,
      "outputs": []
    },
    {
      "cell_type": "code",
      "metadata": {
        "colab": {
          "base_uri": "https://localhost:8080/",
          "height": 499
        },
        "id": "smUxBb3oz_d4",
        "outputId": "2e0255a1-4796-447c-9dc0-b38ad296de24"
      },
      "source": [
        "data3.head(5) # so now we have taken out year, this will be further used for building accurate models because no we will take out thr time gap of renovation of each house which will certainly effect the model."
      ],
      "execution_count": 119,
      "outputs": [
        {
          "output_type": "execute_result",
          "data": {
            "text/html": [
              "<div>\n",
              "<style scoped>\n",
              "    .dataframe tbody tr th:only-of-type {\n",
              "        vertical-align: middle;\n",
              "    }\n",
              "\n",
              "    .dataframe tbody tr th {\n",
              "        vertical-align: top;\n",
              "    }\n",
              "\n",
              "    .dataframe thead th {\n",
              "        text-align: right;\n",
              "    }\n",
              "</style>\n",
              "<table border=\"1\" class=\"dataframe\">\n",
              "  <thead>\n",
              "    <tr style=\"text-align: right;\">\n",
              "      <th></th>\n",
              "      <th>ID</th>\n",
              "      <th>Date House was Sold</th>\n",
              "      <th>Sale Price</th>\n",
              "      <th>No of Bedrooms</th>\n",
              "      <th>No of Bathrooms</th>\n",
              "      <th>Flat Area (in Sqft)</th>\n",
              "      <th>Lot Area (in Sqft)</th>\n",
              "      <th>No of Floors</th>\n",
              "      <th>Waterfront View</th>\n",
              "      <th>No of Times Visited</th>\n",
              "      <th>Condition of the House</th>\n",
              "      <th>Overall Grade</th>\n",
              "      <th>Area of the House from Basement (in Sqft)</th>\n",
              "      <th>Basement Area (in Sqft)</th>\n",
              "      <th>Age of House (in Years)</th>\n",
              "      <th>Renovated Year</th>\n",
              "      <th>Zipcode</th>\n",
              "      <th>Latitude</th>\n",
              "      <th>Longitude</th>\n",
              "      <th>Living Area after Renovation (in Sqft)</th>\n",
              "      <th>Lot Area after Renovation (in Sqft)</th>\n",
              "      <th>renovated</th>\n",
              "      <th>year</th>\n",
              "    </tr>\n",
              "  </thead>\n",
              "  <tbody>\n",
              "    <tr>\n",
              "      <th>0</th>\n",
              "      <td>7129300520</td>\n",
              "      <td>14 October 2017</td>\n",
              "      <td>221900.0</td>\n",
              "      <td>3</td>\n",
              "      <td>1.00</td>\n",
              "      <td>1180.0</td>\n",
              "      <td>5650.0</td>\n",
              "      <td>1.0</td>\n",
              "      <td>No</td>\n",
              "      <td>0</td>\n",
              "      <td>Fair</td>\n",
              "      <td>7</td>\n",
              "      <td>1180.0</td>\n",
              "      <td>0</td>\n",
              "      <td>63</td>\n",
              "      <td>0</td>\n",
              "      <td>98178.0</td>\n",
              "      <td>47.5112</td>\n",
              "      <td>-122.257</td>\n",
              "      <td>1340.0</td>\n",
              "      <td>5650</td>\n",
              "      <td>no</td>\n",
              "      <td>2017</td>\n",
              "    </tr>\n",
              "    <tr>\n",
              "      <th>1</th>\n",
              "      <td>6414100192</td>\n",
              "      <td>14 December 2017</td>\n",
              "      <td>538000.0</td>\n",
              "      <td>3</td>\n",
              "      <td>2.25</td>\n",
              "      <td>2570.0</td>\n",
              "      <td>7242.0</td>\n",
              "      <td>2.0</td>\n",
              "      <td>No</td>\n",
              "      <td>0</td>\n",
              "      <td>Fair</td>\n",
              "      <td>7</td>\n",
              "      <td>2170.0</td>\n",
              "      <td>400</td>\n",
              "      <td>67</td>\n",
              "      <td>1991</td>\n",
              "      <td>98125.0</td>\n",
              "      <td>47.7210</td>\n",
              "      <td>-122.319</td>\n",
              "      <td>1690.0</td>\n",
              "      <td>7639</td>\n",
              "      <td>yes</td>\n",
              "      <td>2017</td>\n",
              "    </tr>\n",
              "    <tr>\n",
              "      <th>2</th>\n",
              "      <td>5631500400</td>\n",
              "      <td>15 February 2016</td>\n",
              "      <td>180000.0</td>\n",
              "      <td>2</td>\n",
              "      <td>1.00</td>\n",
              "      <td>770.0</td>\n",
              "      <td>10000.0</td>\n",
              "      <td>1.0</td>\n",
              "      <td>No</td>\n",
              "      <td>0</td>\n",
              "      <td>Fair</td>\n",
              "      <td>6</td>\n",
              "      <td>770.0</td>\n",
              "      <td>0</td>\n",
              "      <td>85</td>\n",
              "      <td>0</td>\n",
              "      <td>98028.0</td>\n",
              "      <td>47.7379</td>\n",
              "      <td>-122.233</td>\n",
              "      <td>2720.0</td>\n",
              "      <td>8062</td>\n",
              "      <td>no</td>\n",
              "      <td>2016</td>\n",
              "    </tr>\n",
              "    <tr>\n",
              "      <th>3</th>\n",
              "      <td>2487200875</td>\n",
              "      <td>14 December 2017</td>\n",
              "      <td>604000.0</td>\n",
              "      <td>4</td>\n",
              "      <td>3.00</td>\n",
              "      <td>1960.0</td>\n",
              "      <td>5000.0</td>\n",
              "      <td>1.0</td>\n",
              "      <td>No</td>\n",
              "      <td>0</td>\n",
              "      <td>Excellent</td>\n",
              "      <td>7</td>\n",
              "      <td>1050.0</td>\n",
              "      <td>910</td>\n",
              "      <td>53</td>\n",
              "      <td>0</td>\n",
              "      <td>98136.0</td>\n",
              "      <td>47.5208</td>\n",
              "      <td>-122.393</td>\n",
              "      <td>1360.0</td>\n",
              "      <td>5000</td>\n",
              "      <td>no</td>\n",
              "      <td>2017</td>\n",
              "    </tr>\n",
              "    <tr>\n",
              "      <th>4</th>\n",
              "      <td>1954400510</td>\n",
              "      <td>15 February 2016</td>\n",
              "      <td>510000.0</td>\n",
              "      <td>3</td>\n",
              "      <td>2.00</td>\n",
              "      <td>1680.0</td>\n",
              "      <td>8080.0</td>\n",
              "      <td>1.0</td>\n",
              "      <td>No</td>\n",
              "      <td>0</td>\n",
              "      <td>Fair</td>\n",
              "      <td>8</td>\n",
              "      <td>1680.0</td>\n",
              "      <td>0</td>\n",
              "      <td>31</td>\n",
              "      <td>0</td>\n",
              "      <td>98074.0</td>\n",
              "      <td>47.6168</td>\n",
              "      <td>-122.045</td>\n",
              "      <td>1800.0</td>\n",
              "      <td>7503</td>\n",
              "      <td>no</td>\n",
              "      <td>2016</td>\n",
              "    </tr>\n",
              "  </tbody>\n",
              "</table>\n",
              "</div>"
            ],
            "text/plain": [
              "           ID Date House was Sold  ...  renovated  year\n",
              "0  7129300520     14 October 2017  ...         no  2017\n",
              "1  6414100192    14 December 2017  ...        yes  2017\n",
              "2  5631500400    15 February 2016  ...         no  2016\n",
              "3  2487200875    14 December 2017  ...         no  2017\n",
              "4  1954400510    15 February 2016  ...         no  2016\n",
              "\n",
              "[5 rows x 23 columns]"
            ]
          },
          "metadata": {
            "tags": []
          },
          "execution_count": 119
        }
      ]
    },
    {
      "cell_type": "code",
      "metadata": {
        "id": "0EfRrkRk0bQa"
      },
      "source": [
        "data3[\"years_since_renovation\"] = np.where(data3[\"renovated\"]=='yes', abs(data3[\"year\"]-data3[\"Renovated Year\"]), 0)"
      ],
      "execution_count": 120,
      "outputs": []
    },
    {
      "cell_type": "code",
      "metadata": {
        "colab": {
          "base_uri": "https://localhost:8080/",
          "height": 757
        },
        "id": "EnmoHvcu16zs",
        "outputId": "fdf763e8-b37b-4766-9eec-3b84ea082aa7"
      },
      "source": [
        "data3.head(10)"
      ],
      "execution_count": 121,
      "outputs": [
        {
          "output_type": "execute_result",
          "data": {
            "text/html": [
              "<div>\n",
              "<style scoped>\n",
              "    .dataframe tbody tr th:only-of-type {\n",
              "        vertical-align: middle;\n",
              "    }\n",
              "\n",
              "    .dataframe tbody tr th {\n",
              "        vertical-align: top;\n",
              "    }\n",
              "\n",
              "    .dataframe thead th {\n",
              "        text-align: right;\n",
              "    }\n",
              "</style>\n",
              "<table border=\"1\" class=\"dataframe\">\n",
              "  <thead>\n",
              "    <tr style=\"text-align: right;\">\n",
              "      <th></th>\n",
              "      <th>ID</th>\n",
              "      <th>Date House was Sold</th>\n",
              "      <th>Sale Price</th>\n",
              "      <th>No of Bedrooms</th>\n",
              "      <th>No of Bathrooms</th>\n",
              "      <th>Flat Area (in Sqft)</th>\n",
              "      <th>Lot Area (in Sqft)</th>\n",
              "      <th>No of Floors</th>\n",
              "      <th>Waterfront View</th>\n",
              "      <th>No of Times Visited</th>\n",
              "      <th>Condition of the House</th>\n",
              "      <th>Overall Grade</th>\n",
              "      <th>Area of the House from Basement (in Sqft)</th>\n",
              "      <th>Basement Area (in Sqft)</th>\n",
              "      <th>Age of House (in Years)</th>\n",
              "      <th>Renovated Year</th>\n",
              "      <th>Zipcode</th>\n",
              "      <th>Latitude</th>\n",
              "      <th>Longitude</th>\n",
              "      <th>Living Area after Renovation (in Sqft)</th>\n",
              "      <th>Lot Area after Renovation (in Sqft)</th>\n",
              "      <th>renovated</th>\n",
              "      <th>year</th>\n",
              "      <th>years_since_renovation</th>\n",
              "    </tr>\n",
              "  </thead>\n",
              "  <tbody>\n",
              "    <tr>\n",
              "      <th>0</th>\n",
              "      <td>7129300520</td>\n",
              "      <td>14 October 2017</td>\n",
              "      <td>221900.0</td>\n",
              "      <td>3</td>\n",
              "      <td>1.00</td>\n",
              "      <td>1180.0</td>\n",
              "      <td>5650.0</td>\n",
              "      <td>1.0</td>\n",
              "      <td>No</td>\n",
              "      <td>0</td>\n",
              "      <td>Fair</td>\n",
              "      <td>7</td>\n",
              "      <td>1180.0</td>\n",
              "      <td>0</td>\n",
              "      <td>63</td>\n",
              "      <td>0</td>\n",
              "      <td>98178.0</td>\n",
              "      <td>47.5112</td>\n",
              "      <td>-122.257</td>\n",
              "      <td>1340.0</td>\n",
              "      <td>5650</td>\n",
              "      <td>no</td>\n",
              "      <td>2017</td>\n",
              "      <td>0</td>\n",
              "    </tr>\n",
              "    <tr>\n",
              "      <th>1</th>\n",
              "      <td>6414100192</td>\n",
              "      <td>14 December 2017</td>\n",
              "      <td>538000.0</td>\n",
              "      <td>3</td>\n",
              "      <td>2.25</td>\n",
              "      <td>2570.0</td>\n",
              "      <td>7242.0</td>\n",
              "      <td>2.0</td>\n",
              "      <td>No</td>\n",
              "      <td>0</td>\n",
              "      <td>Fair</td>\n",
              "      <td>7</td>\n",
              "      <td>2170.0</td>\n",
              "      <td>400</td>\n",
              "      <td>67</td>\n",
              "      <td>1991</td>\n",
              "      <td>98125.0</td>\n",
              "      <td>47.7210</td>\n",
              "      <td>-122.319</td>\n",
              "      <td>1690.0</td>\n",
              "      <td>7639</td>\n",
              "      <td>yes</td>\n",
              "      <td>2017</td>\n",
              "      <td>26</td>\n",
              "    </tr>\n",
              "    <tr>\n",
              "      <th>2</th>\n",
              "      <td>5631500400</td>\n",
              "      <td>15 February 2016</td>\n",
              "      <td>180000.0</td>\n",
              "      <td>2</td>\n",
              "      <td>1.00</td>\n",
              "      <td>770.0</td>\n",
              "      <td>10000.0</td>\n",
              "      <td>1.0</td>\n",
              "      <td>No</td>\n",
              "      <td>0</td>\n",
              "      <td>Fair</td>\n",
              "      <td>6</td>\n",
              "      <td>770.0</td>\n",
              "      <td>0</td>\n",
              "      <td>85</td>\n",
              "      <td>0</td>\n",
              "      <td>98028.0</td>\n",
              "      <td>47.7379</td>\n",
              "      <td>-122.233</td>\n",
              "      <td>2720.0</td>\n",
              "      <td>8062</td>\n",
              "      <td>no</td>\n",
              "      <td>2016</td>\n",
              "      <td>0</td>\n",
              "    </tr>\n",
              "    <tr>\n",
              "      <th>3</th>\n",
              "      <td>2487200875</td>\n",
              "      <td>14 December 2017</td>\n",
              "      <td>604000.0</td>\n",
              "      <td>4</td>\n",
              "      <td>3.00</td>\n",
              "      <td>1960.0</td>\n",
              "      <td>5000.0</td>\n",
              "      <td>1.0</td>\n",
              "      <td>No</td>\n",
              "      <td>0</td>\n",
              "      <td>Excellent</td>\n",
              "      <td>7</td>\n",
              "      <td>1050.0</td>\n",
              "      <td>910</td>\n",
              "      <td>53</td>\n",
              "      <td>0</td>\n",
              "      <td>98136.0</td>\n",
              "      <td>47.5208</td>\n",
              "      <td>-122.393</td>\n",
              "      <td>1360.0</td>\n",
              "      <td>5000</td>\n",
              "      <td>no</td>\n",
              "      <td>2017</td>\n",
              "      <td>0</td>\n",
              "    </tr>\n",
              "    <tr>\n",
              "      <th>4</th>\n",
              "      <td>1954400510</td>\n",
              "      <td>15 February 2016</td>\n",
              "      <td>510000.0</td>\n",
              "      <td>3</td>\n",
              "      <td>2.00</td>\n",
              "      <td>1680.0</td>\n",
              "      <td>8080.0</td>\n",
              "      <td>1.0</td>\n",
              "      <td>No</td>\n",
              "      <td>0</td>\n",
              "      <td>Fair</td>\n",
              "      <td>8</td>\n",
              "      <td>1680.0</td>\n",
              "      <td>0</td>\n",
              "      <td>31</td>\n",
              "      <td>0</td>\n",
              "      <td>98074.0</td>\n",
              "      <td>47.6168</td>\n",
              "      <td>-122.045</td>\n",
              "      <td>1800.0</td>\n",
              "      <td>7503</td>\n",
              "      <td>no</td>\n",
              "      <td>2016</td>\n",
              "      <td>0</td>\n",
              "    </tr>\n",
              "    <tr>\n",
              "      <th>5</th>\n",
              "      <td>7237550310</td>\n",
              "      <td>14 May 2017</td>\n",
              "      <td>1129575.0</td>\n",
              "      <td>4</td>\n",
              "      <td>4.50</td>\n",
              "      <td>5420.0</td>\n",
              "      <td>101930.0</td>\n",
              "      <td>1.0</td>\n",
              "      <td>No</td>\n",
              "      <td>0</td>\n",
              "      <td>Fair</td>\n",
              "      <td>10</td>\n",
              "      <td>3890.0</td>\n",
              "      <td>1530</td>\n",
              "      <td>17</td>\n",
              "      <td>0</td>\n",
              "      <td>98053.0</td>\n",
              "      <td>47.6561</td>\n",
              "      <td>-122.005</td>\n",
              "      <td>4760.0</td>\n",
              "      <td>101930</td>\n",
              "      <td>no</td>\n",
              "      <td>2017</td>\n",
              "      <td>0</td>\n",
              "    </tr>\n",
              "    <tr>\n",
              "      <th>6</th>\n",
              "      <td>1321400060</td>\n",
              "      <td>14 June 2017</td>\n",
              "      <td>257500.0</td>\n",
              "      <td>3</td>\n",
              "      <td>2.25</td>\n",
              "      <td>1715.0</td>\n",
              "      <td>6819.0</td>\n",
              "      <td>2.0</td>\n",
              "      <td>No</td>\n",
              "      <td>0</td>\n",
              "      <td>Fair</td>\n",
              "      <td>7</td>\n",
              "      <td>1715.0</td>\n",
              "      <td>0</td>\n",
              "      <td>23</td>\n",
              "      <td>0</td>\n",
              "      <td>98003.0</td>\n",
              "      <td>47.3097</td>\n",
              "      <td>-122.327</td>\n",
              "      <td>2238.0</td>\n",
              "      <td>6819</td>\n",
              "      <td>no</td>\n",
              "      <td>2017</td>\n",
              "      <td>0</td>\n",
              "    </tr>\n",
              "    <tr>\n",
              "      <th>7</th>\n",
              "      <td>2008000270</td>\n",
              "      <td>15 January 2016</td>\n",
              "      <td>291850.0</td>\n",
              "      <td>3</td>\n",
              "      <td>1.50</td>\n",
              "      <td>1060.0</td>\n",
              "      <td>9711.0</td>\n",
              "      <td>1.0</td>\n",
              "      <td>No</td>\n",
              "      <td>0</td>\n",
              "      <td>Fair</td>\n",
              "      <td>7</td>\n",
              "      <td>1060.0</td>\n",
              "      <td>0</td>\n",
              "      <td>55</td>\n",
              "      <td>0</td>\n",
              "      <td>98198.0</td>\n",
              "      <td>47.4095</td>\n",
              "      <td>-122.315</td>\n",
              "      <td>1650.0</td>\n",
              "      <td>9711</td>\n",
              "      <td>no</td>\n",
              "      <td>2016</td>\n",
              "      <td>0</td>\n",
              "    </tr>\n",
              "    <tr>\n",
              "      <th>8</th>\n",
              "      <td>2414600126</td>\n",
              "      <td>15 April 2016</td>\n",
              "      <td>229500.0</td>\n",
              "      <td>3</td>\n",
              "      <td>1.00</td>\n",
              "      <td>1780.0</td>\n",
              "      <td>7470.0</td>\n",
              "      <td>1.0</td>\n",
              "      <td>No</td>\n",
              "      <td>0</td>\n",
              "      <td>Fair</td>\n",
              "      <td>7</td>\n",
              "      <td>1050.0</td>\n",
              "      <td>730</td>\n",
              "      <td>58</td>\n",
              "      <td>0</td>\n",
              "      <td>98146.0</td>\n",
              "      <td>47.5123</td>\n",
              "      <td>-122.337</td>\n",
              "      <td>1780.0</td>\n",
              "      <td>8113</td>\n",
              "      <td>no</td>\n",
              "      <td>2016</td>\n",
              "      <td>0</td>\n",
              "    </tr>\n",
              "    <tr>\n",
              "      <th>9</th>\n",
              "      <td>3793500160</td>\n",
              "      <td>15 March 2016</td>\n",
              "      <td>323000.0</td>\n",
              "      <td>3</td>\n",
              "      <td>2.50</td>\n",
              "      <td>1890.0</td>\n",
              "      <td>6560.0</td>\n",
              "      <td>2.0</td>\n",
              "      <td>No</td>\n",
              "      <td>0</td>\n",
              "      <td>Fair</td>\n",
              "      <td>7</td>\n",
              "      <td>1890.0</td>\n",
              "      <td>0</td>\n",
              "      <td>15</td>\n",
              "      <td>0</td>\n",
              "      <td>98038.0</td>\n",
              "      <td>47.3684</td>\n",
              "      <td>-122.031</td>\n",
              "      <td>2390.0</td>\n",
              "      <td>7570</td>\n",
              "      <td>no</td>\n",
              "      <td>2016</td>\n",
              "      <td>0</td>\n",
              "    </tr>\n",
              "  </tbody>\n",
              "</table>\n",
              "</div>"
            ],
            "text/plain": [
              "           ID Date House was Sold  ...  year  years_since_renovation\n",
              "0  7129300520     14 October 2017  ...  2017                       0\n",
              "1  6414100192    14 December 2017  ...  2017                      26\n",
              "2  5631500400    15 February 2016  ...  2016                       0\n",
              "3  2487200875    14 December 2017  ...  2017                       0\n",
              "4  1954400510    15 February 2016  ...  2016                       0\n",
              "5  7237550310         14 May 2017  ...  2017                       0\n",
              "6  1321400060        14 June 2017  ...  2017                       0\n",
              "7  2008000270     15 January 2016  ...  2016                       0\n",
              "8  2414600126       15 April 2016  ...  2016                       0\n",
              "9  3793500160       15 March 2016  ...  2016                       0\n",
              "\n",
              "[10 rows x 24 columns]"
            ]
          },
          "metadata": {
            "tags": []
          },
          "execution_count": 121
        }
      ]
    },
    {
      "cell_type": "code",
      "metadata": {
        "id": "5AX4F8r027NM"
      },
      "source": [
        "# we will only be using \"years_since_renovation\", so we can drop all the other variables which we used to derive \"years_since_renovation\" to keep our code tidy.\n",
        "data3.drop(columns = ['Date House was Sold','Renovated Year','year'], inplace=True)"
      ],
      "execution_count": 122,
      "outputs": []
    },
    {
      "cell_type": "code",
      "metadata": {
        "colab": {
          "base_uri": "https://localhost:8080/",
          "height": 479
        },
        "id": "wabFDgt035IC",
        "outputId": "35732325-2866-427d-cb71-9282c3e70571"
      },
      "source": [
        "data3.head(10)"
      ],
      "execution_count": 123,
      "outputs": [
        {
          "output_type": "execute_result",
          "data": {
            "text/html": [
              "<div>\n",
              "<style scoped>\n",
              "    .dataframe tbody tr th:only-of-type {\n",
              "        vertical-align: middle;\n",
              "    }\n",
              "\n",
              "    .dataframe tbody tr th {\n",
              "        vertical-align: top;\n",
              "    }\n",
              "\n",
              "    .dataframe thead th {\n",
              "        text-align: right;\n",
              "    }\n",
              "</style>\n",
              "<table border=\"1\" class=\"dataframe\">\n",
              "  <thead>\n",
              "    <tr style=\"text-align: right;\">\n",
              "      <th></th>\n",
              "      <th>ID</th>\n",
              "      <th>Sale Price</th>\n",
              "      <th>No of Bedrooms</th>\n",
              "      <th>No of Bathrooms</th>\n",
              "      <th>Flat Area (in Sqft)</th>\n",
              "      <th>Lot Area (in Sqft)</th>\n",
              "      <th>No of Floors</th>\n",
              "      <th>Waterfront View</th>\n",
              "      <th>No of Times Visited</th>\n",
              "      <th>Condition of the House</th>\n",
              "      <th>Overall Grade</th>\n",
              "      <th>Area of the House from Basement (in Sqft)</th>\n",
              "      <th>Basement Area (in Sqft)</th>\n",
              "      <th>Age of House (in Years)</th>\n",
              "      <th>Zipcode</th>\n",
              "      <th>Latitude</th>\n",
              "      <th>Longitude</th>\n",
              "      <th>Living Area after Renovation (in Sqft)</th>\n",
              "      <th>Lot Area after Renovation (in Sqft)</th>\n",
              "      <th>renovated</th>\n",
              "      <th>years_since_renovation</th>\n",
              "    </tr>\n",
              "  </thead>\n",
              "  <tbody>\n",
              "    <tr>\n",
              "      <th>0</th>\n",
              "      <td>7129300520</td>\n",
              "      <td>221900.0</td>\n",
              "      <td>3</td>\n",
              "      <td>1.00</td>\n",
              "      <td>1180.0</td>\n",
              "      <td>5650.0</td>\n",
              "      <td>1.0</td>\n",
              "      <td>No</td>\n",
              "      <td>0</td>\n",
              "      <td>Fair</td>\n",
              "      <td>7</td>\n",
              "      <td>1180.0</td>\n",
              "      <td>0</td>\n",
              "      <td>63</td>\n",
              "      <td>98178.0</td>\n",
              "      <td>47.5112</td>\n",
              "      <td>-122.257</td>\n",
              "      <td>1340.0</td>\n",
              "      <td>5650</td>\n",
              "      <td>no</td>\n",
              "      <td>0</td>\n",
              "    </tr>\n",
              "    <tr>\n",
              "      <th>1</th>\n",
              "      <td>6414100192</td>\n",
              "      <td>538000.0</td>\n",
              "      <td>3</td>\n",
              "      <td>2.25</td>\n",
              "      <td>2570.0</td>\n",
              "      <td>7242.0</td>\n",
              "      <td>2.0</td>\n",
              "      <td>No</td>\n",
              "      <td>0</td>\n",
              "      <td>Fair</td>\n",
              "      <td>7</td>\n",
              "      <td>2170.0</td>\n",
              "      <td>400</td>\n",
              "      <td>67</td>\n",
              "      <td>98125.0</td>\n",
              "      <td>47.7210</td>\n",
              "      <td>-122.319</td>\n",
              "      <td>1690.0</td>\n",
              "      <td>7639</td>\n",
              "      <td>yes</td>\n",
              "      <td>26</td>\n",
              "    </tr>\n",
              "    <tr>\n",
              "      <th>2</th>\n",
              "      <td>5631500400</td>\n",
              "      <td>180000.0</td>\n",
              "      <td>2</td>\n",
              "      <td>1.00</td>\n",
              "      <td>770.0</td>\n",
              "      <td>10000.0</td>\n",
              "      <td>1.0</td>\n",
              "      <td>No</td>\n",
              "      <td>0</td>\n",
              "      <td>Fair</td>\n",
              "      <td>6</td>\n",
              "      <td>770.0</td>\n",
              "      <td>0</td>\n",
              "      <td>85</td>\n",
              "      <td>98028.0</td>\n",
              "      <td>47.7379</td>\n",
              "      <td>-122.233</td>\n",
              "      <td>2720.0</td>\n",
              "      <td>8062</td>\n",
              "      <td>no</td>\n",
              "      <td>0</td>\n",
              "    </tr>\n",
              "    <tr>\n",
              "      <th>3</th>\n",
              "      <td>2487200875</td>\n",
              "      <td>604000.0</td>\n",
              "      <td>4</td>\n",
              "      <td>3.00</td>\n",
              "      <td>1960.0</td>\n",
              "      <td>5000.0</td>\n",
              "      <td>1.0</td>\n",
              "      <td>No</td>\n",
              "      <td>0</td>\n",
              "      <td>Excellent</td>\n",
              "      <td>7</td>\n",
              "      <td>1050.0</td>\n",
              "      <td>910</td>\n",
              "      <td>53</td>\n",
              "      <td>98136.0</td>\n",
              "      <td>47.5208</td>\n",
              "      <td>-122.393</td>\n",
              "      <td>1360.0</td>\n",
              "      <td>5000</td>\n",
              "      <td>no</td>\n",
              "      <td>0</td>\n",
              "    </tr>\n",
              "    <tr>\n",
              "      <th>4</th>\n",
              "      <td>1954400510</td>\n",
              "      <td>510000.0</td>\n",
              "      <td>3</td>\n",
              "      <td>2.00</td>\n",
              "      <td>1680.0</td>\n",
              "      <td>8080.0</td>\n",
              "      <td>1.0</td>\n",
              "      <td>No</td>\n",
              "      <td>0</td>\n",
              "      <td>Fair</td>\n",
              "      <td>8</td>\n",
              "      <td>1680.0</td>\n",
              "      <td>0</td>\n",
              "      <td>31</td>\n",
              "      <td>98074.0</td>\n",
              "      <td>47.6168</td>\n",
              "      <td>-122.045</td>\n",
              "      <td>1800.0</td>\n",
              "      <td>7503</td>\n",
              "      <td>no</td>\n",
              "      <td>0</td>\n",
              "    </tr>\n",
              "    <tr>\n",
              "      <th>5</th>\n",
              "      <td>7237550310</td>\n",
              "      <td>1129575.0</td>\n",
              "      <td>4</td>\n",
              "      <td>4.50</td>\n",
              "      <td>5420.0</td>\n",
              "      <td>101930.0</td>\n",
              "      <td>1.0</td>\n",
              "      <td>No</td>\n",
              "      <td>0</td>\n",
              "      <td>Fair</td>\n",
              "      <td>10</td>\n",
              "      <td>3890.0</td>\n",
              "      <td>1530</td>\n",
              "      <td>17</td>\n",
              "      <td>98053.0</td>\n",
              "      <td>47.6561</td>\n",
              "      <td>-122.005</td>\n",
              "      <td>4760.0</td>\n",
              "      <td>101930</td>\n",
              "      <td>no</td>\n",
              "      <td>0</td>\n",
              "    </tr>\n",
              "    <tr>\n",
              "      <th>6</th>\n",
              "      <td>1321400060</td>\n",
              "      <td>257500.0</td>\n",
              "      <td>3</td>\n",
              "      <td>2.25</td>\n",
              "      <td>1715.0</td>\n",
              "      <td>6819.0</td>\n",
              "      <td>2.0</td>\n",
              "      <td>No</td>\n",
              "      <td>0</td>\n",
              "      <td>Fair</td>\n",
              "      <td>7</td>\n",
              "      <td>1715.0</td>\n",
              "      <td>0</td>\n",
              "      <td>23</td>\n",
              "      <td>98003.0</td>\n",
              "      <td>47.3097</td>\n",
              "      <td>-122.327</td>\n",
              "      <td>2238.0</td>\n",
              "      <td>6819</td>\n",
              "      <td>no</td>\n",
              "      <td>0</td>\n",
              "    </tr>\n",
              "    <tr>\n",
              "      <th>7</th>\n",
              "      <td>2008000270</td>\n",
              "      <td>291850.0</td>\n",
              "      <td>3</td>\n",
              "      <td>1.50</td>\n",
              "      <td>1060.0</td>\n",
              "      <td>9711.0</td>\n",
              "      <td>1.0</td>\n",
              "      <td>No</td>\n",
              "      <td>0</td>\n",
              "      <td>Fair</td>\n",
              "      <td>7</td>\n",
              "      <td>1060.0</td>\n",
              "      <td>0</td>\n",
              "      <td>55</td>\n",
              "      <td>98198.0</td>\n",
              "      <td>47.4095</td>\n",
              "      <td>-122.315</td>\n",
              "      <td>1650.0</td>\n",
              "      <td>9711</td>\n",
              "      <td>no</td>\n",
              "      <td>0</td>\n",
              "    </tr>\n",
              "    <tr>\n",
              "      <th>8</th>\n",
              "      <td>2414600126</td>\n",
              "      <td>229500.0</td>\n",
              "      <td>3</td>\n",
              "      <td>1.00</td>\n",
              "      <td>1780.0</td>\n",
              "      <td>7470.0</td>\n",
              "      <td>1.0</td>\n",
              "      <td>No</td>\n",
              "      <td>0</td>\n",
              "      <td>Fair</td>\n",
              "      <td>7</td>\n",
              "      <td>1050.0</td>\n",
              "      <td>730</td>\n",
              "      <td>58</td>\n",
              "      <td>98146.0</td>\n",
              "      <td>47.5123</td>\n",
              "      <td>-122.337</td>\n",
              "      <td>1780.0</td>\n",
              "      <td>8113</td>\n",
              "      <td>no</td>\n",
              "      <td>0</td>\n",
              "    </tr>\n",
              "    <tr>\n",
              "      <th>9</th>\n",
              "      <td>3793500160</td>\n",
              "      <td>323000.0</td>\n",
              "      <td>3</td>\n",
              "      <td>2.50</td>\n",
              "      <td>1890.0</td>\n",
              "      <td>6560.0</td>\n",
              "      <td>2.0</td>\n",
              "      <td>No</td>\n",
              "      <td>0</td>\n",
              "      <td>Fair</td>\n",
              "      <td>7</td>\n",
              "      <td>1890.0</td>\n",
              "      <td>0</td>\n",
              "      <td>15</td>\n",
              "      <td>98038.0</td>\n",
              "      <td>47.3684</td>\n",
              "      <td>-122.031</td>\n",
              "      <td>2390.0</td>\n",
              "      <td>7570</td>\n",
              "      <td>no</td>\n",
              "      <td>0</td>\n",
              "    </tr>\n",
              "  </tbody>\n",
              "</table>\n",
              "</div>"
            ],
            "text/plain": [
              "           ID  Sale Price  ...  renovated  years_since_renovation\n",
              "0  7129300520    221900.0  ...         no                       0\n",
              "1  6414100192    538000.0  ...        yes                      26\n",
              "2  5631500400    180000.0  ...         no                       0\n",
              "3  2487200875    604000.0  ...         no                       0\n",
              "4  1954400510    510000.0  ...         no                       0\n",
              "5  7237550310   1129575.0  ...         no                       0\n",
              "6  1321400060    257500.0  ...         no                       0\n",
              "7  2008000270    291850.0  ...         no                       0\n",
              "8  2414600126    229500.0  ...         no                       0\n",
              "9  3793500160    323000.0  ...         no                       0\n",
              "\n",
              "[10 rows x 21 columns]"
            ]
          },
          "metadata": {
            "tags": []
          },
          "execution_count": 123
        }
      ]
    },
    {
      "cell_type": "code",
      "metadata": {
        "id": "C8cS9Bjt8hMY"
      },
      "source": [
        "# now we have further refined our data, therefore we will use the refined data now.\n",
        "data4 = pd.read_csv(\"/content/Transformed_Housing_Data.csv\")"
      ],
      "execution_count": 124,
      "outputs": []
    },
    {
      "cell_type": "code",
      "metadata": {
        "colab": {
          "base_uri": "https://localhost:8080/"
        },
        "id": "86vPiP2888vk",
        "outputId": "c772df3d-f038-4bc3-f48f-537b90009c79"
      },
      "source": [
        "# now we will see the corelation between different variables\n",
        "data4[\"Sale Price\"].corr(data4[\"Flat Area (in Sqft)\"])"
      ],
      "execution_count": 125,
      "outputs": [
        {
          "output_type": "execute_result",
          "data": {
            "text/plain": [
              "0.6951704258420669"
            ]
          },
          "metadata": {
            "tags": []
          },
          "execution_count": 125
        }
      ]
    },
    {
      "cell_type": "code",
      "metadata": {
        "colab": {
          "base_uri": "https://localhost:8080/",
          "height": 1000
        },
        "id": "WvJIF-5wD8YH",
        "outputId": "6d0dfc2d-9577-4e2e-bdb8-932522acd65c"
      },
      "source": [
        "data4.drop(columns = [\"ID\"]).corr()"
      ],
      "execution_count": 126,
      "outputs": [
        {
          "output_type": "execute_result",
          "data": {
            "text/html": [
              "<div>\n",
              "<style scoped>\n",
              "    .dataframe tbody tr th:only-of-type {\n",
              "        vertical-align: middle;\n",
              "    }\n",
              "\n",
              "    .dataframe tbody tr th {\n",
              "        vertical-align: top;\n",
              "    }\n",
              "\n",
              "    .dataframe thead th {\n",
              "        text-align: right;\n",
              "    }\n",
              "</style>\n",
              "<table border=\"1\" class=\"dataframe\">\n",
              "  <thead>\n",
              "    <tr style=\"text-align: right;\">\n",
              "      <th></th>\n",
              "      <th>Sale Price</th>\n",
              "      <th>No of Bedrooms</th>\n",
              "      <th>No of Bathrooms</th>\n",
              "      <th>Flat Area (in Sqft)</th>\n",
              "      <th>Lot Area (in Sqft)</th>\n",
              "      <th>No of Floors</th>\n",
              "      <th>No of Times Visited</th>\n",
              "      <th>Overall Grade</th>\n",
              "      <th>Area of the House from Basement (in Sqft)</th>\n",
              "      <th>Basement Area (in Sqft)</th>\n",
              "      <th>Age of House (in Years)</th>\n",
              "      <th>Zipcode</th>\n",
              "      <th>Latitude</th>\n",
              "      <th>Longitude</th>\n",
              "      <th>Living Area after Renovation (in Sqft)</th>\n",
              "      <th>Lot Area after Renovation (in Sqft)</th>\n",
              "      <th>Years Since Renovation</th>\n",
              "    </tr>\n",
              "  </thead>\n",
              "  <tbody>\n",
              "    <tr>\n",
              "      <th>Sale Price</th>\n",
              "      <td>1.000000</td>\n",
              "      <td>0.339407</td>\n",
              "      <td>0.535124</td>\n",
              "      <td>0.695170</td>\n",
              "      <td>0.101319</td>\n",
              "      <td>0.298913</td>\n",
              "      <td>0.356114</td>\n",
              "      <td>0.680914</td>\n",
              "      <td>0.606527</td>\n",
              "      <td>0.307513</td>\n",
              "      <td>-0.064306</td>\n",
              "      <td>-0.043047</td>\n",
              "      <td>0.402430</td>\n",
              "      <td>0.045401</td>\n",
              "      <td>0.629944</td>\n",
              "      <td>0.092325</td>\n",
              "      <td>0.065907</td>\n",
              "    </tr>\n",
              "    <tr>\n",
              "      <th>No of Bedrooms</th>\n",
              "      <td>0.339407</td>\n",
              "      <td>1.000000</td>\n",
              "      <td>0.515813</td>\n",
              "      <td>0.576628</td>\n",
              "      <td>0.031692</td>\n",
              "      <td>0.175536</td>\n",
              "      <td>0.079575</td>\n",
              "      <td>0.349223</td>\n",
              "      <td>0.477549</td>\n",
              "      <td>0.303294</td>\n",
              "      <td>-0.154113</td>\n",
              "      <td>-0.152760</td>\n",
              "      <td>-0.008708</td>\n",
              "      <td>0.129569</td>\n",
              "      <td>0.391771</td>\n",
              "      <td>0.029264</td>\n",
              "      <td>-0.007198</td>\n",
              "    </tr>\n",
              "    <tr>\n",
              "      <th>No of Bathrooms</th>\n",
              "      <td>0.535124</td>\n",
              "      <td>0.515813</td>\n",
              "      <td>1.000000</td>\n",
              "      <td>0.754568</td>\n",
              "      <td>0.087732</td>\n",
              "      <td>0.500776</td>\n",
              "      <td>0.187791</td>\n",
              "      <td>0.635638</td>\n",
              "      <td>0.685088</td>\n",
              "      <td>0.283798</td>\n",
              "      <td>-0.505954</td>\n",
              "      <td>-0.203951</td>\n",
              "      <td>0.024570</td>\n",
              "      <td>0.223171</td>\n",
              "      <td>0.568568</td>\n",
              "      <td>0.087226</td>\n",
              "      <td>0.003551</td>\n",
              "    </tr>\n",
              "    <tr>\n",
              "      <th>Flat Area (in Sqft)</th>\n",
              "      <td>0.695170</td>\n",
              "      <td>0.576628</td>\n",
              "      <td>0.754568</td>\n",
              "      <td>1.000000</td>\n",
              "      <td>0.172721</td>\n",
              "      <td>0.354142</td>\n",
              "      <td>0.284678</td>\n",
              "      <td>0.705725</td>\n",
              "      <td>0.876226</td>\n",
              "      <td>0.435142</td>\n",
              "      <td>-0.318146</td>\n",
              "      <td>-0.199380</td>\n",
              "      <td>0.052538</td>\n",
              "      <td>0.240091</td>\n",
              "      <td>0.756185</td>\n",
              "      <td>0.183223</td>\n",
              "      <td>0.023503</td>\n",
              "    </tr>\n",
              "    <tr>\n",
              "      <th>Lot Area (in Sqft)</th>\n",
              "      <td>0.101319</td>\n",
              "      <td>0.031692</td>\n",
              "      <td>0.087732</td>\n",
              "      <td>0.172721</td>\n",
              "      <td>1.000000</td>\n",
              "      <td>-0.005162</td>\n",
              "      <td>0.074668</td>\n",
              "      <td>0.102314</td>\n",
              "      <td>0.183492</td>\n",
              "      <td>0.015252</td>\n",
              "      <td>-0.053119</td>\n",
              "      <td>-0.129551</td>\n",
              "      <td>-0.085719</td>\n",
              "      <td>0.229449</td>\n",
              "      <td>0.144507</td>\n",
              "      <td>0.718527</td>\n",
              "      <td>0.013835</td>\n",
              "    </tr>\n",
              "    <tr>\n",
              "      <th>No of Floors</th>\n",
              "      <td>0.298913</td>\n",
              "      <td>0.175536</td>\n",
              "      <td>0.500776</td>\n",
              "      <td>0.354142</td>\n",
              "      <td>-0.005162</td>\n",
              "      <td>1.000000</td>\n",
              "      <td>0.029504</td>\n",
              "      <td>0.461368</td>\n",
              "      <td>0.524031</td>\n",
              "      <td>-0.245572</td>\n",
              "      <td>-0.489244</td>\n",
              "      <td>-0.059222</td>\n",
              "      <td>0.049692</td>\n",
              "      <td>0.125620</td>\n",
              "      <td>0.280106</td>\n",
              "      <td>-0.011204</td>\n",
              "      <td>-0.000901</td>\n",
              "    </tr>\n",
              "    <tr>\n",
              "      <th>No of Times Visited</th>\n",
              "      <td>0.356114</td>\n",
              "      <td>0.079575</td>\n",
              "      <td>0.187791</td>\n",
              "      <td>0.284678</td>\n",
              "      <td>0.074668</td>\n",
              "      <td>0.029504</td>\n",
              "      <td>1.000000</td>\n",
              "      <td>0.223661</td>\n",
              "      <td>0.167812</td>\n",
              "      <td>0.276974</td>\n",
              "      <td>0.053395</td>\n",
              "      <td>0.084830</td>\n",
              "      <td>0.006162</td>\n",
              "      <td>-0.078453</td>\n",
              "      <td>0.280452</td>\n",
              "      <td>0.072561</td>\n",
              "      <td>0.093546</td>\n",
              "    </tr>\n",
              "    <tr>\n",
              "      <th>Overall Grade</th>\n",
              "      <td>0.680914</td>\n",
              "      <td>0.349223</td>\n",
              "      <td>0.635638</td>\n",
              "      <td>0.705725</td>\n",
              "      <td>0.102314</td>\n",
              "      <td>0.461368</td>\n",
              "      <td>0.223661</td>\n",
              "      <td>1.000000</td>\n",
              "      <td>0.705153</td>\n",
              "      <td>0.145232</td>\n",
              "      <td>-0.456711</td>\n",
              "      <td>-0.185844</td>\n",
              "      <td>0.111226</td>\n",
              "      <td>0.201736</td>\n",
              "      <td>0.681362</td>\n",
              "      <td>0.107581</td>\n",
              "      <td>-0.024388</td>\n",
              "    </tr>\n",
              "    <tr>\n",
              "      <th>Area of the House from Basement (in Sqft)</th>\n",
              "      <td>0.606527</td>\n",
              "      <td>0.477549</td>\n",
              "      <td>0.685088</td>\n",
              "      <td>0.876226</td>\n",
              "      <td>0.183492</td>\n",
              "      <td>0.524031</td>\n",
              "      <td>0.167812</td>\n",
              "      <td>0.705153</td>\n",
              "      <td>1.000000</td>\n",
              "      <td>-0.051825</td>\n",
              "      <td>-0.423848</td>\n",
              "      <td>-0.261124</td>\n",
              "      <td>-0.000819</td>\n",
              "      <td>0.343793</td>\n",
              "      <td>0.731996</td>\n",
              "      <td>0.194106</td>\n",
              "      <td>0.010491</td>\n",
              "    </tr>\n",
              "    <tr>\n",
              "      <th>Basement Area (in Sqft)</th>\n",
              "      <td>0.307513</td>\n",
              "      <td>0.303294</td>\n",
              "      <td>0.283798</td>\n",
              "      <td>0.435142</td>\n",
              "      <td>0.015252</td>\n",
              "      <td>-0.245572</td>\n",
              "      <td>0.276974</td>\n",
              "      <td>0.145232</td>\n",
              "      <td>-0.051825</td>\n",
              "      <td>1.000000</td>\n",
              "      <td>0.133072</td>\n",
              "      <td>0.074933</td>\n",
              "      <td>0.110451</td>\n",
              "      <td>-0.144822</td>\n",
              "      <td>0.200302</td>\n",
              "      <td>0.017263</td>\n",
              "      <td>0.029158</td>\n",
              "    </tr>\n",
              "    <tr>\n",
              "      <th>Age of House (in Years)</th>\n",
              "      <td>-0.064306</td>\n",
              "      <td>-0.154113</td>\n",
              "      <td>-0.505954</td>\n",
              "      <td>-0.318146</td>\n",
              "      <td>-0.053119</td>\n",
              "      <td>-0.489244</td>\n",
              "      <td>0.053395</td>\n",
              "      <td>-0.456711</td>\n",
              "      <td>-0.423848</td>\n",
              "      <td>0.133072</td>\n",
              "      <td>1.000000</td>\n",
              "      <td>0.346928</td>\n",
              "      <td>0.148083</td>\n",
              "      <td>-0.409515</td>\n",
              "      <td>-0.326307</td>\n",
              "      <td>-0.071016</td>\n",
              "      <td>0.203375</td>\n",
              "    </tr>\n",
              "    <tr>\n",
              "      <th>Zipcode</th>\n",
              "      <td>-0.043047</td>\n",
              "      <td>-0.152760</td>\n",
              "      <td>-0.203951</td>\n",
              "      <td>-0.199380</td>\n",
              "      <td>-0.129551</td>\n",
              "      <td>-0.059222</td>\n",
              "      <td>0.084830</td>\n",
              "      <td>-0.185844</td>\n",
              "      <td>-0.261124</td>\n",
              "      <td>0.074933</td>\n",
              "      <td>0.346928</td>\n",
              "      <td>1.000000</td>\n",
              "      <td>0.267022</td>\n",
              "      <td>-0.564138</td>\n",
              "      <td>-0.278972</td>\n",
              "      <td>-0.147223</td>\n",
              "      <td>0.049659</td>\n",
              "    </tr>\n",
              "    <tr>\n",
              "      <th>Latitude</th>\n",
              "      <td>0.402430</td>\n",
              "      <td>-0.008708</td>\n",
              "      <td>0.024570</td>\n",
              "      <td>0.052538</td>\n",
              "      <td>-0.085719</td>\n",
              "      <td>0.049692</td>\n",
              "      <td>0.006162</td>\n",
              "      <td>0.111226</td>\n",
              "      <td>-0.000819</td>\n",
              "      <td>0.110451</td>\n",
              "      <td>0.148083</td>\n",
              "      <td>0.267022</td>\n",
              "      <td>1.000000</td>\n",
              "      <td>-0.135551</td>\n",
              "      <td>0.048836</td>\n",
              "      <td>-0.086420</td>\n",
              "      <td>0.019739</td>\n",
              "    </tr>\n",
              "    <tr>\n",
              "      <th>Longitude</th>\n",
              "      <td>0.045401</td>\n",
              "      <td>0.129569</td>\n",
              "      <td>0.223171</td>\n",
              "      <td>0.240091</td>\n",
              "      <td>0.229449</td>\n",
              "      <td>0.125620</td>\n",
              "      <td>-0.078453</td>\n",
              "      <td>0.201736</td>\n",
              "      <td>0.343793</td>\n",
              "      <td>-0.144822</td>\n",
              "      <td>-0.409515</td>\n",
              "      <td>-0.564138</td>\n",
              "      <td>-0.135551</td>\n",
              "      <td>1.000000</td>\n",
              "      <td>0.334515</td>\n",
              "      <td>0.254428</td>\n",
              "      <td>-0.055039</td>\n",
              "    </tr>\n",
              "    <tr>\n",
              "      <th>Living Area after Renovation (in Sqft)</th>\n",
              "      <td>0.629944</td>\n",
              "      <td>0.391771</td>\n",
              "      <td>0.568568</td>\n",
              "      <td>0.756185</td>\n",
              "      <td>0.144507</td>\n",
              "      <td>0.280106</td>\n",
              "      <td>0.280452</td>\n",
              "      <td>0.681362</td>\n",
              "      <td>0.731996</td>\n",
              "      <td>0.200302</td>\n",
              "      <td>-0.326307</td>\n",
              "      <td>-0.278972</td>\n",
              "      <td>0.048836</td>\n",
              "      <td>0.334515</td>\n",
              "      <td>1.000000</td>\n",
              "      <td>0.183188</td>\n",
              "      <td>-0.008390</td>\n",
              "    </tr>\n",
              "    <tr>\n",
              "      <th>Lot Area after Renovation (in Sqft)</th>\n",
              "      <td>0.092325</td>\n",
              "      <td>0.029264</td>\n",
              "      <td>0.087226</td>\n",
              "      <td>0.183223</td>\n",
              "      <td>0.718527</td>\n",
              "      <td>-0.011204</td>\n",
              "      <td>0.072561</td>\n",
              "      <td>0.107581</td>\n",
              "      <td>0.194106</td>\n",
              "      <td>0.017263</td>\n",
              "      <td>-0.071016</td>\n",
              "      <td>-0.147223</td>\n",
              "      <td>-0.086420</td>\n",
              "      <td>0.254428</td>\n",
              "      <td>0.183188</td>\n",
              "      <td>1.000000</td>\n",
              "      <td>0.011289</td>\n",
              "    </tr>\n",
              "    <tr>\n",
              "      <th>Years Since Renovation</th>\n",
              "      <td>0.065907</td>\n",
              "      <td>-0.007198</td>\n",
              "      <td>0.003551</td>\n",
              "      <td>0.023503</td>\n",
              "      <td>0.013835</td>\n",
              "      <td>-0.000901</td>\n",
              "      <td>0.093546</td>\n",
              "      <td>-0.024388</td>\n",
              "      <td>0.010491</td>\n",
              "      <td>0.029158</td>\n",
              "      <td>0.203375</td>\n",
              "      <td>0.049659</td>\n",
              "      <td>0.019739</td>\n",
              "      <td>-0.055039</td>\n",
              "      <td>-0.008390</td>\n",
              "      <td>0.011289</td>\n",
              "      <td>1.000000</td>\n",
              "    </tr>\n",
              "  </tbody>\n",
              "</table>\n",
              "</div>"
            ],
            "text/plain": [
              "                                           Sale Price  ...  Years Since Renovation\n",
              "Sale Price                                   1.000000  ...                0.065907\n",
              "No of Bedrooms                               0.339407  ...               -0.007198\n",
              "No of Bathrooms                              0.535124  ...                0.003551\n",
              "Flat Area (in Sqft)                          0.695170  ...                0.023503\n",
              "Lot Area (in Sqft)                           0.101319  ...                0.013835\n",
              "No of Floors                                 0.298913  ...               -0.000901\n",
              "No of Times Visited                          0.356114  ...                0.093546\n",
              "Overall Grade                                0.680914  ...               -0.024388\n",
              "Area of the House from Basement (in Sqft)    0.606527  ...                0.010491\n",
              "Basement Area (in Sqft)                      0.307513  ...                0.029158\n",
              "Age of House (in Years)                     -0.064306  ...                0.203375\n",
              "Zipcode                                     -0.043047  ...                0.049659\n",
              "Latitude                                     0.402430  ...                0.019739\n",
              "Longitude                                    0.045401  ...               -0.055039\n",
              "Living Area after Renovation (in Sqft)       0.629944  ...               -0.008390\n",
              "Lot Area after Renovation (in Sqft)          0.092325  ...                0.011289\n",
              "Years Since Renovation                       0.065907  ...                1.000000\n",
              "\n",
              "[17 rows x 17 columns]"
            ]
          },
          "metadata": {
            "tags": []
          },
          "execution_count": 126
        }
      ]
    },
    {
      "cell_type": "code",
      "metadata": {
        "colab": {
          "base_uri": "https://localhost:8080/"
        },
        "id": "_vp__slON1-9",
        "outputId": "e6409043-de7e-4a50-c674-907e5e6e9900"
      },
      "source": [
        "data4.info()"
      ],
      "execution_count": 127,
      "outputs": [
        {
          "output_type": "stream",
          "text": [
            "<class 'pandas.core.frame.DataFrame'>\n",
            "RangeIndex: 21609 entries, 0 to 21608\n",
            "Data columns (total 21 columns):\n",
            " #   Column                                     Non-Null Count  Dtype  \n",
            "---  ------                                     --------------  -----  \n",
            " 0   ID                                         21609 non-null  int64  \n",
            " 1   Sale Price                                 21609 non-null  float64\n",
            " 2   No of Bedrooms                             21609 non-null  int64  \n",
            " 3   No of Bathrooms                            21609 non-null  float64\n",
            " 4   Flat Area (in Sqft)                        21609 non-null  float64\n",
            " 5   Lot Area (in Sqft)                         21609 non-null  float64\n",
            " 6   No of Floors                               21609 non-null  float64\n",
            " 7   Waterfront View                            21609 non-null  object \n",
            " 8   No of Times Visited                        21609 non-null  int64  \n",
            " 9   Condition of the House                     21609 non-null  object \n",
            " 10  Overall Grade                              21609 non-null  int64  \n",
            " 11  Area of the House from Basement (in Sqft)  21609 non-null  float64\n",
            " 12  Basement Area (in Sqft)                    21609 non-null  int64  \n",
            " 13  Age of House (in Years)                    21609 non-null  int64  \n",
            " 14  Zipcode                                    21609 non-null  float64\n",
            " 15  Latitude                                   21609 non-null  float64\n",
            " 16  Longitude                                  21609 non-null  float64\n",
            " 17  Living Area after Renovation (in Sqft)     21609 non-null  float64\n",
            " 18  Lot Area after Renovation (in Sqft)        21609 non-null  int64  \n",
            " 19  Ever Renovated                             21609 non-null  object \n",
            " 20  Years Since Renovation                     21609 non-null  int64  \n",
            "dtypes: float64(10), int64(8), object(3)\n",
            "memory usage: 3.5+ MB\n"
          ],
          "name": "stdout"
        }
      ]
    },
    {
      "cell_type": "code",
      "metadata": {
        "id": "rdpbdJ8kO86s"
      },
      "source": [
        "# we will be dropping the ID variable as this would not be of much use in model building\n",
        "data4.drop(columns = 'ID', inplace=True)"
      ],
      "execution_count": 128,
      "outputs": []
    },
    {
      "cell_type": "code",
      "metadata": {
        "colab": {
          "base_uri": "https://localhost:8080/"
        },
        "id": "gWUeMaWaPU7a",
        "outputId": "7e81323e-1d49-4504-cd1f-05ed416d0114"
      },
      "source": [
        "data4[\"Condition of the House\"].value_counts() # now we will deal with the categorical variables like which contains value as string."
      ],
      "execution_count": 129,
      "outputs": [
        {
          "output_type": "execute_result",
          "data": {
            "text/plain": [
              "Fair         14028\n",
              "Good          5678\n",
              "Excellent     1701\n",
              "Okay           172\n",
              "Bad             30\n",
              "Name: Condition of the House, dtype: int64"
            ]
          },
          "metadata": {
            "tags": []
          },
          "execution_count": 129
        }
      ]
    },
    {
      "cell_type": "code",
      "metadata": {
        "colab": {
          "base_uri": "https://localhost:8080/",
          "height": 333
        },
        "id": "qUum_aWbQhAu",
        "outputId": "6ef66a24-878c-4fc4-f6b9-9249114141c7"
      },
      "source": [
        "data4.groupby('Condition of the House')['Sale Price'].mean().plot(kind='bar') # seeing the variation of sale price with condition of the house."
      ],
      "execution_count": 130,
      "outputs": [
        {
          "output_type": "execute_result",
          "data": {
            "text/plain": [
              "<matplotlib.axes._subplots.AxesSubplot at 0x7ff1eb46fb50>"
            ]
          },
          "metadata": {
            "tags": []
          },
          "execution_count": 130
        },
        {
          "output_type": "display_data",
          "data": {
            "image/png": "[encoded data removed]",
            "text/plain": [
              "<Figure size 432x288 with 1 Axes>"
            ]
          },
          "metadata": {
            "tags": [],
            "needs_background": "light"
          }
        }
      ]
    },
    {
      "cell_type": "code",
      "metadata": {
        "colab": {
          "base_uri": "https://localhost:8080/",
          "height": 333
        },
        "id": "lR8yahXiRHBQ",
        "outputId": "eaf74c1b-d2c6-4090-a13a-160148b256e0"
      },
      "source": [
        "data4.groupby('Condition of the House')['Sale Price'].mean().sort_values( ).plot(kind='bar')"
      ],
      "execution_count": 131,
      "outputs": [
        {
          "output_type": "execute_result",
          "data": {
            "text/plain": [
              "<matplotlib.axes._subplots.AxesSubplot at 0x7ff1eb1b8850>"
            ]
          },
          "metadata": {
            "tags": []
          },
          "execution_count": 131
        },
        {
          "output_type": "display_data",
          "data": {
            "image/png": "[encoded data removed]",
            "text/plain": [
              "<Figure size 432x288 with 1 Axes>"
            ]
          },
          "metadata": {
            "tags": [],
            "needs_background": "light"
          }
        }
      ]
    },
    {
      "cell_type": "code",
      "metadata": {
        "colab": {
          "base_uri": "https://localhost:8080/",
          "height": 339
        },
        "id": "NtCC0D1SRo1k",
        "outputId": "3d597bca-b4dc-4ac4-aa04-5a1d4348991a"
      },
      "source": [
        "data4.groupby('Zipcode')['Sale Price'].mean().sort_values( ).plot(kind='bar')"
      ],
      "execution_count": 132,
      "outputs": [
        {
          "output_type": "execute_result",
          "data": {
            "text/plain": [
              "<matplotlib.axes._subplots.AxesSubplot at 0x7ff1eb1e7c50>"
            ]
          },
          "metadata": {
            "tags": []
          },
          "execution_count": 132
        },
        {
          "output_type": "display_data",
          "data": {
            "image/png": "[encoded data removed]",
            "text/plain": [
              "<Figure size 432x288 with 1 Axes>"
            ]
          },
          "metadata": {
            "tags": [],
            "needs_background": "light"
          }
        }
      ]
    },
    {
      "cell_type": "code",
      "metadata": {
        "id": "EXpB_emJVZOU"
      },
      "source": [
        "from statsmodels.formula.api import ols\n",
        "import statsmodels.api as sm"
      ],
      "execution_count": 133,
      "outputs": []
    },
    {
      "cell_type": "code",
      "metadata": {
        "id": "d6vpJ_Z0VZKl"
      },
      "source": [
        "data4 = data4.rename(columns= {'Sale Price':\"Sale_Price\"})\n",
        "data4 = data4.rename(columns = {'Condition of the House':\"Condition_of_the_House\"})\n",
        "data4 = data4.rename(columns = {'Ever Renovated':\"Ever_Renovated\"})\n",
        "data4 = data4.rename(columns = {'Waterfront View':\"Waterfront_View\"})"
      ],
      "execution_count": 134,
      "outputs": []
    },
    {
      "cell_type": "code",
      "metadata": {
        "colab": {
          "base_uri": "https://localhost:8080/"
        },
        "id": "0x0hUBykXBbt",
        "outputId": "0cecc595-1f7d-467a-fae3-4e536aadd04f"
      },
      "source": [
        "data4[\"Waterfront_View\"].unique()"
      ],
      "execution_count": 135,
      "outputs": [
        {
          "output_type": "execute_result",
          "data": {
            "text/plain": [
              "array(['No', 'Yes'], dtype=object)"
            ]
          },
          "metadata": {
            "tags": []
          },
          "execution_count": 135
        }
      ]
    },
    {
      "cell_type": "code",
      "metadata": {
        "id": "2uN-WSScXPKE"
      },
      "source": [
        "# now let's apply ANOVA\n",
        "mod = ols('Sale_Price ~ Condition_of_the_House', data=data4).fit()"
      ],
      "execution_count": 136,
      "outputs": []
    },
    {
      "cell_type": "code",
      "metadata": {
        "id": "TfiUEMeSYPlC"
      },
      "source": [
        "ANOVA_TABLE = sm.stats.anova_lm(mod, typ=2)"
      ],
      "execution_count": 137,
      "outputs": []
    },
    {
      "cell_type": "code",
      "metadata": {
        "colab": {
          "base_uri": "https://localhost:8080/"
        },
        "id": "mVYoso8NYcMF",
        "outputId": "2fde59c5-75f1-4ea4-ac0f-e12ce6a873ed"
      },
      "source": [
        "print(ANOVA_TABLE)"
      ],
      "execution_count": 138,
      "outputs": [
        {
          "output_type": "stream",
          "text": [
            "                              sum_sq       df         F        PR(>F)\n",
            "Condition_of_the_House  1.441831e+13      4.0  58.25563  5.447605e-49\n",
            "Residual                1.336752e+15  21604.0       NaN           NaN\n"
          ],
          "name": "stdout"
        }
      ]
    },
    {
      "cell_type": "code",
      "metadata": {
        "id": "TywO0Bmv1sBp"
      },
      "source": [
        "mod = ols('Sale_Price ~ Ever_Renovated', data = data4).fit()"
      ],
      "execution_count": 139,
      "outputs": []
    },
    {
      "cell_type": "code",
      "metadata": {
        "colab": {
          "base_uri": "https://localhost:8080/",
          "height": 110
        },
        "id": "UIBaR7P-1-Eu",
        "outputId": "a0c6e322-f51e-471e-aed5-7531bb07cb5c"
      },
      "source": [
        "sm.stats.anova_lm(mod, typ=2) # we can see that 'p' value is less than 0.05 in every case, therefore we will reject the NULL hypothesis of ANOVA"
      ],
      "execution_count": 140,
      "outputs": [
        {
          "output_type": "execute_result",
          "data": {
            "text/html": [
              "<div>\n",
              "<style scoped>\n",
              "    .dataframe tbody tr th:only-of-type {\n",
              "        vertical-align: middle;\n",
              "    }\n",
              "\n",
              "    .dataframe tbody tr th {\n",
              "        vertical-align: top;\n",
              "    }\n",
              "\n",
              "    .dataframe thead th {\n",
              "        text-align: right;\n",
              "    }\n",
              "</style>\n",
              "<table border=\"1\" class=\"dataframe\">\n",
              "  <thead>\n",
              "    <tr style=\"text-align: right;\">\n",
              "      <th></th>\n",
              "      <th>sum_sq</th>\n",
              "      <th>df</th>\n",
              "      <th>F</th>\n",
              "      <th>PR(&gt;F)</th>\n",
              "    </tr>\n",
              "  </thead>\n",
              "  <tbody>\n",
              "    <tr>\n",
              "      <th>Ever_Renovated</th>\n",
              "      <td>1.998463e+13</td>\n",
              "      <td>1.0</td>\n",
              "      <td>324.378469</td>\n",
              "      <td>5.419055e-72</td>\n",
              "    </tr>\n",
              "    <tr>\n",
              "      <th>Residual</th>\n",
              "      <td>1.331185e+15</td>\n",
              "      <td>21607.0</td>\n",
              "      <td>NaN</td>\n",
              "      <td>NaN</td>\n",
              "    </tr>\n",
              "  </tbody>\n",
              "</table>\n",
              "</div>"
            ],
            "text/plain": [
              "                      sum_sq       df           F        PR(>F)\n",
              "Ever_Renovated  1.998463e+13      1.0  324.378469  5.419055e-72\n",
              "Residual        1.331185e+15  21607.0         NaN           NaN"
            ]
          },
          "metadata": {
            "tags": []
          },
          "execution_count": 140
        }
      ]
    },
    {
      "cell_type": "code",
      "metadata": {
        "id": "DVN_Vkut4yBe"
      },
      "source": [
        "# encoding process now\n",
        "data4 = pd.get_dummies(data4, columns = ['Waterfront_View','Ever_Renovated','Condition_of_the_House'], drop_first=True)"
      ],
      "execution_count": 141,
      "outputs": []
    },
    {
      "cell_type": "code",
      "metadata": {
        "colab": {
          "base_uri": "https://localhost:8080/",
          "height": 326
        },
        "id": "sAR2E1uo5Ltd",
        "outputId": "bbadb6be-01b8-4e11-85fd-f83b2101f56e"
      },
      "source": [
        "data4.head(5)"
      ],
      "execution_count": 142,
      "outputs": [
        {
          "output_type": "execute_result",
          "data": {
            "text/html": [
              "<div>\n",
              "<style scoped>\n",
              "    .dataframe tbody tr th:only-of-type {\n",
              "        vertical-align: middle;\n",
              "    }\n",
              "\n",
              "    .dataframe tbody tr th {\n",
              "        vertical-align: top;\n",
              "    }\n",
              "\n",
              "    .dataframe thead th {\n",
              "        text-align: right;\n",
              "    }\n",
              "</style>\n",
              "<table border=\"1\" class=\"dataframe\">\n",
              "  <thead>\n",
              "    <tr style=\"text-align: right;\">\n",
              "      <th></th>\n",
              "      <th>Sale_Price</th>\n",
              "      <th>No of Bedrooms</th>\n",
              "      <th>No of Bathrooms</th>\n",
              "      <th>Flat Area (in Sqft)</th>\n",
              "      <th>Lot Area (in Sqft)</th>\n",
              "      <th>No of Floors</th>\n",
              "      <th>No of Times Visited</th>\n",
              "      <th>Overall Grade</th>\n",
              "      <th>Area of the House from Basement (in Sqft)</th>\n",
              "      <th>Basement Area (in Sqft)</th>\n",
              "      <th>Age of House (in Years)</th>\n",
              "      <th>Zipcode</th>\n",
              "      <th>Latitude</th>\n",
              "      <th>Longitude</th>\n",
              "      <th>Living Area after Renovation (in Sqft)</th>\n",
              "      <th>Lot Area after Renovation (in Sqft)</th>\n",
              "      <th>Years Since Renovation</th>\n",
              "      <th>Waterfront_View_Yes</th>\n",
              "      <th>Ever_Renovated_Yes</th>\n",
              "      <th>Condition_of_the_House_Excellent</th>\n",
              "      <th>Condition_of_the_House_Fair</th>\n",
              "      <th>Condition_of_the_House_Good</th>\n",
              "      <th>Condition_of_the_House_Okay</th>\n",
              "    </tr>\n",
              "  </thead>\n",
              "  <tbody>\n",
              "    <tr>\n",
              "      <th>0</th>\n",
              "      <td>221900.0</td>\n",
              "      <td>3</td>\n",
              "      <td>1.00</td>\n",
              "      <td>1180.0</td>\n",
              "      <td>5650.0</td>\n",
              "      <td>1.0</td>\n",
              "      <td>0</td>\n",
              "      <td>7</td>\n",
              "      <td>1180.0</td>\n",
              "      <td>0</td>\n",
              "      <td>63</td>\n",
              "      <td>98178.0</td>\n",
              "      <td>47.5112</td>\n",
              "      <td>-122.257</td>\n",
              "      <td>1340.0</td>\n",
              "      <td>5650</td>\n",
              "      <td>0</td>\n",
              "      <td>0</td>\n",
              "      <td>0</td>\n",
              "      <td>0</td>\n",
              "      <td>1</td>\n",
              "      <td>0</td>\n",
              "      <td>0</td>\n",
              "    </tr>\n",
              "    <tr>\n",
              "      <th>1</th>\n",
              "      <td>538000.0</td>\n",
              "      <td>3</td>\n",
              "      <td>2.25</td>\n",
              "      <td>2570.0</td>\n",
              "      <td>7242.0</td>\n",
              "      <td>2.0</td>\n",
              "      <td>0</td>\n",
              "      <td>7</td>\n",
              "      <td>2170.0</td>\n",
              "      <td>400</td>\n",
              "      <td>67</td>\n",
              "      <td>98125.0</td>\n",
              "      <td>47.7210</td>\n",
              "      <td>-122.319</td>\n",
              "      <td>1690.0</td>\n",
              "      <td>7639</td>\n",
              "      <td>26</td>\n",
              "      <td>0</td>\n",
              "      <td>1</td>\n",
              "      <td>0</td>\n",
              "      <td>1</td>\n",
              "      <td>0</td>\n",
              "      <td>0</td>\n",
              "    </tr>\n",
              "    <tr>\n",
              "      <th>2</th>\n",
              "      <td>180000.0</td>\n",
              "      <td>2</td>\n",
              "      <td>1.00</td>\n",
              "      <td>770.0</td>\n",
              "      <td>10000.0</td>\n",
              "      <td>1.0</td>\n",
              "      <td>0</td>\n",
              "      <td>6</td>\n",
              "      <td>770.0</td>\n",
              "      <td>0</td>\n",
              "      <td>85</td>\n",
              "      <td>98028.0</td>\n",
              "      <td>47.7379</td>\n",
              "      <td>-122.233</td>\n",
              "      <td>2720.0</td>\n",
              "      <td>8062</td>\n",
              "      <td>0</td>\n",
              "      <td>0</td>\n",
              "      <td>0</td>\n",
              "      <td>0</td>\n",
              "      <td>1</td>\n",
              "      <td>0</td>\n",
              "      <td>0</td>\n",
              "    </tr>\n",
              "    <tr>\n",
              "      <th>3</th>\n",
              "      <td>604000.0</td>\n",
              "      <td>4</td>\n",
              "      <td>3.00</td>\n",
              "      <td>1960.0</td>\n",
              "      <td>5000.0</td>\n",
              "      <td>1.0</td>\n",
              "      <td>0</td>\n",
              "      <td>7</td>\n",
              "      <td>1050.0</td>\n",
              "      <td>910</td>\n",
              "      <td>53</td>\n",
              "      <td>98136.0</td>\n",
              "      <td>47.5208</td>\n",
              "      <td>-122.393</td>\n",
              "      <td>1360.0</td>\n",
              "      <td>5000</td>\n",
              "      <td>0</td>\n",
              "      <td>0</td>\n",
              "      <td>0</td>\n",
              "      <td>1</td>\n",
              "      <td>0</td>\n",
              "      <td>0</td>\n",
              "      <td>0</td>\n",
              "    </tr>\n",
              "    <tr>\n",
              "      <th>4</th>\n",
              "      <td>510000.0</td>\n",
              "      <td>3</td>\n",
              "      <td>2.00</td>\n",
              "      <td>1680.0</td>\n",
              "      <td>8080.0</td>\n",
              "      <td>1.0</td>\n",
              "      <td>0</td>\n",
              "      <td>8</td>\n",
              "      <td>1680.0</td>\n",
              "      <td>0</td>\n",
              "      <td>31</td>\n",
              "      <td>98074.0</td>\n",
              "      <td>47.6168</td>\n",
              "      <td>-122.045</td>\n",
              "      <td>1800.0</td>\n",
              "      <td>7503</td>\n",
              "      <td>0</td>\n",
              "      <td>0</td>\n",
              "      <td>0</td>\n",
              "      <td>0</td>\n",
              "      <td>1</td>\n",
              "      <td>0</td>\n",
              "      <td>0</td>\n",
              "    </tr>\n",
              "  </tbody>\n",
              "</table>\n",
              "</div>"
            ],
            "text/plain": [
              "   Sale_Price  ...  Condition_of_the_House_Okay\n",
              "0    221900.0  ...                            0\n",
              "1    538000.0  ...                            0\n",
              "2    180000.0  ...                            0\n",
              "3    604000.0  ...                            0\n",
              "4    510000.0  ...                            0\n",
              "\n",
              "[5 rows x 23 columns]"
            ]
          },
          "metadata": {
            "tags": []
          },
          "execution_count": 142
        }
      ]
    },
    {
      "cell_type": "code",
      "metadata": {
        "id": "J63IEdyN6x5n"
      },
      "source": [
        "# if we have lot of levels of categorical variable, we first 'bin' it, because if we do the dummy variable conversion, there would be lot of dummy variables created, which will be difficult to handle.\n",
        "zip_table = data4.groupby('Zipcode').agg({'Sale_Price':'mean'}).sort_values('Sale_Price', ascending = True)"
      ],
      "execution_count": 143,
      "outputs": []
    },
    {
      "cell_type": "code",
      "metadata": {
        "colab": {
          "base_uri": "https://localhost:8080/",
          "height": 233
        },
        "id": "XNC1zwnr_68N",
        "outputId": "1d30afc6-9125-42fd-8715-f6e7cc12af51"
      },
      "source": [
        "zip_table.head() # so we have taken average of sale prices, grouped it with zipcode and made it in ascending order."
      ],
      "execution_count": 144,
      "outputs": [
        {
          "output_type": "execute_result",
          "data": {
            "text/html": [
              "<div>\n",
              "<style scoped>\n",
              "    .dataframe tbody tr th:only-of-type {\n",
              "        vertical-align: middle;\n",
              "    }\n",
              "\n",
              "    .dataframe tbody tr th {\n",
              "        vertical-align: top;\n",
              "    }\n",
              "\n",
              "    .dataframe thead th {\n",
              "        text-align: right;\n",
              "    }\n",
              "</style>\n",
              "<table border=\"1\" class=\"dataframe\">\n",
              "  <thead>\n",
              "    <tr style=\"text-align: right;\">\n",
              "      <th></th>\n",
              "      <th>Sale_Price</th>\n",
              "    </tr>\n",
              "    <tr>\n",
              "      <th>Zipcode</th>\n",
              "      <th></th>\n",
              "    </tr>\n",
              "  </thead>\n",
              "  <tbody>\n",
              "    <tr>\n",
              "      <th>98002.0</th>\n",
              "      <td>234284.035176</td>\n",
              "    </tr>\n",
              "    <tr>\n",
              "      <th>98168.0</th>\n",
              "      <td>240328.371747</td>\n",
              "    </tr>\n",
              "    <tr>\n",
              "      <th>98032.0</th>\n",
              "      <td>251296.240000</td>\n",
              "    </tr>\n",
              "    <tr>\n",
              "      <th>98001.0</th>\n",
              "      <td>280804.690608</td>\n",
              "    </tr>\n",
              "    <tr>\n",
              "      <th>98148.0</th>\n",
              "      <td>284908.596491</td>\n",
              "    </tr>\n",
              "  </tbody>\n",
              "</table>\n",
              "</div>"
            ],
            "text/plain": [
              "            Sale_Price\n",
              "Zipcode               \n",
              "98002.0  234284.035176\n",
              "98168.0  240328.371747\n",
              "98032.0  251296.240000\n",
              "98001.0  280804.690608\n",
              "98148.0  284908.596491"
            ]
          },
          "metadata": {
            "tags": []
          },
          "execution_count": 144
        }
      ]
    },
    {
      "cell_type": "code",
      "metadata": {
        "id": "ey0FQwneAOa2"
      },
      "source": [
        "zip_table['zipcode_group'] = pd.cut(zip_table['Sale_Price'], bins=10, labels=['zipcode_group_0', 'zipcode_group_1','zipcode_group_2',\n",
        "                                                                              'zipcode_group_3','zipcode_group_4','zipcode_group_5',\n",
        "                                                                              'zipcode_group_6','zipcode_group_7','zipcode_group_8',\n",
        "                                                                              'zipcode_group_9'], include_lowest=True)"
      ],
      "execution_count": 145,
      "outputs": []
    },
    {
      "cell_type": "code",
      "metadata": {
        "colab": {
          "base_uri": "https://localhost:8080/",
          "height": 233
        },
        "id": "GPjOfX07JGWc",
        "outputId": "03724e8a-809c-468a-f2ea-a7f42ad28b1c"
      },
      "source": [
        "zip_table.head()"
      ],
      "execution_count": 146,
      "outputs": [
        {
          "output_type": "execute_result",
          "data": {
            "text/html": [
              "<div>\n",
              "<style scoped>\n",
              "    .dataframe tbody tr th:only-of-type {\n",
              "        vertical-align: middle;\n",
              "    }\n",
              "\n",
              "    .dataframe tbody tr th {\n",
              "        vertical-align: top;\n",
              "    }\n",
              "\n",
              "    .dataframe thead th {\n",
              "        text-align: right;\n",
              "    }\n",
              "</style>\n",
              "<table border=\"1\" class=\"dataframe\">\n",
              "  <thead>\n",
              "    <tr style=\"text-align: right;\">\n",
              "      <th></th>\n",
              "      <th>Sale_Price</th>\n",
              "      <th>zipcode_group</th>\n",
              "    </tr>\n",
              "    <tr>\n",
              "      <th>Zipcode</th>\n",
              "      <th></th>\n",
              "      <th></th>\n",
              "    </tr>\n",
              "  </thead>\n",
              "  <tbody>\n",
              "    <tr>\n",
              "      <th>98002.0</th>\n",
              "      <td>234284.035176</td>\n",
              "      <td>zipcode_group_0</td>\n",
              "    </tr>\n",
              "    <tr>\n",
              "      <th>98168.0</th>\n",
              "      <td>240328.371747</td>\n",
              "      <td>zipcode_group_0</td>\n",
              "    </tr>\n",
              "    <tr>\n",
              "      <th>98032.0</th>\n",
              "      <td>251296.240000</td>\n",
              "      <td>zipcode_group_0</td>\n",
              "    </tr>\n",
              "    <tr>\n",
              "      <th>98001.0</th>\n",
              "      <td>280804.690608</td>\n",
              "      <td>zipcode_group_0</td>\n",
              "    </tr>\n",
              "    <tr>\n",
              "      <th>98148.0</th>\n",
              "      <td>284908.596491</td>\n",
              "      <td>zipcode_group_0</td>\n",
              "    </tr>\n",
              "  </tbody>\n",
              "</table>\n",
              "</div>"
            ],
            "text/plain": [
              "            Sale_Price    zipcode_group\n",
              "Zipcode                                \n",
              "98002.0  234284.035176  zipcode_group_0\n",
              "98168.0  240328.371747  zipcode_group_0\n",
              "98032.0  251296.240000  zipcode_group_0\n",
              "98001.0  280804.690608  zipcode_group_0\n",
              "98148.0  284908.596491  zipcode_group_0"
            ]
          },
          "metadata": {
            "tags": []
          },
          "execution_count": 146
        }
      ]
    },
    {
      "cell_type": "code",
      "metadata": {
        "id": "cHf-hAbwE7nw"
      },
      "source": [
        "zip_table = zip_table.drop(columns='Sale_Price')"
      ],
      "execution_count": 147,
      "outputs": []
    },
    {
      "cell_type": "code",
      "metadata": {
        "colab": {
          "base_uri": "https://localhost:8080/",
          "height": 386
        },
        "id": "bI-DE-b-FKMJ",
        "outputId": "c2a9f3e2-824e-4070-f6a1-2257606caedb"
      },
      "source": [
        "zip_table.head(10)"
      ],
      "execution_count": 148,
      "outputs": [
        {
          "output_type": "execute_result",
          "data": {
            "text/html": [
              "<div>\n",
              "<style scoped>\n",
              "    .dataframe tbody tr th:only-of-type {\n",
              "        vertical-align: middle;\n",
              "    }\n",
              "\n",
              "    .dataframe tbody tr th {\n",
              "        vertical-align: top;\n",
              "    }\n",
              "\n",
              "    .dataframe thead th {\n",
              "        text-align: right;\n",
              "    }\n",
              "</style>\n",
              "<table border=\"1\" class=\"dataframe\">\n",
              "  <thead>\n",
              "    <tr style=\"text-align: right;\">\n",
              "      <th></th>\n",
              "      <th>zipcode_group</th>\n",
              "    </tr>\n",
              "    <tr>\n",
              "      <th>Zipcode</th>\n",
              "      <th></th>\n",
              "    </tr>\n",
              "  </thead>\n",
              "  <tbody>\n",
              "    <tr>\n",
              "      <th>98002.0</th>\n",
              "      <td>zipcode_group_0</td>\n",
              "    </tr>\n",
              "    <tr>\n",
              "      <th>98168.0</th>\n",
              "      <td>zipcode_group_0</td>\n",
              "    </tr>\n",
              "    <tr>\n",
              "      <th>98032.0</th>\n",
              "      <td>zipcode_group_0</td>\n",
              "    </tr>\n",
              "    <tr>\n",
              "      <th>98001.0</th>\n",
              "      <td>zipcode_group_0</td>\n",
              "    </tr>\n",
              "    <tr>\n",
              "      <th>98148.0</th>\n",
              "      <td>zipcode_group_0</td>\n",
              "    </tr>\n",
              "    <tr>\n",
              "      <th>98023.0</th>\n",
              "      <td>zipcode_group_0</td>\n",
              "    </tr>\n",
              "    <tr>\n",
              "      <th>98188.0</th>\n",
              "      <td>zipcode_group_0</td>\n",
              "    </tr>\n",
              "    <tr>\n",
              "      <th>98003.0</th>\n",
              "      <td>zipcode_group_0</td>\n",
              "    </tr>\n",
              "    <tr>\n",
              "      <th>98030.0</th>\n",
              "      <td>zipcode_group_0</td>\n",
              "    </tr>\n",
              "    <tr>\n",
              "      <th>98031.0</th>\n",
              "      <td>zipcode_group_0</td>\n",
              "    </tr>\n",
              "  </tbody>\n",
              "</table>\n",
              "</div>"
            ],
            "text/plain": [
              "           zipcode_group\n",
              "Zipcode                 \n",
              "98002.0  zipcode_group_0\n",
              "98168.0  zipcode_group_0\n",
              "98032.0  zipcode_group_0\n",
              "98001.0  zipcode_group_0\n",
              "98148.0  zipcode_group_0\n",
              "98023.0  zipcode_group_0\n",
              "98188.0  zipcode_group_0\n",
              "98003.0  zipcode_group_0\n",
              "98030.0  zipcode_group_0\n",
              "98031.0  zipcode_group_0"
            ]
          },
          "metadata": {
            "tags": []
          },
          "execution_count": 148
        }
      ]
    },
    {
      "cell_type": "code",
      "metadata": {
        "id": "2TFB0kL4Fnkh"
      },
      "source": [
        "# now we need to merge zip_table with the original table and for this purpose we will use pandas library function called 'merge'\n",
        "data4 = pd.merge(data4,zip_table,left_on='Zipcode', how='left', right_index=True)"
      ],
      "execution_count": 149,
      "outputs": []
    },
    {
      "cell_type": "code",
      "metadata": {
        "colab": {
          "base_uri": "https://localhost:8080/",
          "height": 326
        },
        "id": "HFBs-5UdG1oi",
        "outputId": "1c2b5516-28d8-4f21-ddc8-bfdc8e7b4c80"
      },
      "source": [
        "data4.head()"
      ],
      "execution_count": 150,
      "outputs": [
        {
          "output_type": "execute_result",
          "data": {
            "text/html": [
              "<div>\n",
              "<style scoped>\n",
              "    .dataframe tbody tr th:only-of-type {\n",
              "        vertical-align: middle;\n",
              "    }\n",
              "\n",
              "    .dataframe tbody tr th {\n",
              "        vertical-align: top;\n",
              "    }\n",
              "\n",
              "    .dataframe thead th {\n",
              "        text-align: right;\n",
              "    }\n",
              "</style>\n",
              "<table border=\"1\" class=\"dataframe\">\n",
              "  <thead>\n",
              "    <tr style=\"text-align: right;\">\n",
              "      <th></th>\n",
              "      <th>Sale_Price</th>\n",
              "      <th>No of Bedrooms</th>\n",
              "      <th>No of Bathrooms</th>\n",
              "      <th>Flat Area (in Sqft)</th>\n",
              "      <th>Lot Area (in Sqft)</th>\n",
              "      <th>No of Floors</th>\n",
              "      <th>No of Times Visited</th>\n",
              "      <th>Overall Grade</th>\n",
              "      <th>Area of the House from Basement (in Sqft)</th>\n",
              "      <th>Basement Area (in Sqft)</th>\n",
              "      <th>Age of House (in Years)</th>\n",
              "      <th>Zipcode</th>\n",
              "      <th>Latitude</th>\n",
              "      <th>Longitude</th>\n",
              "      <th>Living Area after Renovation (in Sqft)</th>\n",
              "      <th>Lot Area after Renovation (in Sqft)</th>\n",
              "      <th>Years Since Renovation</th>\n",
              "      <th>Waterfront_View_Yes</th>\n",
              "      <th>Ever_Renovated_Yes</th>\n",
              "      <th>Condition_of_the_House_Excellent</th>\n",
              "      <th>Condition_of_the_House_Fair</th>\n",
              "      <th>Condition_of_the_House_Good</th>\n",
              "      <th>Condition_of_the_House_Okay</th>\n",
              "      <th>zipcode_group</th>\n",
              "    </tr>\n",
              "  </thead>\n",
              "  <tbody>\n",
              "    <tr>\n",
              "      <th>0</th>\n",
              "      <td>221900.0</td>\n",
              "      <td>3</td>\n",
              "      <td>1.00</td>\n",
              "      <td>1180.0</td>\n",
              "      <td>5650.0</td>\n",
              "      <td>1.0</td>\n",
              "      <td>0</td>\n",
              "      <td>7</td>\n",
              "      <td>1180.0</td>\n",
              "      <td>0</td>\n",
              "      <td>63</td>\n",
              "      <td>98178.0</td>\n",
              "      <td>47.5112</td>\n",
              "      <td>-122.257</td>\n",
              "      <td>1340.0</td>\n",
              "      <td>5650</td>\n",
              "      <td>0</td>\n",
              "      <td>0</td>\n",
              "      <td>0</td>\n",
              "      <td>0</td>\n",
              "      <td>1</td>\n",
              "      <td>0</td>\n",
              "      <td>0</td>\n",
              "      <td>zipcode_group_0</td>\n",
              "    </tr>\n",
              "    <tr>\n",
              "      <th>1</th>\n",
              "      <td>538000.0</td>\n",
              "      <td>3</td>\n",
              "      <td>2.25</td>\n",
              "      <td>2570.0</td>\n",
              "      <td>7242.0</td>\n",
              "      <td>2.0</td>\n",
              "      <td>0</td>\n",
              "      <td>7</td>\n",
              "      <td>2170.0</td>\n",
              "      <td>400</td>\n",
              "      <td>67</td>\n",
              "      <td>98125.0</td>\n",
              "      <td>47.7210</td>\n",
              "      <td>-122.319</td>\n",
              "      <td>1690.0</td>\n",
              "      <td>7639</td>\n",
              "      <td>26</td>\n",
              "      <td>0</td>\n",
              "      <td>1</td>\n",
              "      <td>0</td>\n",
              "      <td>1</td>\n",
              "      <td>0</td>\n",
              "      <td>0</td>\n",
              "      <td>zipcode_group_2</td>\n",
              "    </tr>\n",
              "    <tr>\n",
              "      <th>2</th>\n",
              "      <td>180000.0</td>\n",
              "      <td>2</td>\n",
              "      <td>1.00</td>\n",
              "      <td>770.0</td>\n",
              "      <td>10000.0</td>\n",
              "      <td>1.0</td>\n",
              "      <td>0</td>\n",
              "      <td>6</td>\n",
              "      <td>770.0</td>\n",
              "      <td>0</td>\n",
              "      <td>85</td>\n",
              "      <td>98028.0</td>\n",
              "      <td>47.7379</td>\n",
              "      <td>-122.233</td>\n",
              "      <td>2720.0</td>\n",
              "      <td>8062</td>\n",
              "      <td>0</td>\n",
              "      <td>0</td>\n",
              "      <td>0</td>\n",
              "      <td>0</td>\n",
              "      <td>1</td>\n",
              "      <td>0</td>\n",
              "      <td>0</td>\n",
              "      <td>zipcode_group_2</td>\n",
              "    </tr>\n",
              "    <tr>\n",
              "      <th>3</th>\n",
              "      <td>604000.0</td>\n",
              "      <td>4</td>\n",
              "      <td>3.00</td>\n",
              "      <td>1960.0</td>\n",
              "      <td>5000.0</td>\n",
              "      <td>1.0</td>\n",
              "      <td>0</td>\n",
              "      <td>7</td>\n",
              "      <td>1050.0</td>\n",
              "      <td>910</td>\n",
              "      <td>53</td>\n",
              "      <td>98136.0</td>\n",
              "      <td>47.5208</td>\n",
              "      <td>-122.393</td>\n",
              "      <td>1360.0</td>\n",
              "      <td>5000</td>\n",
              "      <td>0</td>\n",
              "      <td>0</td>\n",
              "      <td>0</td>\n",
              "      <td>1</td>\n",
              "      <td>0</td>\n",
              "      <td>0</td>\n",
              "      <td>0</td>\n",
              "      <td>zipcode_group_3</td>\n",
              "    </tr>\n",
              "    <tr>\n",
              "      <th>4</th>\n",
              "      <td>510000.0</td>\n",
              "      <td>3</td>\n",
              "      <td>2.00</td>\n",
              "      <td>1680.0</td>\n",
              "      <td>8080.0</td>\n",
              "      <td>1.0</td>\n",
              "      <td>0</td>\n",
              "      <td>8</td>\n",
              "      <td>1680.0</td>\n",
              "      <td>0</td>\n",
              "      <td>31</td>\n",
              "      <td>98074.0</td>\n",
              "      <td>47.6168</td>\n",
              "      <td>-122.045</td>\n",
              "      <td>1800.0</td>\n",
              "      <td>7503</td>\n",
              "      <td>0</td>\n",
              "      <td>0</td>\n",
              "      <td>0</td>\n",
              "      <td>0</td>\n",
              "      <td>1</td>\n",
              "      <td>0</td>\n",
              "      <td>0</td>\n",
              "      <td>zipcode_group_4</td>\n",
              "    </tr>\n",
              "  </tbody>\n",
              "</table>\n",
              "</div>"
            ],
            "text/plain": [
              "   Sale_Price  No of Bedrooms  ...  Condition_of_the_House_Okay    zipcode_group\n",
              "0    221900.0               3  ...                            0  zipcode_group_0\n",
              "1    538000.0               3  ...                            0  zipcode_group_2\n",
              "2    180000.0               2  ...                            0  zipcode_group_2\n",
              "3    604000.0               4  ...                            0  zipcode_group_3\n",
              "4    510000.0               3  ...                            0  zipcode_group_4\n",
              "\n",
              "[5 rows x 24 columns]"
            ]
          },
          "metadata": {
            "tags": []
          },
          "execution_count": 150
        }
      ]
    },
    {
      "cell_type": "code",
      "metadata": {
        "id": "uYbk5LyvJvlr"
      },
      "source": [
        "data4 = pd.get_dummies(data4, columns=['zipcode_group'], drop_first=True) # first we converted zipcode to categorical variable and then we encoded it here in this cell."
      ],
      "execution_count": 151,
      "outputs": []
    },
    {
      "cell_type": "code",
      "metadata": {
        "colab": {
          "base_uri": "https://localhost:8080/",
          "height": 326
        },
        "id": "dOa-XbKhKaW0",
        "outputId": "9b445aa4-54f1-4551-b747-5a668bfa96b8"
      },
      "source": [
        "data4.head()"
      ],
      "execution_count": 152,
      "outputs": [
        {
          "output_type": "execute_result",
          "data": {
            "text/html": [
              "<div>\n",
              "<style scoped>\n",
              "    .dataframe tbody tr th:only-of-type {\n",
              "        vertical-align: middle;\n",
              "    }\n",
              "\n",
              "    .dataframe tbody tr th {\n",
              "        vertical-align: top;\n",
              "    }\n",
              "\n",
              "    .dataframe thead th {\n",
              "        text-align: right;\n",
              "    }\n",
              "</style>\n",
              "<table border=\"1\" class=\"dataframe\">\n",
              "  <thead>\n",
              "    <tr style=\"text-align: right;\">\n",
              "      <th></th>\n",
              "      <th>Sale_Price</th>\n",
              "      <th>No of Bedrooms</th>\n",
              "      <th>No of Bathrooms</th>\n",
              "      <th>Flat Area (in Sqft)</th>\n",
              "      <th>Lot Area (in Sqft)</th>\n",
              "      <th>No of Floors</th>\n",
              "      <th>No of Times Visited</th>\n",
              "      <th>Overall Grade</th>\n",
              "      <th>Area of the House from Basement (in Sqft)</th>\n",
              "      <th>Basement Area (in Sqft)</th>\n",
              "      <th>Age of House (in Years)</th>\n",
              "      <th>Zipcode</th>\n",
              "      <th>Latitude</th>\n",
              "      <th>Longitude</th>\n",
              "      <th>Living Area after Renovation (in Sqft)</th>\n",
              "      <th>Lot Area after Renovation (in Sqft)</th>\n",
              "      <th>Years Since Renovation</th>\n",
              "      <th>Waterfront_View_Yes</th>\n",
              "      <th>Ever_Renovated_Yes</th>\n",
              "      <th>Condition_of_the_House_Excellent</th>\n",
              "      <th>Condition_of_the_House_Fair</th>\n",
              "      <th>Condition_of_the_House_Good</th>\n",
              "      <th>Condition_of_the_House_Okay</th>\n",
              "      <th>zipcode_group_zipcode_group_1</th>\n",
              "      <th>zipcode_group_zipcode_group_2</th>\n",
              "      <th>zipcode_group_zipcode_group_3</th>\n",
              "      <th>zipcode_group_zipcode_group_4</th>\n",
              "      <th>zipcode_group_zipcode_group_5</th>\n",
              "      <th>zipcode_group_zipcode_group_6</th>\n",
              "      <th>zipcode_group_zipcode_group_7</th>\n",
              "      <th>zipcode_group_zipcode_group_8</th>\n",
              "      <th>zipcode_group_zipcode_group_9</th>\n",
              "    </tr>\n",
              "  </thead>\n",
              "  <tbody>\n",
              "    <tr>\n",
              "      <th>0</th>\n",
              "      <td>221900.0</td>\n",
              "      <td>3</td>\n",
              "      <td>1.00</td>\n",
              "      <td>1180.0</td>\n",
              "      <td>5650.0</td>\n",
              "      <td>1.0</td>\n",
              "      <td>0</td>\n",
              "      <td>7</td>\n",
              "      <td>1180.0</td>\n",
              "      <td>0</td>\n",
              "      <td>63</td>\n",
              "      <td>98178.0</td>\n",
              "      <td>47.5112</td>\n",
              "      <td>-122.257</td>\n",
              "      <td>1340.0</td>\n",
              "      <td>5650</td>\n",
              "      <td>0</td>\n",
              "      <td>0</td>\n",
              "      <td>0</td>\n",
              "      <td>0</td>\n",
              "      <td>1</td>\n",
              "      <td>0</td>\n",
              "      <td>0</td>\n",
              "      <td>0</td>\n",
              "      <td>0</td>\n",
              "      <td>0</td>\n",
              "      <td>0</td>\n",
              "      <td>0</td>\n",
              "      <td>0</td>\n",
              "      <td>0</td>\n",
              "      <td>0</td>\n",
              "      <td>0</td>\n",
              "    </tr>\n",
              "    <tr>\n",
              "      <th>1</th>\n",
              "      <td>538000.0</td>\n",
              "      <td>3</td>\n",
              "      <td>2.25</td>\n",
              "      <td>2570.0</td>\n",
              "      <td>7242.0</td>\n",
              "      <td>2.0</td>\n",
              "      <td>0</td>\n",
              "      <td>7</td>\n",
              "      <td>2170.0</td>\n",
              "      <td>400</td>\n",
              "      <td>67</td>\n",
              "      <td>98125.0</td>\n",
              "      <td>47.7210</td>\n",
              "      <td>-122.319</td>\n",
              "      <td>1690.0</td>\n",
              "      <td>7639</td>\n",
              "      <td>26</td>\n",
              "      <td>0</td>\n",
              "      <td>1</td>\n",
              "      <td>0</td>\n",
              "      <td>1</td>\n",
              "      <td>0</td>\n",
              "      <td>0</td>\n",
              "      <td>0</td>\n",
              "      <td>1</td>\n",
              "      <td>0</td>\n",
              "      <td>0</td>\n",
              "      <td>0</td>\n",
              "      <td>0</td>\n",
              "      <td>0</td>\n",
              "      <td>0</td>\n",
              "      <td>0</td>\n",
              "    </tr>\n",
              "    <tr>\n",
              "      <th>2</th>\n",
              "      <td>180000.0</td>\n",
              "      <td>2</td>\n",
              "      <td>1.00</td>\n",
              "      <td>770.0</td>\n",
              "      <td>10000.0</td>\n",
              "      <td>1.0</td>\n",
              "      <td>0</td>\n",
              "      <td>6</td>\n",
              "      <td>770.0</td>\n",
              "      <td>0</td>\n",
              "      <td>85</td>\n",
              "      <td>98028.0</td>\n",
              "      <td>47.7379</td>\n",
              "      <td>-122.233</td>\n",
              "      <td>2720.0</td>\n",
              "      <td>8062</td>\n",
              "      <td>0</td>\n",
              "      <td>0</td>\n",
              "      <td>0</td>\n",
              "      <td>0</td>\n",
              "      <td>1</td>\n",
              "      <td>0</td>\n",
              "      <td>0</td>\n",
              "      <td>0</td>\n",
              "      <td>1</td>\n",
              "      <td>0</td>\n",
              "      <td>0</td>\n",
              "      <td>0</td>\n",
              "      <td>0</td>\n",
              "      <td>0</td>\n",
              "      <td>0</td>\n",
              "      <td>0</td>\n",
              "    </tr>\n",
              "    <tr>\n",
              "      <th>3</th>\n",
              "      <td>604000.0</td>\n",
              "      <td>4</td>\n",
              "      <td>3.00</td>\n",
              "      <td>1960.0</td>\n",
              "      <td>5000.0</td>\n",
              "      <td>1.0</td>\n",
              "      <td>0</td>\n",
              "      <td>7</td>\n",
              "      <td>1050.0</td>\n",
              "      <td>910</td>\n",
              "      <td>53</td>\n",
              "      <td>98136.0</td>\n",
              "      <td>47.5208</td>\n",
              "      <td>-122.393</td>\n",
              "      <td>1360.0</td>\n",
              "      <td>5000</td>\n",
              "      <td>0</td>\n",
              "      <td>0</td>\n",
              "      <td>0</td>\n",
              "      <td>1</td>\n",
              "      <td>0</td>\n",
              "      <td>0</td>\n",
              "      <td>0</td>\n",
              "      <td>0</td>\n",
              "      <td>0</td>\n",
              "      <td>1</td>\n",
              "      <td>0</td>\n",
              "      <td>0</td>\n",
              "      <td>0</td>\n",
              "      <td>0</td>\n",
              "      <td>0</td>\n",
              "      <td>0</td>\n",
              "    </tr>\n",
              "    <tr>\n",
              "      <th>4</th>\n",
              "      <td>510000.0</td>\n",
              "      <td>3</td>\n",
              "      <td>2.00</td>\n",
              "      <td>1680.0</td>\n",
              "      <td>8080.0</td>\n",
              "      <td>1.0</td>\n",
              "      <td>0</td>\n",
              "      <td>8</td>\n",
              "      <td>1680.0</td>\n",
              "      <td>0</td>\n",
              "      <td>31</td>\n",
              "      <td>98074.0</td>\n",
              "      <td>47.6168</td>\n",
              "      <td>-122.045</td>\n",
              "      <td>1800.0</td>\n",
              "      <td>7503</td>\n",
              "      <td>0</td>\n",
              "      <td>0</td>\n",
              "      <td>0</td>\n",
              "      <td>0</td>\n",
              "      <td>1</td>\n",
              "      <td>0</td>\n",
              "      <td>0</td>\n",
              "      <td>0</td>\n",
              "      <td>0</td>\n",
              "      <td>0</td>\n",
              "      <td>1</td>\n",
              "      <td>0</td>\n",
              "      <td>0</td>\n",
              "      <td>0</td>\n",
              "      <td>0</td>\n",
              "      <td>0</td>\n",
              "    </tr>\n",
              "  </tbody>\n",
              "</table>\n",
              "</div>"
            ],
            "text/plain": [
              "   Sale_Price  ...  zipcode_group_zipcode_group_9\n",
              "0    221900.0  ...                              0\n",
              "1    538000.0  ...                              0\n",
              "2    180000.0  ...                              0\n",
              "3    604000.0  ...                              0\n",
              "4    510000.0  ...                              0\n",
              "\n",
              "[5 rows x 32 columns]"
            ]
          },
          "metadata": {
            "tags": []
          },
          "execution_count": 152
        }
      ]
    },
    {
      "cell_type": "code",
      "metadata": {
        "id": "tp2RwrLlM2Kj"
      },
      "source": [
        "data5 = pd.read_csv(\"/content/Transformed_Housing_Data2(1).csv\")"
      ],
      "execution_count": 153,
      "outputs": []
    },
    {
      "cell_type": "code",
      "metadata": {
        "colab": {
          "base_uri": "https://localhost:8080/",
          "height": 326
        },
        "id": "9U6_GwU5NTMX",
        "outputId": "e9774099-d49a-4e88-a729-450c21cd81bb"
      },
      "source": [
        "data5.head()"
      ],
      "execution_count": 154,
      "outputs": [
        {
          "output_type": "execute_result",
          "data": {
            "text/html": [
              "<div>\n",
              "<style scoped>\n",
              "    .dataframe tbody tr th:only-of-type {\n",
              "        vertical-align: middle;\n",
              "    }\n",
              "\n",
              "    .dataframe tbody tr th {\n",
              "        vertical-align: top;\n",
              "    }\n",
              "\n",
              "    .dataframe thead th {\n",
              "        text-align: right;\n",
              "    }\n",
              "</style>\n",
              "<table border=\"1\" class=\"dataframe\">\n",
              "  <thead>\n",
              "    <tr style=\"text-align: right;\">\n",
              "      <th></th>\n",
              "      <th>Sale_Price</th>\n",
              "      <th>No of Bedrooms</th>\n",
              "      <th>No of Bathrooms</th>\n",
              "      <th>Flat Area (in Sqft)</th>\n",
              "      <th>Lot Area (in Sqft)</th>\n",
              "      <th>No of Floors</th>\n",
              "      <th>No of Times Visited</th>\n",
              "      <th>Overall Grade</th>\n",
              "      <th>Area of the House from Basement (in Sqft)</th>\n",
              "      <th>Basement Area (in Sqft)</th>\n",
              "      <th>Age of House (in Years)</th>\n",
              "      <th>Latitude</th>\n",
              "      <th>Longitude</th>\n",
              "      <th>Living Area after Renovation (in Sqft)</th>\n",
              "      <th>Lot Area after Renovation (in Sqft)</th>\n",
              "      <th>Years Since Renovation</th>\n",
              "      <th>Condition_of_the_House_Excellent</th>\n",
              "      <th>Condition_of_the_House_Fair</th>\n",
              "      <th>Condition_of_the_House_Good</th>\n",
              "      <th>Condition_of_the_House_Okay</th>\n",
              "      <th>Ever_Renovated_Yes</th>\n",
              "      <th>Waterfront_View_Yes</th>\n",
              "      <th>Zipcode_Group_Zipcode_Group_1</th>\n",
              "      <th>Zipcode_Group_Zipcode_Group_2</th>\n",
              "      <th>Zipcode_Group_Zipcode_Group_3</th>\n",
              "      <th>Zipcode_Group_Zipcode_Group_4</th>\n",
              "      <th>Zipcode_Group_Zipcode_Group_5</th>\n",
              "      <th>Zipcode_Group_Zipcode_Group_6</th>\n",
              "      <th>Zipcode_Group_Zipcode_Group_7</th>\n",
              "      <th>Zipcode_Group_Zipcode_Group_8</th>\n",
              "      <th>Zipcode_Group_Zipcode_Group_9</th>\n",
              "    </tr>\n",
              "  </thead>\n",
              "  <tbody>\n",
              "    <tr>\n",
              "      <th>0</th>\n",
              "      <td>221900.0</td>\n",
              "      <td>3</td>\n",
              "      <td>1.00</td>\n",
              "      <td>1180.0</td>\n",
              "      <td>5650.0</td>\n",
              "      <td>1.0</td>\n",
              "      <td>0</td>\n",
              "      <td>7</td>\n",
              "      <td>1180.0</td>\n",
              "      <td>0</td>\n",
              "      <td>63</td>\n",
              "      <td>47.5112</td>\n",
              "      <td>-122.257</td>\n",
              "      <td>1340.0</td>\n",
              "      <td>5650</td>\n",
              "      <td>0</td>\n",
              "      <td>0</td>\n",
              "      <td>1</td>\n",
              "      <td>0</td>\n",
              "      <td>0</td>\n",
              "      <td>0</td>\n",
              "      <td>0</td>\n",
              "      <td>0</td>\n",
              "      <td>0</td>\n",
              "      <td>0</td>\n",
              "      <td>0</td>\n",
              "      <td>0</td>\n",
              "      <td>0</td>\n",
              "      <td>0</td>\n",
              "      <td>0</td>\n",
              "      <td>0</td>\n",
              "    </tr>\n",
              "    <tr>\n",
              "      <th>1</th>\n",
              "      <td>538000.0</td>\n",
              "      <td>3</td>\n",
              "      <td>2.25</td>\n",
              "      <td>2570.0</td>\n",
              "      <td>7242.0</td>\n",
              "      <td>2.0</td>\n",
              "      <td>0</td>\n",
              "      <td>7</td>\n",
              "      <td>2170.0</td>\n",
              "      <td>400</td>\n",
              "      <td>67</td>\n",
              "      <td>47.7210</td>\n",
              "      <td>-122.319</td>\n",
              "      <td>1690.0</td>\n",
              "      <td>7639</td>\n",
              "      <td>26</td>\n",
              "      <td>0</td>\n",
              "      <td>1</td>\n",
              "      <td>0</td>\n",
              "      <td>0</td>\n",
              "      <td>1</td>\n",
              "      <td>0</td>\n",
              "      <td>0</td>\n",
              "      <td>1</td>\n",
              "      <td>0</td>\n",
              "      <td>0</td>\n",
              "      <td>0</td>\n",
              "      <td>0</td>\n",
              "      <td>0</td>\n",
              "      <td>0</td>\n",
              "      <td>0</td>\n",
              "    </tr>\n",
              "    <tr>\n",
              "      <th>2</th>\n",
              "      <td>180000.0</td>\n",
              "      <td>2</td>\n",
              "      <td>1.00</td>\n",
              "      <td>770.0</td>\n",
              "      <td>10000.0</td>\n",
              "      <td>1.0</td>\n",
              "      <td>0</td>\n",
              "      <td>6</td>\n",
              "      <td>770.0</td>\n",
              "      <td>0</td>\n",
              "      <td>85</td>\n",
              "      <td>47.7379</td>\n",
              "      <td>-122.233</td>\n",
              "      <td>2720.0</td>\n",
              "      <td>8062</td>\n",
              "      <td>0</td>\n",
              "      <td>0</td>\n",
              "      <td>1</td>\n",
              "      <td>0</td>\n",
              "      <td>0</td>\n",
              "      <td>0</td>\n",
              "      <td>0</td>\n",
              "      <td>0</td>\n",
              "      <td>1</td>\n",
              "      <td>0</td>\n",
              "      <td>0</td>\n",
              "      <td>0</td>\n",
              "      <td>0</td>\n",
              "      <td>0</td>\n",
              "      <td>0</td>\n",
              "      <td>0</td>\n",
              "    </tr>\n",
              "    <tr>\n",
              "      <th>3</th>\n",
              "      <td>604000.0</td>\n",
              "      <td>4</td>\n",
              "      <td>3.00</td>\n",
              "      <td>1960.0</td>\n",
              "      <td>5000.0</td>\n",
              "      <td>1.0</td>\n",
              "      <td>0</td>\n",
              "      <td>7</td>\n",
              "      <td>1050.0</td>\n",
              "      <td>910</td>\n",
              "      <td>53</td>\n",
              "      <td>47.5208</td>\n",
              "      <td>-122.393</td>\n",
              "      <td>1360.0</td>\n",
              "      <td>5000</td>\n",
              "      <td>0</td>\n",
              "      <td>1</td>\n",
              "      <td>0</td>\n",
              "      <td>0</td>\n",
              "      <td>0</td>\n",
              "      <td>0</td>\n",
              "      <td>0</td>\n",
              "      <td>0</td>\n",
              "      <td>0</td>\n",
              "      <td>1</td>\n",
              "      <td>0</td>\n",
              "      <td>0</td>\n",
              "      <td>0</td>\n",
              "      <td>0</td>\n",
              "      <td>0</td>\n",
              "      <td>0</td>\n",
              "    </tr>\n",
              "    <tr>\n",
              "      <th>4</th>\n",
              "      <td>510000.0</td>\n",
              "      <td>3</td>\n",
              "      <td>2.00</td>\n",
              "      <td>1680.0</td>\n",
              "      <td>8080.0</td>\n",
              "      <td>1.0</td>\n",
              "      <td>0</td>\n",
              "      <td>8</td>\n",
              "      <td>1680.0</td>\n",
              "      <td>0</td>\n",
              "      <td>31</td>\n",
              "      <td>47.6168</td>\n",
              "      <td>-122.045</td>\n",
              "      <td>1800.0</td>\n",
              "      <td>7503</td>\n",
              "      <td>0</td>\n",
              "      <td>0</td>\n",
              "      <td>1</td>\n",
              "      <td>0</td>\n",
              "      <td>0</td>\n",
              "      <td>0</td>\n",
              "      <td>0</td>\n",
              "      <td>0</td>\n",
              "      <td>0</td>\n",
              "      <td>0</td>\n",
              "      <td>1</td>\n",
              "      <td>0</td>\n",
              "      <td>0</td>\n",
              "      <td>0</td>\n",
              "      <td>0</td>\n",
              "      <td>0</td>\n",
              "    </tr>\n",
              "  </tbody>\n",
              "</table>\n",
              "</div>"
            ],
            "text/plain": [
              "   Sale_Price  ...  Zipcode_Group_Zipcode_Group_9\n",
              "0    221900.0  ...                              0\n",
              "1    538000.0  ...                              0\n",
              "2    180000.0  ...                              0\n",
              "3    604000.0  ...                              0\n",
              "4    510000.0  ...                              0\n",
              "\n",
              "[5 rows x 31 columns]"
            ]
          },
          "metadata": {
            "tags": []
          },
          "execution_count": 154
        }
      ]
    },
    {
      "cell_type": "code",
      "metadata": {
        "id": "2ZGXbtXwOTQ4"
      },
      "source": [
        "y = data5.iloc[:,0]"
      ],
      "execution_count": 155,
      "outputs": []
    },
    {
      "cell_type": "code",
      "metadata": {
        "id": "NU5TryAKOaqB"
      },
      "source": [
        "x = data5.iloc[:,1:31]"
      ],
      "execution_count": 156,
      "outputs": []
    },
    {
      "cell_type": "code",
      "metadata": {
        "colab": {
          "base_uri": "https://localhost:8080/",
          "height": 326
        },
        "id": "9YXz-Kq5Ov3c",
        "outputId": "a8ab22b1-d8f5-4ea5-d215-aeb6401d6783"
      },
      "source": [
        "x.head(5)"
      ],
      "execution_count": 157,
      "outputs": [
        {
          "output_type": "execute_result",
          "data": {
            "text/html": [
              "<div>\n",
              "<style scoped>\n",
              "    .dataframe tbody tr th:only-of-type {\n",
              "        vertical-align: middle;\n",
              "    }\n",
              "\n",
              "    .dataframe tbody tr th {\n",
              "        vertical-align: top;\n",
              "    }\n",
              "\n",
              "    .dataframe thead th {\n",
              "        text-align: right;\n",
              "    }\n",
              "</style>\n",
              "<table border=\"1\" class=\"dataframe\">\n",
              "  <thead>\n",
              "    <tr style=\"text-align: right;\">\n",
              "      <th></th>\n",
              "      <th>No of Bedrooms</th>\n",
              "      <th>No of Bathrooms</th>\n",
              "      <th>Flat Area (in Sqft)</th>\n",
              "      <th>Lot Area (in Sqft)</th>\n",
              "      <th>No of Floors</th>\n",
              "      <th>No of Times Visited</th>\n",
              "      <th>Overall Grade</th>\n",
              "      <th>Area of the House from Basement (in Sqft)</th>\n",
              "      <th>Basement Area (in Sqft)</th>\n",
              "      <th>Age of House (in Years)</th>\n",
              "      <th>Latitude</th>\n",
              "      <th>Longitude</th>\n",
              "      <th>Living Area after Renovation (in Sqft)</th>\n",
              "      <th>Lot Area after Renovation (in Sqft)</th>\n",
              "      <th>Years Since Renovation</th>\n",
              "      <th>Condition_of_the_House_Excellent</th>\n",
              "      <th>Condition_of_the_House_Fair</th>\n",
              "      <th>Condition_of_the_House_Good</th>\n",
              "      <th>Condition_of_the_House_Okay</th>\n",
              "      <th>Ever_Renovated_Yes</th>\n",
              "      <th>Waterfront_View_Yes</th>\n",
              "      <th>Zipcode_Group_Zipcode_Group_1</th>\n",
              "      <th>Zipcode_Group_Zipcode_Group_2</th>\n",
              "      <th>Zipcode_Group_Zipcode_Group_3</th>\n",
              "      <th>Zipcode_Group_Zipcode_Group_4</th>\n",
              "      <th>Zipcode_Group_Zipcode_Group_5</th>\n",
              "      <th>Zipcode_Group_Zipcode_Group_6</th>\n",
              "      <th>Zipcode_Group_Zipcode_Group_7</th>\n",
              "      <th>Zipcode_Group_Zipcode_Group_8</th>\n",
              "      <th>Zipcode_Group_Zipcode_Group_9</th>\n",
              "    </tr>\n",
              "  </thead>\n",
              "  <tbody>\n",
              "    <tr>\n",
              "      <th>0</th>\n",
              "      <td>3</td>\n",
              "      <td>1.00</td>\n",
              "      <td>1180.0</td>\n",
              "      <td>5650.0</td>\n",
              "      <td>1.0</td>\n",
              "      <td>0</td>\n",
              "      <td>7</td>\n",
              "      <td>1180.0</td>\n",
              "      <td>0</td>\n",
              "      <td>63</td>\n",
              "      <td>47.5112</td>\n",
              "      <td>-122.257</td>\n",
              "      <td>1340.0</td>\n",
              "      <td>5650</td>\n",
              "      <td>0</td>\n",
              "      <td>0</td>\n",
              "      <td>1</td>\n",
              "      <td>0</td>\n",
              "      <td>0</td>\n",
              "      <td>0</td>\n",
              "      <td>0</td>\n",
              "      <td>0</td>\n",
              "      <td>0</td>\n",
              "      <td>0</td>\n",
              "      <td>0</td>\n",
              "      <td>0</td>\n",
              "      <td>0</td>\n",
              "      <td>0</td>\n",
              "      <td>0</td>\n",
              "      <td>0</td>\n",
              "    </tr>\n",
              "    <tr>\n",
              "      <th>1</th>\n",
              "      <td>3</td>\n",
              "      <td>2.25</td>\n",
              "      <td>2570.0</td>\n",
              "      <td>7242.0</td>\n",
              "      <td>2.0</td>\n",
              "      <td>0</td>\n",
              "      <td>7</td>\n",
              "      <td>2170.0</td>\n",
              "      <td>400</td>\n",
              "      <td>67</td>\n",
              "      <td>47.7210</td>\n",
              "      <td>-122.319</td>\n",
              "      <td>1690.0</td>\n",
              "      <td>7639</td>\n",
              "      <td>26</td>\n",
              "      <td>0</td>\n",
              "      <td>1</td>\n",
              "      <td>0</td>\n",
              "      <td>0</td>\n",
              "      <td>1</td>\n",
              "      <td>0</td>\n",
              "      <td>0</td>\n",
              "      <td>1</td>\n",
              "      <td>0</td>\n",
              "      <td>0</td>\n",
              "      <td>0</td>\n",
              "      <td>0</td>\n",
              "      <td>0</td>\n",
              "      <td>0</td>\n",
              "      <td>0</td>\n",
              "    </tr>\n",
              "    <tr>\n",
              "      <th>2</th>\n",
              "      <td>2</td>\n",
              "      <td>1.00</td>\n",
              "      <td>770.0</td>\n",
              "      <td>10000.0</td>\n",
              "      <td>1.0</td>\n",
              "      <td>0</td>\n",
              "      <td>6</td>\n",
              "      <td>770.0</td>\n",
              "      <td>0</td>\n",
              "      <td>85</td>\n",
              "      <td>47.7379</td>\n",
              "      <td>-122.233</td>\n",
              "      <td>2720.0</td>\n",
              "      <td>8062</td>\n",
              "      <td>0</td>\n",
              "      <td>0</td>\n",
              "      <td>1</td>\n",
              "      <td>0</td>\n",
              "      <td>0</td>\n",
              "      <td>0</td>\n",
              "      <td>0</td>\n",
              "      <td>0</td>\n",
              "      <td>1</td>\n",
              "      <td>0</td>\n",
              "      <td>0</td>\n",
              "      <td>0</td>\n",
              "      <td>0</td>\n",
              "      <td>0</td>\n",
              "      <td>0</td>\n",
              "      <td>0</td>\n",
              "    </tr>\n",
              "    <tr>\n",
              "      <th>3</th>\n",
              "      <td>4</td>\n",
              "      <td>3.00</td>\n",
              "      <td>1960.0</td>\n",
              "      <td>5000.0</td>\n",
              "      <td>1.0</td>\n",
              "      <td>0</td>\n",
              "      <td>7</td>\n",
              "      <td>1050.0</td>\n",
              "      <td>910</td>\n",
              "      <td>53</td>\n",
              "      <td>47.5208</td>\n",
              "      <td>-122.393</td>\n",
              "      <td>1360.0</td>\n",
              "      <td>5000</td>\n",
              "      <td>0</td>\n",
              "      <td>1</td>\n",
              "      <td>0</td>\n",
              "      <td>0</td>\n",
              "      <td>0</td>\n",
              "      <td>0</td>\n",
              "      <td>0</td>\n",
              "      <td>0</td>\n",
              "      <td>0</td>\n",
              "      <td>1</td>\n",
              "      <td>0</td>\n",
              "      <td>0</td>\n",
              "      <td>0</td>\n",
              "      <td>0</td>\n",
              "      <td>0</td>\n",
              "      <td>0</td>\n",
              "    </tr>\n",
              "    <tr>\n",
              "      <th>4</th>\n",
              "      <td>3</td>\n",
              "      <td>2.00</td>\n",
              "      <td>1680.0</td>\n",
              "      <td>8080.0</td>\n",
              "      <td>1.0</td>\n",
              "      <td>0</td>\n",
              "      <td>8</td>\n",
              "      <td>1680.0</td>\n",
              "      <td>0</td>\n",
              "      <td>31</td>\n",
              "      <td>47.6168</td>\n",
              "      <td>-122.045</td>\n",
              "      <td>1800.0</td>\n",
              "      <td>7503</td>\n",
              "      <td>0</td>\n",
              "      <td>0</td>\n",
              "      <td>1</td>\n",
              "      <td>0</td>\n",
              "      <td>0</td>\n",
              "      <td>0</td>\n",
              "      <td>0</td>\n",
              "      <td>0</td>\n",
              "      <td>0</td>\n",
              "      <td>0</td>\n",
              "      <td>1</td>\n",
              "      <td>0</td>\n",
              "      <td>0</td>\n",
              "      <td>0</td>\n",
              "      <td>0</td>\n",
              "      <td>0</td>\n",
              "    </tr>\n",
              "  </tbody>\n",
              "</table>\n",
              "</div>"
            ],
            "text/plain": [
              "   No of Bedrooms  ...  Zipcode_Group_Zipcode_Group_9\n",
              "0               3  ...                              0\n",
              "1               3  ...                              0\n",
              "2               2  ...                              0\n",
              "3               4  ...                              0\n",
              "4               3  ...                              0\n",
              "\n",
              "[5 rows x 30 columns]"
            ]
          },
          "metadata": {
            "tags": []
          },
          "execution_count": 157
        }
      ]
    },
    {
      "cell_type": "code",
      "metadata": {
        "colab": {
          "base_uri": "https://localhost:8080/"
        },
        "id": "1jt2-Cq0Oy6I",
        "outputId": "0c099cfc-c4a1-4826-f0c1-0abf6e1f2b7f"
      },
      "source": [
        "y.head(5)"
      ],
      "execution_count": 158,
      "outputs": [
        {
          "output_type": "execute_result",
          "data": {
            "text/plain": [
              "0    221900.0\n",
              "1    538000.0\n",
              "2    180000.0\n",
              "3    604000.0\n",
              "4    510000.0\n",
              "Name: Sale_Price, dtype: float64"
            ]
          },
          "metadata": {
            "tags": []
          },
          "execution_count": 158
        }
      ]
    },
    {
      "cell_type": "code",
      "metadata": {
        "id": "aS_qsu8mP9Nq"
      },
      "source": [
        "# now we will split out dataset for training and testing purpose for the model\n",
        "from sklearn.model_selection import train_test_split\n",
        "x_train, x_test, y_train, y_test = train_test_split(x,y,test_size = 0.3)"
      ],
      "execution_count": 159,
      "outputs": []
    },
    {
      "cell_type": "code",
      "metadata": {
        "colab": {
          "base_uri": "https://localhost:8080/",
          "height": 539
        },
        "id": "TS11-dtiQ1Gs",
        "outputId": "41ad08cb-29af-4cfd-8568-2712fd855ffc"
      },
      "source": [
        "x_train"
      ],
      "execution_count": 160,
      "outputs": [
        {
          "output_type": "execute_result",
          "data": {
            "text/html": [
              "<div>\n",
              "<style scoped>\n",
              "    .dataframe tbody tr th:only-of-type {\n",
              "        vertical-align: middle;\n",
              "    }\n",
              "\n",
              "    .dataframe tbody tr th {\n",
              "        vertical-align: top;\n",
              "    }\n",
              "\n",
              "    .dataframe thead th {\n",
              "        text-align: right;\n",
              "    }\n",
              "</style>\n",
              "<table border=\"1\" class=\"dataframe\">\n",
              "  <thead>\n",
              "    <tr style=\"text-align: right;\">\n",
              "      <th></th>\n",
              "      <th>No of Bedrooms</th>\n",
              "      <th>No of Bathrooms</th>\n",
              "      <th>Flat Area (in Sqft)</th>\n",
              "      <th>Lot Area (in Sqft)</th>\n",
              "      <th>No of Floors</th>\n",
              "      <th>No of Times Visited</th>\n",
              "      <th>Overall Grade</th>\n",
              "      <th>Area of the House from Basement (in Sqft)</th>\n",
              "      <th>Basement Area (in Sqft)</th>\n",
              "      <th>Age of House (in Years)</th>\n",
              "      <th>Latitude</th>\n",
              "      <th>Longitude</th>\n",
              "      <th>Living Area after Renovation (in Sqft)</th>\n",
              "      <th>Lot Area after Renovation (in Sqft)</th>\n",
              "      <th>Years Since Renovation</th>\n",
              "      <th>Condition_of_the_House_Excellent</th>\n",
              "      <th>Condition_of_the_House_Fair</th>\n",
              "      <th>Condition_of_the_House_Good</th>\n",
              "      <th>Condition_of_the_House_Okay</th>\n",
              "      <th>Ever_Renovated_Yes</th>\n",
              "      <th>Waterfront_View_Yes</th>\n",
              "      <th>Zipcode_Group_Zipcode_Group_1</th>\n",
              "      <th>Zipcode_Group_Zipcode_Group_2</th>\n",
              "      <th>Zipcode_Group_Zipcode_Group_3</th>\n",
              "      <th>Zipcode_Group_Zipcode_Group_4</th>\n",
              "      <th>Zipcode_Group_Zipcode_Group_5</th>\n",
              "      <th>Zipcode_Group_Zipcode_Group_6</th>\n",
              "      <th>Zipcode_Group_Zipcode_Group_7</th>\n",
              "      <th>Zipcode_Group_Zipcode_Group_8</th>\n",
              "      <th>Zipcode_Group_Zipcode_Group_9</th>\n",
              "    </tr>\n",
              "  </thead>\n",
              "  <tbody>\n",
              "    <tr>\n",
              "      <th>10390</th>\n",
              "      <td>2</td>\n",
              "      <td>3.25</td>\n",
              "      <td>1840.0</td>\n",
              "      <td>1500.0</td>\n",
              "      <td>3.0</td>\n",
              "      <td>0</td>\n",
              "      <td>8</td>\n",
              "      <td>1840.0</td>\n",
              "      <td>0</td>\n",
              "      <td>17</td>\n",
              "      <td>47.6595</td>\n",
              "      <td>-122.354</td>\n",
              "      <td>1910.0</td>\n",
              "      <td>2500</td>\n",
              "      <td>0</td>\n",
              "      <td>0</td>\n",
              "      <td>1</td>\n",
              "      <td>0</td>\n",
              "      <td>0</td>\n",
              "      <td>0</td>\n",
              "      <td>0</td>\n",
              "      <td>0</td>\n",
              "      <td>0</td>\n",
              "      <td>1</td>\n",
              "      <td>0</td>\n",
              "      <td>0</td>\n",
              "      <td>0</td>\n",
              "      <td>0</td>\n",
              "      <td>0</td>\n",
              "      <td>0</td>\n",
              "    </tr>\n",
              "    <tr>\n",
              "      <th>19845</th>\n",
              "      <td>4</td>\n",
              "      <td>2.50</td>\n",
              "      <td>3250.0</td>\n",
              "      <td>4500.0</td>\n",
              "      <td>2.0</td>\n",
              "      <td>0</td>\n",
              "      <td>8</td>\n",
              "      <td>3250.0</td>\n",
              "      <td>0</td>\n",
              "      <td>9</td>\n",
              "      <td>47.4944</td>\n",
              "      <td>-122.149</td>\n",
              "      <td>3030.0</td>\n",
              "      <td>4518</td>\n",
              "      <td>0</td>\n",
              "      <td>0</td>\n",
              "      <td>1</td>\n",
              "      <td>0</td>\n",
              "      <td>0</td>\n",
              "      <td>0</td>\n",
              "      <td>0</td>\n",
              "      <td>0</td>\n",
              "      <td>1</td>\n",
              "      <td>0</td>\n",
              "      <td>0</td>\n",
              "      <td>0</td>\n",
              "      <td>0</td>\n",
              "      <td>0</td>\n",
              "      <td>0</td>\n",
              "      <td>0</td>\n",
              "    </tr>\n",
              "    <tr>\n",
              "      <th>3012</th>\n",
              "      <td>3</td>\n",
              "      <td>1.50</td>\n",
              "      <td>1070.0</td>\n",
              "      <td>6601.0</td>\n",
              "      <td>1.0</td>\n",
              "      <td>0</td>\n",
              "      <td>6</td>\n",
              "      <td>1070.0</td>\n",
              "      <td>0</td>\n",
              "      <td>33</td>\n",
              "      <td>47.3115</td>\n",
              "      <td>-122.209</td>\n",
              "      <td>1030.0</td>\n",
              "      <td>6614</td>\n",
              "      <td>0</td>\n",
              "      <td>0</td>\n",
              "      <td>1</td>\n",
              "      <td>0</td>\n",
              "      <td>0</td>\n",
              "      <td>0</td>\n",
              "      <td>0</td>\n",
              "      <td>0</td>\n",
              "      <td>0</td>\n",
              "      <td>0</td>\n",
              "      <td>0</td>\n",
              "      <td>0</td>\n",
              "      <td>0</td>\n",
              "      <td>0</td>\n",
              "      <td>0</td>\n",
              "      <td>0</td>\n",
              "    </tr>\n",
              "    <tr>\n",
              "      <th>20690</th>\n",
              "      <td>3</td>\n",
              "      <td>2.50</td>\n",
              "      <td>1600.0</td>\n",
              "      <td>3073.0</td>\n",
              "      <td>3.0</td>\n",
              "      <td>0</td>\n",
              "      <td>8</td>\n",
              "      <td>1600.0</td>\n",
              "      <td>0</td>\n",
              "      <td>9</td>\n",
              "      <td>47.5934</td>\n",
              "      <td>-122.298</td>\n",
              "      <td>1130.0</td>\n",
              "      <td>2921</td>\n",
              "      <td>0</td>\n",
              "      <td>0</td>\n",
              "      <td>1</td>\n",
              "      <td>0</td>\n",
              "      <td>0</td>\n",
              "      <td>0</td>\n",
              "      <td>0</td>\n",
              "      <td>0</td>\n",
              "      <td>0</td>\n",
              "      <td>1</td>\n",
              "      <td>0</td>\n",
              "      <td>0</td>\n",
              "      <td>0</td>\n",
              "      <td>0</td>\n",
              "      <td>0</td>\n",
              "      <td>0</td>\n",
              "    </tr>\n",
              "    <tr>\n",
              "      <th>13417</th>\n",
              "      <td>2</td>\n",
              "      <td>2.25</td>\n",
              "      <td>2950.0</td>\n",
              "      <td>15593.0</td>\n",
              "      <td>1.0</td>\n",
              "      <td>0</td>\n",
              "      <td>8</td>\n",
              "      <td>1560.0</td>\n",
              "      <td>1390</td>\n",
              "      <td>76</td>\n",
              "      <td>47.6209</td>\n",
              "      <td>-122.236</td>\n",
              "      <td>2060.0</td>\n",
              "      <td>19855</td>\n",
              "      <td>31</td>\n",
              "      <td>0</td>\n",
              "      <td>0</td>\n",
              "      <td>1</td>\n",
              "      <td>0</td>\n",
              "      <td>1</td>\n",
              "      <td>0</td>\n",
              "      <td>0</td>\n",
              "      <td>0</td>\n",
              "      <td>0</td>\n",
              "      <td>0</td>\n",
              "      <td>0</td>\n",
              "      <td>0</td>\n",
              "      <td>0</td>\n",
              "      <td>0</td>\n",
              "      <td>1</td>\n",
              "    </tr>\n",
              "    <tr>\n",
              "      <th>...</th>\n",
              "      <td>...</td>\n",
              "      <td>...</td>\n",
              "      <td>...</td>\n",
              "      <td>...</td>\n",
              "      <td>...</td>\n",
              "      <td>...</td>\n",
              "      <td>...</td>\n",
              "      <td>...</td>\n",
              "      <td>...</td>\n",
              "      <td>...</td>\n",
              "      <td>...</td>\n",
              "      <td>...</td>\n",
              "      <td>...</td>\n",
              "      <td>...</td>\n",
              "      <td>...</td>\n",
              "      <td>...</td>\n",
              "      <td>...</td>\n",
              "      <td>...</td>\n",
              "      <td>...</td>\n",
              "      <td>...</td>\n",
              "      <td>...</td>\n",
              "      <td>...</td>\n",
              "      <td>...</td>\n",
              "      <td>...</td>\n",
              "      <td>...</td>\n",
              "      <td>...</td>\n",
              "      <td>...</td>\n",
              "      <td>...</td>\n",
              "      <td>...</td>\n",
              "      <td>...</td>\n",
              "    </tr>\n",
              "    <tr>\n",
              "      <th>15648</th>\n",
              "      <td>3</td>\n",
              "      <td>1.00</td>\n",
              "      <td>1590.0</td>\n",
              "      <td>11200.0</td>\n",
              "      <td>1.0</td>\n",
              "      <td>0</td>\n",
              "      <td>7</td>\n",
              "      <td>1590.0</td>\n",
              "      <td>0</td>\n",
              "      <td>57</td>\n",
              "      <td>47.2894</td>\n",
              "      <td>-122.188</td>\n",
              "      <td>1560.0</td>\n",
              "      <td>9750</td>\n",
              "      <td>0</td>\n",
              "      <td>0</td>\n",
              "      <td>0</td>\n",
              "      <td>1</td>\n",
              "      <td>0</td>\n",
              "      <td>0</td>\n",
              "      <td>0</td>\n",
              "      <td>1</td>\n",
              "      <td>0</td>\n",
              "      <td>0</td>\n",
              "      <td>0</td>\n",
              "      <td>0</td>\n",
              "      <td>0</td>\n",
              "      <td>0</td>\n",
              "      <td>0</td>\n",
              "      <td>0</td>\n",
              "    </tr>\n",
              "    <tr>\n",
              "      <th>19086</th>\n",
              "      <td>4</td>\n",
              "      <td>2.50</td>\n",
              "      <td>3780.0</td>\n",
              "      <td>23623.0</td>\n",
              "      <td>2.0</td>\n",
              "      <td>0</td>\n",
              "      <td>9</td>\n",
              "      <td>3780.0</td>\n",
              "      <td>0</td>\n",
              "      <td>21</td>\n",
              "      <td>47.5590</td>\n",
              "      <td>-122.118</td>\n",
              "      <td>3370.0</td>\n",
              "      <td>10210</td>\n",
              "      <td>0</td>\n",
              "      <td>0</td>\n",
              "      <td>1</td>\n",
              "      <td>0</td>\n",
              "      <td>0</td>\n",
              "      <td>0</td>\n",
              "      <td>0</td>\n",
              "      <td>0</td>\n",
              "      <td>0</td>\n",
              "      <td>0</td>\n",
              "      <td>0</td>\n",
              "      <td>0</td>\n",
              "      <td>1</td>\n",
              "      <td>0</td>\n",
              "      <td>0</td>\n",
              "      <td>0</td>\n",
              "    </tr>\n",
              "    <tr>\n",
              "      <th>20141</th>\n",
              "      <td>4</td>\n",
              "      <td>3.50</td>\n",
              "      <td>3130.0</td>\n",
              "      <td>5000.0</td>\n",
              "      <td>3.0</td>\n",
              "      <td>0</td>\n",
              "      <td>10</td>\n",
              "      <td>3130.0</td>\n",
              "      <td>0</td>\n",
              "      <td>4</td>\n",
              "      <td>47.5656</td>\n",
              "      <td>-122.403</td>\n",
              "      <td>1950.0</td>\n",
              "      <td>5152</td>\n",
              "      <td>0</td>\n",
              "      <td>0</td>\n",
              "      <td>1</td>\n",
              "      <td>0</td>\n",
              "      <td>0</td>\n",
              "      <td>0</td>\n",
              "      <td>0</td>\n",
              "      <td>0</td>\n",
              "      <td>0</td>\n",
              "      <td>0</td>\n",
              "      <td>1</td>\n",
              "      <td>0</td>\n",
              "      <td>0</td>\n",
              "      <td>0</td>\n",
              "      <td>0</td>\n",
              "      <td>0</td>\n",
              "    </tr>\n",
              "    <tr>\n",
              "      <th>491</th>\n",
              "      <td>5</td>\n",
              "      <td>2.50</td>\n",
              "      <td>2820.0</td>\n",
              "      <td>14062.0</td>\n",
              "      <td>2.0</td>\n",
              "      <td>0</td>\n",
              "      <td>7</td>\n",
              "      <td>2380.0</td>\n",
              "      <td>440</td>\n",
              "      <td>58</td>\n",
              "      <td>47.7081</td>\n",
              "      <td>-122.215</td>\n",
              "      <td>1910.0</td>\n",
              "      <td>10392</td>\n",
              "      <td>0</td>\n",
              "      <td>0</td>\n",
              "      <td>0</td>\n",
              "      <td>1</td>\n",
              "      <td>0</td>\n",
              "      <td>0</td>\n",
              "      <td>0</td>\n",
              "      <td>0</td>\n",
              "      <td>0</td>\n",
              "      <td>1</td>\n",
              "      <td>0</td>\n",
              "      <td>0</td>\n",
              "      <td>0</td>\n",
              "      <td>0</td>\n",
              "      <td>0</td>\n",
              "      <td>0</td>\n",
              "    </tr>\n",
              "    <tr>\n",
              "      <th>12433</th>\n",
              "      <td>3</td>\n",
              "      <td>1.00</td>\n",
              "      <td>1840.0</td>\n",
              "      <td>8100.0</td>\n",
              "      <td>1.0</td>\n",
              "      <td>0</td>\n",
              "      <td>7</td>\n",
              "      <td>920.0</td>\n",
              "      <td>920</td>\n",
              "      <td>65</td>\n",
              "      <td>47.4550</td>\n",
              "      <td>-122.350</td>\n",
              "      <td>1250.0</td>\n",
              "      <td>8100</td>\n",
              "      <td>0</td>\n",
              "      <td>0</td>\n",
              "      <td>0</td>\n",
              "      <td>1</td>\n",
              "      <td>0</td>\n",
              "      <td>0</td>\n",
              "      <td>0</td>\n",
              "      <td>0</td>\n",
              "      <td>1</td>\n",
              "      <td>0</td>\n",
              "      <td>0</td>\n",
              "      <td>0</td>\n",
              "      <td>0</td>\n",
              "      <td>0</td>\n",
              "      <td>0</td>\n",
              "      <td>0</td>\n",
              "    </tr>\n",
              "  </tbody>\n",
              "</table>\n",
              "<p>15126 rows × 30 columns</p>\n",
              "</div>"
            ],
            "text/plain": [
              "       No of Bedrooms  ...  Zipcode_Group_Zipcode_Group_9\n",
              "10390               2  ...                              0\n",
              "19845               4  ...                              0\n",
              "3012                3  ...                              0\n",
              "20690               3  ...                              0\n",
              "13417               2  ...                              1\n",
              "...               ...  ...                            ...\n",
              "15648               3  ...                              0\n",
              "19086               4  ...                              0\n",
              "20141               4  ...                              0\n",
              "491                 5  ...                              0\n",
              "12433               3  ...                              0\n",
              "\n",
              "[15126 rows x 30 columns]"
            ]
          },
          "metadata": {
            "tags": []
          },
          "execution_count": 160
        }
      ]
    },
    {
      "cell_type": "code",
      "metadata": {
        "colab": {
          "base_uri": "https://localhost:8080/"
        },
        "id": "uSbLGvenQ3zm",
        "outputId": "83be1cfc-1c00-4dcc-b20b-82f37acea550"
      },
      "source": [
        "y_train"
      ],
      "execution_count": 161,
      "outputs": [
        {
          "output_type": "execute_result",
          "data": {
            "text/plain": [
              "10390     601450.0\n",
              "19845     519000.0\n",
              "3012      219950.0\n",
              "20690     502000.0\n",
              "13417    1129575.0\n",
              "           ...    \n",
              "15648     247200.0\n",
              "19086     962800.0\n",
              "20141    1010000.0\n",
              "491       669950.0\n",
              "12433     340000.0\n",
              "Name: Sale_Price, Length: 15126, dtype: float64"
            ]
          },
          "metadata": {
            "tags": []
          },
          "execution_count": 161
        }
      ]
    },
    {
      "cell_type": "code",
      "metadata": {
        "colab": {
          "base_uri": "https://localhost:8080/"
        },
        "id": "eBmRyT1ERW7_",
        "outputId": "14d6ef23-ecec-42de-b334-52c4a45a65e8"
      },
      "source": [
        "x_train.shape"
      ],
      "execution_count": 162,
      "outputs": [
        {
          "output_type": "execute_result",
          "data": {
            "text/plain": [
              "(15126, 30)"
            ]
          },
          "metadata": {
            "tags": []
          },
          "execution_count": 162
        }
      ]
    },
    {
      "cell_type": "code",
      "metadata": {
        "colab": {
          "base_uri": "https://localhost:8080/"
        },
        "id": "apdolpBPRav_",
        "outputId": "d40ac2b1-5c45-4f14-e6d5-ccb4caf68522"
      },
      "source": [
        "x_test.shape"
      ],
      "execution_count": 163,
      "outputs": [
        {
          "output_type": "execute_result",
          "data": {
            "text/plain": [
              "(6483, 30)"
            ]
          },
          "metadata": {
            "tags": []
          },
          "execution_count": 163
        }
      ]
    },
    {
      "cell_type": "code",
      "metadata": {
        "colab": {
          "base_uri": "https://localhost:8080/"
        },
        "id": "UGn8Ut4vRds-",
        "outputId": "7a4fee6d-7334-4530-dd0f-0693fcd367eb"
      },
      "source": [
        "y_train.shape"
      ],
      "execution_count": 164,
      "outputs": [
        {
          "output_type": "execute_result",
          "data": {
            "text/plain": [
              "(15126,)"
            ]
          },
          "metadata": {
            "tags": []
          },
          "execution_count": 164
        }
      ]
    },
    {
      "cell_type": "code",
      "metadata": {
        "colab": {
          "base_uri": "https://localhost:8080/"
        },
        "id": "So-H0FKJRghR",
        "outputId": "a41331f8-dc3f-411b-d153-40fb1095285a"
      },
      "source": [
        "y_test.shape"
      ],
      "execution_count": 165,
      "outputs": [
        {
          "output_type": "execute_result",
          "data": {
            "text/plain": [
              "(6483,)"
            ]
          },
          "metadata": {
            "tags": []
          },
          "execution_count": 165
        }
      ]
    },
    {
      "cell_type": "code",
      "metadata": {
        "colab": {
          "base_uri": "https://localhost:8080/"
        },
        "id": "9_yKtTtLSQtM",
        "outputId": "94aa68d4-4696-4baa-c923-a6aea74baa67"
      },
      "source": [
        "s = pd.Series(data= [10,5,6,2,3,1,4,8,9,7], index = [49,48,47,46,45,1,2,3,4,5])\n",
        "s\n",
        "# loc function only takes index and return the data at that particular index"
      ],
      "execution_count": 166,
      "outputs": [
        {
          "output_type": "execute_result",
          "data": {
            "text/plain": [
              "49    10\n",
              "48     5\n",
              "47     6\n",
              "46     2\n",
              "45     3\n",
              "1      1\n",
              "2      4\n",
              "3      8\n",
              "4      9\n",
              "5      7\n",
              "dtype: int64"
            ]
          },
          "metadata": {
            "tags": []
          },
          "execution_count": 166
        }
      ]
    },
    {
      "cell_type": "code",
      "metadata": {
        "colab": {
          "base_uri": "https://localhost:8080/"
        },
        "id": "57HkYES7SmSv",
        "outputId": "0ae1d408-8263-447b-c6e6-f719b5de75ee"
      },
      "source": [
        "s.loc[3]"
      ],
      "execution_count": 167,
      "outputs": [
        {
          "output_type": "execute_result",
          "data": {
            "text/plain": [
              "8"
            ]
          },
          "metadata": {
            "tags": []
          },
          "execution_count": 167
        }
      ]
    },
    {
      "cell_type": "code",
      "metadata": {
        "id": "fBWsI4s4ASSI"
      },
      "source": [
        "# now we will do feature scaling so as to avoid the preference given to any specific data by the model\n",
        "from sklearn import preprocessing\n",
        "scale = preprocessing.StandardScaler()"
      ],
      "execution_count": 168,
      "outputs": []
    },
    {
      "cell_type": "code",
      "metadata": {
        "colab": {
          "base_uri": "https://localhost:8080/"
        },
        "id": "PtTQd_3IAuNK",
        "outputId": "c0372a48-abae-4b8c-978f-7d74ad6d18cc"
      },
      "source": [
        "scale.fit_transform(x_train)"
      ],
      "execution_count": 169,
      "outputs": [
        {
          "output_type": "execute_result",
          "data": {
            "text/plain": [
              "array([[-1.45750913,  1.47858693, -0.25936645, ..., -0.10787604,\n",
              "        -0.16733363, -0.05149238],\n",
              "       [ 0.67287528,  0.50249886,  1.28975216, ..., -0.10787604,\n",
              "        -0.16733363, -0.05149238],\n",
              "       [-0.39231692, -0.79895189, -1.10533903, ..., -0.10787604,\n",
              "        -0.16733363, -0.05149238],\n",
              "       ...,\n",
              "       [ 0.67287528,  1.80394961,  1.15791228, ..., -0.10787604,\n",
              "        -0.16733363, -0.05149238],\n",
              "       [ 1.73806749,  0.50249886,  0.81732592, ..., -0.10787604,\n",
              "        -0.16733363, -0.05149238],\n",
              "       [-0.39231692, -1.44967727, -0.25936645, ..., -0.10787604,\n",
              "        -0.16733363, -0.05149238]])"
            ]
          },
          "metadata": {
            "tags": []
          },
          "execution_count": 169
        }
      ]
    },
    {
      "cell_type": "code",
      "metadata": {
        "colab": {
          "base_uri": "https://localhost:8080/"
        },
        "id": "BOjScLRiAz__",
        "outputId": "23835baa-b50c-431d-c3e7-2c8ff96f3e0b"
      },
      "source": [
        "scale.fit_transform(x_test)"
      ],
      "execution_count": 170,
      "outputs": [
        {
          "output_type": "execute_result",
          "data": {
            "text/plain": [
              "array([[ 0.68607705,  0.49530656,  0.80180694, ..., -0.12194931,\n",
              "        -0.17234093, -0.03930495],\n",
              "       [ 0.68607705,  0.49530656,  0.47095138, ..., -0.12194931,\n",
              "        -0.17234093, -0.03930495],\n",
              "       [-0.41432808, -1.44257662, -1.19399918, ..., -0.12194931,\n",
              "        -0.17234093, -0.03930495],\n",
              "       ...,\n",
              "       [-0.41432808,  0.17232603, -0.31883286, ..., -0.12194931,\n",
              "        -0.17234093, -0.03930495],\n",
              "       [-0.41432808,  0.49530656,  0.60969726, ..., -0.12194931,\n",
              "        -0.17234093, -0.03930495],\n",
              "       [-0.41432808, -1.44257662, -0.9485257 , ..., -0.12194931,\n",
              "        -0.17234093, -0.03930495]])"
            ]
          },
          "metadata": {
            "tags": []
          },
          "execution_count": 170
        }
      ]
    },
    {
      "cell_type": "code",
      "metadata": {
        "id": "Us07LoLfBNPL"
      },
      "source": [
        "#  now we are ready for model building. see you in a new notebook, byee.."
      ],
      "execution_count": 171,
      "outputs": []
    }
  ]
}