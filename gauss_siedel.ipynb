{
  "nbformat": 4,
  "nbformat_minor": 0,
  "metadata": {
    "colab": {
      "name": "gauss-siedel.ipynb",
      "provenance": [],
      "authorship_tag": "ABX9TyPqVCbGrhklGSHq7C3ti1sP",
      "include_colab_link": true
    },
    "kernelspec": {
      "name": "python3",
      "display_name": "Python 3"
    },
    "language_info": {
      "name": "python"
    }
  },
  "cells": [
    {
      "cell_type": "markdown",
      "metadata": {
        "id": "view-in-github",
        "colab_type": "text"
      },
      "source": [
        "<a href=\"https://colab.research.google.com/github/1901010019/1901010019.github.io/blob/master/gauss_siedel.ipynb\" target=\"_parent\"><img src=\"https://colab.research.google.com/assets/colab-badge.svg\" alt=\"Open In Colab\"/></a>"
      ]
    },
    {
      "cell_type": "markdown",
      "metadata": {
        "id": "1jsmkxfVdQgz"
      },
      "source": [
        "ALGORITHM FOR GAUSS SEIDEL METHOD:-\n",
        "\n",
        "Given the three equation:\n",
        "\n",
        "4x + y + 2z = 4\n",
        "3x + 5y + z = 7\n",
        "x + y + 3z = 3\n",
        "First we assume that the solution of given equation is\n",
        "\n",
        "(0,0,0)\n",
        "\n",
        "Then first we put value of y and z in equation 1 and get value of x and update the value of x as (x1,0,0)\n",
        "\n",
        "Now, putting the updated value of x that is x1 and z=0 in equation 2 to get y1 and then updating our solution as (x1,y1,0)\n",
        "\n",
        "Then, at last putting x1 and y1 in equation 3 to get z1 and updating our solution as (x1,y1,z1)\n",
        "\n",
        "NOW, WE REPEAT THE ABOVE PROCESS TO GET THE APPROXIMATE SOLUTION WITH LEAST ERROR "
      ]
    },
    {
      "cell_type": "code",
      "metadata": {
        "colab": {
          "base_uri": "https://localhost:8080/"
        },
        "id": "cbdW8wIYaOWW",
        "outputId": "669b5a07-53f4-4fad-a38a-c266f8c9142b"
      },
      "source": [
        "# i have tried to generalize this code as much as i could. everything would be input by user without any preasumption of the dimensions.\n",
        "# oviously i have tried to deal here with 2-D  list which means matrix in maths, so obviously i have assumed dimension of list to be 2.\n",
        "import numpy as np\n",
        "\n",
        "def seidel(a,x,b):\n",
        "  n = len(a)\n",
        "  for j in range(0,n):\n",
        "    d = b[j]\n",
        "    for i in range(0,n):\n",
        "      if (i!=j):\n",
        "        d -=a[j][i]*x[i]\n",
        "    x[j] = d / a[j][j]\n",
        "\n",
        "  return x\n",
        "\n",
        "matrix = [] # creating a 2-D empty list i,e. matrix \n",
        "n = int(input('input the length: ')) # input from the user regarding dimensdion of the matrix\n",
        "for i in range(0,n):\n",
        "  a=[]\n",
        "  for j in range(0,n):\n",
        "    y = int(input()) # taking input of matrix by the user\n",
        "    a.append(y)\n",
        "  matrix.append(a)\n",
        "print(matrix) # printing matrix just for visualization purpose\n",
        "x = np.zeros(n) # creating a list with each element intialized to zero, we will interpret it as 3*1 matrix while running the loop.\n",
        "b= [] # creating a one dimensional list which will be 'b' in equation ax=b\n",
        "for i in range(0,n):\n",
        "  b.append(int(input()))\n",
        "print(seidel(matrix,x,b))\n",
        "# therefore\n",
        "print('value of x =', x[0])\n",
        "print('value of y =', x[1])\n",
        "print('value of z =', x[2])"
      ],
      "execution_count": null,
      "outputs": [
        {
          "output_type": "stream",
          "text": [
            "input the length: 3\n",
            "4\n",
            "1\n",
            "2\n",
            "3\n",
            "5\n",
            "1\n",
            "1\n",
            "1\n",
            "3\n",
            "[[4, 1, 2], [3, 5, 1], [1, 1, 3]]\n",
            "4\n",
            "7\n",
            "3\n",
            "[1.  0.8 0.4]\n",
            "value of x = 1.0\n",
            "value of y = 0.8\n",
            "value of z = 0.39999999999999997\n"
          ],
          "name": "stdout"
        }
      ]
    }
  ]
}