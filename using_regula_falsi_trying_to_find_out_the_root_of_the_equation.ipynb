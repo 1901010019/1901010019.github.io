{
  "nbformat": 4,
  "nbformat_minor": 0,
  "metadata": {
    "colab": {
      "name": "Untitled9.ipynb",
      "provenance": [],
      "authorship_tag": "ABX9TyMhOpO7oFARydcZyiwO+L5B",
      "include_colab_link": true
    },
    "kernelspec": {
      "name": "python3",
      "display_name": "Python 3"
    }
  },
  "cells": [
    {
      "cell_type": "markdown",
      "metadata": {
        "id": "view-in-github",
        "colab_type": "text"
      },
      "source": [
        "<a href=\"https://colab.research.google.com/github/1901010019/1901010019.github.io/blob/master/using_regula_falsi_trying_to_find_out_the_root_of_the_equation.ipynb\" target=\"_parent\"><img src=\"https://colab.research.google.com/assets/colab-badge.svg\" alt=\"Open In Colab\"/></a>"
      ]
    },
    {
      "cell_type": "code",
      "metadata": {
        "colab": {
          "base_uri": "https://localhost:8080/"
        },
        "id": "i-poKs9-pDTH",
        "outputId": "62afd9a4-2319-4c7e-b600-dc8fd2fc5946"
      },
      "source": [
        "def func( x ): \r\n",
        "    return ((-327.80114 * x + 0.08557 * x**2 + 314120.54414 )-( 4145.46262 * x + -68.28755 * x**2 + 0.06627 * x**3 + -0.00002 * x**4 + 0.00000 * x**5 + 23951376.37736)) \r\n",
        "  \r\n",
        "# Prints root of func(x) in interval [a, b] \r\n",
        "def regulaFalsi( a , b): \r\n",
        "    if func(a) * func(b) >= 0: \r\n",
        "        print(\"You have not assumed right a and b\") \r\n",
        "        return -1\r\n",
        "      \r\n",
        "    c = a # Initialize result \r\n",
        "      \r\n",
        "    for i in range(MAX_ITER): \r\n",
        "          \r\n",
        "        # Find the point that touches x axis \r\n",
        "        c = (a * func(b) - b * func(a))/ (func(b) - func(a)) \r\n",
        "          \r\n",
        "        # Check if the above found point is root \r\n",
        "        if func(c) == 0: \r\n",
        "            break\r\n",
        "          \r\n",
        "        # Decide the side to repeat the steps \r\n",
        "        elif func(c) * func(a) < 0: \r\n",
        "            b = c \r\n",
        "        else: \r\n",
        "            a = c \r\n",
        "    print(\"The value of root is : \" , '%.4f' %c) \r\n",
        "  \r\n",
        "# Driver code to test above function \r\n",
        "# Initial values assumed \r\n",
        "a =-200\r\n",
        "b = 300\r\n",
        "regulaFalsi(a, b) "
      ],
      "execution_count": 1,
      "outputs": [
        {
          "output_type": "stream",
          "text": [
            "You have not assumed right a and b\n"
          ],
          "name": "stdout"
        },
        {
          "output_type": "execute_result",
          "data": {
            "text/plain": [
              "-1"
            ]
          },
          "metadata": {
            "tags": []
          },
          "execution_count": 1
        }
      ]
    }
  ]
}