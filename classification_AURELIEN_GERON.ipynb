{
  "nbformat": 4,
  "nbformat_minor": 0,
  "metadata": {
    "colab": {
      "name": "classification_AURELIEN_GERON.ipynb",
      "provenance": [],
      "authorship_tag": "ABX9TyPWsXp6ENuNVyOkuDyStBQ3",
      "include_colab_link": true
    },
    "kernelspec": {
      "name": "python3",
      "display_name": "Python 3"
    },
    "language_info": {
      "name": "python"
    },
    "accelerator": "GPU"
  },
  "cells": [
    {
      "cell_type": "markdown",
      "metadata": {
        "id": "view-in-github",
        "colab_type": "text"
      },
      "source": [
        "<a href=\"https://colab.research.google.com/github/1901010019/1901010019.github.io/blob/master/classification_AURELIEN_GERON.ipynb\" target=\"_parent\"><img src=\"https://colab.research.google.com/assets/colab-badge.svg\" alt=\"Open In Colab\"/></a>"
      ]
    },
    {
      "cell_type": "code",
      "metadata": {
        "id": "J47OKNl_jI4B"
      },
      "source": [
        "import numpy as np\n",
        "import pandas as pd\n",
        "import matplotlib.pyplot as plt\n",
        "import matplotlib as mpl"
      ],
      "execution_count": 1,
      "outputs": []
    },
    {
      "cell_type": "code",
      "metadata": {
        "colab": {
          "base_uri": "https://localhost:8080/"
        },
        "id": "7FA0oMp-jFQn",
        "outputId": "359513f4-c6b7-41b4-d2e7-5bb8f63ecda6"
      },
      "source": [
        "from sklearn.datasets import fetch_openml\n",
        "mnist = fetch_openml('mnist_784', version=1)\n",
        "mnist.keys()"
      ],
      "execution_count": 2,
      "outputs": [
        {
          "output_type": "execute_result",
          "data": {
            "text/plain": [
              "dict_keys(['data', 'target', 'frame', 'feature_names', 'target_names', 'DESCR', 'details', 'categories', 'url'])"
            ]
          },
          "metadata": {
            "tags": []
          },
          "execution_count": 2
        }
      ]
    },
    {
      "cell_type": "code",
      "metadata": {
        "colab": {
          "base_uri": "https://localhost:8080/"
        },
        "id": "OXIz__N3jn61",
        "outputId": "45381267-03f3-4810-8695-6f5904c4faa6"
      },
      "source": [
        "X, y = mnist['data'], mnist['target']\n",
        "X.shape, y.shape"
      ],
      "execution_count": 3,
      "outputs": [
        {
          "output_type": "execute_result",
          "data": {
            "text/plain": [
              "((70000, 784), (70000,))"
            ]
          },
          "metadata": {
            "tags": []
          },
          "execution_count": 3
        }
      ]
    },
    {
      "cell_type": "code",
      "metadata": {
        "colab": {
          "base_uri": "https://localhost:8080/",
          "height": 265
        },
        "id": "XM9fvalukQaf",
        "outputId": "9ef5cd11-44a6-43c1-fc91-756a0197706b"
      },
      "source": [
        "some_digit= X[0]\n",
        "some_digit_image = some_digit.reshape(28,28)\n",
        "plt.imshow(some_digit_image, cmap='binary')\n",
        "plt.show()"
      ],
      "execution_count": 4,
      "outputs": [
        {
          "output_type": "display_data",
          "data": {
            "image/png": "[encoded data removed]",
            "text/plain": [
              "<Figure size 432x288 with 1 Axes>"
            ]
          },
          "metadata": {
            "tags": [],
            "needs_background": "light"
          }
        }
      ]
    },
    {
      "cell_type": "code",
      "metadata": {
        "colab": {
          "base_uri": "https://localhost:8080/",
          "height": 35
        },
        "id": "O9UelUyQlIGK",
        "outputId": "722ef659-1693-4bb2-a431-98065c878051"
      },
      "source": [
        "y[0] # indeed this is what our label is telling us, note that label is a string"
      ],
      "execution_count": 5,
      "outputs": [
        {
          "output_type": "execute_result",
          "data": {
            "application/vnd.google.colaboratory.intrinsic+json": {
              "type": "string"
            },
            "text/plain": [
              "'5'"
            ]
          },
          "metadata": {
            "tags": []
          },
          "execution_count": 5
        }
      ]
    },
    {
      "cell_type": "code",
      "metadata": {
        "colab": {
          "base_uri": "https://localhost:8080/"
        },
        "id": "hgQh3-CglsaE",
        "outputId": "48482de9-ebbe-4f22-af7f-109b4f06e42d"
      },
      "source": [
        "y # here we can see more clearly that all the labels are string"
      ],
      "execution_count": 6,
      "outputs": [
        {
          "output_type": "execute_result",
          "data": {
            "text/plain": [
              "array(['5', '0', '4', ..., '4', '5', '6'], dtype=object)"
            ]
          },
          "metadata": {
            "tags": []
          },
          "execution_count": 6
        }
      ]
    },
    {
      "cell_type": "code",
      "metadata": {
        "colab": {
          "base_uri": "https://localhost:8080/"
        },
        "id": "oNqzAKiHlO9q",
        "outputId": "8d9e8d92-471b-4100-ca71-e159d1ae3251"
      },
      "source": [
        "y = y.astype(np.uint8) # casted from string to integer\n",
        "y"
      ],
      "execution_count": 7,
      "outputs": [
        {
          "output_type": "execute_result",
          "data": {
            "text/plain": [
              "array([5, 0, 4, ..., 4, 5, 6], dtype=uint8)"
            ]
          },
          "metadata": {
            "tags": []
          },
          "execution_count": 7
        }
      ]
    },
    {
      "cell_type": "code",
      "metadata": {
        "id": "yibOngwDl99z"
      },
      "source": [
        "# mnist dataset is already shuffled for us, this ensures our model doesnot learn the undesired patterns.\n",
        "X_train, X_test, y_train, y_test = X[:60000], X[60000:], y[:60000], y[60000:]"
      ],
      "execution_count": 8,
      "outputs": []
    },
    {
      "cell_type": "markdown",
      "metadata": {
        "id": "_UH8vF_Gm7vb"
      },
      "source": [
        "first of all, let's create a binary classifier"
      ]
    },
    {
      "cell_type": "markdown",
      "metadata": {
        "id": "ApTYnsKGBciY"
      },
      "source": [
        "# **BINARY CLASSIFICATION**"
      ]
    },
    {
      "cell_type": "code",
      "metadata": {
        "id": "a9qRCIGemwYo"
      },
      "source": [
        "y_train_5 = (y_train == 5)\n",
        "y_test_5 = (y_test == 5) # wherever there is 5, that label would be assigned to newly created label"
      ],
      "execution_count": 9,
      "outputs": []
    },
    {
      "cell_type": "code",
      "metadata": {
        "colab": {
          "base_uri": "https://localhost:8080/"
        },
        "id": "t7xG4VXMnRv2",
        "outputId": "31662ed8-c5fc-455d-f476-16e3a83c7723"
      },
      "source": [
        "# now let's train our model on SGD classifier from scikit learn library\n",
        "from sklearn.linear_model import SGDClassifier\n",
        "sgd_clf = SGDClassifier(random_state=42)\n",
        "sgd_clf.fit(X_train, y_train_5)"
      ],
      "execution_count": 10,
      "outputs": [
        {
          "output_type": "execute_result",
          "data": {
            "text/plain": [
              "SGDClassifier(alpha=0.0001, average=False, class_weight=None,\n",
              "              early_stopping=False, epsilon=0.1, eta0=0.0, fit_intercept=True,\n",
              "              l1_ratio=0.15, learning_rate='optimal', loss='hinge',\n",
              "              max_iter=1000, n_iter_no_change=5, n_jobs=None, penalty='l2',\n",
              "              power_t=0.5, random_state=42, shuffle=True, tol=0.001,\n",
              "              validation_fraction=0.1, verbose=0, warm_start=False)"
            ]
          },
          "metadata": {
            "tags": []
          },
          "execution_count": 10
        }
      ]
    },
    {
      "cell_type": "code",
      "metadata": {
        "colab": {
          "base_uri": "https://localhost:8080/"
        },
        "id": "JZdfxz_ln-s4",
        "outputId": "4793c66b-4be2-4c52-89f1-b7a0d3a7c77f"
      },
      "source": [
        "sgd_clf.predict([some_digit]) # yeah, so it guesses it right"
      ],
      "execution_count": 11,
      "outputs": [
        {
          "output_type": "execute_result",
          "data": {
            "text/plain": [
              "array([ True])"
            ]
          },
          "metadata": {
            "tags": []
          },
          "execution_count": 11
        }
      ]
    },
    {
      "cell_type": "code",
      "metadata": {
        "colab": {
          "base_uri": "https://localhost:8080/"
        },
        "id": "2OakopJoohua",
        "outputId": "ee7c5c25-1701-4172-8208-4cb7f4948e87"
      },
      "source": [
        "# now let's measure our accuracy using cross validation\n",
        "from sklearn.model_selection import cross_val_score\n",
        "cross_val_score(sgd_clf, X_train, y_train_5, cv=3, scoring='accuracy')"
      ],
      "execution_count": 12,
      "outputs": [
        {
          "output_type": "execute_result",
          "data": {
            "text/plain": [
              "array([0.95035, 0.96035, 0.9604 ])"
            ]
          },
          "metadata": {
            "tags": []
          },
          "execution_count": 12
        }
      ]
    },
    {
      "cell_type": "code",
      "metadata": {
        "id": "iJm5mFEKo8Jl"
      },
      "source": [
        "# now let's look at a classifier which classifies images into not-5 class\n",
        "from sklearn.base import BaseEstimator\n",
        "class never5classifier(BaseEstimator):\n",
        "  def fit(self, X, y=None):\n",
        "    pass\n",
        "  def predict(self, X):\n",
        "    return np.zeros((len(X), 1), dtype=bool)"
      ],
      "execution_count": 13,
      "outputs": []
    },
    {
      "cell_type": "code",
      "metadata": {
        "colab": {
          "base_uri": "https://localhost:8080/",
          "height": 53
        },
        "id": "pMCfVNxIqNY3",
        "outputId": "f916c55b-a928-4597-f605-00a0e9e6552c"
      },
      "source": [
        "never_5_clf = never5classifier()\n",
        "cross_val_score(never_5_clf, X_train, y_train_5, cv=3, scoring='accuracy')\n",
        "\"\"\" now this came because we have very fewer desired predictions, so if our model predicts that it's not the image of 5, then\n",
        "also it's right about 90 percent of the time. there fore accuracy is generally not preferred.\n",
        "\"\"\""
      ],
      "execution_count": 14,
      "outputs": [
        {
          "output_type": "execute_result",
          "data": {
            "application/vnd.google.colaboratory.intrinsic+json": {
              "type": "string"
            },
            "text/plain": [
              "\" now this came because we have very fewer desired predictions, so if our model predicts that it's not the image of 5, then\\nalso it's right about 90 percent of the time. there fore accuracy is generally not preferred.\\n\""
            ]
          },
          "metadata": {
            "tags": []
          },
          "execution_count": 14
        }
      ]
    },
    {
      "cell_type": "markdown",
      "metadata": {
        "id": "8thVrBRtrB2p"
      },
      "source": [
        "»note - **accuracy is not a preferred performance measure for classifiers when you're dealing with skewed datasets ( when some classes are more frequent than others )**"
      ]
    },
    {
      "cell_type": "markdown",
      "metadata": {
        "id": "FeqvZ5sJs7Pu"
      },
      "source": [
        "** A much better way to evaluate our models performance is to look at the confusion matrix**"
      ]
    },
    {
      "cell_type": "code",
      "metadata": {
        "colab": {
          "base_uri": "https://localhost:8080/"
        },
        "id": "Yj52vVfWrAvZ",
        "outputId": "b10faeb5-48b6-4d14-a990-2bd89974b905"
      },
      "source": [
        "from sklearn.model_selection import cross_val_predict\n",
        "y_train_pred = cross_val_predict(sgd_clf, X_train, y_train_5, cv=3)\n",
        "# cross_val_score return the score whereas this function returns the predicted values directly\n",
        "y_train_pred\n",
        "# we will get the clean predcition as we have predicted our results on the data that our model has never seen before ( because\n",
        "# with cross validation we have shuffled our data and then have made the prediction over it)"
      ],
      "execution_count": 15,
      "outputs": [
        {
          "output_type": "execute_result",
          "data": {
            "text/plain": [
              "array([ True, False, False, ...,  True, False, False])"
            ]
          },
          "metadata": {
            "tags": []
          },
          "execution_count": 15
        }
      ]
    },
    {
      "cell_type": "code",
      "metadata": {
        "colab": {
          "base_uri": "https://localhost:8080/"
        },
        "id": "Pw4XZTXJt4xz",
        "outputId": "a296d5a2-83c1-40c2-95e6-9d3e37dd0584"
      },
      "source": [
        "from sklearn.metrics import confusion_matrix\n",
        "confusion_matrix(y_train_5, y_train_pred)"
      ],
      "execution_count": 16,
      "outputs": [
        {
          "output_type": "execute_result",
          "data": {
            "text/plain": [
              "array([[53892,   687],\n",
              "       [ 1891,  3530]])"
            ]
          },
          "metadata": {
            "tags": []
          },
          "execution_count": 16
        }
      ]
    },
    {
      "cell_type": "markdown",
      "metadata": {
        "id": "ETpUOPr0vhaJ"
      },
      "source": [
        "»note - **each row in a confusion matrix represents an actual class and each column represents a predicted class**"
      ]
    },
    {
      "cell_type": "code",
      "metadata": {
        "colab": {
          "base_uri": "https://localhost:8080/"
        },
        "id": "VXOFgH8Hv1Fr",
        "outputId": "34781962-19d6-4510-bf87-9c2d96231cec"
      },
      "source": [
        "# pretend we reached perfection ( for better understanding )\n",
        "y_train_perfect_predictions = y_train_5\n",
        "confusion_matrix(y_train_5, y_train_perfect_predictions) # so here we can see, there are not any false positives and false negatives"
      ],
      "execution_count": 17,
      "outputs": [
        {
          "output_type": "execute_result",
          "data": {
            "text/plain": [
              "array([[54579,     0],\n",
              "       [    0,  5421]])"
            ]
          },
          "metadata": {
            "tags": []
          },
          "execution_count": 17
        }
      ]
    },
    {
      "cell_type": "markdown",
      "metadata": {
        "id": "bII-GhYAwIDV"
      },
      "source": [
        "![1_fxiTNIgOyvAombPJx5KGeA.png](data:image/png;base64,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)"
      ]
    },
    {
      "cell_type": "markdown",
      "metadata": {
        "id": "N08IrrQexD7n"
      },
      "source": [
        "note:\n",
        "\n",
        "1.   accuracy of the postive predictions is called the precision\n",
        "2.   accuracy of the false negatives is called the recall\n",
        "\n"
      ]
    },
    {
      "cell_type": "code",
      "metadata": {
        "colab": {
          "base_uri": "https://localhost:8080/"
        },
        "id": "IKLoJrSewZMA",
        "outputId": "7167a75e-719e-497a-8279-15605918ffa9"
      },
      "source": [
        "from sklearn.metrics import precision_score, recall_score\n",
        "precision_score(y_train_5, y_train_pred), recall_score(y_train_5, y_train_pred)"
      ],
      "execution_count": 18,
      "outputs": [
        {
          "output_type": "execute_result",
          "data": {
            "text/plain": [
              "(0.8370879772350012, 0.6511713705958311)"
            ]
          },
          "metadata": {
            "tags": []
          },
          "execution_count": 18
        }
      ]
    },
    {
      "cell_type": "code",
      "metadata": {
        "colab": {
          "base_uri": "https://localhost:8080/"
        },
        "id": "UzvPbAYTzBAc",
        "outputId": "0240b52c-0c32-46e0-b770-a599759eca63"
      },
      "source": [
        "from sklearn.metrics import f1_score\n",
        "f1_score(y_train_5, y_train_pred) # f1_score is the harmonic mean of precision_score and recall_score"
      ],
      "execution_count": 19,
      "outputs": [
        {
          "output_type": "execute_result",
          "data": {
            "text/plain": [
              "0.7325171197343846"
            ]
          },
          "metadata": {
            "tags": []
          },
          "execution_count": 19
        }
      ]
    },
    {
      "cell_type": "markdown",
      "metadata": {
        "id": "H6X8aFbEz3ST"
      },
      "source": [
        "** increasing precison reduces recall, unfortunately we can't have both, this is called precision-recall tradeoff!**"
      ]
    },
    {
      "cell_type": "code",
      "metadata": {
        "colab": {
          "base_uri": "https://localhost:8080/"
        },
        "id": "4NxSYOrnzS89",
        "outputId": "af2632b9-7a1b-4aab-8029-12d6c53c8b4d"
      },
      "source": [
        "# scikit learn does not allow us to change the threshold value in the predict function by providing us with any parameters to change \n",
        "# we can use decision function instead and then set threshold as per our need\n",
        "y_scores = sgd_clf.decision_function([some_digit])\n",
        "y_scores"
      ],
      "execution_count": 20,
      "outputs": [
        {
          "output_type": "execute_result",
          "data": {
            "text/plain": [
              "array([2164.22030239])"
            ]
          },
          "metadata": {
            "tags": []
          },
          "execution_count": 20
        }
      ]
    },
    {
      "cell_type": "code",
      "metadata": {
        "colab": {
          "base_uri": "https://localhost:8080/"
        },
        "id": "hD8SgXrz1FFK",
        "outputId": "5fba6f04-bfa0-4060-918e-474a0c409c98"
      },
      "source": [
        "threshold = 0\n",
        "y_some_digit_pred = (y_scores>threshold)\n",
        "y_some_digit_pred \n",
        "# SGD class uses the same threshold , there for our above code returs the same result"
      ],
      "execution_count": 21,
      "outputs": [
        {
          "output_type": "execute_result",
          "data": {
            "text/plain": [
              "array([ True])"
            ]
          },
          "metadata": {
            "tags": []
          },
          "execution_count": 21
        }
      ]
    },
    {
      "cell_type": "code",
      "metadata": {
        "colab": {
          "base_uri": "https://localhost:8080/"
        },
        "id": "b_PHL4oY1liN",
        "outputId": "f772f751-1743-4c86-9502-b4c838834572"
      },
      "source": [
        "# now let's raise the result\n",
        "threshold = 8000\n",
        "y_some_digit_pred = (y_scores>threshold)\n",
        "y_some_digit_pred"
      ],
      "execution_count": 22,
      "outputs": [
        {
          "output_type": "execute_result",
          "data": {
            "text/plain": [
              "array([False])"
            ]
          },
          "metadata": {
            "tags": []
          },
          "execution_count": 22
        }
      ]
    },
    {
      "cell_type": "markdown",
      "metadata": {
        "id": "CvQI3Tj92wde"
      },
      "source": [
        "question- when to decide what value of threshold to use?"
      ]
    },
    {
      "cell_type": "code",
      "metadata": {
        "id": "ZcYEwFBS23Hc"
      },
      "source": [
        "y_scores = cross_val_predict(sgd_clf, X_train, y_train_5, cv=3, method = 'decision_function')"
      ],
      "execution_count": 23,
      "outputs": []
    },
    {
      "cell_type": "code",
      "metadata": {
        "id": "k1mT2iW2ru5B"
      },
      "source": [
        "from sklearn.metrics import precision_recall_curve\n",
        "precisions, recalls, thresholds = precision_recall_curve(y_train_5, y_scores)"
      ],
      "execution_count": 24,
      "outputs": []
    },
    {
      "cell_type": "code",
      "metadata": {
        "colab": {
          "base_uri": "https://localhost:8080/"
        },
        "id": "YFOctRjftDvT",
        "outputId": "641b44ce-ccd0-4293-ebc7-dc56cdbae8ef"
      },
      "source": [
        "recalls, recalls.shape"
      ],
      "execution_count": 25,
      "outputs": [
        {
          "output_type": "execute_result",
          "data": {
            "text/plain": [
              "(array([1.00000000e+00, 9.99815532e-01, 9.99815532e-01, ...,\n",
              "        3.68935621e-04, 1.84467810e-04, 0.00000000e+00]), (59967,))"
            ]
          },
          "metadata": {
            "tags": []
          },
          "execution_count": 25
        }
      ]
    },
    {
      "cell_type": "code",
      "metadata": {
        "colab": {
          "base_uri": "https://localhost:8080/"
        },
        "id": "olIJ13hatLEz",
        "outputId": "3a3ff52a-44a6-4703-c157-6eb7d382157b"
      },
      "source": [
        "precisions, precisions.shape"
      ],
      "execution_count": 26,
      "outputs": [
        {
          "output_type": "execute_result",
          "data": {
            "text/plain": [
              "(array([0.09040123, 0.09038606, 0.09038757, ..., 1.        , 1.        ,\n",
              "        1.        ]), (59967,))"
            ]
          },
          "metadata": {
            "tags": []
          },
          "execution_count": 26
        }
      ]
    },
    {
      "cell_type": "code",
      "metadata": {
        "colab": {
          "base_uri": "https://localhost:8080/"
        },
        "id": "ZPHL_9vYtM2I",
        "outputId": "1ae10918-2112-4ee1-90cd-848b7dde2dc1"
      },
      "source": [
        "thresholds, thresholds.shape"
      ],
      "execution_count": 27,
      "outputs": [
        {
          "output_type": "execute_result",
          "data": {
            "text/plain": [
              "(array([-106527.45300471, -105763.22240074, -105406.2965229 , ...,\n",
              "          38871.26391927,   42216.05562787,   49441.43765905]), (59966,))"
            ]
          },
          "metadata": {
            "tags": []
          },
          "execution_count": 27
        }
      ]
    },
    {
      "cell_type": "code",
      "metadata": {
        "id": "RzrLsjowsYda"
      },
      "source": [
        "# now we will use matplotlib to plot our precision and recall vs threshold curve\n",
        "def plot_precision_recall_vs_threshold(precisions, recalls, thresholds):\n",
        "  plt.plot(thresholds, precisions[:-1], 'b--', label='precision')\n",
        "  plt.plot(thresholds, recalls[:-1],'g-', label='recall')"
      ],
      "execution_count": 28,
      "outputs": []
    },
    {
      "cell_type": "code",
      "metadata": {
        "colab": {
          "base_uri": "https://localhost:8080/",
          "height": 265
        },
        "id": "LCrtI6ShtVWL",
        "outputId": "4b740c52-a32b-470e-d77d-d1474c5106f1"
      },
      "source": [
        "plot_precision_recall_vs_threshold(precisions, recalls, thresholds)\n",
        "plt.show()"
      ],
      "execution_count": 29,
      "outputs": [
        {
          "output_type": "display_data",
          "data": {
            "image/png": "[encoded data removed]",
            "text/plain": [
              "<Figure size 432x288 with 1 Axes>"
            ]
          },
          "metadata": {
            "tags": [],
            "needs_background": "light"
          }
        }
      ]
    },
    {
      "cell_type": "code",
      "metadata": {
        "colab": {
          "base_uri": "https://localhost:8080/",
          "height": 279
        },
        "id": "iZZcD40Xwti4",
        "outputId": "2ca2f3b9-6223-407d-fce0-ccba1505207e"
      },
      "source": [
        "# now we will directly plot precisions against recalls\n",
        "plt.plot(precisions, recalls)\n",
        "plt.xlabel('recall')\n",
        "plt.ylabel('precision')\n",
        "plt.show() # it depends on one's project to whether he wants high precision or high recall value. you can't get both.\n",
        "# just looking at the graph we can say, at around 80 percent of recall, precision value starts to drop drastically.\n",
        "# we can choose value of recall around 60 percent to keep precision high too, else we would have to sacrifice one thing."
      ],
      "execution_count": 30,
      "outputs": [
        {
          "output_type": "display_data",
          "data": {
            "image/png": "[encoded data removed]",
            "text/plain": [
              "<Figure size 432x288 with 1 Axes>"
            ]
          },
          "metadata": {
            "tags": [],
            "needs_background": "light"
          }
        }
      ]
    },
    {
      "cell_type": "markdown",
      "metadata": {
        "id": "Rus674Tn3aVr"
      },
      "source": [
        "# if in case we aim for 90 percent precision"
      ]
    },
    {
      "cell_type": "code",
      "metadata": {
        "id": "Iupzhn2h0KiO"
      },
      "source": [
        " # now, we will aim for 90 percent precision\n",
        " threshold_90_precision = thresholds[np.argmax(precisions>=0.90)]"
      ],
      "execution_count": 31,
      "outputs": []
    },
    {
      "cell_type": "code",
      "metadata": {
        "colab": {
          "base_uri": "https://localhost:8080/"
        },
        "id": "3m8XNRHO2Kfz",
        "outputId": "91ba8fb4-192b-4292-b28c-70d3b49086b6"
      },
      "source": [
        "# now we will compare it with our original score \n",
        "y_train_pred_90 = (y_scores>= threshold_90_precision)\n",
        "y_train_pred_90"
      ],
      "execution_count": 32,
      "outputs": [
        {
          "output_type": "execute_result",
          "data": {
            "text/plain": [
              "array([False, False, False, ...,  True, False, False])"
            ]
          },
          "metadata": {
            "tags": []
          },
          "execution_count": 32
        }
      ]
    },
    {
      "cell_type": "code",
      "metadata": {
        "colab": {
          "base_uri": "https://localhost:8080/"
        },
        "id": "37-VpAzV2rNL",
        "outputId": "89654348-0905-49b8-e178-06c7eba39148"
      },
      "source": [
        "# now let's check precision score and recall score\n",
        "precision_score(y_train_5, y_train_pred_90)"
      ],
      "execution_count": 33,
      "outputs": [
        {
          "output_type": "execute_result",
          "data": {
            "text/plain": [
              "0.9000345901072293"
            ]
          },
          "metadata": {
            "tags": []
          },
          "execution_count": 33
        }
      ]
    },
    {
      "cell_type": "code",
      "metadata": {
        "colab": {
          "base_uri": "https://localhost:8080/"
        },
        "id": "mZ5KE1-w28Up",
        "outputId": "97ad90c8-b122-47bf-b0e4-c6ace5b393b8"
      },
      "source": [
        "recall_score(y_train_5, y_train_pred_90)"
      ],
      "execution_count": 34,
      "outputs": [
        {
          "output_type": "execute_result",
          "data": {
            "text/plain": [
              "0.4799852425751706"
            ]
          },
          "metadata": {
            "tags": []
          },
          "execution_count": 34
        }
      ]
    },
    {
      "cell_type": "markdown",
      "metadata": {
        "id": "_0h9Xdx_3Dpx"
      },
      "source": [
        "»note - **so for right threshold, choose the threshold value corresponding to the recall and precision score that we have got. \n",
        "one can easily visualize everything from the graph above.**"
      ]
    },
    {
      "cell_type": "markdown",
      "metadata": {
        "id": "U9tZ2Hpn31rY"
      },
      "source": [
        "** if someone says, 'let's reach 99 percent precision', you should ask, 'at what recall?'**"
      ]
    },
    {
      "cell_type": "markdown",
      "metadata": {
        "id": "Dt1lThET4pZX"
      },
      "source": [
        "# THE ROC CURVE (reciever operating characterstics)"
      ]
    },
    {
      "cell_type": "code",
      "metadata": {
        "id": "hcMvBFZO31Ii"
      },
      "source": [
        "from sklearn.metrics import roc_curve\n",
        "fpr, tpr, thresholds = roc_curve(y_train_5, y_scores)"
      ],
      "execution_count": 35,
      "outputs": []
    },
    {
      "cell_type": "code",
      "metadata": {
        "colab": {
          "base_uri": "https://localhost:8080/"
        },
        "id": "o5YhdyiE3DA8",
        "outputId": "4ff9d668-5a60-43f4-da47-46f12250f075"
      },
      "source": [
        "fpr, tpr, thresholds # fpr = false positive rate, tpr = true positive rate"
      ],
      "execution_count": 36,
      "outputs": [
        {
          "output_type": "execute_result",
          "data": {
            "text/plain": [
              "(array([0.        , 0.        , 0.        , ..., 0.99937705, 0.99937705,\n",
              "        1.        ]),\n",
              " array([0.00000000e+00, 1.84467810e-04, 9.22339052e-04, ...,\n",
              "        9.99815532e-01, 1.00000000e+00, 1.00000000e+00]),\n",
              " array([  49442.43765905,   49441.43765905,   36801.60697028, ...,\n",
              "        -105763.22240074, -106527.45300471, -146348.56726174]))"
            ]
          },
          "metadata": {
            "tags": []
          },
          "execution_count": 36
        }
      ]
    },
    {
      "cell_type": "code",
      "metadata": {
        "id": "RUwhCFGx5HDw"
      },
      "source": [
        "# now we can plot fpr v/s tpr\n",
        "def plot_roc_curve(fpr, tpr, label=None):\n",
        "  plt.plot(fpr, tpr, linewidth=2, label=label)\n",
        "  plt.plot([0,1], [0,1], 'k--')"
      ],
      "execution_count": 37,
      "outputs": []
    },
    {
      "cell_type": "code",
      "metadata": {
        "colab": {
          "base_uri": "https://localhost:8080/",
          "height": 297
        },
        "id": "__UJvjX-5q7x",
        "outputId": "dd23f5b6-9a09-4027-a457-00e64403ec52"
      },
      "source": [
        "plot_roc_curve(fpr,tpr)\n",
        "plt.xlabel('fpr')\n",
        "plt.ylabel('tpr')\n",
        "# here also we can observe the tradeoff, lower is fpr, higher is tpr and vice versa\n",
        "# higher the area under this roc curve, the more perfect the classifier is"
      ],
      "execution_count": 38,
      "outputs": [
        {
          "output_type": "execute_result",
          "data": {
            "text/plain": [
              "Text(0, 0.5, 'tpr')"
            ]
          },
          "metadata": {
            "tags": []
          },
          "execution_count": 38
        },
        {
          "output_type": "display_data",
          "data": {
            "image/png": "[encoded data removed]",
            "text/plain": [
              "<Figure size 432x288 with 1 Axes>"
            ]
          },
          "metadata": {
            "tags": [],
            "needs_background": "light"
          }
        }
      ]
    },
    {
      "cell_type": "code",
      "metadata": {
        "colab": {
          "base_uri": "https://localhost:8080/"
        },
        "id": "VodX1kyS8Yg0",
        "outputId": "68635e8a-298d-4a92-dd04-aa1bad8bc1a3"
      },
      "source": [
        "# now let's calculate area under curve\n",
        "from sklearn.metrics import roc_auc_score\n",
        "roc_auc_score(y_train_5, y_scores)"
      ],
      "execution_count": 39,
      "outputs": [
        {
          "output_type": "execute_result",
          "data": {
            "text/plain": [
              "0.9604938554008616"
            ]
          },
          "metadata": {
            "tags": []
          },
          "execution_count": 39
        }
      ]
    },
    {
      "cell_type": "markdown",
      "metadata": {
        "id": "D6ZLT2nT9Ns1"
      },
      "source": [
        "**»note** - we should use the precision/recall curve whenever our postive class is rare"
      ]
    },
    {
      "cell_type": "code",
      "metadata": {
        "id": "_hcJo1oZ9bA_"
      },
      "source": [
        "# now let's train our model on RandomForestClassifier\n",
        "from sklearn.ensemble import RandomForestClassifier\n",
        "forest_clf = RandomForestClassifier(random_state=42)\n",
        "y_probas_forest = cross_val_predict(forest_clf, X_train, y_train_5, cv=3, method='predict_proba')"
      ],
      "execution_count": 40,
      "outputs": []
    },
    {
      "cell_type": "code",
      "metadata": {
        "colab": {
          "base_uri": "https://localhost:8080/"
        },
        "id": "3z4hOXIU-f-K",
        "outputId": "b4ce43a1-71c4-458a-ba8b-cce09d9ddde8"
      },
      "source": [
        "y_probas_forest"
      ],
      "execution_count": 41,
      "outputs": [
        {
          "output_type": "execute_result",
          "data": {
            "text/plain": [
              "array([[0.11, 0.89],\n",
              "       [0.99, 0.01],\n",
              "       [0.96, 0.04],\n",
              "       ...,\n",
              "       [0.02, 0.98],\n",
              "       [0.92, 0.08],\n",
              "       [0.94, 0.06]])"
            ]
          },
          "metadata": {
            "tags": []
          },
          "execution_count": 41
        }
      ]
    },
    {
      "cell_type": "code",
      "metadata": {
        "colab": {
          "base_uri": "https://localhost:8080/"
        },
        "id": "o85ZTx70--US",
        "outputId": "8c661de8-e4ec-4ba8-8780-d3f8d3d9dd1d"
      },
      "source": [
        "y_scores_forest = y_probas_forest[:,1]\n",
        "y_scores_forest"
      ],
      "execution_count": 42,
      "outputs": [
        {
          "output_type": "execute_result",
          "data": {
            "text/plain": [
              "array([0.89, 0.01, 0.04, ..., 0.98, 0.08, 0.06])"
            ]
          },
          "metadata": {
            "tags": []
          },
          "execution_count": 42
        }
      ]
    },
    {
      "cell_type": "code",
      "metadata": {
        "id": "OlEbVopX_Wnc"
      },
      "source": [
        "fpr_forest, tpr_forest, thresholds_forest = roc_curve(y_train_5, y_scores_forest)"
      ],
      "execution_count": 43,
      "outputs": []
    },
    {
      "cell_type": "code",
      "metadata": {
        "colab": {
          "base_uri": "https://localhost:8080/",
          "height": 265
        },
        "id": "h3oBbpHb_sb7",
        "outputId": "b1c6bc18-0491-44dd-c942-3944c257c30e"
      },
      "source": [
        "plt.plot(fpr,tpr,\"b:\", label='SGD')\n",
        "plot_roc_curve(fpr_forest, tpr_forest, 'Random Forest')\n",
        "plt.legend(loc='lower right')\n",
        "plt.show()\n",
        "# from this graph we can see the difference between both the classifiers."
      ],
      "execution_count": 44,
      "outputs": [
        {
          "output_type": "display_data",
          "data": {
            "image/png": "[encoded data removed]",
            "text/plain": [
              "<Figure size 432x288 with 1 Axes>"
            ]
          },
          "metadata": {
            "tags": [],
            "needs_background": "light"
          }
        }
      ]
    },
    {
      "cell_type": "code",
      "metadata": {
        "colab": {
          "base_uri": "https://localhost:8080/"
        },
        "id": "6lytBieKAp8O",
        "outputId": "b4956fb9-8895-4fd3-c66c-7c529169121a"
      },
      "source": [
        "roc_auc_score(y_train_5,y_scores_forest)"
      ],
      "execution_count": 45,
      "outputs": [
        {
          "output_type": "execute_result",
          "data": {
            "text/plain": [
              "0.9983436731328145"
            ]
          },
          "metadata": {
            "tags": []
          },
          "execution_count": 45
        }
      ]
    },
    {
      "cell_type": "markdown",
      "metadata": {
        "id": "-ywTS5goBLh0"
      },
      "source": [
        "# **MULTICLASS CLASSIFICATION**"
      ]
    },
    {
      "cell_type": "code",
      "metadata": {
        "colab": {
          "base_uri": "https://localhost:8080/"
        },
        "id": "Fm5YiYdOBQT7",
        "outputId": "1c28de0b-107c-48ca-94f1-a49a97f44c8d"
      },
      "source": [
        "from sklearn.svm import SVC\n",
        "svm_clf = SVC() # these all uses the one v/s one strategy for the classification, but we can make scikit learn do one v/s many classification too!\n",
        "svm_clf.fit(X_train, y_train)\n",
        "svm_clf.predict([some_digit])"
      ],
      "execution_count": 46,
      "outputs": [
        {
          "output_type": "execute_result",
          "data": {
            "text/plain": [
              "array([5], dtype=uint8)"
            ]
          },
          "metadata": {
            "tags": []
          },
          "execution_count": 46
        }
      ]
    },
    {
      "cell_type": "code",
      "metadata": {
        "id": "--lvfGt7jych"
      },
      "source": [
        "some_digit_scores = svm_clf.decision_function([some_digit])"
      ],
      "execution_count": 49,
      "outputs": []
    },
    {
      "cell_type": "code",
      "metadata": {
        "id": "lyx5mg545O41",
        "outputId": "128859ec-10f9-4eb5-b0cc-ccd1c8e2b0c3",
        "colab": {
          "base_uri": "https://localhost:8080/"
        }
      },
      "source": [
        "some_digit_scores # the highest score is indeed corresponding to class 5"
      ],
      "execution_count": 50,
      "outputs": [
        {
          "output_type": "execute_result",
          "data": {
            "text/plain": [
              "array([[ 1.72501977,  2.72809088,  7.2510018 ,  8.3076379 , -0.31087254,\n",
              "         9.3132482 ,  1.70975103,  2.76765202,  6.23049537,  4.84771048]])"
            ]
          },
          "metadata": {
            "tags": []
          },
          "execution_count": 50
        }
      ]
    },
    {
      "cell_type": "code",
      "metadata": {
        "id": "3PI_cTn65baT",
        "outputId": "fa499149-9508-4bc8-b9c5-835d06096127",
        "colab": {
          "base_uri": "https://localhost:8080/"
        }
      },
      "source": [
        "np.argmax(some_digit_scores)"
      ],
      "execution_count": 51,
      "outputs": [
        {
          "output_type": "execute_result",
          "data": {
            "text/plain": [
              "5"
            ]
          },
          "metadata": {
            "tags": []
          },
          "execution_count": 51
        }
      ]
    },
    {
      "cell_type": "code",
      "metadata": {
        "id": "V8fJIO7K5xbM",
        "outputId": "d6aee127-86f8-4e1b-cef7-2bf18bcb1ece",
        "colab": {
          "base_uri": "https://localhost:8080/"
        }
      },
      "source": [
        "# making scikit learn do one vs rest classification\n",
        "from sklearn.multiclass import OneVsRestClassifier\n",
        "ov_clf = OneVsRestClassifier(SVC())\n",
        "ov_clf.fit(X_train,y_train)\n",
        "ov_clf.predict([some_digit])"
      ],
      "execution_count": 52,
      "outputs": [
        {
          "output_type": "execute_result",
          "data": {
            "text/plain": [
              "array([5], dtype=uint8)"
            ]
          },
          "metadata": {
            "tags": []
          },
          "execution_count": 52
        }
      ]
    },
    {
      "cell_type": "code",
      "metadata": {
        "id": "7Z78U2hs8ALE",
        "outputId": "51520c72-bb58-4988-8778-5330f2e954c8",
        "colab": {
          "base_uri": "https://localhost:8080/"
        }
      },
      "source": [
        "len(ov_clf.estimators_)"
      ],
      "execution_count": 54,
      "outputs": [
        {
          "output_type": "execute_result",
          "data": {
            "text/plain": [
              "10"
            ]
          },
          "metadata": {
            "tags": []
          },
          "execution_count": 54
        }
      ]
    },
    {
      "cell_type": "code",
      "metadata": {
        "id": "YoJPy5Ms8wUA",
        "outputId": "e9b99c6d-d640-4144-8349-e604930f6e80",
        "colab": {
          "base_uri": "https://localhost:8080/"
        }
      },
      "source": [
        "# let's train on a SGDClassifier\n",
        "sgd_clf.fit(X_train, y_train)\n",
        "sgd_clf.predict([some_digit])"
      ],
      "execution_count": 55,
      "outputs": [
        {
          "output_type": "execute_result",
          "data": {
            "text/plain": [
              "array([3], dtype=uint8)"
            ]
          },
          "metadata": {
            "tags": []
          },
          "execution_count": 55
        }
      ]
    },
    {
      "cell_type": "code",
      "metadata": {
        "id": "qZbdv2Qp9G48",
        "outputId": "e85b757a-06e0-46f3-94e9-176f400cf26b",
        "colab": {
          "base_uri": "https://localhost:8080/"
        }
      },
      "source": [
        "sgd_clf.decision_function([some_digit]) # we can see classifier is fairly confident about it's predictions"
      ],
      "execution_count": 56,
      "outputs": [
        {
          "output_type": "execute_result",
          "data": {
            "text/plain": [
              "array([[-31893.03095419, -34419.69069632,  -9530.63950739,\n",
              "          1823.73154031, -22320.14822878,  -1385.80478895,\n",
              "        -26188.91070951, -16147.51323997,  -4604.35491274,\n",
              "        -12050.767298  ]])"
            ]
          },
          "metadata": {
            "tags": []
          },
          "execution_count": 56
        }
      ]
    },
    {
      "cell_type": "code",
      "metadata": {
        "id": "qsO5ecUW9fEe",
        "outputId": "d410f6ba-b666-4ad8-de01-c500ce39cd57",
        "colab": {
          "base_uri": "https://localhost:8080/"
        }
      },
      "source": [
        "cross_val_score(sgd_clf, X_train, y_train, cv=3, scoring='accuracy') # using cross validation function to evaluate the classifier's accuracy"
      ],
      "execution_count": 57,
      "outputs": [
        {
          "output_type": "execute_result",
          "data": {
            "text/plain": [
              "array([0.87365, 0.85835, 0.8689 ])"
            ]
          },
          "metadata": {
            "tags": []
          },
          "execution_count": 57
        }
      ]
    },
    {
      "cell_type": "code",
      "metadata": {
        "id": "G3T2okwu-BTW",
        "outputId": "e006deab-efc7-4a55-c2db-ad7fef84886c",
        "colab": {
          "base_uri": "https://localhost:8080/"
        }
      },
      "source": [
        "# we can further improve our model performance by just scaling the values\n",
        "from sklearn.preprocessing import StandardScaler\n",
        "scaler = StandardScaler()\n",
        "X_train_scaled = scaler.fit_transform(X_train.astype(np.float64))\n",
        "# now again using cross validation score function to evaluate our model on scaled data\n",
        "cross_val_score(sgd_clf, X_train_scaled, y_train, cv=3, scoring='accuracy')"
      ],
      "execution_count": 59,
      "outputs": [
        {
          "output_type": "execute_result",
          "data": {
            "text/plain": [
              "array([0.8983, 0.891 , 0.9018])"
            ]
          },
          "metadata": {
            "tags": []
          },
          "execution_count": 59
        }
      ]
    },
    {
      "cell_type": "code",
      "metadata": {
        "id": "WPPoVY_D_jZQ",
        "outputId": "5560ab59-a031-4b04-ae83-b3e370b8ca8e",
        "colab": {
          "base_uri": "https://localhost:8080/"
        }
      },
      "source": [
        "# now let's do the error analysis using confusion matrix\n",
        "y_train_pred = cross_val_predict(sgd_clf, X_train_scaled, y_train, cv=3)\n",
        "# now let's make the matrix\n",
        "conf_mx = confusion_matrix(y_train, y_train_pred)\n",
        "conf_mx"
      ],
      "execution_count": 60,
      "outputs": [
        {
          "output_type": "execute_result",
          "data": {
            "text/plain": [
              "array([[5577,    0,   22,    5,    8,   43,   36,    6,  225,    1],\n",
              "       [   0, 6400,   37,   24,    4,   44,    4,    7,  212,   10],\n",
              "       [  27,   27, 5220,   92,   73,   27,   67,   36,  378,   11],\n",
              "       [  22,   17,  117, 5227,    2,  203,   27,   40,  403,   73],\n",
              "       [  12,   14,   41,    9, 5182,   12,   34,   27,  347,  164],\n",
              "       [  27,   15,   30,  168,   53, 4444,   75,   14,  535,   60],\n",
              "       [  30,   15,   42,    3,   44,   97, 5552,    3,  131,    1],\n",
              "       [  21,   10,   51,   30,   49,   12,    3, 5684,  195,  210],\n",
              "       [  17,   63,   48,   86,    3,  126,   25,   10, 5429,   44],\n",
              "       [  25,   18,   30,   64,  118,   36,    1,  179,  371, 5107]])"
            ]
          },
          "metadata": {
            "tags": []
          },
          "execution_count": 60
        }
      ]
    },
    {
      "cell_type": "code",
      "metadata": {
        "id": "v5U-PttQAOzA",
        "outputId": "ef722b64-084c-43f3-a7af-acedee4923f2",
        "colab": {
          "base_uri": "https://localhost:8080/",
          "height": 275
        }
      },
      "source": [
        "plt.matshow(conf_mx, cmap=plt.cm.gray)\n",
        "plt.show()"
      ],
      "execution_count": 61,
      "outputs": [
        {
          "output_type": "display_data",
          "data": {
            "image/png": "[encoded data removed]",
            "text/plain": [
              "<Figure size 288x288 with 1 Axes>"
            ]
          },
          "metadata": {
            "tags": [],
            "needs_background": "light"
          }
        }
      ]
    }
  ]
}