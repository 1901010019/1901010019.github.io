{
  "nbformat": 4,
  "nbformat_minor": 0,
  "metadata": {
    "colab": {
      "name": "Untitled7.ipynb",
      "provenance": [],
      "authorship_tag": "ABX9TyN87ui4YnTsq8yc3iASkuDA",
      "include_colab_link": true
    },
    "kernelspec": {
      "name": "python3",
      "display_name": "Python 3"
    }
  },
  "cells": [
    {
      "cell_type": "markdown",
      "metadata": {
        "id": "view-in-github",
        "colab_type": "text"
      },
      "source": [
        "<a href=\"https://colab.research.google.com/github/1901010019/1901010019.github.io/blob/master/Best_fitting_line_for_Hindu_population_variation_data.ipynb\" target=\"_parent\"><img src=\"https://colab.research.google.com/assets/colab-badge.svg\" alt=\"Open In Colab\"/></a>"
      ]
    },
    {
      "cell_type": "markdown",
      "metadata": {
        "id": "1OilOq4kwDMt"
      },
      "source": [
        "## **DERIVING THE BEST FITTING LINE FOR HINDU POPULATION VARIATION DATA**"
      ]
    },
    {
      "cell_type": "code",
      "metadata": {
        "id": "2zLAPm5iqRCA"
      },
      "source": [
        "import numpy as np\r\n",
        "import pandas as pd\r\n",
        "import matplotlib.pyplot as plt\r\n",
        "from scipy.optimize import curve_fit"
      ],
      "execution_count": 40,
      "outputs": []
    },
    {
      "cell_type": "code",
      "metadata": {
        "id": "JcCbhyQsqkGa"
      },
      "source": [
        "# extracting the hindu population variance data from overall data sheet.\r\n",
        "dataset = pd.read_csv('/content/kunals data.csv')\r\n",
        "x  = dataset.iloc[:, :1].values\r\n",
        "y = dataset.iloc[:, 1:2].values\r\n",
        "x= x.flatten()\r\n",
        "y= y.flatten()"
      ],
      "execution_count": 58,
      "outputs": []
    },
    {
      "cell_type": "code",
      "metadata": {
        "colab": {
          "base_uri": "https://localhost:8080/"
        },
        "id": "NJFY2RVdvHq_",
        "outputId": "764fcc68-adc2-41cf-b190-b40e4d27c598"
      },
      "source": [
        "print(x)"
      ],
      "execution_count": 59,
      "outputs": [
        {
          "output_type": "stream",
          "text": [
            "[1951 1961 1981 1991 2001 2011]\n"
          ],
          "name": "stdout"
        }
      ]
    },
    {
      "cell_type": "code",
      "metadata": {
        "colab": {
          "base_uri": "https://localhost:8080/"
        },
        "id": "-1m0WT5DvKCt",
        "outputId": "53f5ac21-d3aa-4970-e027-a7a6e864af8e"
      },
      "source": [
        "print(y)"
      ],
      "execution_count": 60,
      "outputs": [
        {
          "output_type": "stream",
          "text": [
            "[303.5 367.  550.  690.1 827.  966.3]\n"
          ],
          "name": "stdout"
        }
      ]
    },
    {
      "cell_type": "code",
      "metadata": {
        "colab": {
          "base_uri": "https://localhost:8080/",
          "height": 279
        },
        "id": "EGB5NRINvSSb",
        "outputId": "d23a37c4-dacf-452b-b1ce-e1d87e0a18c5"
      },
      "source": [
        "# scatter plotting the data for better visualization.\r\n",
        "plt.scatter(x,y)\r\n",
        "plt.xlabel('year')\r\n",
        "plt.ylabel('population')\r\n",
        "plt.show()"
      ],
      "execution_count": 61,
      "outputs": [
        {
          "output_type": "display_data",
          "data": {
            "image/png": "[encoded data removed]",
            "text/plain": [
              "<Figure size 432x288 with 1 Axes>"
            ]
          },
          "metadata": {
            "tags": [],
            "needs_background": "light"
          }
        }
      ]
    },
    {
      "cell_type": "code",
      "metadata": {
        "id": "PJaFv1uqvVop"
      },
      "source": [
        "# defining the true objective function.\r\n",
        "def objective(x,a,b,c):\r\n",
        "  return a * x + b * x**2 + c"
      ],
      "execution_count": 62,
      "outputs": []
    },
    {
      "cell_type": "code",
      "metadata": {
        "colab": {
          "base_uri": "https://localhost:8080/"
        },
        "id": "0pWmUQZ_v3YH",
        "outputId": "c5996c26-1ecb-4123-c166-550b6349c4ce"
      },
      "source": [
        "# now we will use curve fit function from Scipy library\r\n",
        "popt, _ = curve_fit(objective, x, y)\r\n",
        "# summarizing the parameter values\r\n",
        "a, b, c = popt\r\n",
        "print('y = %.5f * x + %.5f * x^2 + %.5f' % (a, b, c))"
      ],
      "execution_count": 68,
      "outputs": [
        {
          "output_type": "stream",
          "text": [
            "y = -322.69177 * x + 0.08428 * x^2 + 309073.55178\n"
          ],
          "name": "stdout"
        }
      ]
    },
    {
      "cell_type": "code",
      "metadata": {
        "colab": {
          "base_uri": "https://localhost:8080/",
          "height": 265
        },
        "id": "s171oUue6FSe",
        "outputId": "08b33296-347a-44a1-9b14-4f3a0a63c576"
      },
      "source": [
        "plt.scatter(x,y)\r\n",
        "x_line = np.arange(min(x), max(x), 1)\r\n",
        "y_line = objective(x_line,a,b,c)\r\n",
        "plt.plot(x_line,y_line, color='red')\r\n",
        "plt.show()"
      ],
      "execution_count": 74,
      "outputs": [
        {
          "output_type": "display_data",
          "data": {
            "image/png": "[encoded data removed]",
            "text/plain": [
              "<Figure size 432x288 with 1 Axes>"
            ]
          },
          "metadata": {
            "tags": [],
            "needs_background": "light"
          }
        }
      ]
    }
  ]
}