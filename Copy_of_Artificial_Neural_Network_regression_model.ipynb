{
  "nbformat": 4,
  "nbformat_minor": 0,
  "metadata": {
    "colab": {
      "name": "Copy of Artificial Neural Network",
      "provenance": [],
      "collapsed_sections": [],
      "toc_visible": true,
      "include_colab_link": true
    },
    "kernelspec": {
      "name": "python3",
      "display_name": "Python 3"
    }
  },
  "cells": [
    {
      "cell_type": "markdown",
      "metadata": {
        "id": "view-in-github",
        "colab_type": "text"
      },
      "source": [
        "<a href=\"https://colab.research.google.com/github/1901010019/1901010019.github.io/blob/master/Copy_of_Artificial_Neural_Network_regression_model.ipynb\" target=\"_parent\"><img src=\"https://colab.research.google.com/assets/colab-badge.svg\" alt=\"Open In Colab\"/></a>"
      ]
    },
    {
      "cell_type": "markdown",
      "metadata": {
        "id": "3cbb7fRy-eyr"
      },
      "source": [
        "# Artificial Neural Network"
      ]
    },
    {
      "cell_type": "markdown",
      "metadata": {
        "id": "8sNDnxE2-pwE"
      },
      "source": [
        "### Importing the libraries"
      ]
    },
    {
      "cell_type": "code",
      "metadata": {
        "id": "lxChR1Rk-umf"
      },
      "source": [
        "import numpy as np\n",
        "import pandas as pd\n",
        "import tensorflow as tf"
      ],
      "execution_count": 1,
      "outputs": []
    },
    {
      "cell_type": "code",
      "metadata": {
        "id": "uBTqR3nacj0e",
        "colab": {
          "base_uri": "https://localhost:8080/",
          "height": 35
        },
        "outputId": "a9ed1b2f-4912-46b0-b2f5-e0db858c3f82"
      },
      "source": [
        "tf.__version__"
      ],
      "execution_count": 2,
      "outputs": [
        {
          "output_type": "execute_result",
          "data": {
            "application/vnd.google.colaboratory.intrinsic+json": {
              "type": "string"
            },
            "text/plain": [
              "'2.4.1'"
            ]
          },
          "metadata": {
            "tags": []
          },
          "execution_count": 2
        }
      ]
    },
    {
      "cell_type": "markdown",
      "metadata": {
        "id": "AG3FQEch-yuA"
      },
      "source": [
        "## Part 1 - Data Preprocessing"
      ]
    },
    {
      "cell_type": "markdown",
      "metadata": {
        "id": "-4zq8Mza_D9O"
      },
      "source": [
        "### Importing the dataset"
      ]
    },
    {
      "cell_type": "code",
      "metadata": {
        "id": "B9CV13Co_HHM"
      },
      "source": [
        "dataset = pd.read_excel('Folds5x2_pp.xlsx')\n",
        "X = dataset.iloc[:, :-1].values\n",
        "y = dataset.iloc[:, -1].values"
      ],
      "execution_count": 3,
      "outputs": []
    },
    {
      "cell_type": "markdown",
      "metadata": {
        "id": "VC6omXel_Up0"
      },
      "source": [
        "### Splitting the dataset into the Training set and Test set"
      ]
    },
    {
      "cell_type": "code",
      "metadata": {
        "id": "L5edeb2r_agx"
      },
      "source": [
        "from sklearn.model_selection import train_test_split\n",
        "X_train, X_test, y_train, y_test = train_test_split(X, y, test_size = 0.2, random_state = 0)"
      ],
      "execution_count": 4,
      "outputs": []
    },
    {
      "cell_type": "markdown",
      "metadata": {
        "id": "_mSLlAT9_eyI"
      },
      "source": [
        "## Part 2 - Building the ANN"
      ]
    },
    {
      "cell_type": "markdown",
      "metadata": {
        "id": "CsBULd_f_wLY"
      },
      "source": [
        "### Initializing the ANN"
      ]
    },
    {
      "cell_type": "code",
      "metadata": {
        "id": "J6Hd97Ls__Nz"
      },
      "source": [
        "ann = tf.keras.models.Sequential()"
      ],
      "execution_count": 5,
      "outputs": []
    },
    {
      "cell_type": "markdown",
      "metadata": {
        "id": "iitAFJS_ABUn"
      },
      "source": [
        "### Adding the input layer and the first hidden layer"
      ]
    },
    {
      "cell_type": "code",
      "metadata": {
        "id": "ksO_Vv40AHix"
      },
      "source": [
        "ann.add(tf.keras.layers.Dense(units=6, activation='relu'))"
      ],
      "execution_count": 6,
      "outputs": []
    },
    {
      "cell_type": "markdown",
      "metadata": {
        "id": "-lb4kK_wAKbs"
      },
      "source": [
        "### Adding the second hidden layer"
      ]
    },
    {
      "cell_type": "code",
      "metadata": {
        "id": "c2357OqEAQOQ"
      },
      "source": [
        "ann.add(tf.keras.layers.Dense(units=6, activation='relu'))"
      ],
      "execution_count": 7,
      "outputs": []
    },
    {
      "cell_type": "markdown",
      "metadata": {
        "id": "jwMOmKb3AdBY"
      },
      "source": [
        "### Adding the output layer"
      ]
    },
    {
      "cell_type": "code",
      "metadata": {
        "id": "YFATpzsUAkLL"
      },
      "source": [
        "ann.add(tf.keras.layers.Dense(units=1))"
      ],
      "execution_count": 8,
      "outputs": []
    },
    {
      "cell_type": "markdown",
      "metadata": {
        "id": "fq7e4fF6A1yy"
      },
      "source": [
        "## Part 3 - Training the ANN"
      ]
    },
    {
      "cell_type": "markdown",
      "metadata": {
        "id": "qDeylAs2An25"
      },
      "source": [
        "### Compiling the ANN"
      ]
    },
    {
      "cell_type": "code",
      "metadata": {
        "id": "pesgbWlCAtB4"
      },
      "source": [
        "ann.compile(optimizer = 'adam', loss = 'mean_squared_error')"
      ],
      "execution_count": 9,
      "outputs": []
    },
    {
      "cell_type": "markdown",
      "metadata": {
        "id": "YjVuiybYOo7r"
      },
      "source": [
        "### Training the ANN model on the Training set"
      ]
    },
    {
      "cell_type": "code",
      "metadata": {
        "id": "c_vV-tiiA5zn",
        "colab": {
          "base_uri": "https://localhost:8080/"
        },
        "outputId": "77ccebff-51cf-4be1-e518-37ead977dba4"
      },
      "source": [
        "ann.fit(X_train, y_train, batch_size = 32, epochs = 100)"
      ],
      "execution_count": 10,
      "outputs": [
        {
          "output_type": "stream",
          "text": [
            "Epoch 1/100\n",
            "240/240 [==============================] - 1s 907us/step - loss: 47425.8700\n",
            "Epoch 2/100\n",
            "240/240 [==============================] - 0s 1ms/step - loss: 122.7161\n",
            "Epoch 3/100\n",
            "240/240 [==============================] - 0s 1ms/step - loss: 118.3376\n",
            "Epoch 4/100\n",
            "240/240 [==============================] - 0s 955us/step - loss: 117.8718\n",
            "Epoch 5/100\n",
            "240/240 [==============================] - 0s 1ms/step - loss: 118.0184\n",
            "Epoch 6/100\n",
            "240/240 [==============================] - 0s 918us/step - loss: 108.6190\n",
            "Epoch 7/100\n",
            "240/240 [==============================] - 0s 970us/step - loss: 105.0920\n",
            "Epoch 8/100\n",
            "240/240 [==============================] - 0s 1ms/step - loss: 101.8065\n",
            "Epoch 9/100\n",
            "240/240 [==============================] - 0s 944us/step - loss: 99.6925\n",
            "Epoch 10/100\n",
            "240/240 [==============================] - 0s 977us/step - loss: 91.1199\n",
            "Epoch 11/100\n",
            "240/240 [==============================] - 0s 924us/step - loss: 84.3712\n",
            "Epoch 12/100\n",
            "240/240 [==============================] - 0s 943us/step - loss: 81.7333\n",
            "Epoch 13/100\n",
            "240/240 [==============================] - 0s 937us/step - loss: 73.6824\n",
            "Epoch 14/100\n",
            "240/240 [==============================] - 0s 972us/step - loss: 70.8935\n",
            "Epoch 15/100\n",
            "240/240 [==============================] - 0s 1ms/step - loss: 64.6586\n",
            "Epoch 16/100\n",
            "240/240 [==============================] - 0s 955us/step - loss: 60.5837\n",
            "Epoch 17/100\n",
            "240/240 [==============================] - 0s 961us/step - loss: 54.9469\n",
            "Epoch 18/100\n",
            "240/240 [==============================] - 0s 964us/step - loss: 51.9716\n",
            "Epoch 19/100\n",
            "240/240 [==============================] - 0s 932us/step - loss: 47.3012\n",
            "Epoch 20/100\n",
            "240/240 [==============================] - 0s 952us/step - loss: 43.3232\n",
            "Epoch 21/100\n",
            "240/240 [==============================] - 0s 1ms/step - loss: 41.4245\n",
            "Epoch 22/100\n",
            "240/240 [==============================] - 0s 964us/step - loss: 39.9075\n",
            "Epoch 23/100\n",
            "240/240 [==============================] - 0s 911us/step - loss: 37.8376\n",
            "Epoch 24/100\n",
            "240/240 [==============================] - 0s 990us/step - loss: 36.2351\n",
            "Epoch 25/100\n",
            "240/240 [==============================] - 0s 965us/step - loss: 35.4241\n",
            "Epoch 26/100\n",
            "240/240 [==============================] - 0s 1ms/step - loss: 33.7077\n",
            "Epoch 27/100\n",
            "240/240 [==============================] - 0s 1ms/step - loss: 31.8587\n",
            "Epoch 28/100\n",
            "240/240 [==============================] - 0s 1ms/step - loss: 33.4770\n",
            "Epoch 29/100\n",
            "240/240 [==============================] - 0s 951us/step - loss: 32.7683\n",
            "Epoch 30/100\n",
            "240/240 [==============================] - 0s 1ms/step - loss: 31.9004\n",
            "Epoch 31/100\n",
            "240/240 [==============================] - 0s 945us/step - loss: 30.6585\n",
            "Epoch 32/100\n",
            "240/240 [==============================] - 0s 932us/step - loss: 31.6310\n",
            "Epoch 33/100\n",
            "240/240 [==============================] - 0s 949us/step - loss: 30.9397\n",
            "Epoch 34/100\n",
            "240/240 [==============================] - 0s 969us/step - loss: 30.9385\n",
            "Epoch 35/100\n",
            "240/240 [==============================] - 0s 966us/step - loss: 30.3449\n",
            "Epoch 36/100\n",
            "240/240 [==============================] - 0s 910us/step - loss: 29.1155\n",
            "Epoch 37/100\n",
            "240/240 [==============================] - 0s 933us/step - loss: 26.9073\n",
            "Epoch 38/100\n",
            "240/240 [==============================] - 0s 1ms/step - loss: 28.1494\n",
            "Epoch 39/100\n",
            "240/240 [==============================] - 0s 949us/step - loss: 28.9481\n",
            "Epoch 40/100\n",
            "240/240 [==============================] - 0s 1ms/step - loss: 28.1843\n",
            "Epoch 41/100\n",
            "240/240 [==============================] - 0s 929us/step - loss: 27.6798\n",
            "Epoch 42/100\n",
            "240/240 [==============================] - 0s 1ms/step - loss: 27.6726\n",
            "Epoch 43/100\n",
            "240/240 [==============================] - 0s 969us/step - loss: 27.8304\n",
            "Epoch 44/100\n",
            "240/240 [==============================] - 0s 1ms/step - loss: 27.3111\n",
            "Epoch 45/100\n",
            "240/240 [==============================] - 0s 1ms/step - loss: 27.5023\n",
            "Epoch 46/100\n",
            "240/240 [==============================] - 0s 939us/step - loss: 25.7637\n",
            "Epoch 47/100\n",
            "240/240 [==============================] - 0s 1ms/step - loss: 27.0818\n",
            "Epoch 48/100\n",
            "240/240 [==============================] - 0s 950us/step - loss: 26.8208\n",
            "Epoch 49/100\n",
            "240/240 [==============================] - 0s 936us/step - loss: 27.4954\n",
            "Epoch 50/100\n",
            "240/240 [==============================] - 0s 1ms/step - loss: 26.3650\n",
            "Epoch 51/100\n",
            "240/240 [==============================] - 0s 1ms/step - loss: 26.8207\n",
            "Epoch 52/100\n",
            "240/240 [==============================] - 0s 924us/step - loss: 26.9567\n",
            "Epoch 53/100\n",
            "240/240 [==============================] - 0s 942us/step - loss: 25.9225\n",
            "Epoch 54/100\n",
            "240/240 [==============================] - 0s 963us/step - loss: 26.3414\n",
            "Epoch 55/100\n",
            "240/240 [==============================] - 0s 1ms/step - loss: 26.3274\n",
            "Epoch 56/100\n",
            "240/240 [==============================] - 0s 945us/step - loss: 26.3388\n",
            "Epoch 57/100\n",
            "240/240 [==============================] - 0s 1ms/step - loss: 26.9421\n",
            "Epoch 58/100\n",
            "240/240 [==============================] - 0s 987us/step - loss: 27.2032\n",
            "Epoch 59/100\n",
            "240/240 [==============================] - 0s 1ms/step - loss: 26.0485\n",
            "Epoch 60/100\n",
            "240/240 [==============================] - 0s 1ms/step - loss: 27.6696\n",
            "Epoch 61/100\n",
            "240/240 [==============================] - 0s 985us/step - loss: 26.3112\n",
            "Epoch 62/100\n",
            "240/240 [==============================] - 0s 1ms/step - loss: 27.1260\n",
            "Epoch 63/100\n",
            "240/240 [==============================] - 0s 976us/step - loss: 27.5987\n",
            "Epoch 64/100\n",
            "240/240 [==============================] - 0s 966us/step - loss: 26.8888\n",
            "Epoch 65/100\n",
            "240/240 [==============================] - 0s 945us/step - loss: 27.4484\n",
            "Epoch 66/100\n",
            "240/240 [==============================] - 0s 972us/step - loss: 26.5075\n",
            "Epoch 67/100\n",
            "240/240 [==============================] - 0s 969us/step - loss: 26.0362\n",
            "Epoch 68/100\n",
            "240/240 [==============================] - 0s 1ms/step - loss: 27.1383\n",
            "Epoch 69/100\n",
            "240/240 [==============================] - 0s 989us/step - loss: 27.7950\n",
            "Epoch 70/100\n",
            "240/240 [==============================] - 0s 979us/step - loss: 26.1541\n",
            "Epoch 71/100\n",
            "240/240 [==============================] - 0s 1ms/step - loss: 27.2677\n",
            "Epoch 72/100\n",
            "240/240 [==============================] - 0s 980us/step - loss: 26.8282\n",
            "Epoch 73/100\n",
            "240/240 [==============================] - 0s 1ms/step - loss: 26.6799\n",
            "Epoch 74/100\n",
            "240/240 [==============================] - 0s 1ms/step - loss: 26.2322\n",
            "Epoch 75/100\n",
            "240/240 [==============================] - 0s 988us/step - loss: 25.8238\n",
            "Epoch 76/100\n",
            "240/240 [==============================] - 0s 993us/step - loss: 28.3251\n",
            "Epoch 77/100\n",
            "240/240 [==============================] - 0s 1ms/step - loss: 27.5125\n",
            "Epoch 78/100\n",
            "240/240 [==============================] - 0s 1ms/step - loss: 27.0502\n",
            "Epoch 79/100\n",
            "240/240 [==============================] - 0s 1ms/step - loss: 27.0917\n",
            "Epoch 80/100\n",
            "240/240 [==============================] - 0s 1ms/step - loss: 25.9315\n",
            "Epoch 81/100\n",
            "240/240 [==============================] - 0s 985us/step - loss: 26.9181\n",
            "Epoch 82/100\n",
            "240/240 [==============================] - 0s 1000us/step - loss: 26.5801\n",
            "Epoch 83/100\n",
            "240/240 [==============================] - 0s 1ms/step - loss: 27.5992\n",
            "Epoch 84/100\n",
            "240/240 [==============================] - 0s 1ms/step - loss: 26.3053\n",
            "Epoch 85/100\n",
            "240/240 [==============================] - 0s 1ms/step - loss: 28.0958\n",
            "Epoch 86/100\n",
            "240/240 [==============================] - 0s 1ms/step - loss: 27.5999\n",
            "Epoch 87/100\n",
            "240/240 [==============================] - 0s 1ms/step - loss: 27.5496\n",
            "Epoch 88/100\n",
            "240/240 [==============================] - 0s 982us/step - loss: 27.7049\n",
            "Epoch 89/100\n",
            "240/240 [==============================] - 0s 1ms/step - loss: 25.0909\n",
            "Epoch 90/100\n",
            "240/240 [==============================] - 0s 975us/step - loss: 25.5337\n",
            "Epoch 91/100\n",
            "240/240 [==============================] - 0s 956us/step - loss: 28.3064\n",
            "Epoch 92/100\n",
            "240/240 [==============================] - 0s 988us/step - loss: 29.9101\n",
            "Epoch 93/100\n",
            "240/240 [==============================] - 0s 938us/step - loss: 27.1342\n",
            "Epoch 94/100\n",
            "240/240 [==============================] - 0s 1ms/step - loss: 27.3255\n",
            "Epoch 95/100\n",
            "240/240 [==============================] - 0s 1ms/step - loss: 26.8635\n",
            "Epoch 96/100\n",
            "240/240 [==============================] - 0s 1ms/step - loss: 28.2057\n",
            "Epoch 97/100\n",
            "240/240 [==============================] - 0s 993us/step - loss: 26.7504\n",
            "Epoch 98/100\n",
            "240/240 [==============================] - 0s 1ms/step - loss: 27.4282\n",
            "Epoch 99/100\n",
            "240/240 [==============================] - 0s 942us/step - loss: 26.8521\n",
            "Epoch 100/100\n",
            "240/240 [==============================] - 0s 1ms/step - loss: 27.0837\n"
          ],
          "name": "stdout"
        },
        {
          "output_type": "execute_result",
          "data": {
            "text/plain": [
              "<tensorflow.python.keras.callbacks.History at 0x7f8e6a8e7150>"
            ]
          },
          "metadata": {
            "tags": []
          },
          "execution_count": 10
        }
      ]
    },
    {
      "cell_type": "markdown",
      "metadata": {
        "id": "0H0zKKNEBLD5"
      },
      "source": [
        "### Predicting the results of the Test set"
      ]
    },
    {
      "cell_type": "code",
      "metadata": {
        "id": "IA0yApEmBG1X",
        "colab": {
          "base_uri": "https://localhost:8080/"
        },
        "outputId": "86a64f86-eaea-40cb-8d0c-1e073c18af37"
      },
      "source": [
        "y_pred = ann.predict(X_test)\n",
        "np.set_printoptions(precision=2)\n",
        "print(np.concatenate((y_pred.reshape(len(y_pred),1), y_test.reshape(len(y_test),1)),1))"
      ],
      "execution_count": 11,
      "outputs": [
        {
          "output_type": "stream",
          "text": [
            "[[431.53 431.23]\n",
            " [462.53 460.01]\n",
            " [466.   461.14]\n",
            " ...\n",
            " [473.27 473.26]\n",
            " [440.04 438.  ]\n",
            " [459.26 463.28]]\n"
          ],
          "name": "stdout"
        }
      ]
    }
  ]
}