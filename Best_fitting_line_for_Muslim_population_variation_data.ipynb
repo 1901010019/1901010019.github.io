{
  "nbformat": 4,
  "nbformat_minor": 0,
  "metadata": {
    "colab": {
      "name": "Copy of Copy of Untitled7.ipynb",
      "provenance": [],
      "toc_visible": true,
      "authorship_tag": "ABX9TyNqEpJvSWNSc/v5LHlKLyv7",
      "include_colab_link": true
    },
    "kernelspec": {
      "name": "python3",
      "display_name": "Python 3"
    }
  },
  "cells": [
    {
      "cell_type": "markdown",
      "metadata": {
        "id": "view-in-github",
        "colab_type": "text"
      },
      "source": [
        "<a href=\"https://colab.research.google.com/github/1901010019/1901010019.github.io/blob/master/Best_fitting_line_for_Muslim_population_variation_data.ipynb\" target=\"_parent\"><img src=\"https://colab.research.google.com/assets/colab-badge.svg\" alt=\"Open In Colab\"/></a>"
      ]
    },
    {
      "cell_type": "markdown",
      "metadata": {
        "id": "1OilOq4kwDMt"
      },
      "source": [
        "## **DERIVING THE BEST FITTING LINE FOR MUSLIM POPULATION VARIATION DATA**"
      ]
    },
    {
      "cell_type": "code",
      "metadata": {
        "id": "2zLAPm5iqRCA"
      },
      "source": [
        "import numpy as np\r\n",
        "import pandas as pd\r\n",
        "import matplotlib.pyplot as plt\r\n",
        "from scipy.optimize import curve_fit"
      ],
      "execution_count": null,
      "outputs": []
    },
    {
      "cell_type": "code",
      "metadata": {
        "id": "JcCbhyQsqkGa"
      },
      "source": [
        "# extracting the hindu population variance data from overall data sheet.\r\n",
        "dataset = pd.read_csv('/content/kunals data.csv')\r\n",
        "x  = dataset.iloc[:, :1].values\r\n",
        "y = dataset.iloc[:, 2:3].values\r\n",
        "x= x.flatten()\r\n",
        "y= y.flatten()"
      ],
      "execution_count": null,
      "outputs": []
    },
    {
      "cell_type": "code",
      "metadata": {
        "colab": {
          "base_uri": "https://localhost:8080/"
        },
        "id": "NJFY2RVdvHq_",
        "outputId": "4bb22675-bda2-4f15-c408-6bbd62a001fb"
      },
      "source": [
        "print(x)"
      ],
      "execution_count": null,
      "outputs": [
        {
          "output_type": "stream",
          "text": [
            "[1951 1961 1981 1991 2001 2011]\n"
          ],
          "name": "stdout"
        }
      ]
    },
    {
      "cell_type": "code",
      "metadata": {
        "colab": {
          "base_uri": "https://localhost:8080/"
        },
        "id": "-1m0WT5DvKCt",
        "outputId": "20a1f955-f33c-480d-f26c-affa6fd2005c"
      },
      "source": [
        "print(y)"
      ],
      "execution_count": null,
      "outputs": [
        {
          "output_type": "stream",
          "text": [
            "[ 35.4  47.   76.  126.7 138.  172.2]\n"
          ],
          "name": "stdout"
        }
      ]
    },
    {
      "cell_type": "code",
      "metadata": {
        "colab": {
          "base_uri": "https://localhost:8080/",
          "height": 279
        },
        "id": "EGB5NRINvSSb",
        "outputId": "6566a121-d461-4276-a344-1fcea143be82"
      },
      "source": [
        "# scatter plotting the data for better visualization.\r\n",
        "plt.scatter(x,y)\r\n",
        "plt.xlabel('year')\r\n",
        "plt.ylabel('population')\r\n",
        "plt.show()"
      ],
      "execution_count": null,
      "outputs": [
        {
          "output_type": "display_data",
          "data": {
            "image/png": "[encoded data removed]",
            "text/plain": [
              "<Figure size 432x288 with 1 Axes>"
            ]
          },
          "metadata": {
            "tags": [],
            "needs_background": "light"
          }
        }
      ]
    },
    {
      "cell_type": "code",
      "metadata": {
        "id": "PJaFv1uqvVop"
      },
      "source": [
        "# defining the true objective function.\r\n",
        "def objective(x,a,b,c,d,e,f):\r\n",
        "  return a * x + b * x**2 + c * x**3 + d * x**4 + e * x**5 + f"
      ],
      "execution_count": null,
      "outputs": []
    },
    {
      "cell_type": "code",
      "metadata": {
        "colab": {
          "base_uri": "https://localhost:8080/"
        },
        "id": "0pWmUQZ_v3YH",
        "outputId": "e45064bf-044e-40c8-9588-e5fed227220b"
      },
      "source": [
        "# now we will use curve fit function from Scipy library\r\n",
        "popt, _ = curve_fit(objective, x, y)\r\n",
        "# summarizing the parameter values\r\n",
        "a, b, c, d, e, f = popt\r\n",
        "print('y = %.5f * x + %.5f * x^2 + %.5f * x^3 + %.5f * x^4 + %.5f * x^5 + %.5f' % (a, b, c, d, e, f))"
      ],
      "execution_count": null,
      "outputs": [
        {
          "output_type": "stream",
          "text": [
            "y = 73.43150 * x + 188.26890 * x^2 + -0.19056 * x^3 + 0.00007 * x^4 + -0.00000 * x^5 + -73578120.32448\n"
          ],
          "name": "stdout"
        },
        {
          "output_type": "stream",
          "text": [
            "/usr/local/lib/python3.7/dist-packages/scipy/optimize/minpack.py:808: OptimizeWarning: Covariance of the parameters could not be estimated\n",
            "  category=OptimizeWarning)\n"
          ],
          "name": "stderr"
        }
      ]
    },
    {
      "cell_type": "code",
      "metadata": {
        "colab": {
          "base_uri": "https://localhost:8080/",
          "height": 265
        },
        "id": "s171oUue6FSe",
        "outputId": "9d2b6f39-70a7-4b84-e7df-7b78d3f31941"
      },
      "source": [
        "plt.scatter(x,y)\r\n",
        "x_line = np.arange(min(x), max(x), 1)\r\n",
        "y_line = objective(x_line, a, b, c, d, e, f)\r\n",
        "plt.plot(x_line,y_line, color='red')\r\n",
        "plt.show()"
      ],
      "execution_count": null,
      "outputs": [
        {
          "output_type": "display_data",
          "data": {
            "image/png": "[encoded data removed]",
            "text/plain": [
              "<Figure size 432x288 with 1 Axes>"
            ]
          },
          "metadata": {
            "tags": [],
            "needs_background": "light"
          }
        }
      ]
    }
  ]
}