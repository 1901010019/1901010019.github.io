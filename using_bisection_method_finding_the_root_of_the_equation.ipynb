{
  "nbformat": 4,
  "nbformat_minor": 0,
  "metadata": {
    "colab": {
      "name": "Untitled8.ipynb",
      "provenance": [],
      "authorship_tag": "ABX9TyNxNkFyCOdN9GvieCbUv0St",
      "include_colab_link": true
    },
    "kernelspec": {
      "name": "python3",
      "display_name": "Python 3"
    }
  },
  "cells": [
    {
      "cell_type": "markdown",
      "metadata": {
        "id": "view-in-github",
        "colab_type": "text"
      },
      "source": [
        "<a href=\"https://colab.research.google.com/github/1901010019/1901010019.github.io/blob/master/using_bisection_method_finding_the_root_of_the_equation.ipynb\" target=\"_parent\"><img src=\"https://colab.research.google.com/assets/colab-badge.svg\" alt=\"Open In Colab\"/></a>"
      ]
    },
    {
      "cell_type": "code",
      "metadata": {
        "colab": {
          "base_uri": "https://localhost:8080/"
        },
        "id": "nLRlct3WoPcJ",
        "outputId": "b4705f32-6225-4f17-f33d-7d1ae34ec130"
      },
      "source": [
        "def func(x): \r\n",
        "    return ((-327.80114 * x + 0.08557 * x**2 + 314120.54414 )-( 4145.46262 * x + -68.28755 * x**2 + 0.06627 * x**3 + -0.00002 * x**4 + 0.00000 * x**5 + 23951376.37736))\r\n",
        "   \r\n",
        "# Prints root of func(x) \r\n",
        "# with error of EPSILON \r\n",
        "def bisection(a,b): \r\n",
        "  \r\n",
        "    if (func(a) * func(b) >= 0): \r\n",
        "        print(\"You have not assumed right a and b\\n\") \r\n",
        "        return\r\n",
        "   \r\n",
        "    c = a \r\n",
        "    while ((b-a) >= 0.01): \r\n",
        "  \r\n",
        "        # Find middle point \r\n",
        "        c = (a+b)/2\r\n",
        "   \r\n",
        "        # Check if middle point is root \r\n",
        "        if (func(c) == 0.0): \r\n",
        "            break\r\n",
        "   \r\n",
        "        # Decide the side to repeat the steps \r\n",
        "        if (func(c)*func(a) < 0): \r\n",
        "            b = c \r\n",
        "        else: \r\n",
        "            a = c \r\n",
        "              \r\n",
        "    print(\"The value of root is : \",\"%.4f\"%c) \r\n",
        "      \r\n",
        "# Driver code \r\n",
        "# Initial values assumed \r\n",
        "a =-2000\r\n",
        "b = 1000\r\n",
        "bisection(a, b) "
      ],
      "execution_count": 6,
      "outputs": [
        {
          "output_type": "stream",
          "text": [
            "The value of root is :  -457.9945\n"
          ],
          "name": "stdout"
        }
      ]
    }
  ]
}