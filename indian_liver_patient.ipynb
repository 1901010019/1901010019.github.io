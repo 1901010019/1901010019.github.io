{
  "nbformat": 4,
  "nbformat_minor": 0,
  "metadata": {
    "colab": {
      "name": "Untitled2.ipynb",
      "provenance": [],
      "toc_visible": true,
      "authorship_tag": "ABX9TyO6/bjSG2QNfZGStZbF6Wi5",
      "include_colab_link": true
    },
    "kernelspec": {
      "name": "python3",
      "display_name": "Python 3"
    }
  },
  "cells": [
    {
      "cell_type": "markdown",
      "metadata": {
        "id": "view-in-github",
        "colab_type": "text"
      },
      "source": [
        "<a href=\"https://colab.research.google.com/github/1901010019/1901010019.github.io/blob/master/indian_liver_patient.ipynb\" target=\"_parent\"><img src=\"https://colab.research.google.com/assets/colab-badge.svg\" alt=\"Open In Colab\"/></a>"
      ]
    },
    {
      "cell_type": "code",
      "metadata": {
        "id": "GZQN7zcvs7mA"
      },
      "source": [
        "import numpy as np\r\n",
        "import pandas as pd\r\n",
        "import matplotlib.pyplot as plt"
      ],
      "execution_count": 79,
      "outputs": []
    },
    {
      "cell_type": "code",
      "metadata": {
        "id": "AoVoc6LiuNrw"
      },
      "source": [
        "dataset = pd.read_csv('indian_liver_patient.csv')\r\n",
        "x = dataset.iloc[:, :-1].values\r\n",
        "y = dataset.iloc[:, -1].values"
      ],
      "execution_count": 80,
      "outputs": []
    },
    {
      "cell_type": "code",
      "metadata": {
        "id": "3pnQ6bb_HUEU"
      },
      "source": [
        "\r\n",
        "from sklearn.impute import SimpleImputer #importing module from the class\r\n",
        "imputer = SimpleImputer(missing_values = np.nan, strategy='mean') # here imputer is our object.\r\n",
        "imputer.fit(x[:, 2:10]) #specifying the rows and columns to consider, and here fit method would only consider the numerical values.\r\n",
        "x[:, 2:10]= imputer.transform(x[:, 2:10]) #replacing old rows and columns with the updated ones."
      ],
      "execution_count": 81,
      "outputs": []
    },
    {
      "cell_type": "code",
      "metadata": {
        "colab": {
          "base_uri": "https://localhost:8080/"
        },
        "id": "lVWawI8lutz0",
        "outputId": "4171cb53-482f-4b4a-8125-919c0ddcdaac"
      },
      "source": [
        "print(x)"
      ],
      "execution_count": 82,
      "outputs": [
        {
          "output_type": "stream",
          "text": [
            "[[65 'Female' 0.7 ... 6.8 3.3 0.9]\n",
            " [62 'Male' 10.9 ... 7.5 3.2 0.74]\n",
            " [62 'Male' 7.3 ... 7.0 3.3 0.89]\n",
            " ...\n",
            " [52 'Male' 0.8 ... 6.4 3.2 1.0]\n",
            " [31 'Male' 1.3 ... 6.8 3.4 1.0]\n",
            " [38 'Male' 1.0 ... 7.3 4.4 1.5]]\n"
          ],
          "name": "stdout"
        }
      ]
    },
    {
      "cell_type": "code",
      "metadata": {
        "colab": {
          "base_uri": "https://localhost:8080/"
        },
        "id": "fz1IWSuquw3e",
        "outputId": "24b2e33e-99b7-4f09-e65d-c6834e62cd34"
      },
      "source": [
        "print(y)"
      ],
      "execution_count": 83,
      "outputs": [
        {
          "output_type": "stream",
          "text": [
            "[1 1 1 1 1 1 1 1 2 1 1 1 2 1 1 2 1 2 1 1 1 1 1 1 2 1 1 1 2 2 1 1 2 2 2 1 2\n",
            " 1 1 1 1 2 2 1 2 2 1 1 1 1 1 1 1 1 1 1 2 2 1 2 1 1 1 1 1 1 1 1 1 2 1 1 1 1\n",
            " 1 2 1 1 2 1 1 1 2 1 1 1 2 1 1 1 1 1 1 1 1 1 1 1 1 1 2 2 1 2 1 2 2 2 2 2 2\n",
            " 1 2 1 2 2 1 1 1 1 1 1 2 1 2 2 1 1 1 1 1 2 2 1 1 1 1 1 1 1 2 1 1 1 1 2 1 1\n",
            " 1 1 2 1 1 2 1 1 1 1 1 1 1 1 1 1 1 1 1 1 1 1 1 1 1 1 1 1 1 1 1 1 1 1 2 1 1\n",
            " 2 1 1 1 2 1 1 1 2 2 1 1 1 2 1 1 1 2 2 2 1 1 1 1 1 1 1 2 1 1 2 2 1 2 1 1 1\n",
            " 1 2 1 1 1 1 2 1 2 1 1 1 1 1 2 1 2 1 2 1 1 1 1 1 1 1 1 1 1 1 2 2 2 1 1 1 2\n",
            " 1 1 1 1 1 2 2 1 1 1 1 1 2 1 1 1 2 2 1 1 1 1 2 1 2 1 1 1 2 1 1 1 2 1 2 1 1\n",
            " 1 2 1 2 2 1 1 2 1 2 1 1 1 1 1 1 2 2 1 2 2 1 1 2 1 1 1 2 1 2 2 2 2 2 1 1 1\n",
            " 2 1 1 1 1 1 1 1 1 2 1 2 1 1 1 1 2 1 1 1 1 1 2 1 1 1 2 1 2 2 2 2 2 2 2 1 1\n",
            " 1 2 1 2 2 1 1 2 1 2 1 1 1 2 1 1 2 1 1 1 1 1 1 1 1 2 1 1 1 1 2 1 1 2 1 1 2\n",
            " 1 1 1 1 2 1 2 2 1 1 2 1 1 1 2 1 2 1 1 2 1 2 1 1 2 1 2 2 2 1 1 1 1 1 1 1 1\n",
            " 2 2 1 1 1 1 1 1 1 1 2 1 2 2 1 1 1 1 1 1 2 2 2 2 1 1 1 2 2 2 2 2 1 1 1 1 2\n",
            " 1 1 2 1 1 1 1 2 2 1 2 1 2 1 2 1 1 1 1 1 1 1 1 1 1 1 1 1 1 2 1 2 1 1 1 1 1\n",
            " 1 1 1 1 1 1 2 2 1 1 1 1 2 1 2 1 2 1 1 1 1 2 2 2 2 1 1 2 1 1 1 1 1 2 1 1 1\n",
            " 1 1 1 1 1 1 1 1 1 2 1 2 1 1 1 1 1 1 1 1 1 1 1 2 1 1 1 2]\n"
          ],
          "name": "stdout"
        }
      ]
    },
    {
      "cell_type": "code",
      "metadata": {
        "id": "h1tAbwUMu0Qi"
      },
      "source": [
        " from sklearn.preprocessing import OneHotEncoder \r\n",
        "from sklearn.compose import ColumnTransformer \r\n",
        "\r\n",
        "columnTransformer = ColumnTransformer([('encoder', \r\n",
        "\t\t\t\t\t\t\t\t\t\tOneHotEncoder(), \r\n",
        "\t\t\t\t\t\t\t\t\t\t[1])], \r\n",
        "\t\t\t\t\t\t\t\t\tremainder='passthrough') \r\n",
        "\r\n",
        "x = np.array(columnTransformer.fit_transform(x), dtype = np.float) \r\n"
      ],
      "execution_count": 84,
      "outputs": []
    },
    {
      "cell_type": "code",
      "metadata": {
        "id": "DRjisYPiwytU"
      },
      "source": [
        "from sklearn.model_selection import train_test_split\r\n",
        "x_train, x_test, y_train, y_test = train_test_split(x, y, test_size = 0.2, random_state=0)"
      ],
      "execution_count": 85,
      "outputs": []
    },
    {
      "cell_type": "code",
      "metadata": {
        "colab": {
          "base_uri": "https://localhost:8080/"
        },
        "id": "hsvBePVRxU9j",
        "outputId": "0b74901d-1b11-4008-a48b-ee695a9e4d9e"
      },
      "source": [
        "print(x_test)"
      ],
      "execution_count": 86,
      "outputs": [
        {
          "output_type": "stream",
          "text": [
            "[[ 0.    1.   55.   ...  6.1   2.7   0.7 ]\n",
            " [ 0.    1.   60.   ...  7.4   3.    0.6 ]\n",
            " [ 0.    1.   38.   ...  7.5   4.2   1.2 ]\n",
            " ...\n",
            " [ 0.    1.   35.   ...  6.5   3.2   0.9 ]\n",
            " [ 0.    1.   27.   ...  6.8   3.9   1.85]\n",
            " [ 1.    0.   65.   ...  7.2   3.5   0.9 ]]\n"
          ],
          "name": "stdout"
        }
      ]
    },
    {
      "cell_type": "code",
      "metadata": {
        "colab": {
          "base_uri": "https://localhost:8080/"
        },
        "id": "5jSFc_vcx6i7",
        "outputId": "7bf0f8b4-2dc3-441a-f8eb-06006aaf6b4d"
      },
      "source": [
        "print(x_train)"
      ],
      "execution_count": 87,
      "outputs": [
        {
          "output_type": "stream",
          "text": [
            "[[ 0.   1.  55.  ...  6.2  2.9  0.8]\n",
            " [ 0.   1.  26.  ...  7.1  3.7  1. ]\n",
            " [ 1.   0.  66.  ...  6.4  3.2  1. ]\n",
            " ...\n",
            " [ 1.   0.  69.  ...  8.4  4.9  1.4]\n",
            " [ 0.   1.  60.  ...  6.6  3.5  1.1]\n",
            " [ 0.   1.  26.  ...  7.5  2.6  0.5]]\n"
          ],
          "name": "stdout"
        }
      ]
    },
    {
      "cell_type": "code",
      "metadata": {
        "colab": {
          "base_uri": "https://localhost:8080/"
        },
        "id": "hktyZWQwyByM",
        "outputId": "32788be6-a5e8-474a-ef23-ea1604943445"
      },
      "source": [
        "print(y_test)"
      ],
      "execution_count": 88,
      "outputs": [
        {
          "output_type": "stream",
          "text": [
            "[1 1 2 1 1 2 1 1 1 1 1 1 1 2 1 1 1 2 1 1 1 2 2 1 1 2 1 1 2 2 1 1 1 1 1 1 1\n",
            " 1 1 1 1 1 1 2 1 1 1 1 1 2 1 1 1 1 1 1 2 2 2 1 1 1 1 2 1 1 1 2 2 2 1 1 1 2\n",
            " 2 2 2 2 1 2 1 1 1 2 2 2 1 1 1 1 1 2 1 1 2 1 1 2 2 1 1 1 2 1 1 1 1 2 2 2 2\n",
            " 1 1 1 2 2 2]\n"
          ],
          "name": "stdout"
        }
      ]
    },
    {
      "cell_type": "code",
      "metadata": {
        "colab": {
          "base_uri": "https://localhost:8080/"
        },
        "id": "_qABvW8PyFjl",
        "outputId": "2a1f6793-130b-41b0-cb5e-eee8012bf041"
      },
      "source": [
        "print(y_train)"
      ],
      "execution_count": 89,
      "outputs": [
        {
          "output_type": "stream",
          "text": [
            "[2 2 2 1 1 1 2 1 1 1 1 1 1 1 1 1 1 1 1 2 1 1 1 2 1 1 1 1 2 1 2 2 1 1 1 1 1\n",
            " 1 1 1 1 1 2 2 1 1 2 1 1 1 1 2 1 1 1 1 1 2 2 1 1 1 1 1 2 1 1 1 1 1 2 1 1 1\n",
            " 1 1 1 1 1 1 2 2 1 2 1 1 2 1 1 1 1 1 1 1 1 1 1 2 2 1 1 2 1 1 2 1 2 1 1 1 1\n",
            " 2 1 1 2 1 1 1 1 1 2 2 1 2 1 1 1 1 2 1 1 1 1 1 1 1 1 1 1 1 2 1 2 1 1 1 1 2\n",
            " 1 1 1 1 1 2 1 1 1 1 1 1 1 1 2 2 1 1 1 1 2 1 1 1 1 1 2 1 1 1 1 1 1 1 1 2 2\n",
            " 1 2 1 1 1 1 1 2 2 1 1 2 2 2 1 2 2 2 1 2 1 1 1 1 1 1 1 2 2 1 1 2 1 1 1 1 1\n",
            " 1 1 1 1 2 1 2 1 1 1 1 1 2 1 1 2 1 1 1 1 1 2 1 1 2 1 2 1 1 1 1 2 2 2 1 1 1\n",
            " 1 1 1 2 1 1 2 1 2 1 2 1 1 2 1 2 1 1 2 1 1 1 2 1 2 2 2 2 1 2 1 1 1 1 1 1 1\n",
            " 1 2 1 2 1 2 2 1 1 2 1 1 1 1 1 2 1 1 2 1 2 1 1 1 1 2 1 2 1 1 1 1 2 1 2 1 1\n",
            " 1 2 1 1 2 1 1 1 2 1 1 1 1 2 1 1 1 2 1 2 1 1 2 1 1 2 2 1 1 2 1 1 1 2 1 2 2\n",
            " 1 2 1 2 1 1 1 2 1 1 1 1 1 1 1 1 2 1 1 1 1 2 1 1 1 2 2 1 1 1 1 1 1 1 1 1 2\n",
            " 2 1 1 1 2 1 1 2 1 1 1 2 1 1 2 2 1 1 1 2 1 1 1 2 1 1 1 2 1 1 2 1 1 1 1 2 1\n",
            " 2 1 1 1 1 2 2 1 1 1 1 2 1 1 1 2 1 1 1 2 1 1]\n"
          ],
          "name": "stdout"
        }
      ]
    },
    {
      "cell_type": "code",
      "metadata": {
        "colab": {
          "base_uri": "https://localhost:8080/"
        },
        "id": "6rYsynr_yYC-",
        "outputId": "f50bef9a-4e47-4f06-debc-e1379b6215cc"
      },
      "source": [
        "from sklearn.naive_bayes import GaussianNB\r\n",
        "classifier =  GaussianNB()\r\n",
        "classifier.fit(x_train, y_train)"
      ],
      "execution_count": 90,
      "outputs": [
        {
          "output_type": "execute_result",
          "data": {
            "text/plain": [
              "GaussianNB(priors=None, var_smoothing=1e-09)"
            ]
          },
          "metadata": {
            "tags": []
          },
          "execution_count": 90
        }
      ]
    },
    {
      "cell_type": "code",
      "metadata": {
        "colab": {
          "base_uri": "https://localhost:8080/"
        },
        "id": "ugvwgWv8IVlL",
        "outputId": "3b7f9854-3581-428d-a640-3d49b514e7da"
      },
      "source": [
        "y_pred = classifier.predict(x_test)\r\n",
        "print(np.concatenate((y_pred.reshape(len(y_pred),1), y_test.reshape(len(y_test),1)),1))"
      ],
      "execution_count": 91,
      "outputs": [
        {
          "output_type": "stream",
          "text": [
            "[[1 1]\n",
            " [1 1]\n",
            " [2 2]\n",
            " [1 1]\n",
            " [2 1]\n",
            " [2 2]\n",
            " [1 1]\n",
            " [2 1]\n",
            " [1 1]\n",
            " [2 1]\n",
            " [2 1]\n",
            " [2 1]\n",
            " [2 1]\n",
            " [2 2]\n",
            " [2 1]\n",
            " [2 1]\n",
            " [1 1]\n",
            " [2 2]\n",
            " [2 1]\n",
            " [2 1]\n",
            " [1 1]\n",
            " [2 2]\n",
            " [2 2]\n",
            " [2 1]\n",
            " [1 1]\n",
            " [2 2]\n",
            " [1 1]\n",
            " [2 1]\n",
            " [2 2]\n",
            " [2 2]\n",
            " [2 1]\n",
            " [1 1]\n",
            " [2 1]\n",
            " [1 1]\n",
            " [1 1]\n",
            " [1 1]\n",
            " [1 1]\n",
            " [1 1]\n",
            " [1 1]\n",
            " [2 1]\n",
            " [1 1]\n",
            " [2 1]\n",
            " [2 1]\n",
            " [2 2]\n",
            " [1 1]\n",
            " [1 1]\n",
            " [2 1]\n",
            " [1 1]\n",
            " [2 1]\n",
            " [2 2]\n",
            " [2 1]\n",
            " [2 1]\n",
            " [1 1]\n",
            " [2 1]\n",
            " [2 1]\n",
            " [2 1]\n",
            " [2 2]\n",
            " [2 2]\n",
            " [2 2]\n",
            " [2 1]\n",
            " [2 1]\n",
            " [1 1]\n",
            " [2 1]\n",
            " [2 2]\n",
            " [2 1]\n",
            " [2 1]\n",
            " [2 1]\n",
            " [2 2]\n",
            " [2 2]\n",
            " [2 2]\n",
            " [2 1]\n",
            " [2 1]\n",
            " [1 1]\n",
            " [2 2]\n",
            " [2 2]\n",
            " [2 2]\n",
            " [2 2]\n",
            " [2 2]\n",
            " [2 1]\n",
            " [2 2]\n",
            " [2 1]\n",
            " [1 1]\n",
            " [1 1]\n",
            " [2 2]\n",
            " [2 2]\n",
            " [2 2]\n",
            " [2 1]\n",
            " [2 1]\n",
            " [1 1]\n",
            " [2 1]\n",
            " [1 1]\n",
            " [2 2]\n",
            " [1 1]\n",
            " [1 1]\n",
            " [2 2]\n",
            " [2 1]\n",
            " [2 1]\n",
            " [2 2]\n",
            " [2 2]\n",
            " [1 1]\n",
            " [2 1]\n",
            " [2 1]\n",
            " [2 2]\n",
            " [2 1]\n",
            " [1 1]\n",
            " [1 1]\n",
            " [2 1]\n",
            " [2 2]\n",
            " [2 2]\n",
            " [2 2]\n",
            " [2 2]\n",
            " [2 1]\n",
            " [2 1]\n",
            " [2 1]\n",
            " [2 2]\n",
            " [2 2]\n",
            " [2 2]]\n"
          ],
          "name": "stdout"
        }
      ]
    },
    {
      "cell_type": "code",
      "metadata": {
        "colab": {
          "base_uri": "https://localhost:8080/"
        },
        "id": "TqJBWR1YIxzJ",
        "outputId": "9f6e8dc8-41ee-4eaf-c2ea-a5e2274f1350"
      },
      "source": [
        "from sklearn.metrics import confusion_matrix, accuracy_score\r\n",
        "cm = confusion_matrix(y_test, y_pred)\r\n",
        "print(cm)\r\n",
        "print(accuracy_score(y_test, y_pred))"
      ],
      "execution_count": 92,
      "outputs": [
        {
          "output_type": "stream",
          "text": [
            "[[32 46]\n",
            " [ 0 39]]\n",
            "0.6068376068376068\n"
          ],
          "name": "stdout"
        }
      ]
    }
  ]
}