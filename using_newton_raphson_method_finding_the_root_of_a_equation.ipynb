{
  "nbformat": 4,
  "nbformat_minor": 0,
  "metadata": {
    "colab": {
      "name": "Untitled11.ipynb",
      "provenance": [],
      "authorship_tag": "ABX9TyOfSNX1TQQAeznnM2fgx6Wg",
      "include_colab_link": true
    },
    "kernelspec": {
      "name": "python3",
      "display_name": "Python 3"
    }
  },
  "cells": [
    {
      "cell_type": "markdown",
      "metadata": {
        "id": "view-in-github",
        "colab_type": "text"
      },
      "source": [
        "<a href=\"https://colab.research.google.com/github/1901010019/1901010019.github.io/blob/master/using_newton_raphson_method_finding_the_root_of_a_equation.ipynb\" target=\"_parent\"><img src=\"https://colab.research.google.com/assets/colab-badge.svg\" alt=\"Open In Colab\"/></a>"
      ]
    },
    {
      "cell_type": "code",
      "metadata": {
        "id": "dFlaldUK0B39"
      },
      "source": [
        "def func( x ): \r\n",
        "    return ((-327.80114 * x + 0.08557 * x**2 + 314120.54414 )-( 4145.46262 * x + -68.28755 * x**2 + 0.06627 * x**3 + -0.00002 * x**4 + 0.00000 * x**5 + 23951376.37736))\r\n",
        "\r\n",
        "  \r\n",
        "# Derivative of the above function  \r\n",
        "\r\n",
        "def derivFunc( x ): \r\n",
        "    return -(8*x**3 - 19881 * x**2 + 13674624*x - 447326376 )/100000 \r\n",
        "  \r\n",
        "# Function to find the root \r\n",
        "def newtonRaphson( x ): \r\n",
        "    h = func(x) / derivFunc(x) \r\n",
        "    while abs(h) >= 0.0001: \r\n",
        "        h = func(x)/derivFunc(x) \r\n",
        "          \r\n",
        "        # x(i+1) = x(i) - f(x) / f'(x) \r\n",
        "        x = x - h \r\n",
        "      \r\n",
        "    print(\"The value of the root is : \", \r\n",
        "                             \"%.4f\"% x) \r\n",
        "  \r\n",
        "# Driver program to test above \r\n",
        "x0 = -20 # Initial values assumed \r\n",
        "newtonRaphson(x0) "
      ],
      "execution_count": null,
      "outputs": []
    }
  ]
}